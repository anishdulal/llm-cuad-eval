{
  "cells": [
    {
      "cell_type": "markdown",
      "metadata": {
        "id": "Yp3XzpfvIGr5"
      },
      "source": [
        "# Finetuning"
      ]
    },
    {
      "cell_type": "code",
      "execution_count": null,
      "metadata": {
        "colab": {
          "base_uri": "https://localhost:8080/",
          "height": 52
        },
        "id": "pdLRmKMmIPVD",
        "outputId": "28cd0337-f0fd-4de4-99fd-20f80de0ca91"
      },
      "outputs": [
        {
          "data": {
            "application/vnd.google.colaboratory.intrinsic+json": {
              "type": "string"
            },
            "text/plain": [
              "'\\nCUAD Long-Context Fine-tuning using Unsloth - Optimized for 65k tokens\\nBased on SQuAD-style formatting for generative QA tasks\\n'"
            ]
          },
          "execution_count": 1,
          "metadata": {},
          "output_type": "execute_result"
        }
      ],
      "source": [
        "\"\"\"\n",
        "CUAD Long-Context Fine-tuning using Unsloth - Optimized for 65k tokens\n",
        "Based on SQuAD-style formatting for generative QA tasks\n",
        "\"\"\"\n"
      ]
    },
    {
      "cell_type": "code",
      "execution_count": null,
      "metadata": {
        "id": "7mAxmGqeH_kK"
      },
      "outputs": [],
      "source": [
        "%%capture\n",
        "import os\n",
        "if \"COLAB_\" not in \"\".join(os.environ.keys()):\n",
        "    !pip install unsloth\n",
        "else:\n",
        "    # Colab-specific installation - optimized versions\n",
        "    !pip install --no-deps bitsandbytes accelerate xformers==0.0.29.post3 peft trl==0.15.2 triton cut_cross_entropy unsloth_zoo\n",
        "    !pip install sentencepiece protobuf \"datasets>=3.4.1\" huggingface_hub hf_transfer\n",
        "    !pip install transformers==4.51.3\n",
        "    !pip install --no-deps unsloth"
      ]
    },
    {
      "cell_type": "code",
      "execution_count": null,
      "metadata": {
        "id": "_p7XHXwlIRZ4"
      },
      "outputs": [],
      "source": [
        "# # Upgrade datasets for better long-context handling\n",
        "# !pip install --upgrade datasets fsspec"
      ]
    },
    {
      "cell_type": "code",
      "execution_count": null,
      "metadata": {
        "colab": {
          "base_uri": "https://localhost:8080/"
        },
        "id": "uvM6saWwIRHs",
        "outputId": "16bb884f-be68-4373-f8d4-36047b94ac42"
      },
      "outputs": [
        {
          "name": "stdout",
          "output_type": "stream",
          "text": [
            "🦥 Unsloth: Will patch your computer to enable 2x faster free finetuning.\n",
            "🦥 Unsloth Zoo will now patch everything to make training faster!\n"
          ]
        }
      ],
      "source": [
        "# Import required libraries\n",
        "from unsloth import FastLanguageModel, UnslothTrainer, UnslothTrainingArguments\n",
        "from unsloth.chat_templates import train_on_responses_only\n",
        "import torch\n",
        "from datasets import load_dataset\n",
        "from transformers import DataCollatorForLanguageModeling\n",
        "from unsloth import is_bfloat16_supported\n",
        "import time\n",
        "from datetime import datetime\n",
        "import gc\n",
        "import json\n",
        "import numpy as np"
      ]
    },
    {
      "cell_type": "code",
      "execution_count": null,
      "metadata": {
        "colab": {
          "base_uri": "https://localhost:8080/"
        },
        "id": "UbPfXzLsIREu",
        "outputId": "242b04f6-2e97-4dbb-ea1b-26d7c59fe696"
      },
      "outputs": [
        {
          "name": "stdout",
          "output_type": "stream",
          "text": [
            "================================================================================\n",
            "CUAD LONG-CONTEXT FINE-TUNING - LLAMA 3.2 3B\n",
            "Optimized for up to 65k token contexts\n",
            "================================================================================\n",
            "Started at: 2025-06-07 12:05:39\n",
            "\n",
            "1. Loading Llama 3.2 3B model with long-context support...\n",
            "==((====))==  Unsloth 2025.6.1: Fast Llama patching. Transformers: 4.51.3.\n",
            "   \\\\   /|    NVIDIA A100-SXM4-40GB. Num GPUs = 1. Max memory: 39.557 GB. Platform: Linux.\n",
            "O^O/ \\_/ \\    Torch: 2.6.0+cu124. CUDA: 8.0. CUDA Toolkit: 12.4. Triton: 3.2.0\n",
            "\\        /    Bfloat16 = TRUE. FA [Xformers = 0.0.29.post3. FA2 = False]\n",
            " \"-____-\"     Free license: http://github.com/unslothai/unsloth\n",
            "Unsloth: Fast downloading is enabled - ignore downloading bars which are red colored!\n",
            "2. Adding LoRA adapters - optimized for long-context QA...\n"
          ]
        },
        {
          "name": "stderr",
          "output_type": "stream",
          "text": [
            "Unsloth 2025.6.1 patched 28 layers with 28 QKV layers, 28 O layers and 28 MLP layers.\n"
          ]
        },
        {
          "name": "stdout",
          "output_type": "stream",
          "text": [
            "Tokenizer max length set to: 65536\n",
            "Model max position embeddings: 131072\n"
          ]
        }
      ],
      "source": [
        "print(\"=\"*80)\n",
        "print(\"CUAD LONG-CONTEXT FINE-TUNING - LLAMA 3.2 3B\")\n",
        "print(\"Optimized for up to 65k token contexts\")\n",
        "print(\"=\"*80)\n",
        "print(f\"Started at: {datetime.now().strftime('%Y-%m-%d %H:%M:%S')}\")\n",
        "\n",
        "# Model configuration optimized for A100 40GB with long contexts\n",
        "max_seq_length = 65536  # Full 65k context length\n",
        "dtype = None  # Auto detection - will use bfloat16 on A100\n",
        "load_in_4bit = True\n",
        "\n",
        "print(\"\\n1. Loading Llama 3.2 3B model with long-context support...\")\n",
        "model, tokenizer = FastLanguageModel.from_pretrained(\n",
        "    model_name=\"unsloth/Llama-3.2-3B-Instruct-bnb-4bit\",\n",
        "    max_seq_length=max_seq_length,\n",
        "    dtype=dtype,\n",
        "    load_in_4bit=load_in_4bit,\n",
        ")\n",
        "tokenizer.model_max_length = max_seq_length\n",
        "tokenizer.init_kwargs[\"model_max_length\"] = max_seq_length\n",
        "\n",
        "print(\"2. Adding LoRA adapters - optimized for long-context QA...\")\n",
        "# LoRA configuration following Unsloth best practices\n",
        "model = FastLanguageModel.get_peft_model(\n",
        "    model,\n",
        "    r=16,  # Balanced rank - good for QA tasks # increase for increasing tuning of more parameters\n",
        "    target_modules=[\"q_proj\", \"k_proj\", \"v_proj\", \"o_proj\",\n",
        "                   \"gate_proj\", \"up_proj\", \"down_proj\",],\n",
        "                  #  \"embed_tokens\", \"lm_head\"],  # Include embedding layers for better adaptation\n",
        "    lora_alpha=32,  # 2x the rank as per best practices\n",
        "    lora_dropout=0,  # Optimized setting per Unsloth\n",
        "    bias=\"none\",  # Optimized setting per Unsloth\n",
        "    use_gradient_checkpointing=\"unsloth\",  # Unsloth's memory-efficient version\n",
        "    random_state=3407,\n",
        "    use_rslora=True,  # Rank stabilized LoRA for better training\n",
        "    loftq_config=None,\n",
        ")\n",
        "\n",
        "# Explicitly set tokenizer parameters for long context\n",
        "tokenizer.model_max_length = max_seq_length\n",
        "tokenizer.pad_token = tokenizer.eos_token\n",
        "if tokenizer.pad_token_id is None:\n",
        "    tokenizer.pad_token_id = tokenizer.eos_token_id\n",
        "\n",
        "print(f\"Tokenizer max length set to: {tokenizer.model_max_length}\")\n",
        "print(f\"Model max position embeddings: {model.config.max_position_embeddings}\")"
      ]
    },
    {
      "cell_type": "code",
      "execution_count": null,
      "metadata": {
        "colab": {
          "base_uri": "https://localhost:8080/"
        },
        "id": "647HV-mgIRA3",
        "outputId": "ff529fa3-673f-45b8-8bfd-1b5f7c69386f"
      },
      "outputs": [
        {
          "name": "stdout",
          "output_type": "stream",
          "text": [
            "\n",
            "3. Loading and preprocessing CUAD dataset...\n",
            "Loaded 22450 training examples\n",
            "Using subset of 10000 examples for faster training\n"
          ]
        }
      ],
      "source": [
        "def preprocess_cuad_function(examples):\n",
        "    \"\"\"\n",
        "    Convert CUAD dataset to SQuAD-style format for generative QA.\n",
        "    Handles empty answers properly for legal document analysis.\n",
        "    \"\"\"\n",
        "    contexts = examples[\"context\"]\n",
        "    questions = examples[\"question\"]\n",
        "    answers = []\n",
        "\n",
        "    # Process answers - handle the SQuAD-style answer format and empty answers\n",
        "    for ans in examples[\"answers\"]:\n",
        "        if ans.get(\"text\") and len(ans[\"text\"]) > 0:\n",
        "            # Take the first non-empty answer, strip whitespace\n",
        "            answer_text = next((a.strip() for a in ans[\"text\"] if a.strip()), \"\")\n",
        "            # If still empty after stripping, use \"Not found\"\n",
        "            answers.append(answer_text if answer_text else \"Not found\")\n",
        "        else:\n",
        "            answers.append(\"Not found\")  # Consistent format for empty answers\n",
        "\n",
        "    # Create input texts - improved prompt structure\n",
        "    inputs = [\n",
        "        f\"You are a legal document analyzer. Extract exact phrases from legal documents to answer questions. Only provide the exact text/phrases from the document that answer the question. Do not add explanations or commentary. If the information is not found, respond with 'Not found'.\\n\\nDocument: {ctx}\\n\\nQuestion: {q}\\n\\nAnswer (extract exact phrase from document):\"\n",
        "        for ctx, q in zip(contexts, questions)\n",
        "    ]\n",
        "\n",
        "    return {\n",
        "        \"input_text\": inputs,\n",
        "        \"target_text\": answers,\n",
        "    }\n",
        "\n",
        "def formatting_prompts_func(example):\n",
        "    \"\"\"\n",
        "    Format examples for training following Unsloth tutorial pattern.\n",
        "    This creates the proper training format with end-of-text tokens.\n",
        "    \"\"\"\n",
        "    # Handle both single examples and batched examples\n",
        "    if isinstance(example[\"input_text\"], str):\n",
        "        # Single example\n",
        "        input_text = example[\"input_text\"]\n",
        "        target_text = example[\"target_text\"]\n",
        "        # Format: Input + space + target + end-of-text token\n",
        "        formatted_text = f\"{input_text} {target_text}<|eot_id|>\"\n",
        "        return [formatted_text]\n",
        "    else:\n",
        "        # Batched examples - return list of formatted strings\n",
        "        formatted_texts = []\n",
        "        for inp, tgt in zip(example[\"input_text\"], example[\"target_text\"]):\n",
        "            formatted_text = f\"{inp} {tgt}<|eot_id|>\"\n",
        "            formatted_texts.append(formatted_text)\n",
        "        return formatted_texts\n",
        "\n",
        "print(\"\\n3. Loading and preprocessing CUAD dataset...\")\n",
        "try:\n",
        "    # Load the full CUAD dataset\n",
        "    cuad_dataset = load_dataset(\"theatticusproject/cuad-qa\", trust_remote_code=True)\n",
        "    print(f\"Loaded {len(cuad_dataset['train'])} training examples\")\n",
        "\n",
        "    # For initial testing, you might want to use a subset\n",
        "    # Uncomment the next two lines for faster experimentation\n",
        "    cuad_dataset[\"train\"] = cuad_dataset[\"train\"].shuffle(seed=42).select(range(10000))\n",
        "    print(f\"Using subset of {len(cuad_dataset['train'])} examples for faster training\")\n",
        "\n",
        "except Exception as e:\n",
        "    print(f\"Error loading CUAD dataset: {e}\")\n",
        "    raise"
      ]
    },
    {
      "cell_type": "code",
      "execution_count": null,
      "metadata": {
        "colab": {
          "base_uri": "https://localhost:8080/"
        },
        "id": "S6oIis9lIQ9w",
        "outputId": "dac6cb7d-4f7f-486f-f442-aa044a950962"
      },
      "outputs": [
        {
          "name": "stdout",
          "output_type": "stream",
          "text": [
            "4. Preprocessing dataset to SQuAD format...\n",
            "Processed dataset size: 10000 examples\n",
            "After filtering: 10000 examples\n",
            "\n",
            "Sample processed example:\n",
            "--------------------------------------------------------------------------------\n",
            "Input text (first 500 chars):\n",
            "You are a legal document analyzer. Extract exact phrases from legal documents to answer questions. Only provide the exact text/phrases from the document that answer the question. Do not add explanations or commentary. If the information is not found, respond with 'Not found'.\n",
            "\n",
            "Document: Exhibit 10.1   JACKSONVILLE JAGUARS SPONSORSHIP AGREEMENT   This Sponsorship Agreement (this \"Agreement\") is entered into as of November 27, 2017 (the \"Execution Date\") by and between Jacksonville Jaguars, LLC, a...\n",
            "\n",
            "Target text: Not found\n",
            "\n",
            "Formatted example (first 600 chars):\n",
            "You are a legal document analyzer. Extract exact phrases from legal documents to answer questions. Only provide the exact text/phrases from the document that answer the question. Do not add explanations or commentary. If the information is not found, respond with 'Not found'.\n",
            "\n",
            "Document: Exhibit 10.1   JACKSONVILLE JAGUARS SPONSORSHIP AGREEMENT   This Sponsorship Agreement (this \"Agreement\") is entered into as of November 27, 2017 (the \"Execution Date\") by and between Jacksonville Jaguars, LLC, a Delaware limited liability company (\"Club\"), and The ARC Group, Inc., a Florida corporation (owner ...\n",
            "--------------------------------------------------------------------------------\n",
            "ARC GROUP, INC., 8-K, 12/11/2017\n",
            "\n",
            "Question: Highlight the parts (if any) of this contract related to \"No-Solicit Of Customers\" that should be reviewed by a lawyer. Details: Is a party restricted from contracting or soliciting customers or partners of the counterparty, whether during the contract or after the contract ends (or both)?\n",
            "\n",
            "Answer (extract exact phrase from document): Not found<|eot_id|>\n"
          ]
        }
      ],
      "source": [
        "print(\"4. Preprocessing dataset to SQuAD format...\")\n",
        "try:\n",
        "    # Apply preprocessing to convert to input_text/target_text format\n",
        "    cuad_processed = cuad_dataset.map(\n",
        "        preprocess_cuad_function,\n",
        "        batched=True,\n",
        "        num_proc=4,  # Parallel processing\n",
        "        remove_columns=cuad_dataset[\"train\"].column_names,\n",
        "        desc=\"Converting to SQuAD format\"\n",
        "    )\n",
        "\n",
        "    print(f\"Processed dataset size: {len(cuad_processed['train'])} examples\")\n",
        "\n",
        "    # Check for empty examples and filter them out\n",
        "    def filter_empty_examples(example):\n",
        "        return (len(example[\"input_text\"].strip()) > 100 and  # Minimum context length\n",
        "                len(example[\"target_text\"].strip()) > 0)      # Must have some answer (including \"Not found\")\n",
        "\n",
        "    cuad_processed[\"train\"] = cuad_processed[\"train\"].filter(filter_empty_examples)\n",
        "    print(f\"After filtering: {len(cuad_processed['train'])} examples\")\n",
        "    train_dataset = cuad_processed[\"train\"]  # Store reference for later use\n",
        "\n",
        "except Exception as e:\n",
        "    print(f\"Error preprocessing dataset: {e}\")\n",
        "    raise\n",
        "\n",
        "# Show sample of the processed data\n",
        "if len(cuad_processed[\"train\"]) > 0:\n",
        "    print(\"\\nSample processed example:\")\n",
        "    print(\"-\" * 80)\n",
        "    sample = cuad_processed[\"train\"][0]\n",
        "    print(\"Input text (first 500 chars):\")\n",
        "    print(sample[\"input_text\"][:500] + \"...\")\n",
        "    print(f\"\\nTarget text: {sample['target_text']}\")\n",
        "    print(\"\\nFormatted example (first 600 chars):\")\n",
        "    formatted_sample = formatting_prompts_func(sample)[0]\n",
        "    print(formatted_sample[:600] + \"...\")\n",
        "    print(\"-\" * 80)\n",
        "    print(formatted_sample[-400:])"
      ]
    },
    {
      "cell_type": "code",
      "execution_count": null,
      "metadata": {
        "colab": {
          "base_uri": "https://localhost:8080/"
        },
        "id": "anReo1ao4mhk",
        "outputId": "2aee2627-8318-42ec-f2c4-cba6f51a53b1"
      },
      "outputs": [
        {
          "name": "stdout",
          "output_type": "stream",
          "text": [
            "Preparing and tokenizing dataset manually to full context length...\n",
            "\n",
            "Verifying tokenized output...\n",
            "Input IDs shape of first example: 3654\n",
            "Labels shape of first example: 3654\n"
          ]
        }
      ],
      "source": [
        "# Forcefully set the tokenizer's max length. This is still good practice.\n",
        "tokenizer.model_max_length = max_seq_length\n",
        "tokenizer.init_kwargs[\"model_max_length\"] = max_seq_length\n",
        "\n",
        "# This new, single function will handle EVERYTHING: formatting, tokenizing, and masking.\n",
        "def prepare_and_tokenize_dataset(examples):\n",
        "    \"\"\"\n",
        "    This function takes a batch of examples, formats them into the full prompt-answer\n",
        "    string, tokenizes them to the full max_seq_length, and creates the masked labels.\n",
        "    \"\"\"\n",
        "    # This is the boundary marker for masking\n",
        "    answer_prefix = \"Answer (extract exact phrase from document):\"\n",
        "\n",
        "    # Format the full text string (prompt + answer + EOS)\n",
        "    # The `formatting_prompts_func` returns a list, so we access the first element.\n",
        "    texts = formatting_prompts_func(examples) # This will return a list of formatted strings\n",
        "\n",
        "    # Tokenize the full texts to the max sequence length\n",
        "    model_inputs = tokenizer(\n",
        "        texts,\n",
        "        truncation=True,\n",
        "        padding=False, # This is essential!\n",
        "        max_length=max_seq_length,\n",
        "    )\n",
        "\n",
        "    # Create the labels and apply the mask.\n",
        "    # We will mask everything up to and including the answer_prefix.\n",
        "    labels = []\n",
        "    for i in range(len(model_inputs[\"input_ids\"])):\n",
        "        # Find the start of the answer\n",
        "        # We search for the tokenized representation of our answer prefix\n",
        "        # Note: We search in the input_ids of this specific example.\n",
        "\n",
        "        # We need to find the end of the prompt to mask it.\n",
        "        # Let's find the start of the answer by finding the answer_prefix tokens\n",
        "        # We need to tokenize the prefix itself to find its token IDs\n",
        "        # Note: add_special_tokens=False is important here!\n",
        "        prefix_tokens = tokenizer.encode(answer_prefix, add_special_tokens=False)\n",
        "\n",
        "        # Find the sequence of prefix_tokens in the input_ids\n",
        "        input_ids = model_inputs[\"input_ids\"][i]\n",
        "        prompt_end_idx = -1\n",
        "        for k in range(len(input_ids) - len(prefix_tokens)):\n",
        "            if input_ids[k:k+len(prefix_tokens)] == prefix_tokens:\n",
        "                prompt_end_idx = k + len(prefix_tokens)\n",
        "                break\n",
        "\n",
        "        # Create a copy of the input_ids to use as labels\n",
        "        label = list(input_ids)\n",
        "\n",
        "        if prompt_end_idx != -1:\n",
        "            # Mask everything up to the end of the prefix\n",
        "            # The +1 is to account for the space token after the prefix\n",
        "            label[:prompt_end_idx ] = [-100] * (prompt_end_idx )\n",
        "        else:\n",
        "            # If for some reason the prefix isn't found, mask the whole sequence\n",
        "            # This prevents accidental training on prompts if something goes wrong.\n",
        "            label[:] = [-100] * len(label)\n",
        "\n",
        "        labels.append(label)\n",
        "\n",
        "    # Add the labels to our model inputs\n",
        "    model_inputs[\"labels\"] = labels\n",
        "\n",
        "    return model_inputs\n",
        "\n",
        "# --- Apply this new function to the dataset ---\n",
        "print(\"Preparing and tokenizing dataset manually to full context length...\")\n",
        "cuad_tokenized = cuad_processed.map(\n",
        "    prepare_and_tokenize_dataset,\n",
        "    batched=True,\n",
        "    # This function is complex, so we run it on a single process.\n",
        "    num_proc=4,\n",
        "    remove_columns=cuad_processed[\"train\"].column_names,\n",
        "    desc=\"Tokenizing and Masking all examples\"\n",
        ")\n",
        "\n",
        "# --- Verification Step ---\n",
        "print(\"\\nVerifying tokenized output...\")\n",
        "print(\"Input IDs shape of first example:\", len(cuad_tokenized['train'][0]['input_ids']))\n",
        "print(\"Labels shape of first example:\", len(cuad_tokenized['train'][0]['labels']))"
      ]
    },
    {
      "cell_type": "code",
      "execution_count": null,
      "metadata": {
        "colab": {
          "base_uri": "https://localhost:8080/"
        },
        "id": "ifWTrCyoI_YP",
        "outputId": "e495d7b9-e64f-4430-98d8-51abe795c744"
      },
      "outputs": [
        {
          "name": "stdout",
          "output_type": "stream",
          "text": [
            "\n",
            "5. Setting up training configuration...\n",
            "\n",
            "GPU: NVIDIA A100-SXM4-40GB\n",
            "Max memory: 39.557 GB\n",
            "Memory reserved before training: 3.441 GB\n",
            "Available memory: 36.116 GB\n"
          ]
        }
      ],
      "source": [
        "print(\"\\n5. Setting up training configuration...\")\n",
        "\n",
        "# Data collator for language modeling\n",
        "data_collator = DataCollatorForLanguageModeling(tokenizer=tokenizer, mlm=False)\n",
        "\n",
        "# Training arguments optimized for long-context and A100 40GB\n",
        "trainer = UnslothTrainer(\n",
        "    model=model,\n",
        "    tokenizer=tokenizer,\n",
        "    train_dataset=cuad_tokenized[\"train\"],\n",
        "    # dataset_text_field=None,  # This will be transformed by formatting_func\n",
        "    # formatting_func=formatting_prompts_func,  # Key function for proper formatting\n",
        "    max_seq_length=max_seq_length,\n",
        "    data_collator=data_collator,\n",
        "    args=UnslothTrainingArguments(\n",
        "        # Batch size configuration for A100 40GB with 65k context\n",
        "        per_device_train_batch_size=2,      # Start with 1 due to long sequences\n",
        "        gradient_accumulation_steps=4,      # Effective batch size = 8\n",
        "\n",
        "        # Learning rate configuration\n",
        "        learning_rate=2e-4,                 # Standard Unsloth learning rate\n",
        "        embedding_learning_rate=1e-5,       # Lower LR for embeddings (continual pretraining)\n",
        "\n",
        "        # Training schedule\n",
        "        num_train_epochs=1,                 # Start with 1 epoch for long contexts\n",
        "        warmup_ratio=0.03,                  # Smaller warmup for long training\n",
        "\n",
        "        # Optimization settings\n",
        "        optim=\"adamw_8bit\",                 # Memory-efficient optimizer\n",
        "        weight_decay=0.01,\n",
        "        lr_scheduler_type=\"cosine\",         # Cosine scheduler as in reference\n",
        "        max_grad_norm=1.0,\n",
        "\n",
        "        # Precision settings for A100\n",
        "        fp16=not is_bfloat16_supported(),\n",
        "        bf16=is_bfloat16_supported(),\n",
        "\n",
        "        # Logging and saving\n",
        "        logging_steps=5,\n",
        "        save_steps=100,\n",
        "        save_total_limit=3,\n",
        "\n",
        "        # Output configuration\n",
        "        output_dir=\"./cuad_long_context_outputs\",\n",
        "        report_to=\"none\",\n",
        "\n",
        "        # Memory optimization\n",
        "        dataloader_num_workers=2,\n",
        "        remove_unused_columns=True,        # Keep for custom formatting\n",
        "\n",
        "        # Reproducibility\n",
        "        seed=3407,\n",
        "\n",
        "    ),\n",
        ")\n",
        "\n",
        "# Mask everything up through the answer prompt, un-mask only the answer tokens\n",
        "# trainer = train_on_responses_only(\n",
        "#     trainer,\n",
        "#     instruction_part=\"Answer (extract exact phrase from document):\",\n",
        "#     response_part   =\"Answer (extract exact phrase from document):\"\n",
        "# )\n",
        "\n",
        "# Memory check before training\n",
        "gpu_stats = torch.cuda.get_device_properties(0)\n",
        "start_gpu_memory = round(torch.cuda.max_memory_reserved() / 1024 / 1024 / 1024, 3)\n",
        "max_memory = round(gpu_stats.total_memory / 1024 / 1024 / 1024, 3)\n",
        "print(f\"\\nGPU: {gpu_stats.name}\")\n",
        "print(f\"Max memory: {max_memory} GB\")\n",
        "print(f\"Memory reserved before training: {start_gpu_memory} GB\")\n",
        "print(f\"Available memory: {max_memory - start_gpu_memory} GB\")"
      ]
    },
    {
      "cell_type": "code",
      "execution_count": null,
      "metadata": {
        "colab": {
          "base_uri": "https://localhost:8080/"
        },
        "id": "2yK062K2gF9y",
        "outputId": "f7147004-806b-477f-b2d9-6bb64ae8172f"
      },
      "outputs": [
        {
          "name": "stdout",
          "output_type": "stream",
          "text": [
            "Input IDs shape: torch.Size([2, 23914])\n",
            "Tokenized length of sample 0: 3654\n"
          ]
        }
      ],
      "source": [
        "# grab a single batch\n",
        "batch = next(iter(trainer.get_train_dataloader()))\n",
        "print(\"Input IDs shape:\", batch[\"input_ids\"].shape)\n",
        "# Expect shape: [batch_size, max-seq-length in that batch]\n",
        "\n",
        "# Also inspect one example\n",
        "feature = trainer.train_dataset[0]\n",
        "length_after_tokenization = len(feature[\"input_ids\"])\n",
        "print(\"Tokenized length of sample 0:\", length_after_tokenization)"
      ]
    },
    {
      "cell_type": "code",
      "execution_count": null,
      "metadata": {
        "colab": {
          "base_uri": "https://localhost:8080/"
        },
        "id": "ksz2xRM0XR4w",
        "outputId": "6a63f39c-2d27-4792-a78c-40abde08eb0f"
      },
      "outputs": [
        {
          "name": "stdout",
          "output_type": "stream",
          "text": [
            "=== UNMASKED TOKENS (answer) ===\n",
            " Not found<|eot_id|>\n",
            "\n",
            "=== FULL PROMPT ===\n",
            "<|begin_of_text|>You are a legal document analyzer. Extract exact phrases from legal documents to answer questions. Only provide the exact text/phrases from the document that answer the question. Do not add explanations or commentary. If the information is not found, respond with 'Not found'.\n",
            "\n",
            "Document: Exhibit 10.1   JACKSONVILLE JAGUARS SPONSORSHIP AGREEMENT   This Sponsorship Agreement (this \"Agreement\") is entered into as of November 27, 2017 (the \"Execution Date\") by and between Jacksonville Jaguars, LLC, a Delaware limited liability company (\"Club\"), and The ARC Group, Inc., a Florida corporation (owner and operator of Dick's Wings and Grill) (\"Sponsor\"). This Agreement consists of this Sponsorship Agreement and Exhibits A and B hereto, each of which is incorporated into and forms a part of this Agreement by this reference.   RECITALS   A. Club owns and operates the National Football League (\"NFL\") team known as the Jacksonville Jaguars (the \"Team\") and has the right to grant sponsorship rights and to exploit certain commercial, advertising and related opportunities with respect to the Team, including at the football- based stadium in Jacksonville, Florida currently named EverBank Field (the \"Stadium\").   B. Sponsor wishes to obtain certain sponsorship rights, benefits and opportunities with respect to the Team in connection with the advertising and promotion of the Sponsor Business (as defined below).   In consideration of the mutual covenants contained herein, the parties agree as follows:   1. Term of Agreement. This Agreement shall be binding on the parties hereto as of the Execution Date. The term of this Agreement (the \"Term\") shall commence as of April 1, 2018 (the \"Effective Date\") and shall expire upon the later of: (a) the conclusion of the 2022/23 NFL season and (b) the last day in February, 2023 (such expiration date, the \"Scheduled Expiration Date\"), unless sooner terminated pursuant to the terms of this Agreement.   2. Sponsor Rights and Benefits. Subject to the terms and conditions of this Agreement, as part of the consideration of the full and timely payment of the Sponsor Fees, Club hereby grants to Sponsor, and Sponsor hereby accepts, solely in the Territory, and during the Term: (i) the right to use the Benefits set forth on Exhibit A and the license and right to use the Team Marks solely in connection with the advertisement and promotion of Sponsor's Dick's Wings and Grill branded restaurants (the \"Sponsor Business\") in accordance with this Agreement; and (ii) the right to use the designation \"Official Wings of the Jacksonville Jaguars\" and such other designations as Club and Sponsor may agree to in a writing from time to time (collectively, the \"Official Designations\"), solely in connection with the Sponsor Business. No license or right is granted for the use of any other Club intellectual property for any other purpose, in any geographic area outside the Territory, for any medium of distribution that cannot be reasonably limited to the Territory, or during any period before or after the Term. The rights granted to Sponsor pursuant to this Section 2 may not be used to promote or advertise any products or services of Sponsor other than the Sponsor Business, or any other person or entity, whether directly or by affiliation, cooperation, co-sponsorship, or any joint programs or promotions.   3. Annual Fees; Playoff Payment.   (a) In consideration for the Benefits, during each Contract Year of the Term, Sponsor shall pay Club, in accordance with this Section 3(a) and Section 2(d) of the Terms and Conditions, the amount set forth next to the applicable Contract Year below (the \"Annual Fee\").   First Contract Year (2018/19):  $ 200,000  Second Contract Year (2019/20):  $ 204,000  Third Contract Year (2020/21):  $ 208,080  Fourth Contract Year (2021/22):  $ 212,240  Fifth Contract Year (2022/23):  $ 216,490    Sponsor shall pay Club the Annual Fee for each Contract Year of this Agreement in six (6) equal installments, each due on or prior to the 1st of each month between June and November of the applicable Contract Year.   (b) In addition to the Annual Fees identified in Section 3(a) above, Sponsor shall provide Club with food, beverage and serving products from Sponsor's Dicks' Wings restaurant with values equal to the following (each, an \"Annual Trade Value\"):   First Contract Year (2018/19):  $ 35,000  Second Contract Year (2019/20):  $ 35,700  Third Contract Year (2020/21):  $ 36,410  Fourth Contract Year (2021/22):  $ 37,140  Fifth Contract Year (2022/23):  $ 37,890    As part of the Annual Trade Value, Sponsor shall provide Club with a designated liaison who will coordinate the menu and quantities to be provided by Sponsor. Sponsor shall deliver the food (the cost of which is included in the Annual Trade Value) to the Stadium at the time and location specified by Club. If any portion of the Annual Trade Value is not used in any given Contract Year, such unused amount shall carry forward to the subsequent Contract Year. If any portion of the Annual Trade Value is not used at the end of the Term, Club shall be permitted to use such unused amount within twelve (12) months following expiration of this Agreement. The parties acknowledge that the Annual Trade Value is inclusive of any taxes, surcharges or related fees applicable to the orders placed by Club during the Term.\n",
            "\n",
            "\n",
            "\n",
            "Source: ARC GROUP, INC., 8-K, 12/11/2017\n",
            "\n",
            "\n",
            "\n",
            "\n",
            "\n",
            "\n",
            "\n",
            "  (c) If, during the Term, the Team plays in the Hall of Fame game, or any post-season playoff game, including any wild card, divisional playoff, conference championship, or Super Bowl (each, a \"Playoff Game\"), to the extent Club has the necessary rights to grant the Benefits identified on Exhibit A for such Playoff Game, Sponsor shall pay Club an additional amount per Playoff Game equal to a pro-rated portion of the Annual Fee applicable during the then-current Contract Year. The pro-rated portion shall be determined by Club using Club's internal line item accounting values as set forth in Club's standard rate card for such Benefits during each Playoff Game; provided that the cost of the Playoff Game tickets shall be based upon the generally applicable price for such tickets (the \"Playoff Payments\"). Sponsor shall pay the Playoff Payments in accordance with Section 2(d) of the Terms and Conditions not later than 30 days following Sponsor's receipt of an invoice requesting payment for such Playoff Games; provided that Club's failure to deliver such an invoice shall not, and not be construed to, relieve Sponsor of any obligation to pay any amount owed to Club.   4. Definitions. Capitalized terms used but not otherwise defined herein have the respective meanings given to them on Exhibit B (as it may be amended or otherwise modified from time to time, the \"Terms and Conditions\").   5. Standard Terms and Conditions. Except as expressly set forth in this Sponsorship Agreement or Exhibit A, all Benefits granted by Club to Sponsor hereunder shall be subject to, and Sponsor shall at times comply with, the terms and conditions set forth in the Terms and Conditions.   6. Notices. Any notice or other communication under this Agreement shall be in writing and shall be considered given when delivered personally or by electronic mail (confirmed by one of the other permissible methods of giving notice hereunder), one business day after being sent by a nationally recognized overnight courier, or three business days after being mailed by registered or certified mail, postage prepaid and return receipt requested, to the parties at the following addresses (or at such other address as a party may specify by notice to the other):   To Sponsor: The ARC Group, Inc.  To Club: Jacksonville Jaguars, LLC  6327-4 Argyle Forest Blvd.   1 EverBank Field Drive  Jacksonville, Florida 32244   Jacksonville, Florida 32202  Attn: Rick Akam   Attn: Scott Massey  Title: CEO   Senior Vice President, Corporate Partnerships  Email: rick@dickswings.com   masseys@nfl.jaguars.com   With a copy to: _________________________  With a copy to: Jacksonville Jaguars, LLC  _________________________   1 EverBank Field Drive  _________________________   Jacksonville, Florida 32202  Attn: ____________________   Attn: Megha Parekh  Title: ____________________   Senior Vice President, Chief Legal Officer  Email: ____________________   parekhm@nfl.jaguars.com   Notwithstanding the foregoing, delivery of an invoice via solely electronic mail shall constitute sufficient delivery under this Agreement.   7. Integration; Amendment. This Agreement contains the complete understanding between the parties hereto and supersedes all prior and contemporaneous written or verbal agreements or understandings (including but not limited to all negotiations, term sheets, letters of intent, presentations, and prior drafts of this Agreement) relating to the subject matter hereof. This Agreement may not be amended or otherwise modified except in a writing specifically referring to this Agreement and signed by authorized representatives of Sponsor and Club.   8. Counterparts. This Agreement may be executed in any number of counterparts, each of which will be deemed an original, but all of which taken together shall constitute one single agreement. Delivery of an executed counterpart by electronic transmission shall have the same effect as delivery of an original ink counterpart.   IN WITNESS WHEREOF, each party has caused this Agreement to be executed in Jacksonville, Florida, by its duly authorized representative with the intent that it be binding as of the Execution Date.   CLUB:  SPONSOR: JACKSONVILLE JAGUARS, LLC  The ARC Group, Inc.     By: /s/ Scott Massey  By: /s/ Richard W. Akam  Scott Massey   Rick Akam  SVP, Corporate Partnerships   CEO\n",
            "\n",
            "   Page 2 of 4\n",
            "\n",
            "Source: ARC GROUP, INC., 8-K, 12/11/2017\n",
            "\n",
            "\n",
            "\n",
            "\n",
            "\n",
            "\n",
            "\n",
            "  EXHIBIT A   Sponsorship Benefits   For purposes of clarity, the Benefits set forth on this Exhibit A are subject to the terms and conditions of this Agreement, including the Club Approval Rights under Section 5 of the Terms and Conditions.   1. STADIUM SIGNAGE   a. Carousel Messaging: Sponsor shall receive three (3) minutes of real time (and not game clock time) of display of a Sponsor Mark on LED carousel Signage on one (1) of the main video boards above the north or south end zone during each quarter of each preseason and regular season Jaguars Home Game. During each three (3) minute segment, Sponsor may include up to thirty seconds (:30) of animated messaging. Sponsor shall be solely responsible for any costs related to the animated messaging.   a. Ribbon LED Signage: Sponsor shall receive display of a Sponsor Mark on the LED ribbon boards located on the fascia on the east and west sides of the Stadium for thirty seconds (:30) of real time (and not game clock time) during each quarter of each preseason and regular season Jaguars Home Game. The exact timing of each display shall be determined by Club.   b. Concourse Signage: Sponsor shall receive display of a Sponsor Mark or Advertisement on five (5) back-illuminated advertising panels at certain locations on the Stadium concourses to be displayed during each preseason and regular season Jaguars Home Game. The exact size and location of each panel shall be determined by Club.   2. RADIO   a. Radio Spots: Sponsor shall receive the following radio spots in Club radio programming broadcasted by Club's primary radio partner. The exact timing of each spot shall be determined by Club or Club's primary radio partner: i. Jaguars Thursday: A total of twenty-three (23) thirty second (:30) spots for broadcast of an advertisement of the Sponsor Business during certain initial broadcasts of Jaguars Thursday. ii.Pre-Game Show: One (1) thirty second (:30) spot for broadcast of an advertisement of the Sponsor Business during each initial broadcast of the Pre-Game Show (for a total of twenty (20) spots during each Contract Year). iii.In-Game: One (1) thirty second (:30) spot for broadcast of an advertisement of the Sponsor Business during the initial broadcast of each preseason and regular season Team Game radio broadcast (for a total of twenty (20) spots during each Contract Year).   3. DIGITAL   a. Banner Ad: During each Contract Year, Sponsor shall receive display of a Sponsor Mark on one (1) banner advertisement in respect of the Sponsor Business that rotates throughout www.jaguars.com (approximately 300x250 pixels) and that links to Sponsor's official website. The exact placement of the banner shall be determined by Club in its sole discretion.   b. Gameday Magazine: During each Contract Year, Sponsor shall receive space to display one (1) full page advertisement in respect of the Sponsor Business and display of a Sponsor Mark in each digital (or printed, as determined by Club) issue of the Gameday Magazine distributed to Club's season ticket members prior to each Jaguars Home Game. The exact size and placement of the advertisement and timing of each distribution of the Gameday Magazine shall be determined by Club in its sole discretion.   c. Social Media Feature: During each Contract Year, Sponsor shall be the presenting sponsor of a video feature that highlights a top rushing play by a Team player during each preseason and regular season Team Game (the \"Feature\"). The top rushing play shall be determined by Club in its sole discretion. Such presenting sponsorship shall consist of the following: i. A Sponsor Mark displayed in the Feature, which shall be published by Club to Club's official Facebook, Twitter, Instagram or Snapchat account. The post will tag Sponsor's official corresponding social media account. The content, timing and frequency of such social media posts and the social media platforms shall be determined by Club.   4. HOSPITALITY   a. Season Tickets: Sponsor shall receive tickets (in Section 150, Row X, Seats 5-8, or a substantially similar location) to each preseason and regular season Jaguars Home Game.\n",
            "\n",
            "   Page 3 of 4\n",
            "\n",
            "Source: ARC GROUP, INC., 8-K, 12/11/2017\n",
            "\n",
            "\n",
            "\n",
            "\n",
            "\n",
            "\n",
            "\n",
            "  5. CONCESSIONS   a. Branded Concession Stands: During each preseason and regular season Jaguars Home Game and Other Events as requested by Club or the Stadium concessionaire (\"Concessionaire\"), Sponsor shall have the right to display Sponsor branding on (i) one (1) fixed concession stand in the Stadium located in the Bud Light Party Zone; and (ii) the fixed concession stand identified as Concession Stand 118 on the Stadium concourse (collectively, the \"Stands\"). The exact size and location of the Stands shall be determined by Club. The exact design of the Stands shall be mutually agreed upon between Sponsor and Club. Sponsor may display Signage displaying a Sponsor Mark in and/or on the Stand. Sponsor shall be responsible for all costs associated with the branding and Advertising in respect of the Stand.   b. Vending: Subject to the Concessions Agreement (as defined herein), Sponsor shall have the right to have its food products sold or otherwise distributed from the Stands and/or certain general concessions areas at the Stadium determined by Club or the Concessionaire. For purposes of clarity, nothing in this Agreement grants Sponsor the right to operate the Stand or otherwise sell or distribute food products from or within the Stand. Sponsor shall enter into an agreement with the Concessionaire to memorialize any such rights regarding the sale or distribution of Sponsor's products at the Stadium during each Jaguars Home Game and Other Events (the \"Concessions Agreement\"). The exact products to be sold and distributed shall be subject to Club's final approval. For purposes of clarity, Club reserves the right to sell other products at the Stadium competitive to the Sponsor Business. Sponsor acknowledges that such rights do not automatically extend to Other Events at the Stadium. Sponsor acknowledges that Sponsor shall cooperate with the Concessionaire regarding logistics and management of the Sponsor's food products, and appropriate storage and dispensation of the food products. In the event of any recall with respect to Sponsor's products provided to the Concessionaire pursuant to this Agreement or the Concessions Agreement, Sponsor shall notify both Club and the Concessionaire immediately upon issuance of such recall, and Club may, at its sole discretion and without penalty, suspend the Benefits for a duration as reasonably determined by Club. Any costs or expenses incurred by Club or the Concessionaire with respect to any such recall shall be the sole responsibility of Sponsor. Sponsor shall be responsible for the management and control over the services provided by its staff members operating the Stands (\"Sponsor Staff\") and Sponsor shall be solely responsible for determining the terms of employment for Sponsor Staff. Sponsor shall train Sponsor Staff or require Sponsor Staff to undergo training provided by Concessionaire. The staffing levels at each Stand shall be subject to Club's approval.\n",
            "\n",
            "   Page 4 of 4\n",
            "\n",
            "\n",
            "\n",
            "Source: ARC GROUP, INC., 8-K, 12/11/2017\n",
            "\n",
            "Question: Highlight the parts (if any) of this contract related to \"No-Solicit Of Customers\" that should be reviewed by a lawyer. Details: Is a party restricted from contracting or soliciting customers or partners of the counterparty, whether during the contract or after the contract ends (or both)?\n",
            "\n",
            "Answer (extract exact phrase from document): Not found<|eot_id|>\n"
          ]
        }
      ],
      "source": [
        "# Pick a sample index to inspect (0 for the first example)\n",
        "idx = 0\n",
        "\n",
        "# Grab the labels and input_ids for that example\n",
        "feature = trainer.train_dataset[idx]\n",
        "labels   = feature[\"labels\"]      # –100 for masked tokens, real IDs for un-masked\n",
        "input_ids= feature[\"input_ids\"]\n",
        "\n",
        "# Which token IDs survive the masking?\n",
        "unmasked_ids = [l for l in labels if l != -100]\n",
        "\n",
        "# Decode them back to text\n",
        "decoded_answer = tokenizer.decode(unmasked_ids)\n",
        "\n",
        "print(\"=== UNMASKED TOKENS (answer) ===\")\n",
        "print(decoded_answer)\n",
        "\n",
        "# (Optional) see the full prompt for context\n",
        "full_prompt = tokenizer.decode(input_ids)\n",
        "print(\"\\n=== FULL PROMPT ===\")\n",
        "print(full_prompt)\n"
      ]
    },
    {
      "cell_type": "code",
      "execution_count": null,
      "metadata": {
        "colab": {
          "base_uri": "https://localhost:8080/"
        },
        "id": "LjkHm-UVbhu0",
        "outputId": "2d97e0f1-1059-491f-af77-1c0d2c8e9185"
      },
      "outputs": [
        {
          "name": "stdout",
          "output_type": "stream",
          "text": [
            "\n",
            "Verifying the masking by decoding the first training example's labels...\n",
            "\n",
            "------------------------------------------------------------\n",
            "Decoded Unmasked Labels (This should ONLY be the answer):\n",
            "' Boyd<|eot_id|>'\n",
            "------------------------------------------------------------\n",
            "\n",
            "Total tokens in sequence: 2038\n",
            "Number of unmasked (answer) tokens: 2\n"
          ]
        }
      ],
      "source": [
        "print(\"\\nVerifying the masking by decoding the first training example's labels...\")\n",
        "\n",
        "# 1. Grab the first processed example from the trainer's dataset\n",
        "first_example_processed = trainer.train_dataset[1]\n",
        "\n",
        "# 2. Get the list of labels. It will be a mix of token IDs and -100s.\n",
        "labels = first_example_processed[\"labels\"]\n",
        "\n",
        "# 3. Filter out all the masked tokens (the -100s).\n",
        "unmasked_label_ids = [label for label in labels if label != -100]\n",
        "\n",
        "# 4. Decode the remaining token IDs back into a readable string.\n",
        "decoded_answer = tokenizer.decode(unmasked_label_ids)\n",
        "\n",
        "print(\"\\n------------------------------------------------------------\")\n",
        "print(\"Decoded Unmasked Labels (This should ONLY be the answer):\")\n",
        "print(f\"'{decoded_answer}'\")\n",
        "print(\"------------------------------------------------------------\\n\")\n",
        "\n",
        "# You can also check the number of unmasked tokens\n",
        "print(f\"Total tokens in sequence: {len(labels)}\")\n",
        "print(f\"Number of unmasked (answer) tokens: {len(unmasked_label_ids)}\")\n",
        "\n",
        "# ===================================================================================\n",
        "# END OF VERIFICATION CODE\n",
        "# ===================================================================================\n"
      ]
    },
    {
      "cell_type": "code",
      "execution_count": null,
      "metadata": {
        "colab": {
          "base_uri": "https://localhost:8080/"
        },
        "id": "jfgB67q7KBj1",
        "outputId": "5ecc9ce3-8d51-4c8f-a05b-5f2c8582f3bc"
      },
      "outputs": [
        {
          "name": "stdout",
          "output_type": "stream",
          "text": [
            "\n",
            "6. Testing formatting function...\n",
            "Formatted training example (first 800 characters):\n",
            "['You are a legal document analyzer. Extract exact phrases from legal documents to answer questions. Only provide the exact text/phrases from the document that answer the question. Do not add explanations or commentary. If the information is not found, respond with \\'Not found\\'.\\n\\nDocument: Exhibit 10.1   JACKSONVILLE JAGUARS SPONSORSHIP AGREEMENT   This Sponsorship Agreement (this \"Agreement\") is entered into as of November 27, 2017 (the \"Execution Date\") by and between Jacksonville Jaguars, LLC, a Delaware limited liability company (\"Club\"), and The ARC Group, Inc., a Florida corporation (owner and operator of Dick\\'s Wings and Grill) (\"Sponsor\"). This Agreement consists of this Sponsorship Agreement and Exhibits A and B hereto, each of which is incorporated into and forms a part of this Agreement by this reference.   RECITALS   A. Club owns and operates the National Football League (\"NFL\") team known as the Jacksonville Jaguars (the \"Team\") and has the right to grant sponsorship rights and to exploit certain commercial, advertising and related opportunities with respect to the Team, including at the football- based stadium in Jacksonville, Florida currently named EverBank Field (the \"Stadium\").   B. Sponsor wishes to obtain certain sponsorship rights, benefits and opportunities with respect to the Team in connection with the advertising and promotion of the Sponsor Business (as defined below).   In consideration of the mutual covenants contained herein, the parties agree as follows:   1. Term of Agreement. This Agreement shall be binding on the parties hereto as of the Execution Date. The term of this Agreement (the \"Term\") shall commence as of April 1, 2018 (the \"Effective Date\") and shall expire upon the later of: (a) the conclusion of the 2022/23 NFL season and (b) the last day in February, 2023 (such expiration date, the \"Scheduled Expiration Date\"), unless sooner terminated pursuant to the terms of this Agreement.   2. Sponsor Rights and Benefits. Subject to the terms and conditions of this Agreement, as part of the consideration of the full and timely payment of the Sponsor Fees, Club hereby grants to Sponsor, and Sponsor hereby accepts, solely in the Territory, and during the Term: (i) the right to use the Benefits set forth on Exhibit A and the license and right to use the Team Marks solely in connection with the advertisement and promotion of Sponsor\\'s Dick\\'s Wings and Grill branded restaurants (the \"Sponsor Business\") in accordance with this Agreement; and (ii) the right to use the designation \"Official Wings of the Jacksonville Jaguars\" and such other designations as Club and Sponsor may agree to in a writing from time to time (collectively, the \"Official Designations\"), solely in connection with the Sponsor Business. No license or right is granted for the use of any other Club intellectual property for any other purpose, in any geographic area outside the Territory, for any medium of distribution that cannot be reasonably limited to the Territory, or during any period before or after the Term. The rights granted to Sponsor pursuant to this Section 2 may not be used to promote or advertise any products or services of Sponsor other than the Sponsor Business, or any other person or entity, whether directly or by affiliation, cooperation, co-sponsorship, or any joint programs or promotions.   3. Annual Fees; Playoff Payment.   (a) In consideration for the Benefits, during each Contract Year of the Term, Sponsor shall pay Club, in accordance with this Section 3(a) and Section 2(d) of the Terms and Conditions, the amount set forth next to the applicable Contract Year below (the \"Annual Fee\").   First Contract Year (2018/19):  $ 200,000  Second Contract Year (2019/20):  $ 204,000  Third Contract Year (2020/21):  $ 208,080  Fourth Contract Year (2021/22):  $ 212,240  Fifth Contract Year (2022/23):  $ 216,490    Sponsor shall pay Club the Annual Fee for each Contract Year of this Agreement in six (6) equal installments, each due on or prior to the 1st of each month between June and November of the applicable Contract Year.   (b) In addition to the Annual Fees identified in Section 3(a) above, Sponsor shall provide Club with food, beverage and serving products from Sponsor\\'s Dicks\\' Wings restaurant with values equal to the following (each, an \"Annual Trade Value\"):   First Contract Year (2018/19):  $ 35,000  Second Contract Year (2019/20):  $ 35,700  Third Contract Year (2020/21):  $ 36,410  Fourth Contract Year (2021/22):  $ 37,140  Fifth Contract Year (2022/23):  $ 37,890    As part of the Annual Trade Value, Sponsor shall provide Club with a designated liaison who will coordinate the menu and quantities to be provided by Sponsor. Sponsor shall deliver the food (the cost of which is included in the Annual Trade Value) to the Stadium at the time and location specified by Club. If any portion of the Annual Trade Value is not used in any given Contract Year, such unused amount shall carry forward to the subsequent Contract Year. If any portion of the Annual Trade Value is not used at the end of the Term, Club shall be permitted to use such unused amount within twelve (12) months following expiration of this Agreement. The parties acknowledge that the Annual Trade Value is inclusive of any taxes, surcharges or related fees applicable to the orders placed by Club during the Term.\\n\\n\\n\\nSource: ARC GROUP, INC., 8-K, 12/11/2017\\n\\n\\n\\n\\n\\n\\n\\n  (c) If, during the Term, the Team plays in the Hall of Fame game, or any post-season playoff game, including any wild card, divisional playoff, conference championship, or Super Bowl (each, a \"Playoff Game\"), to the extent Club has the necessary rights to grant the Benefits identified on Exhibit A for such Playoff Game, Sponsor shall pay Club an additional amount per Playoff Game equal to a pro-rated portion of the Annual Fee applicable during the then-current Contract Year. The pro-rated portion shall be determined by Club using Club\\'s internal line item accounting values as set forth in Club\\'s standard rate card for such Benefits during each Playoff Game; provided that the cost of the Playoff Game tickets shall be based upon the generally applicable price for such tickets (the \"Playoff Payments\"). Sponsor shall pay the Playoff Payments in accordance with Section 2(d) of the Terms and Conditions not later than 30 days following Sponsor\\'s receipt of an invoice requesting payment for such Playoff Games; provided that Club\\'s failure to deliver such an invoice shall not, and not be construed to, relieve Sponsor of any obligation to pay any amount owed to Club.   4. Definitions. Capitalized terms used but not otherwise defined herein have the respective meanings given to them on Exhibit B (as it may be amended or otherwise modified from time to time, the \"Terms and Conditions\").   5. Standard Terms and Conditions. Except as expressly set forth in this Sponsorship Agreement or Exhibit A, all Benefits granted by Club to Sponsor hereunder shall be subject to, and Sponsor shall at times comply with, the terms and conditions set forth in the Terms and Conditions.   6. Notices. Any notice or other communication under this Agreement shall be in writing and shall be considered given when delivered personally or by electronic mail (confirmed by one of the other permissible methods of giving notice hereunder), one business day after being sent by a nationally recognized overnight courier, or three business days after being mailed by registered or certified mail, postage prepaid and return receipt requested, to the parties at the following addresses (or at such other address as a party may specify by notice to the other):   To Sponsor: The ARC Group, Inc.  To Club: Jacksonville Jaguars, LLC  6327-4 Argyle Forest Blvd.   1 EverBank Field Drive  Jacksonville, Florida 32244   Jacksonville, Florida 32202  Attn: Rick Akam   Attn: Scott Massey  Title: CEO   Senior Vice President, Corporate Partnerships  Email: rick@dickswings.com   masseys@nfl.jaguars.com   With a copy to: _________________________  With a copy to: Jacksonville Jaguars, LLC  _________________________   1 EverBank Field Drive  _________________________   Jacksonville, Florida 32202  Attn: ____________________   Attn: Megha Parekh  Title: ____________________   Senior Vice President, Chief Legal Officer  Email: ____________________   parekhm@nfl.jaguars.com   Notwithstanding the foregoing, delivery of an invoice via solely electronic mail shall constitute sufficient delivery under this Agreement.   7. Integration; Amendment. This Agreement contains the complete understanding between the parties hereto and supersedes all prior and contemporaneous written or verbal agreements or understandings (including but not limited to all negotiations, term sheets, letters of intent, presentations, and prior drafts of this Agreement) relating to the subject matter hereof. This Agreement may not be amended or otherwise modified except in a writing specifically referring to this Agreement and signed by authorized representatives of Sponsor and Club.   8. Counterparts. This Agreement may be executed in any number of counterparts, each of which will be deemed an original, but all of which taken together shall constitute one single agreement. Delivery of an executed counterpart by electronic transmission shall have the same effect as delivery of an original ink counterpart.   IN WITNESS WHEREOF, each party has caused this Agreement to be executed in Jacksonville, Florida, by its duly authorized representative with the intent that it be binding as of the Execution Date.   CLUB:  SPONSOR: JACKSONVILLE JAGUARS, LLC  The ARC Group, Inc.     By: /s/ Scott Massey  By: /s/ Richard W. Akam  Scott Massey   Rick Akam  SVP, Corporate Partnerships   CEO\\n\\n   Page 2 of 4\\n\\nSource: ARC GROUP, INC., 8-K, 12/11/2017\\n\\n\\n\\n\\n\\n\\n\\n  EXHIBIT A   Sponsorship Benefits   For purposes of clarity, the Benefits set forth on this Exhibit A are subject to the terms and conditions of this Agreement, including the Club Approval Rights under Section 5 of the Terms and Conditions.   1. STADIUM SIGNAGE   a. Carousel Messaging: Sponsor shall receive three (3) minutes of real time (and not game clock time) of display of a Sponsor Mark on LED carousel Signage on one (1) of the main video boards above the north or south end zone during each quarter of each preseason and regular season Jaguars Home Game. During each three (3) minute segment, Sponsor may include up to thirty seconds (:30) of animated messaging. Sponsor shall be solely responsible for any costs related to the animated messaging.   a. Ribbon LED Signage: Sponsor shall receive display of a Sponsor Mark on the LED ribbon boards located on the fascia on the east and west sides of the Stadium for thirty seconds (:30) of real time (and not game clock time) during each quarter of each preseason and regular season Jaguars Home Game. The exact timing of each display shall be determined by Club.   b. Concourse Signage: Sponsor shall receive display of a Sponsor Mark or Advertisement on five (5) back-illuminated advertising panels at certain locations on the Stadium concourses to be displayed during each preseason and regular season Jaguars Home Game. The exact size and location of each panel shall be determined by Club.   2. RADIO   a. Radio Spots: Sponsor shall receive the following radio spots in Club radio programming broadcasted by Club\\'s primary radio partner. The exact timing of each spot shall be determined by Club or Club\\'s primary radio partner: i. Jaguars Thursday: A total of twenty-three (23) thirty second (:30) spots for broadcast of an advertisement of the Sponsor Business during certain initial broadcasts of Jaguars Thursday. ii.Pre-Game Show: One (1) thirty second (:30) spot for broadcast of an advertisement of the Sponsor Business during each initial broadcast of the Pre-Game Show (for a total of twenty (20) spots during each Contract Year). iii.In-Game: One (1) thirty second (:30) spot for broadcast of an advertisement of the Sponsor Business during the initial broadcast of each preseason and regular season Team Game radio broadcast (for a total of twenty (20) spots during each Contract Year).   3. DIGITAL   a. Banner Ad: During each Contract Year, Sponsor shall receive display of a Sponsor Mark on one (1) banner advertisement in respect of the Sponsor Business that rotates throughout www.jaguars.com (approximately 300x250 pixels) and that links to Sponsor\\'s official website. The exact placement of the banner shall be determined by Club in its sole discretion.   b. Gameday Magazine: During each Contract Year, Sponsor shall receive space to display one (1) full page advertisement in respect of the Sponsor Business and display of a Sponsor Mark in each digital (or printed, as determined by Club) issue of the Gameday Magazine distributed to Club\\'s season ticket members prior to each Jaguars Home Game. The exact size and placement of the advertisement and timing of each distribution of the Gameday Magazine shall be determined by Club in its sole discretion.   c. Social Media Feature: During each Contract Year, Sponsor shall be the presenting sponsor of a video feature that highlights a top rushing play by a Team player during each preseason and regular season Team Game (the \"Feature\"). The top rushing play shall be determined by Club in its sole discretion. Such presenting sponsorship shall consist of the following: i. A Sponsor Mark displayed in the Feature, which shall be published by Club to Club\\'s official Facebook, Twitter, Instagram or Snapchat account. The post will tag Sponsor\\'s official corresponding social media account. The content, timing and frequency of such social media posts and the social media platforms shall be determined by Club.   4. HOSPITALITY   a. Season Tickets: Sponsor shall receive tickets (in Section 150, Row X, Seats 5-8, or a substantially similar location) to each preseason and regular season Jaguars Home Game.\\n\\n   Page 3 of 4\\n\\nSource: ARC GROUP, INC., 8-K, 12/11/2017\\n\\n\\n\\n\\n\\n\\n\\n  5. CONCESSIONS   a. Branded Concession Stands: During each preseason and regular season Jaguars Home Game and Other Events as requested by Club or the Stadium concessionaire (\"Concessionaire\"), Sponsor shall have the right to display Sponsor branding on (i) one (1) fixed concession stand in the Stadium located in the Bud Light Party Zone; and (ii) the fixed concession stand identified as Concession Stand 118 on the Stadium concourse (collectively, the \"Stands\"). The exact size and location of the Stands shall be determined by Club. The exact design of the Stands shall be mutually agreed upon between Sponsor and Club. Sponsor may display Signage displaying a Sponsor Mark in and/or on the Stand. Sponsor shall be responsible for all costs associated with the branding and Advertising in respect of the Stand.   b. Vending: Subject to the Concessions Agreement (as defined herein), Sponsor shall have the right to have its food products sold or otherwise distributed from the Stands and/or certain general concessions areas at the Stadium determined by Club or the Concessionaire. For purposes of clarity, nothing in this Agreement grants Sponsor the right to operate the Stand or otherwise sell or distribute food products from or within the Stand. Sponsor shall enter into an agreement with the Concessionaire to memorialize any such rights regarding the sale or distribution of Sponsor\\'s products at the Stadium during each Jaguars Home Game and Other Events (the \"Concessions Agreement\"). The exact products to be sold and distributed shall be subject to Club\\'s final approval. For purposes of clarity, Club reserves the right to sell other products at the Stadium competitive to the Sponsor Business. Sponsor acknowledges that such rights do not automatically extend to Other Events at the Stadium. Sponsor acknowledges that Sponsor shall cooperate with the Concessionaire regarding logistics and management of the Sponsor\\'s food products, and appropriate storage and dispensation of the food products. In the event of any recall with respect to Sponsor\\'s products provided to the Concessionaire pursuant to this Agreement or the Concessions Agreement, Sponsor shall notify both Club and the Concessionaire immediately upon issuance of such recall, and Club may, at its sole discretion and without penalty, suspend the Benefits for a duration as reasonably determined by Club. Any costs or expenses incurred by Club or the Concessionaire with respect to any such recall shall be the sole responsibility of Sponsor. Sponsor shall be responsible for the management and control over the services provided by its staff members operating the Stands (\"Sponsor Staff\") and Sponsor shall be solely responsible for determining the terms of employment for Sponsor Staff. Sponsor shall train Sponsor Staff or require Sponsor Staff to undergo training provided by Concessionaire. The staffing levels at each Stand shall be subject to Club\\'s approval.\\n\\n   Page 4 of 4\\n\\n\\n\\nSource: ARC GROUP, INC., 8-K, 12/11/2017\\n\\nQuestion: Highlight the parts (if any) of this contract related to \"No-Solicit Of Customers\" that should be reviewed by a lawyer. Details: Is a party restricted from contracting or soliciting customers or partners of the counterparty, whether during the contract or after the contract ends (or both)?\\n\\nAnswer (extract exact phrase from document): Not found<|eot_id|>']\n"
          ]
        }
      ],
      "source": [
        "# Test the formatting function with a sample\n",
        "print(\"\\n6. Testing formatting function...\")\n",
        "test_sample = cuad_processed[\"train\"][0]\n",
        "formatted_test = formatting_prompts_func(test_sample)\n",
        "print(\"Formatted training example (first 800 characters):\")\n",
        "print(formatted_test[:800] + \"...\" if len(formatted_test) > 800 else formatted_test)"
      ]
    },
    {
      "cell_type": "code",
      "execution_count": null,
      "metadata": {
        "colab": {
          "base_uri": "https://localhost:8080/",
          "height": 8174
        },
        "id": "bYAUL8FNKBTQ",
        "outputId": "89c96483-1b30-4880-ae76-15678d30b391"
      },
      "outputs": [
        {
          "name": "stdout",
          "output_type": "stream",
          "text": [
            "\n",
            "7. Starting training...\n",
            "============================================================\n"
          ]
        },
        {
          "name": "stderr",
          "output_type": "stream",
          "text": [
            "==((====))==  Unsloth - 2x faster free finetuning | Num GPUs used = 1\n",
            "   \\\\   /|    Num examples = 10,000 | Num Epochs = 1 | Total steps = 1,250\n",
            "O^O/ \\_/ \\    Batch size per device = 2 | Gradient accumulation steps = 4\n",
            "\\        /    Data Parallel GPUs = 1 | Total batch size (2 x 4 x 1) = 8\n",
            " \"-____-\"     Trainable parameters = 24,313,856/3,000,000,000 (0.81% trained)\n"
          ]
        },
        {
          "name": "stdout",
          "output_type": "stream",
          "text": [
            "Unsloth: Will smartly offload gradients to save VRAM!\n"
          ]
        },
        {
          "data": {
            "text/html": [
              "\n",
              "    <div>\n",
              "      \n",
              "      <progress value='1250' max='1250' style='width:300px; height:20px; vertical-align: middle;'></progress>\n",
              "      [1250/1250 12:58:21, Epoch 1/1]\n",
              "    </div>\n",
              "    <table border=\"1\" class=\"dataframe\">\n",
              "  <thead>\n",
              " <tr style=\"text-align: left;\">\n",
              "      <th>Step</th>\n",
              "      <th>Training Loss</th>\n",
              "    </tr>\n",
              "  </thead>\n",
              "  <tbody>\n",
              "    <tr>\n",
              "      <td>5</td>\n",
              "      <td>4.045800</td>\n",
              "    </tr>\n",
              "    <tr>\n",
              "      <td>10</td>\n",
              "      <td>4.977900</td>\n",
              "    </tr>\n",
              "    <tr>\n",
              "      <td>15</td>\n",
              "      <td>3.401000</td>\n",
              "    </tr>\n",
              "    <tr>\n",
              "      <td>20</td>\n",
              "      <td>3.870600</td>\n",
              "    </tr>\n",
              "    <tr>\n",
              "      <td>25</td>\n",
              "      <td>1.900300</td>\n",
              "    </tr>\n",
              "    <tr>\n",
              "      <td>30</td>\n",
              "      <td>2.285800</td>\n",
              "    </tr>\n",
              "    <tr>\n",
              "      <td>35</td>\n",
              "      <td>2.414500</td>\n",
              "    </tr>\n",
              "    <tr>\n",
              "      <td>40</td>\n",
              "      <td>1.878500</td>\n",
              "    </tr>\n",
              "    <tr>\n",
              "      <td>45</td>\n",
              "      <td>1.466200</td>\n",
              "    </tr>\n",
              "    <tr>\n",
              "      <td>50</td>\n",
              "      <td>1.491700</td>\n",
              "    </tr>\n",
              "    <tr>\n",
              "      <td>55</td>\n",
              "      <td>1.126700</td>\n",
              "    </tr>\n",
              "    <tr>\n",
              "      <td>60</td>\n",
              "      <td>1.210700</td>\n",
              "    </tr>\n",
              "    <tr>\n",
              "      <td>65</td>\n",
              "      <td>1.964800</td>\n",
              "    </tr>\n",
              "    <tr>\n",
              "      <td>70</td>\n",
              "      <td>0.679200</td>\n",
              "    </tr>\n",
              "    <tr>\n",
              "      <td>75</td>\n",
              "      <td>1.255000</td>\n",
              "    </tr>\n",
              "    <tr>\n",
              "      <td>80</td>\n",
              "      <td>1.402300</td>\n",
              "    </tr>\n",
              "    <tr>\n",
              "      <td>85</td>\n",
              "      <td>0.968900</td>\n",
              "    </tr>\n",
              "    <tr>\n",
              "      <td>90</td>\n",
              "      <td>0.844800</td>\n",
              "    </tr>\n",
              "    <tr>\n",
              "      <td>95</td>\n",
              "      <td>1.126200</td>\n",
              "    </tr>\n",
              "    <tr>\n",
              "      <td>100</td>\n",
              "      <td>0.863000</td>\n",
              "    </tr>\n",
              "    <tr>\n",
              "      <td>105</td>\n",
              "      <td>0.531700</td>\n",
              "    </tr>\n",
              "    <tr>\n",
              "      <td>110</td>\n",
              "      <td>1.005700</td>\n",
              "    </tr>\n",
              "    <tr>\n",
              "      <td>115</td>\n",
              "      <td>0.594800</td>\n",
              "    </tr>\n",
              "    <tr>\n",
              "      <td>120</td>\n",
              "      <td>0.169600</td>\n",
              "    </tr>\n",
              "    <tr>\n",
              "      <td>125</td>\n",
              "      <td>1.137500</td>\n",
              "    </tr>\n",
              "    <tr>\n",
              "      <td>130</td>\n",
              "      <td>0.663500</td>\n",
              "    </tr>\n",
              "    <tr>\n",
              "      <td>135</td>\n",
              "      <td>0.269300</td>\n",
              "    </tr>\n",
              "    <tr>\n",
              "      <td>140</td>\n",
              "      <td>0.807500</td>\n",
              "    </tr>\n",
              "    <tr>\n",
              "      <td>145</td>\n",
              "      <td>0.641700</td>\n",
              "    </tr>\n",
              "    <tr>\n",
              "      <td>150</td>\n",
              "      <td>0.367100</td>\n",
              "    </tr>\n",
              "    <tr>\n",
              "      <td>155</td>\n",
              "      <td>0.722600</td>\n",
              "    </tr>\n",
              "    <tr>\n",
              "      <td>160</td>\n",
              "      <td>1.324700</td>\n",
              "    </tr>\n",
              "    <tr>\n",
              "      <td>165</td>\n",
              "      <td>0.778700</td>\n",
              "    </tr>\n",
              "    <tr>\n",
              "      <td>170</td>\n",
              "      <td>0.695400</td>\n",
              "    </tr>\n",
              "    <tr>\n",
              "      <td>175</td>\n",
              "      <td>1.151700</td>\n",
              "    </tr>\n",
              "    <tr>\n",
              "      <td>180</td>\n",
              "      <td>0.678800</td>\n",
              "    </tr>\n",
              "    <tr>\n",
              "      <td>185</td>\n",
              "      <td>0.504600</td>\n",
              "    </tr>\n",
              "    <tr>\n",
              "      <td>190</td>\n",
              "      <td>1.163100</td>\n",
              "    </tr>\n",
              "    <tr>\n",
              "      <td>195</td>\n",
              "      <td>0.439600</td>\n",
              "    </tr>\n",
              "    <tr>\n",
              "      <td>200</td>\n",
              "      <td>0.481300</td>\n",
              "    </tr>\n",
              "    <tr>\n",
              "      <td>205</td>\n",
              "      <td>0.520600</td>\n",
              "    </tr>\n",
              "    <tr>\n",
              "      <td>210</td>\n",
              "      <td>0.668300</td>\n",
              "    </tr>\n",
              "    <tr>\n",
              "      <td>215</td>\n",
              "      <td>0.668000</td>\n",
              "    </tr>\n",
              "    <tr>\n",
              "      <td>220</td>\n",
              "      <td>1.175200</td>\n",
              "    </tr>\n",
              "    <tr>\n",
              "      <td>225</td>\n",
              "      <td>0.511600</td>\n",
              "    </tr>\n",
              "    <tr>\n",
              "      <td>230</td>\n",
              "      <td>0.786800</td>\n",
              "    </tr>\n",
              "    <tr>\n",
              "      <td>235</td>\n",
              "      <td>0.525300</td>\n",
              "    </tr>\n",
              "    <tr>\n",
              "      <td>240</td>\n",
              "      <td>0.559600</td>\n",
              "    </tr>\n",
              "    <tr>\n",
              "      <td>245</td>\n",
              "      <td>0.920500</td>\n",
              "    </tr>\n",
              "    <tr>\n",
              "      <td>250</td>\n",
              "      <td>0.215800</td>\n",
              "    </tr>\n",
              "    <tr>\n",
              "      <td>255</td>\n",
              "      <td>1.001600</td>\n",
              "    </tr>\n",
              "    <tr>\n",
              "      <td>260</td>\n",
              "      <td>0.406300</td>\n",
              "    </tr>\n",
              "    <tr>\n",
              "      <td>265</td>\n",
              "      <td>0.845100</td>\n",
              "    </tr>\n",
              "    <tr>\n",
              "      <td>270</td>\n",
              "      <td>0.335900</td>\n",
              "    </tr>\n",
              "    <tr>\n",
              "      <td>275</td>\n",
              "      <td>0.370200</td>\n",
              "    </tr>\n",
              "    <tr>\n",
              "      <td>280</td>\n",
              "      <td>0.571900</td>\n",
              "    </tr>\n",
              "    <tr>\n",
              "      <td>285</td>\n",
              "      <td>0.420600</td>\n",
              "    </tr>\n",
              "    <tr>\n",
              "      <td>290</td>\n",
              "      <td>0.341200</td>\n",
              "    </tr>\n",
              "    <tr>\n",
              "      <td>295</td>\n",
              "      <td>0.698400</td>\n",
              "    </tr>\n",
              "    <tr>\n",
              "      <td>300</td>\n",
              "      <td>0.503700</td>\n",
              "    </tr>\n",
              "    <tr>\n",
              "      <td>305</td>\n",
              "      <td>0.531900</td>\n",
              "    </tr>\n",
              "    <tr>\n",
              "      <td>310</td>\n",
              "      <td>0.503300</td>\n",
              "    </tr>\n",
              "    <tr>\n",
              "      <td>315</td>\n",
              "      <td>0.572000</td>\n",
              "    </tr>\n",
              "    <tr>\n",
              "      <td>320</td>\n",
              "      <td>0.200400</td>\n",
              "    </tr>\n",
              "    <tr>\n",
              "      <td>325</td>\n",
              "      <td>0.802200</td>\n",
              "    </tr>\n",
              "    <tr>\n",
              "      <td>330</td>\n",
              "      <td>0.448200</td>\n",
              "    </tr>\n",
              "    <tr>\n",
              "      <td>335</td>\n",
              "      <td>0.350500</td>\n",
              "    </tr>\n",
              "    <tr>\n",
              "      <td>340</td>\n",
              "      <td>0.504500</td>\n",
              "    </tr>\n",
              "    <tr>\n",
              "      <td>345</td>\n",
              "      <td>0.569300</td>\n",
              "    </tr>\n",
              "    <tr>\n",
              "      <td>350</td>\n",
              "      <td>0.312800</td>\n",
              "    </tr>\n",
              "    <tr>\n",
              "      <td>355</td>\n",
              "      <td>0.825900</td>\n",
              "    </tr>\n",
              "    <tr>\n",
              "      <td>360</td>\n",
              "      <td>0.303400</td>\n",
              "    </tr>\n",
              "    <tr>\n",
              "      <td>365</td>\n",
              "      <td>0.269700</td>\n",
              "    </tr>\n",
              "    <tr>\n",
              "      <td>370</td>\n",
              "      <td>0.484700</td>\n",
              "    </tr>\n",
              "    <tr>\n",
              "      <td>375</td>\n",
              "      <td>0.855800</td>\n",
              "    </tr>\n",
              "    <tr>\n",
              "      <td>380</td>\n",
              "      <td>0.317400</td>\n",
              "    </tr>\n",
              "    <tr>\n",
              "      <td>385</td>\n",
              "      <td>0.509300</td>\n",
              "    </tr>\n",
              "    <tr>\n",
              "      <td>390</td>\n",
              "      <td>0.440600</td>\n",
              "    </tr>\n",
              "    <tr>\n",
              "      <td>395</td>\n",
              "      <td>0.550100</td>\n",
              "    </tr>\n",
              "    <tr>\n",
              "      <td>400</td>\n",
              "      <td>0.225800</td>\n",
              "    </tr>\n",
              "    <tr>\n",
              "      <td>405</td>\n",
              "      <td>0.526500</td>\n",
              "    </tr>\n",
              "    <tr>\n",
              "      <td>410</td>\n",
              "      <td>0.396500</td>\n",
              "    </tr>\n",
              "    <tr>\n",
              "      <td>415</td>\n",
              "      <td>0.477300</td>\n",
              "    </tr>\n",
              "    <tr>\n",
              "      <td>420</td>\n",
              "      <td>0.520000</td>\n",
              "    </tr>\n",
              "    <tr>\n",
              "      <td>425</td>\n",
              "      <td>0.596100</td>\n",
              "    </tr>\n",
              "    <tr>\n",
              "      <td>430</td>\n",
              "      <td>0.335300</td>\n",
              "    </tr>\n",
              "    <tr>\n",
              "      <td>435</td>\n",
              "      <td>0.219500</td>\n",
              "    </tr>\n",
              "    <tr>\n",
              "      <td>440</td>\n",
              "      <td>0.274400</td>\n",
              "    </tr>\n",
              "    <tr>\n",
              "      <td>445</td>\n",
              "      <td>0.684300</td>\n",
              "    </tr>\n",
              "    <tr>\n",
              "      <td>450</td>\n",
              "      <td>0.288600</td>\n",
              "    </tr>\n",
              "    <tr>\n",
              "      <td>455</td>\n",
              "      <td>0.411400</td>\n",
              "    </tr>\n",
              "    <tr>\n",
              "      <td>460</td>\n",
              "      <td>0.307600</td>\n",
              "    </tr>\n",
              "    <tr>\n",
              "      <td>465</td>\n",
              "      <td>0.473100</td>\n",
              "    </tr>\n",
              "    <tr>\n",
              "      <td>470</td>\n",
              "      <td>0.261000</td>\n",
              "    </tr>\n",
              "    <tr>\n",
              "      <td>475</td>\n",
              "      <td>0.247900</td>\n",
              "    </tr>\n",
              "    <tr>\n",
              "      <td>480</td>\n",
              "      <td>0.322800</td>\n",
              "    </tr>\n",
              "    <tr>\n",
              "      <td>485</td>\n",
              "      <td>0.325100</td>\n",
              "    </tr>\n",
              "    <tr>\n",
              "      <td>490</td>\n",
              "      <td>0.378900</td>\n",
              "    </tr>\n",
              "    <tr>\n",
              "      <td>495</td>\n",
              "      <td>0.260200</td>\n",
              "    </tr>\n",
              "    <tr>\n",
              "      <td>500</td>\n",
              "      <td>0.224800</td>\n",
              "    </tr>\n",
              "    <tr>\n",
              "      <td>505</td>\n",
              "      <td>0.310400</td>\n",
              "    </tr>\n",
              "    <tr>\n",
              "      <td>510</td>\n",
              "      <td>0.539900</td>\n",
              "    </tr>\n",
              "    <tr>\n",
              "      <td>515</td>\n",
              "      <td>0.414700</td>\n",
              "    </tr>\n",
              "    <tr>\n",
              "      <td>520</td>\n",
              "      <td>0.285900</td>\n",
              "    </tr>\n",
              "    <tr>\n",
              "      <td>525</td>\n",
              "      <td>0.250000</td>\n",
              "    </tr>\n",
              "    <tr>\n",
              "      <td>530</td>\n",
              "      <td>0.303100</td>\n",
              "    </tr>\n",
              "    <tr>\n",
              "      <td>535</td>\n",
              "      <td>0.189000</td>\n",
              "    </tr>\n",
              "    <tr>\n",
              "      <td>540</td>\n",
              "      <td>0.327500</td>\n",
              "    </tr>\n",
              "    <tr>\n",
              "      <td>545</td>\n",
              "      <td>0.176600</td>\n",
              "    </tr>\n",
              "    <tr>\n",
              "      <td>550</td>\n",
              "      <td>0.255400</td>\n",
              "    </tr>\n",
              "    <tr>\n",
              "      <td>555</td>\n",
              "      <td>0.329200</td>\n",
              "    </tr>\n",
              "    <tr>\n",
              "      <td>560</td>\n",
              "      <td>0.216300</td>\n",
              "    </tr>\n",
              "    <tr>\n",
              "      <td>565</td>\n",
              "      <td>0.512400</td>\n",
              "    </tr>\n",
              "    <tr>\n",
              "      <td>570</td>\n",
              "      <td>0.424400</td>\n",
              "    </tr>\n",
              "    <tr>\n",
              "      <td>575</td>\n",
              "      <td>0.213000</td>\n",
              "    </tr>\n",
              "    <tr>\n",
              "      <td>580</td>\n",
              "      <td>0.226200</td>\n",
              "    </tr>\n",
              "    <tr>\n",
              "      <td>585</td>\n",
              "      <td>0.171500</td>\n",
              "    </tr>\n",
              "    <tr>\n",
              "      <td>590</td>\n",
              "      <td>0.154300</td>\n",
              "    </tr>\n",
              "    <tr>\n",
              "      <td>595</td>\n",
              "      <td>0.297400</td>\n",
              "    </tr>\n",
              "    <tr>\n",
              "      <td>600</td>\n",
              "      <td>0.303700</td>\n",
              "    </tr>\n",
              "    <tr>\n",
              "      <td>605</td>\n",
              "      <td>1.012700</td>\n",
              "    </tr>\n",
              "    <tr>\n",
              "      <td>610</td>\n",
              "      <td>0.288500</td>\n",
              "    </tr>\n",
              "    <tr>\n",
              "      <td>615</td>\n",
              "      <td>0.370800</td>\n",
              "    </tr>\n",
              "    <tr>\n",
              "      <td>620</td>\n",
              "      <td>0.306000</td>\n",
              "    </tr>\n",
              "    <tr>\n",
              "      <td>625</td>\n",
              "      <td>0.132700</td>\n",
              "    </tr>\n",
              "    <tr>\n",
              "      <td>630</td>\n",
              "      <td>0.223600</td>\n",
              "    </tr>\n",
              "    <tr>\n",
              "      <td>635</td>\n",
              "      <td>0.259000</td>\n",
              "    </tr>\n",
              "    <tr>\n",
              "      <td>640</td>\n",
              "      <td>0.392400</td>\n",
              "    </tr>\n",
              "    <tr>\n",
              "      <td>645</td>\n",
              "      <td>0.246100</td>\n",
              "    </tr>\n",
              "    <tr>\n",
              "      <td>650</td>\n",
              "      <td>0.180800</td>\n",
              "    </tr>\n",
              "    <tr>\n",
              "      <td>655</td>\n",
              "      <td>0.213100</td>\n",
              "    </tr>\n",
              "    <tr>\n",
              "      <td>660</td>\n",
              "      <td>0.252400</td>\n",
              "    </tr>\n",
              "    <tr>\n",
              "      <td>665</td>\n",
              "      <td>0.224700</td>\n",
              "    </tr>\n",
              "    <tr>\n",
              "      <td>670</td>\n",
              "      <td>0.179200</td>\n",
              "    </tr>\n",
              "    <tr>\n",
              "      <td>675</td>\n",
              "      <td>0.228700</td>\n",
              "    </tr>\n",
              "    <tr>\n",
              "      <td>680</td>\n",
              "      <td>0.407800</td>\n",
              "    </tr>\n",
              "    <tr>\n",
              "      <td>685</td>\n",
              "      <td>0.242900</td>\n",
              "    </tr>\n",
              "    <tr>\n",
              "      <td>690</td>\n",
              "      <td>0.267800</td>\n",
              "    </tr>\n",
              "    <tr>\n",
              "      <td>695</td>\n",
              "      <td>0.178300</td>\n",
              "    </tr>\n",
              "    <tr>\n",
              "      <td>700</td>\n",
              "      <td>0.186600</td>\n",
              "    </tr>\n",
              "    <tr>\n",
              "      <td>705</td>\n",
              "      <td>0.202400</td>\n",
              "    </tr>\n",
              "    <tr>\n",
              "      <td>710</td>\n",
              "      <td>0.224200</td>\n",
              "    </tr>\n",
              "    <tr>\n",
              "      <td>715</td>\n",
              "      <td>0.423200</td>\n",
              "    </tr>\n",
              "    <tr>\n",
              "      <td>720</td>\n",
              "      <td>0.281100</td>\n",
              "    </tr>\n",
              "    <tr>\n",
              "      <td>725</td>\n",
              "      <td>0.649600</td>\n",
              "    </tr>\n",
              "    <tr>\n",
              "      <td>730</td>\n",
              "      <td>0.786500</td>\n",
              "    </tr>\n",
              "    <tr>\n",
              "      <td>735</td>\n",
              "      <td>0.328900</td>\n",
              "    </tr>\n",
              "    <tr>\n",
              "      <td>740</td>\n",
              "      <td>0.208500</td>\n",
              "    </tr>\n",
              "    <tr>\n",
              "      <td>745</td>\n",
              "      <td>0.291900</td>\n",
              "    </tr>\n",
              "    <tr>\n",
              "      <td>750</td>\n",
              "      <td>0.170700</td>\n",
              "    </tr>\n",
              "    <tr>\n",
              "      <td>755</td>\n",
              "      <td>0.142100</td>\n",
              "    </tr>\n",
              "    <tr>\n",
              "      <td>760</td>\n",
              "      <td>0.412300</td>\n",
              "    </tr>\n",
              "    <tr>\n",
              "      <td>765</td>\n",
              "      <td>0.314300</td>\n",
              "    </tr>\n",
              "    <tr>\n",
              "      <td>770</td>\n",
              "      <td>0.211600</td>\n",
              "    </tr>\n",
              "    <tr>\n",
              "      <td>775</td>\n",
              "      <td>0.399400</td>\n",
              "    </tr>\n",
              "    <tr>\n",
              "      <td>780</td>\n",
              "      <td>0.213100</td>\n",
              "    </tr>\n",
              "    <tr>\n",
              "      <td>785</td>\n",
              "      <td>0.140000</td>\n",
              "    </tr>\n",
              "    <tr>\n",
              "      <td>790</td>\n",
              "      <td>0.225500</td>\n",
              "    </tr>\n",
              "    <tr>\n",
              "      <td>795</td>\n",
              "      <td>0.348400</td>\n",
              "    </tr>\n",
              "    <tr>\n",
              "      <td>800</td>\n",
              "      <td>0.320400</td>\n",
              "    </tr>\n",
              "    <tr>\n",
              "      <td>805</td>\n",
              "      <td>0.313000</td>\n",
              "    </tr>\n",
              "    <tr>\n",
              "      <td>810</td>\n",
              "      <td>0.162000</td>\n",
              "    </tr>\n",
              "    <tr>\n",
              "      <td>815</td>\n",
              "      <td>0.223400</td>\n",
              "    </tr>\n",
              "    <tr>\n",
              "      <td>820</td>\n",
              "      <td>0.378900</td>\n",
              "    </tr>\n",
              "    <tr>\n",
              "      <td>825</td>\n",
              "      <td>0.171700</td>\n",
              "    </tr>\n",
              "    <tr>\n",
              "      <td>830</td>\n",
              "      <td>0.188200</td>\n",
              "    </tr>\n",
              "    <tr>\n",
              "      <td>835</td>\n",
              "      <td>0.290200</td>\n",
              "    </tr>\n",
              "    <tr>\n",
              "      <td>840</td>\n",
              "      <td>0.288000</td>\n",
              "    </tr>\n",
              "    <tr>\n",
              "      <td>845</td>\n",
              "      <td>0.149600</td>\n",
              "    </tr>\n",
              "    <tr>\n",
              "      <td>850</td>\n",
              "      <td>0.255800</td>\n",
              "    </tr>\n",
              "    <tr>\n",
              "      <td>855</td>\n",
              "      <td>0.245200</td>\n",
              "    </tr>\n",
              "    <tr>\n",
              "      <td>860</td>\n",
              "      <td>0.198000</td>\n",
              "    </tr>\n",
              "    <tr>\n",
              "      <td>865</td>\n",
              "      <td>0.201700</td>\n",
              "    </tr>\n",
              "    <tr>\n",
              "      <td>870</td>\n",
              "      <td>0.263300</td>\n",
              "    </tr>\n",
              "    <tr>\n",
              "      <td>875</td>\n",
              "      <td>0.218200</td>\n",
              "    </tr>\n",
              "    <tr>\n",
              "      <td>880</td>\n",
              "      <td>0.179100</td>\n",
              "    </tr>\n",
              "    <tr>\n",
              "      <td>885</td>\n",
              "      <td>0.214100</td>\n",
              "    </tr>\n",
              "    <tr>\n",
              "      <td>890</td>\n",
              "      <td>0.132600</td>\n",
              "    </tr>\n",
              "    <tr>\n",
              "      <td>895</td>\n",
              "      <td>0.262900</td>\n",
              "    </tr>\n",
              "    <tr>\n",
              "      <td>900</td>\n",
              "      <td>0.130200</td>\n",
              "    </tr>\n",
              "    <tr>\n",
              "      <td>905</td>\n",
              "      <td>0.149300</td>\n",
              "    </tr>\n",
              "    <tr>\n",
              "      <td>910</td>\n",
              "      <td>0.217400</td>\n",
              "    </tr>\n",
              "    <tr>\n",
              "      <td>915</td>\n",
              "      <td>0.200500</td>\n",
              "    </tr>\n",
              "    <tr>\n",
              "      <td>920</td>\n",
              "      <td>0.261300</td>\n",
              "    </tr>\n",
              "    <tr>\n",
              "      <td>925</td>\n",
              "      <td>0.317600</td>\n",
              "    </tr>\n",
              "    <tr>\n",
              "      <td>930</td>\n",
              "      <td>0.153300</td>\n",
              "    </tr>\n",
              "    <tr>\n",
              "      <td>935</td>\n",
              "      <td>0.184800</td>\n",
              "    </tr>\n",
              "    <tr>\n",
              "      <td>940</td>\n",
              "      <td>0.202700</td>\n",
              "    </tr>\n",
              "    <tr>\n",
              "      <td>945</td>\n",
              "      <td>0.195800</td>\n",
              "    </tr>\n",
              "    <tr>\n",
              "      <td>950</td>\n",
              "      <td>0.107000</td>\n",
              "    </tr>\n",
              "    <tr>\n",
              "      <td>955</td>\n",
              "      <td>0.214000</td>\n",
              "    </tr>\n",
              "    <tr>\n",
              "      <td>960</td>\n",
              "      <td>0.120300</td>\n",
              "    </tr>\n",
              "    <tr>\n",
              "      <td>965</td>\n",
              "      <td>0.139500</td>\n",
              "    </tr>\n",
              "    <tr>\n",
              "      <td>970</td>\n",
              "      <td>0.240300</td>\n",
              "    </tr>\n",
              "    <tr>\n",
              "      <td>975</td>\n",
              "      <td>0.352500</td>\n",
              "    </tr>\n",
              "    <tr>\n",
              "      <td>980</td>\n",
              "      <td>0.193600</td>\n",
              "    </tr>\n",
              "    <tr>\n",
              "      <td>985</td>\n",
              "      <td>0.126900</td>\n",
              "    </tr>\n",
              "    <tr>\n",
              "      <td>990</td>\n",
              "      <td>0.136900</td>\n",
              "    </tr>\n",
              "    <tr>\n",
              "      <td>995</td>\n",
              "      <td>0.141300</td>\n",
              "    </tr>\n",
              "    <tr>\n",
              "      <td>1000</td>\n",
              "      <td>0.244300</td>\n",
              "    </tr>\n",
              "    <tr>\n",
              "      <td>1005</td>\n",
              "      <td>0.422800</td>\n",
              "    </tr>\n",
              "    <tr>\n",
              "      <td>1010</td>\n",
              "      <td>0.387500</td>\n",
              "    </tr>\n",
              "    <tr>\n",
              "      <td>1015</td>\n",
              "      <td>0.295100</td>\n",
              "    </tr>\n",
              "    <tr>\n",
              "      <td>1020</td>\n",
              "      <td>0.210000</td>\n",
              "    </tr>\n",
              "    <tr>\n",
              "      <td>1025</td>\n",
              "      <td>0.272700</td>\n",
              "    </tr>\n",
              "    <tr>\n",
              "      <td>1030</td>\n",
              "      <td>0.532500</td>\n",
              "    </tr>\n",
              "    <tr>\n",
              "      <td>1035</td>\n",
              "      <td>0.213700</td>\n",
              "    </tr>\n",
              "    <tr>\n",
              "      <td>1040</td>\n",
              "      <td>0.130200</td>\n",
              "    </tr>\n",
              "    <tr>\n",
              "      <td>1045</td>\n",
              "      <td>0.133100</td>\n",
              "    </tr>\n",
              "    <tr>\n",
              "      <td>1050</td>\n",
              "      <td>0.228400</td>\n",
              "    </tr>\n",
              "    <tr>\n",
              "      <td>1055</td>\n",
              "      <td>0.220700</td>\n",
              "    </tr>\n",
              "    <tr>\n",
              "      <td>1060</td>\n",
              "      <td>0.162200</td>\n",
              "    </tr>\n",
              "    <tr>\n",
              "      <td>1065</td>\n",
              "      <td>0.483600</td>\n",
              "    </tr>\n",
              "    <tr>\n",
              "      <td>1070</td>\n",
              "      <td>0.112300</td>\n",
              "    </tr>\n",
              "    <tr>\n",
              "      <td>1075</td>\n",
              "      <td>0.193200</td>\n",
              "    </tr>\n",
              "    <tr>\n",
              "      <td>1080</td>\n",
              "      <td>0.142900</td>\n",
              "    </tr>\n",
              "    <tr>\n",
              "      <td>1085</td>\n",
              "      <td>0.163900</td>\n",
              "    </tr>\n",
              "    <tr>\n",
              "      <td>1090</td>\n",
              "      <td>0.227800</td>\n",
              "    </tr>\n",
              "    <tr>\n",
              "      <td>1095</td>\n",
              "      <td>0.110600</td>\n",
              "    </tr>\n",
              "    <tr>\n",
              "      <td>1100</td>\n",
              "      <td>0.213200</td>\n",
              "    </tr>\n",
              "    <tr>\n",
              "      <td>1105</td>\n",
              "      <td>0.154700</td>\n",
              "    </tr>\n",
              "    <tr>\n",
              "      <td>1110</td>\n",
              "      <td>0.153600</td>\n",
              "    </tr>\n",
              "    <tr>\n",
              "      <td>1115</td>\n",
              "      <td>0.149200</td>\n",
              "    </tr>\n",
              "    <tr>\n",
              "      <td>1120</td>\n",
              "      <td>0.123600</td>\n",
              "    </tr>\n",
              "    <tr>\n",
              "      <td>1125</td>\n",
              "      <td>0.295700</td>\n",
              "    </tr>\n",
              "    <tr>\n",
              "      <td>1130</td>\n",
              "      <td>0.176800</td>\n",
              "    </tr>\n",
              "    <tr>\n",
              "      <td>1135</td>\n",
              "      <td>0.197800</td>\n",
              "    </tr>\n",
              "    <tr>\n",
              "      <td>1140</td>\n",
              "      <td>0.137700</td>\n",
              "    </tr>\n",
              "    <tr>\n",
              "      <td>1145</td>\n",
              "      <td>0.192400</td>\n",
              "    </tr>\n",
              "    <tr>\n",
              "      <td>1150</td>\n",
              "      <td>0.153800</td>\n",
              "    </tr>\n",
              "    <tr>\n",
              "      <td>1155</td>\n",
              "      <td>0.088300</td>\n",
              "    </tr>\n",
              "    <tr>\n",
              "      <td>1160</td>\n",
              "      <td>0.135200</td>\n",
              "    </tr>\n",
              "    <tr>\n",
              "      <td>1165</td>\n",
              "      <td>0.129800</td>\n",
              "    </tr>\n",
              "    <tr>\n",
              "      <td>1170</td>\n",
              "      <td>0.144400</td>\n",
              "    </tr>\n",
              "    <tr>\n",
              "      <td>1175</td>\n",
              "      <td>0.155100</td>\n",
              "    </tr>\n",
              "    <tr>\n",
              "      <td>1180</td>\n",
              "      <td>0.178700</td>\n",
              "    </tr>\n",
              "    <tr>\n",
              "      <td>1185</td>\n",
              "      <td>0.287500</td>\n",
              "    </tr>\n",
              "    <tr>\n",
              "      <td>1190</td>\n",
              "      <td>0.158500</td>\n",
              "    </tr>\n",
              "    <tr>\n",
              "      <td>1195</td>\n",
              "      <td>0.142000</td>\n",
              "    </tr>\n",
              "    <tr>\n",
              "      <td>1200</td>\n",
              "      <td>0.200300</td>\n",
              "    </tr>\n",
              "    <tr>\n",
              "      <td>1205</td>\n",
              "      <td>0.338300</td>\n",
              "    </tr>\n",
              "    <tr>\n",
              "      <td>1210</td>\n",
              "      <td>0.226100</td>\n",
              "    </tr>\n",
              "    <tr>\n",
              "      <td>1215</td>\n",
              "      <td>0.130100</td>\n",
              "    </tr>\n",
              "    <tr>\n",
              "      <td>1220</td>\n",
              "      <td>0.224400</td>\n",
              "    </tr>\n",
              "    <tr>\n",
              "      <td>1225</td>\n",
              "      <td>0.164700</td>\n",
              "    </tr>\n",
              "    <tr>\n",
              "      <td>1230</td>\n",
              "      <td>0.104900</td>\n",
              "    </tr>\n",
              "    <tr>\n",
              "      <td>1235</td>\n",
              "      <td>0.145300</td>\n",
              "    </tr>\n",
              "    <tr>\n",
              "      <td>1240</td>\n",
              "      <td>0.255000</td>\n",
              "    </tr>\n",
              "    <tr>\n",
              "      <td>1245</td>\n",
              "      <td>0.234800</td>\n",
              "    </tr>\n",
              "    <tr>\n",
              "      <td>1250</td>\n",
              "      <td>0.215700</td>\n",
              "    </tr>\n",
              "  </tbody>\n",
              "</table><p>"
            ],
            "text/plain": [
              "<IPython.core.display.HTML object>"
            ]
          },
          "metadata": {},
          "output_type": "display_data"
        },
        {
          "name": "stdout",
          "output_type": "stream",
          "text": [
            "============================================================\n",
            "TRAINING COMPLETED SUCCESSFULLY!\n",
            "Training time: 778.85 minutes\n",
            "Peak GPU memory: 19.061 GB\n",
            "Memory increase: 15.620000000000001 GB\n",
            "Final training loss: 0.47625361874103544\n"
          ]
        }
      ],
      "source": [
        "print(\"\\n7. Starting training...\")\n",
        "print(\"=\" * 60)\n",
        "start_time = time.time()\n",
        "\n",
        "try:\n",
        "    # Clear cache before training\n",
        "    torch.cuda.empty_cache()\n",
        "    gc.collect()\n",
        "\n",
        "    # Start training\n",
        "    trainer_stats = trainer.train()\n",
        "\n",
        "    training_time = time.time() - start_time\n",
        "    final_gpu_memory = round(torch.cuda.max_memory_reserved() / 1024 / 1024 / 1024, 3)\n",
        "\n",
        "    print(\"=\" * 60)\n",
        "    print(\"TRAINING COMPLETED SUCCESSFULLY!\")\n",
        "    print(f\"Training time: {training_time/60:.2f} minutes\")\n",
        "    print(f\"Peak GPU memory: {final_gpu_memory} GB\")\n",
        "    print(f\"Memory increase: {final_gpu_memory - start_gpu_memory} GB\")\n",
        "\n",
        "    if trainer.state.log_history:\n",
        "        final_loss = trainer.state.log_history[-1].get('train_loss', 'N/A')\n",
        "        print(f\"Final training loss: {final_loss}\")\n",
        "\n",
        "    training_successful = True\n",
        "\n",
        "except Exception as e:\n",
        "    print(f\"Training failed: {e}\")\n",
        "    print(\"This might be due to memory constraints with very long sequences.\")\n",
        "    print(\"Consider reducing per_device_train_batch_size to 1 or max_seq_length.\")\n",
        "    training_successful = False\n",
        "    raise"
      ]
    },
    {
      "cell_type": "code",
      "execution_count": null,
      "metadata": {
        "colab": {
          "base_uri": "https://localhost:8080/"
        },
        "id": "uddybia4I_Uk",
        "outputId": "5b9b6a99-8ef7-4cac-b55b-7ddf653c8587"
      },
      "outputs": [
        {
          "name": "stdout",
          "output_type": "stream",
          "text": [
            "========================================\n",
            "TRAINING COMPLETED SUCCESSFULLY!\n",
            "46728.6389 seconds used for training.\n",
            "778.81 minutes used for training.\n",
            "Peak reserved memory = 19.061 GB.\n",
            "Peak reserved memory for training = 15.62 GB.\n",
            "Peak reserved memory % of max memory = 48.186 %.\n",
            "Peak reserved memory for training % of max memory = 39.487 %.\n",
            "\n",
            "8. Saving fine-tuned model...\n",
            "Model saved to: ./cuad_finetuned_llama3_2_3b\n",
            "Training info saved to: ./cuad_finetuned_llama3_2_3b/training_info.json\n",
            "\n",
            "9. Quick inference test...\n",
            "Test Question: What is the duration of this agreement?\n",
            "Model Response:\n",
            " The term of this Agreement shall be for a period \n",
            "    of three (3) years from the Effective Date, unless terminated earlier in accordance \n",
            "    with the terms herein.\n",
            "\n",
            "================================================================================\n",
            "FINE-TUNING COMPLETED SUCCESSFULLY!\n",
            "================================================================================\n",
            "Model saved at: ./cuad_finetuned_llama3_2_3b\n",
            "You can now use the evaluation script to test performance.\n",
            "================================================================================\n",
            "\n",
            "Script completed at: 2025-06-08 01:05:56\n",
            "================================================================================\n"
          ]
        }
      ],
      "source": [
        "# Post-training code\n",
        "if training_successful:\n",
        "    end_time = time.time()\n",
        "    training_time = end_time - start_time\n",
        "\n",
        "    # Final memory stats - FOLLOWING UNSLOTH TUTORIAL FORMAT\n",
        "    used_memory = round(torch.cuda.max_memory_reserved() / 1024 / 1024 / 1024, 3)\n",
        "    used_memory_for_lora = round(used_memory - start_gpu_memory, 3)\n",
        "    used_percentage = round(used_memory / max_memory * 100, 3)\n",
        "    lora_percentage = round(used_memory_for_lora / max_memory * 100, 3)\n",
        "\n",
        "    print(\"=\" * 40)\n",
        "    print(\"TRAINING COMPLETED SUCCESSFULLY!\")\n",
        "    print(f\"{trainer_stats.metrics['train_runtime']} seconds used for training.\")\n",
        "    print(f\"{round(trainer_stats.metrics['train_runtime']/60, 2)} minutes used for training.\")\n",
        "    print(f\"Peak reserved memory = {used_memory} GB.\")\n",
        "    print(f\"Peak reserved memory for training = {used_memory_for_lora} GB.\")\n",
        "    print(f\"Peak reserved memory % of max memory = {used_percentage} %.\")\n",
        "    print(f\"Peak reserved memory for training % of max memory = {lora_percentage} %.\")\n",
        "\n",
        "    print(\"\\n8. Saving fine-tuned model...\")\n",
        "\n",
        "    # Save LoRA adapters - FOLLOWING UNSLOTH TUTORIAL\n",
        "    model_save_path = \"./cuad_finetuned_llama3_2_3b\"\n",
        "    model.save_pretrained(model_save_path)\n",
        "    tokenizer.save_pretrained(model_save_path)\n",
        "\n",
        "    # Save training info\n",
        "    training_info = {\n",
        "        \"model_name\": \"unsloth/Llama-3.2-3B-Instruct-bnb-4bit\",\n",
        "        \"dataset\": \"cuad\",\n",
        "        \"training_examples\": len(train_dataset),\n",
        "        \"max_seq_length\": max_seq_length,\n",
        "        \"training_steps\": trainer_stats.metrics.get('train_steps', 'unknown'),\n",
        "        \"training_time_minutes\": training_time/60,\n",
        "        \"final_loss\": trainer_stats.metrics.get('train_loss', 'unknown'),\n",
        "        \"saved_at\": datetime.now().isoformat(),\n",
        "        \"lora_config\": {\n",
        "            \"r\": 16,  # Updated to match the actual config from first part\n",
        "            \"lora_alpha\": 32,  # Updated to match the actual config from first part\n",
        "            \"lora_dropout\": 0\n",
        "        }\n",
        "    }\n",
        "\n",
        "    with open(f\"{model_save_path}/training_info.json\", \"w\") as f:\n",
        "        json.dump(training_info, f, indent=2)\n",
        "\n",
        "    print(f\"Model saved to: {model_save_path}\")\n",
        "    print(f\"Training info saved to: {model_save_path}/training_info.json\")\n",
        "\n",
        "    tokenizer.pad_token_id = tokenizer.eos_token_id  # or tokenizer.unk_token_id\n",
        "\n",
        "    print(\"\\n9. Quick inference test...\")\n",
        "    FastLanguageModel.for_inference(model)\n",
        "\n",
        "    test_context = \"\"\"\n",
        "    This Software License Agreement (\"Agreement\") is entered into on January 1, 2024,\n",
        "    between Company A and Company B. The term of this Agreement shall be for a period\n",
        "    of three (3) years from the Effective Date, unless terminated earlier in accordance\n",
        "    with the terms herein.\n",
        "    \"\"\"\n",
        "\n",
        "    test_question = \"What is the duration of this agreement?\"\n",
        "\n",
        "    # Use the same prompt format as in preprocessing\n",
        "    test_prompt = f\"You are a legal document analyzer. Extract exact phrases from legal documents to answer questions. Only provide the exact text/phrases from the document that answer the question. Do not add explanations or commentary. If the information is not found, respond with 'Not found'.\\n\\nDocument: {test_context}\\n\\nQuestion: {test_question}\\n\\nAnswer (extract exact phrase from document):\"\n",
        "\n",
        "    max_new_tokens = 64\n",
        "    tokenized = tokenizer(\n",
        "        test_prompt,\n",
        "        return_tensors=\"pt\",\n",
        "        padding=True,\n",
        "        truncation=True,\n",
        "        max_length=max_seq_length - max_new_tokens\n",
        "    ).to(\"cuda\")\n",
        "\n",
        "    print(f\"Test Question: {test_question}\")\n",
        "    print(\"Model Response:\")\n",
        "\n",
        "    with torch.no_grad():\n",
        "        outputs = model.generate(\n",
        "            **tokenized,\n",
        "            max_new_tokens=max_new_tokens,\n",
        "            use_cache=True,\n",
        "            temperature=1.5,\n",
        "            min_p=0.1,\n",
        "            do_sample=True,\n",
        "            pad_token_id=tokenizer.pad_token_id,\n",
        "            eos_token_id=tokenizer.eos_token_id,\n",
        "        )\n",
        "\n",
        "    # Decode only the generated part (skip the input prompt)\n",
        "    generated_text = tokenizer.decode(outputs[0][tokenized['input_ids'].shape[1]:], skip_special_tokens=True)\n",
        "    print(generated_text)\n",
        "\n",
        "    print(\"\\n\" + \"=\"*80)\n",
        "    print(\"FINE-TUNING COMPLETED SUCCESSFULLY!\")\n",
        "    print(\"=\"*80)\n",
        "    print(f\"Model saved at: {model_save_path}\")\n",
        "    print(\"You can now use the evaluation script to test performance.\")\n",
        "    print(\"=\"*80)\n",
        "\n",
        "else:\n",
        "    print(\"Training failed. Please check the error messages above.\")\n",
        "\n",
        "print(f\"\\nScript completed at: {datetime.now().strftime('%Y-%m-%d %H:%M:%S')}\")\n",
        "print(\"=\"*80)"
      ]
    },
    {
      "cell_type": "code",
      "execution_count": null,
      "metadata": {
        "colab": {
          "base_uri": "https://localhost:8080/"
        },
        "id": "2sISMy9HKmnf",
        "outputId": "19c2b37d-35ca-455a-9f56-0f58f9339b70"
      },
      "outputs": [
        {
          "name": "stdout",
          "output_type": "stream",
          "text": [
            "  adding: content/cuad_finetuned_llama3_2_3b/ (stored 0%)\n",
            "  adding: content/cuad_finetuned_llama3_2_3b/tokenizer.json (deflated 85%)\n",
            "  adding: content/cuad_finetuned_llama3_2_3b/adapter_config.json (deflated 55%)\n",
            "  adding: content/cuad_finetuned_llama3_2_3b/README.md (deflated 66%)\n",
            "  adding: content/cuad_finetuned_llama3_2_3b/training_info.json (deflated 34%)\n",
            "  adding: content/cuad_finetuned_llama3_2_3b/special_tokens_map.json (deflated 63%)\n",
            "  adding: content/cuad_finetuned_llama3_2_3b/tokenizer_config.json (deflated 94%)\n",
            "  adding: content/cuad_finetuned_llama3_2_3b/adapter_model.safetensors (deflated 7%)\n"
          ]
        }
      ],
      "source": [
        "!zip -r llama_finetuned.zip /content/cuad_finetuned_llama3_2_3b"
      ]
    },
    {
      "cell_type": "code",
      "execution_count": null,
      "metadata": {
        "colab": {
          "base_uri": "https://localhost:8080/",
          "height": 17
        },
        "id": "uJ46xjBkKmio",
        "outputId": "2e6dbd47-a9d6-440e-abf7-bc680cab5928"
      },
      "outputs": [
        {
          "data": {
            "application/javascript": "\n    async function download(id, filename, size) {\n      if (!google.colab.kernel.accessAllowed) {\n        return;\n      }\n      const div = document.createElement('div');\n      const label = document.createElement('label');\n      label.textContent = `Downloading \"${filename}\": `;\n      div.appendChild(label);\n      const progress = document.createElement('progress');\n      progress.max = size;\n      div.appendChild(progress);\n      document.body.appendChild(div);\n\n      const buffers = [];\n      let downloaded = 0;\n\n      const channel = await google.colab.kernel.comms.open(id);\n      // Send a message to notify the kernel that we're ready.\n      channel.send({})\n\n      for await (const message of channel.messages) {\n        // Send a message to notify the kernel that we're ready.\n        channel.send({})\n        if (message.buffers) {\n          for (const buffer of message.buffers) {\n            buffers.push(buffer);\n            downloaded += buffer.byteLength;\n            progress.value = downloaded;\n          }\n        }\n      }\n      const blob = new Blob(buffers, {type: 'application/binary'});\n      const a = document.createElement('a');\n      a.href = window.URL.createObjectURL(blob);\n      a.download = filename;\n      div.appendChild(a);\n      a.click();\n      div.remove();\n    }\n  ",
            "text/plain": [
              "<IPython.core.display.Javascript object>"
            ]
          },
          "metadata": {},
          "output_type": "display_data"
        },
        {
          "data": {
            "application/javascript": "download(\"download_f1005c66-a10f-40aa-a789-8d88c72f5515\", \"llama_finetuned.zip\", 92627942)",
            "text/plain": [
              "<IPython.core.display.Javascript object>"
            ]
          },
          "metadata": {},
          "output_type": "display_data"
        }
      ],
      "source": [
        "from google.colab import files\n",
        "files.download('llama_finetuned.zip')"
      ]
    },
    {
      "cell_type": "markdown",
      "metadata": {
        "id": "Xwttwh4JJPeA"
      },
      "source": [
        "# Evaluation"
      ]
    },
    {
      "cell_type": "code",
      "execution_count": null,
      "metadata": {
        "colab": {
          "base_uri": "https://localhost:8080/"
        },
        "id": "7snHN6yQI_Qb",
        "outputId": "62fc6e26-9f24-4016-811e-bcac29cba342"
      },
      "outputs": [
        {
          "name": "stdout",
          "output_type": "stream",
          "text": [
            "🚀 CUAD EVALUATION SCRIPT - ALIGNED WITH FINE-TUNING\n",
            "============================================================\n",
            "Split: test\n",
            "Max samples: 4182\n",
            "Max sequence length: 65536\n",
            "Output directory: ./evaluation_results\n",
            "\n",
            "📂 Loading CUAD test dataset...\n",
            "✅ Loaded 4182 examples\n",
            "\n",
            "🔄 EVALUATING ORIGINAL MODEL\n",
            "==================================================\n",
            "Loading model from: unsloth/Llama-3.2-3B-Instruct-bnb-4bit\n",
            "Max sequence length: 65536\n",
            "==((====))==  Unsloth 2025.6.1: Fast Llama patching. Transformers: 4.51.3.\n",
            "   \\\\   /|    NVIDIA A100-SXM4-40GB. Num GPUs = 1. Max memory: 39.557 GB. Platform: Linux.\n",
            "O^O/ \\_/ \\    Torch: 2.6.0+cu124. CUDA: 8.0. CUDA Toolkit: 12.4. Triton: 3.2.0\n",
            "\\        /    Bfloat16 = TRUE. FA [Xformers = 0.0.29.post3. FA2 = False]\n",
            " \"-____-\"     Free license: http://github.com/unslothai/unsloth\n",
            "Unsloth: Fast downloading is enabled - ignore downloading bars which are red colored!\n",
            "✅ Model loaded successfully!\n",
            "Evaluating on 4182 samples...\n"
          ]
        },
        {
          "name": "stderr",
          "output_type": "stream",
          "text": [
            "Evaluating:   0%|          | 10/4182 [00:19<1:40:54,  1.45s/it]"
          ]
        },
        {
          "name": "stdout",
          "output_type": "stream",
          "text": [
            "Progress: 10/4182 | EM: 40.00% | F1: 60.49%\n"
          ]
        },
        {
          "name": "stderr",
          "output_type": "stream",
          "text": [
            "Evaluating:   0%|          | 20/4182 [00:36<2:00:02,  1.73s/it]"
          ]
        },
        {
          "name": "stdout",
          "output_type": "stream",
          "text": [
            "Progress: 20/4182 | EM: 40.00% | F1: 54.25%\n"
          ]
        },
        {
          "name": "stderr",
          "output_type": "stream",
          "text": [
            "Evaluating:   1%|          | 30/4182 [00:54<1:18:45,  1.14s/it]"
          ]
        },
        {
          "name": "stdout",
          "output_type": "stream",
          "text": [
            "Progress: 30/4182 | EM: 50.00% | F1: 60.61%\n"
          ]
        },
        {
          "name": "stderr",
          "output_type": "stream",
          "text": [
            "Evaluating:   1%|          | 40/4182 [01:15<2:41:40,  2.34s/it]"
          ]
        },
        {
          "name": "stdout",
          "output_type": "stream",
          "text": [
            "Progress: 40/4182 | EM: 45.00% | F1: 53.54%\n"
          ]
        },
        {
          "name": "stderr",
          "output_type": "stream",
          "text": [
            "Evaluating:   1%|          | 50/4182 [01:35<2:08:48,  1.87s/it]"
          ]
        },
        {
          "name": "stdout",
          "output_type": "stream",
          "text": [
            "Progress: 50/4182 | EM: 44.00% | F1: 51.31%\n"
          ]
        },
        {
          "name": "stderr",
          "output_type": "stream",
          "text": [
            "Evaluating:   1%|▏         | 60/4182 [01:59<2:53:11,  2.52s/it]"
          ]
        },
        {
          "name": "stdout",
          "output_type": "stream",
          "text": [
            "Progress: 60/4182 | EM: 45.00% | F1: 53.31%\n"
          ]
        },
        {
          "name": "stderr",
          "output_type": "stream",
          "text": [
            "Evaluating:   2%|▏         | 70/4182 [02:10<1:32:54,  1.36s/it]"
          ]
        },
        {
          "name": "stdout",
          "output_type": "stream",
          "text": [
            "Progress: 70/4182 | EM: 44.29% | F1: 52.04%\n"
          ]
        },
        {
          "name": "stderr",
          "output_type": "stream",
          "text": [
            "Evaluating:   2%|▏         | 80/4182 [02:32<2:47:54,  2.46s/it]"
          ]
        },
        {
          "name": "stdout",
          "output_type": "stream",
          "text": [
            "Progress: 80/4182 | EM: 43.75% | F1: 51.27%\n"
          ]
        },
        {
          "name": "stderr",
          "output_type": "stream",
          "text": [
            "Evaluating:   2%|▏         | 90/4182 [03:03<3:34:38,  3.15s/it]"
          ]
        },
        {
          "name": "stdout",
          "output_type": "stream",
          "text": [
            "Progress: 90/4182 | EM: 38.89% | F1: 46.13%\n"
          ]
        },
        {
          "name": "stderr",
          "output_type": "stream",
          "text": [
            "Evaluating:   2%|▏         | 100/4182 [03:34<3:36:43,  3.19s/it]"
          ]
        },
        {
          "name": "stdout",
          "output_type": "stream",
          "text": [
            "Progress: 100/4182 | EM: 35.00% | F1: 41.82%\n"
          ]
        },
        {
          "name": "stderr",
          "output_type": "stream",
          "text": [
            "Evaluating:   3%|▎         | 110/4182 [04:06<3:35:24,  3.17s/it]"
          ]
        },
        {
          "name": "stdout",
          "output_type": "stream",
          "text": [
            "Progress: 110/4182 | EM: 31.82% | F1: 38.20%\n"
          ]
        },
        {
          "name": "stderr",
          "output_type": "stream",
          "text": [
            "Evaluating:   3%|▎         | 120/4182 [04:38<3:35:00,  3.18s/it]"
          ]
        },
        {
          "name": "stdout",
          "output_type": "stream",
          "text": [
            "Progress: 120/4182 | EM: 29.17% | F1: 35.05%\n"
          ]
        },
        {
          "name": "stderr",
          "output_type": "stream",
          "text": [
            "Evaluating:   3%|▎         | 130/4182 [05:10<3:36:03,  3.20s/it]"
          ]
        },
        {
          "name": "stdout",
          "output_type": "stream",
          "text": [
            "Progress: 130/4182 | EM: 26.92% | F1: 32.59%\n"
          ]
        },
        {
          "name": "stderr",
          "output_type": "stream",
          "text": [
            "Evaluating:   3%|▎         | 140/4182 [05:42<3:35:51,  3.20s/it]"
          ]
        },
        {
          "name": "stdout",
          "output_type": "stream",
          "text": [
            "Progress: 140/4182 | EM: 25.00% | F1: 30.43%\n"
          ]
        },
        {
          "name": "stderr",
          "output_type": "stream",
          "text": [
            "Evaluating:   4%|▎         | 150/4182 [06:14<3:34:13,  3.19s/it]"
          ]
        },
        {
          "name": "stdout",
          "output_type": "stream",
          "text": [
            "Progress: 150/4182 | EM: 23.33% | F1: 28.55%\n"
          ]
        },
        {
          "name": "stderr",
          "output_type": "stream",
          "text": [
            "Evaluating:   4%|▍         | 160/4182 [06:46<3:35:18,  3.21s/it]"
          ]
        },
        {
          "name": "stdout",
          "output_type": "stream",
          "text": [
            "Progress: 160/4182 | EM: 21.88% | F1: 26.94%\n"
          ]
        },
        {
          "name": "stderr",
          "output_type": "stream",
          "text": [
            "Evaluating:   4%|▍         | 170/4182 [07:11<2:41:31,  2.42s/it]"
          ]
        },
        {
          "name": "stdout",
          "output_type": "stream",
          "text": [
            "Progress: 170/4182 | EM: 21.18% | F1: 26.71%\n"
          ]
        },
        {
          "name": "stderr",
          "output_type": "stream",
          "text": [
            "Evaluating:   4%|▍         | 180/4182 [07:35<2:32:11,  2.28s/it]"
          ]
        },
        {
          "name": "stdout",
          "output_type": "stream",
          "text": [
            "Progress: 180/4182 | EM: 22.22% | F1: 27.49%\n"
          ]
        },
        {
          "name": "stderr",
          "output_type": "stream",
          "text": [
            "Evaluating:   5%|▍         | 190/4182 [07:46<1:06:01,  1.01it/s]"
          ]
        },
        {
          "name": "stdout",
          "output_type": "stream",
          "text": [
            "Progress: 190/4182 | EM: 24.21% | F1: 29.26%\n"
          ]
        },
        {
          "name": "stderr",
          "output_type": "stream",
          "text": [
            "Evaluating:   5%|▍         | 200/4182 [08:00<57:23,  1.16it/s]  "
          ]
        },
        {
          "name": "stdout",
          "output_type": "stream",
          "text": [
            "Progress: 200/4182 | EM: 26.00% | F1: 31.04%\n"
          ]
        },
        {
          "name": "stderr",
          "output_type": "stream",
          "text": [
            "Evaluating:   5%|▌         | 210/4182 [08:23<2:48:39,  2.55s/it]"
          ]
        },
        {
          "name": "stdout",
          "output_type": "stream",
          "text": [
            "Progress: 210/4182 | EM: 25.71% | F1: 31.18%\n"
          ]
        },
        {
          "name": "stderr",
          "output_type": "stream",
          "text": [
            "Evaluating:   5%|▌         | 220/4182 [08:51<3:05:10,  2.80s/it]"
          ]
        },
        {
          "name": "stdout",
          "output_type": "stream",
          "text": [
            "Progress: 220/4182 | EM: 26.82% | F1: 32.18%\n"
          ]
        },
        {
          "name": "stderr",
          "output_type": "stream",
          "text": [
            "Evaluating:   5%|▌         | 230/4182 [09:14<2:49:09,  2.57s/it]"
          ]
        },
        {
          "name": "stdout",
          "output_type": "stream",
          "text": [
            "Progress: 230/4182 | EM: 26.96% | F1: 32.27%\n"
          ]
        },
        {
          "name": "stderr",
          "output_type": "stream",
          "text": [
            "Evaluating:   6%|▌         | 240/4182 [09:33<2:09:47,  1.98s/it]"
          ]
        },
        {
          "name": "stdout",
          "output_type": "stream",
          "text": [
            "Progress: 240/4182 | EM: 27.50% | F1: 33.03%\n"
          ]
        },
        {
          "name": "stderr",
          "output_type": "stream",
          "text": [
            "Evaluating:   6%|▌         | 250/4182 [09:54<2:03:26,  1.88s/it]"
          ]
        },
        {
          "name": "stdout",
          "output_type": "stream",
          "text": [
            "Progress: 250/4182 | EM: 27.20% | F1: 33.11%\n"
          ]
        },
        {
          "name": "stderr",
          "output_type": "stream",
          "text": [
            "Evaluating:   6%|▌         | 260/4182 [10:11<2:00:33,  1.84s/it]"
          ]
        },
        {
          "name": "stdout",
          "output_type": "stream",
          "text": [
            "Progress: 260/4182 | EM: 26.92% | F1: 33.01%\n"
          ]
        },
        {
          "name": "stderr",
          "output_type": "stream",
          "text": [
            "Evaluating:   6%|▋         | 270/4182 [10:25<2:01:27,  1.86s/it]"
          ]
        },
        {
          "name": "stdout",
          "output_type": "stream",
          "text": [
            "Progress: 270/4182 | EM: 27.41% | F1: 33.31%\n"
          ]
        },
        {
          "name": "stderr",
          "output_type": "stream",
          "text": [
            "Evaluating:   7%|▋         | 280/4182 [10:43<1:52:24,  1.73s/it]"
          ]
        },
        {
          "name": "stdout",
          "output_type": "stream",
          "text": [
            "Progress: 280/4182 | EM: 27.86% | F1: 33.60%\n"
          ]
        },
        {
          "name": "stderr",
          "output_type": "stream",
          "text": [
            "Evaluating:   7%|▋         | 290/4182 [10:59<2:26:15,  2.25s/it]"
          ]
        },
        {
          "name": "stdout",
          "output_type": "stream",
          "text": [
            "Progress: 290/4182 | EM: 27.24% | F1: 33.47%\n"
          ]
        },
        {
          "name": "stderr",
          "output_type": "stream",
          "text": [
            "Evaluating:   7%|▋         | 300/4182 [11:27<2:52:56,  2.67s/it]"
          ]
        },
        {
          "name": "stdout",
          "output_type": "stream",
          "text": [
            "Progress: 300/4182 | EM: 26.33% | F1: 32.51%\n"
          ]
        },
        {
          "name": "stderr",
          "output_type": "stream",
          "text": [
            "Evaluating:   7%|▋         | 310/4182 [11:50<2:42:57,  2.53s/it]"
          ]
        },
        {
          "name": "stdout",
          "output_type": "stream",
          "text": [
            "Progress: 310/4182 | EM: 26.13% | F1: 32.33%\n"
          ]
        },
        {
          "name": "stderr",
          "output_type": "stream",
          "text": [
            "Evaluating:   8%|▊         | 320/4182 [12:11<2:24:42,  2.25s/it]"
          ]
        },
        {
          "name": "stdout",
          "output_type": "stream",
          "text": [
            "Progress: 320/4182 | EM: 26.88% | F1: 32.89%\n"
          ]
        },
        {
          "name": "stderr",
          "output_type": "stream",
          "text": [
            "Evaluating:   8%|▊         | 330/4182 [12:29<1:59:02,  1.85s/it]"
          ]
        },
        {
          "name": "stdout",
          "output_type": "stream",
          "text": [
            "Progress: 330/4182 | EM: 26.97% | F1: 32.96%\n"
          ]
        },
        {
          "name": "stderr",
          "output_type": "stream",
          "text": [
            "Evaluating:   8%|▊         | 340/4182 [12:50<2:23:22,  2.24s/it]"
          ]
        },
        {
          "name": "stdout",
          "output_type": "stream",
          "text": [
            "Progress: 340/4182 | EM: 27.35% | F1: 33.16%\n"
          ]
        },
        {
          "name": "stderr",
          "output_type": "stream",
          "text": [
            "Evaluating:   8%|▊         | 350/4182 [13:10<1:37:16,  1.52s/it]"
          ]
        },
        {
          "name": "stdout",
          "output_type": "stream",
          "text": [
            "Progress: 350/4182 | EM: 28.86% | F1: 34.64%\n"
          ]
        },
        {
          "name": "stderr",
          "output_type": "stream",
          "text": [
            "Evaluating:   9%|▊         | 360/4182 [13:31<1:52:41,  1.77s/it]"
          ]
        },
        {
          "name": "stdout",
          "output_type": "stream",
          "text": [
            "Progress: 360/4182 | EM: 28.89% | F1: 34.68%\n"
          ]
        },
        {
          "name": "stderr",
          "output_type": "stream",
          "text": [
            "Evaluating:   9%|▉         | 370/4182 [13:53<2:37:53,  2.49s/it]"
          ]
        },
        {
          "name": "stdout",
          "output_type": "stream",
          "text": [
            "Progress: 370/4182 | EM: 28.65% | F1: 34.31%\n"
          ]
        },
        {
          "name": "stderr",
          "output_type": "stream",
          "text": [
            "Evaluating:   9%|▉         | 380/4182 [14:14<2:34:21,  2.44s/it]"
          ]
        },
        {
          "name": "stdout",
          "output_type": "stream",
          "text": [
            "Progress: 380/4182 | EM: 28.16% | F1: 33.93%\n"
          ]
        },
        {
          "name": "stderr",
          "output_type": "stream",
          "text": [
            "Evaluating:   9%|▉         | 390/4182 [14:34<1:58:25,  1.87s/it]"
          ]
        },
        {
          "name": "stdout",
          "output_type": "stream",
          "text": [
            "Progress: 390/4182 | EM: 28.21% | F1: 33.89%\n"
          ]
        },
        {
          "name": "stderr",
          "output_type": "stream",
          "text": [
            "Evaluating:  10%|▉         | 400/4182 [15:00<2:49:11,  2.68s/it]"
          ]
        },
        {
          "name": "stdout",
          "output_type": "stream",
          "text": [
            "Progress: 400/4182 | EM: 28.75% | F1: 34.34%\n"
          ]
        },
        {
          "name": "stderr",
          "output_type": "stream",
          "text": [
            "Evaluating:  10%|▉         | 410/4182 [15:27<2:52:00,  2.74s/it]"
          ]
        },
        {
          "name": "stdout",
          "output_type": "stream",
          "text": [
            "Progress: 410/4182 | EM: 29.27% | F1: 34.86%\n"
          ]
        },
        {
          "name": "stderr",
          "output_type": "stream",
          "text": [
            "Evaluating:  10%|█         | 420/4182 [15:51<2:29:07,  2.38s/it]"
          ]
        },
        {
          "name": "stdout",
          "output_type": "stream",
          "text": [
            "Progress: 420/4182 | EM: 28.81% | F1: 34.45%\n"
          ]
        },
        {
          "name": "stderr",
          "output_type": "stream",
          "text": [
            "Evaluating:  10%|█         | 430/4182 [16:17<2:18:57,  2.22s/it]"
          ]
        },
        {
          "name": "stdout",
          "output_type": "stream",
          "text": [
            "Progress: 430/4182 | EM: 28.84% | F1: 34.50%\n"
          ]
        },
        {
          "name": "stderr",
          "output_type": "stream",
          "text": [
            "Evaluating:  11%|█         | 440/4182 [16:39<2:05:27,  2.01s/it]"
          ]
        },
        {
          "name": "stdout",
          "output_type": "stream",
          "text": [
            "Progress: 440/4182 | EM: 28.86% | F1: 34.64%\n"
          ]
        },
        {
          "name": "stderr",
          "output_type": "stream",
          "text": [
            "Evaluating:  11%|█         | 450/4182 [17:06<2:58:23,  2.87s/it]"
          ]
        },
        {
          "name": "stdout",
          "output_type": "stream",
          "text": [
            "Progress: 450/4182 | EM: 29.11% | F1: 34.97%\n"
          ]
        },
        {
          "name": "stderr",
          "output_type": "stream",
          "text": [
            "Evaluating:  11%|█         | 460/4182 [17:24<2:00:12,  1.94s/it]"
          ]
        },
        {
          "name": "stdout",
          "output_type": "stream",
          "text": [
            "Progress: 460/4182 | EM: 29.35% | F1: 35.44%\n"
          ]
        },
        {
          "name": "stderr",
          "output_type": "stream",
          "text": [
            "Evaluating:  11%|█         | 470/4182 [17:33<1:48:36,  1.76s/it]"
          ]
        },
        {
          "name": "stdout",
          "output_type": "stream",
          "text": [
            "Progress: 470/4182 | EM: 30.43% | F1: 36.41%\n"
          ]
        },
        {
          "name": "stderr",
          "output_type": "stream",
          "text": [
            "Evaluating:  11%|█▏        | 480/4182 [17:54<1:43:35,  1.68s/it]"
          ]
        },
        {
          "name": "stdout",
          "output_type": "stream",
          "text": [
            "Progress: 480/4182 | EM: 31.04% | F1: 36.94%\n"
          ]
        },
        {
          "name": "stderr",
          "output_type": "stream",
          "text": [
            "Evaluating:  12%|█▏        | 490/4182 [18:07<1:29:22,  1.45s/it]"
          ]
        },
        {
          "name": "stdout",
          "output_type": "stream",
          "text": [
            "Progress: 490/4182 | EM: 31.84% | F1: 37.74%\n"
          ]
        },
        {
          "name": "stderr",
          "output_type": "stream",
          "text": [
            "Evaluating:  12%|█▏        | 500/4182 [18:31<2:43:45,  2.67s/it]"
          ]
        },
        {
          "name": "stdout",
          "output_type": "stream",
          "text": [
            "Progress: 500/4182 | EM: 31.40% | F1: 37.40%\n"
          ]
        },
        {
          "name": "stderr",
          "output_type": "stream",
          "text": [
            "Evaluating:  12%|█▏        | 510/4182 [18:55<2:32:17,  2.49s/it]"
          ]
        },
        {
          "name": "stdout",
          "output_type": "stream",
          "text": [
            "Progress: 510/4182 | EM: 31.96% | F1: 37.89%\n"
          ]
        },
        {
          "name": "stderr",
          "output_type": "stream",
          "text": [
            "Evaluating:  12%|█▏        | 520/4182 [19:15<1:23:25,  1.37s/it]"
          ]
        },
        {
          "name": "stdout",
          "output_type": "stream",
          "text": [
            "Progress: 520/4182 | EM: 31.73% | F1: 37.57%\n"
          ]
        },
        {
          "name": "stderr",
          "output_type": "stream",
          "text": [
            "Evaluating:  13%|█▎        | 530/4182 [19:40<2:39:27,  2.62s/it]"
          ]
        },
        {
          "name": "stdout",
          "output_type": "stream",
          "text": [
            "Progress: 530/4182 | EM: 31.89% | F1: 37.63%\n"
          ]
        },
        {
          "name": "stderr",
          "output_type": "stream",
          "text": [
            "Evaluating:  13%|█▎        | 540/4182 [20:03<2:29:24,  2.46s/it]"
          ]
        },
        {
          "name": "stdout",
          "output_type": "stream",
          "text": [
            "Progress: 540/4182 | EM: 31.85% | F1: 37.59%\n"
          ]
        },
        {
          "name": "stderr",
          "output_type": "stream",
          "text": [
            "Evaluating:  13%|█▎        | 550/4182 [20:28<2:26:55,  2.43s/it]"
          ]
        },
        {
          "name": "stdout",
          "output_type": "stream",
          "text": [
            "Progress: 550/4182 | EM: 31.64% | F1: 37.49%\n"
          ]
        },
        {
          "name": "stderr",
          "output_type": "stream",
          "text": [
            "Evaluating:  13%|█▎        | 560/4182 [20:54<2:33:06,  2.54s/it]"
          ]
        },
        {
          "name": "stdout",
          "output_type": "stream",
          "text": [
            "Progress: 560/4182 | EM: 31.43% | F1: 37.32%\n"
          ]
        },
        {
          "name": "stderr",
          "output_type": "stream",
          "text": [
            "Evaluating:  14%|█▎        | 570/4182 [21:19<2:30:59,  2.51s/it]"
          ]
        },
        {
          "name": "stdout",
          "output_type": "stream",
          "text": [
            "Progress: 570/4182 | EM: 31.40% | F1: 37.20%\n"
          ]
        },
        {
          "name": "stderr",
          "output_type": "stream",
          "text": [
            "Evaluating:  14%|█▍        | 580/4182 [21:47<2:59:30,  2.99s/it]"
          ]
        },
        {
          "name": "stdout",
          "output_type": "stream",
          "text": [
            "Progress: 580/4182 | EM: 31.21% | F1: 36.92%\n"
          ]
        },
        {
          "name": "stderr",
          "output_type": "stream",
          "text": [
            "Evaluating:  14%|█▍        | 590/4182 [22:18<3:00:59,  3.02s/it]"
          ]
        },
        {
          "name": "stdout",
          "output_type": "stream",
          "text": [
            "Progress: 590/4182 | EM: 30.85% | F1: 36.51%\n"
          ]
        },
        {
          "name": "stderr",
          "output_type": "stream",
          "text": [
            "Evaluating:  14%|█▍        | 600/4182 [22:48<3:00:23,  3.02s/it]"
          ]
        },
        {
          "name": "stdout",
          "output_type": "stream",
          "text": [
            "Progress: 600/4182 | EM: 30.50% | F1: 36.08%\n"
          ]
        },
        {
          "name": "stderr",
          "output_type": "stream",
          "text": [
            "Evaluating:  15%|█▍        | 610/4182 [23:18<2:59:10,  3.01s/it]"
          ]
        },
        {
          "name": "stdout",
          "output_type": "stream",
          "text": [
            "Progress: 610/4182 | EM: 30.16% | F1: 35.69%\n"
          ]
        },
        {
          "name": "stderr",
          "output_type": "stream",
          "text": [
            "Evaluating:  15%|█▍        | 620/4182 [23:46<2:47:13,  2.82s/it]"
          ]
        },
        {
          "name": "stdout",
          "output_type": "stream",
          "text": [
            "Progress: 620/4182 | EM: 29.84% | F1: 35.36%\n"
          ]
        },
        {
          "name": "stderr",
          "output_type": "stream",
          "text": [
            "Evaluating:  15%|█▌        | 630/4182 [24:15<2:53:39,  2.93s/it]"
          ]
        },
        {
          "name": "stdout",
          "output_type": "stream",
          "text": [
            "Progress: 630/4182 | EM: 30.00% | F1: 35.59%\n"
          ]
        },
        {
          "name": "stderr",
          "output_type": "stream",
          "text": [
            "Evaluating:  15%|█▌        | 640/4182 [24:39<2:34:33,  2.62s/it]"
          ]
        },
        {
          "name": "stdout",
          "output_type": "stream",
          "text": [
            "Progress: 640/4182 | EM: 29.53% | F1: 35.14%\n"
          ]
        },
        {
          "name": "stderr",
          "output_type": "stream",
          "text": [
            "Evaluating:  16%|█▌        | 650/4182 [25:07<2:47:44,  2.85s/it]"
          ]
        },
        {
          "name": "stdout",
          "output_type": "stream",
          "text": [
            "Progress: 650/4182 | EM: 29.38% | F1: 34.93%\n"
          ]
        },
        {
          "name": "stderr",
          "output_type": "stream",
          "text": [
            "Evaluating:  16%|█▌        | 660/4182 [25:35<2:40:53,  2.74s/it]"
          ]
        },
        {
          "name": "stdout",
          "output_type": "stream",
          "text": [
            "Progress: 660/4182 | EM: 29.39% | F1: 34.99%\n"
          ]
        },
        {
          "name": "stderr",
          "output_type": "stream",
          "text": [
            "Evaluating:  16%|█▌        | 670/4182 [26:00<2:35:10,  2.65s/it]"
          ]
        },
        {
          "name": "stdout",
          "output_type": "stream",
          "text": [
            "Progress: 670/4182 | EM: 29.55% | F1: 35.32%\n"
          ]
        },
        {
          "name": "stderr",
          "output_type": "stream",
          "text": [
            "Evaluating:  16%|█▋        | 680/4182 [26:19<1:01:10,  1.05s/it]"
          ]
        },
        {
          "name": "stdout",
          "output_type": "stream",
          "text": [
            "Progress: 680/4182 | EM: 29.85% | F1: 35.58%\n"
          ]
        },
        {
          "name": "stderr",
          "output_type": "stream",
          "text": [
            "Evaluating:  16%|█▋        | 690/4182 [26:38<1:55:00,  1.98s/it]"
          ]
        },
        {
          "name": "stdout",
          "output_type": "stream",
          "text": [
            "Progress: 690/4182 | EM: 29.86% | F1: 35.60%\n"
          ]
        },
        {
          "name": "stderr",
          "output_type": "stream",
          "text": [
            "Evaluating:  17%|█▋        | 700/4182 [27:03<2:32:13,  2.62s/it]"
          ]
        },
        {
          "name": "stdout",
          "output_type": "stream",
          "text": [
            "Progress: 700/4182 | EM: 29.71% | F1: 35.45%\n"
          ]
        },
        {
          "name": "stderr",
          "output_type": "stream",
          "text": [
            "Evaluating:  17%|█▋        | 710/4182 [27:23<1:37:25,  1.68s/it]"
          ]
        },
        {
          "name": "stdout",
          "output_type": "stream",
          "text": [
            "Progress: 710/4182 | EM: 29.58% | F1: 35.44%\n"
          ]
        },
        {
          "name": "stderr",
          "output_type": "stream",
          "text": [
            "Evaluating:  17%|█▋        | 720/4182 [27:46<2:15:12,  2.34s/it]"
          ]
        },
        {
          "name": "stdout",
          "output_type": "stream",
          "text": [
            "Progress: 720/4182 | EM: 29.44% | F1: 35.41%\n"
          ]
        },
        {
          "name": "stderr",
          "output_type": "stream",
          "text": [
            "Evaluating:  17%|█▋        | 730/4182 [28:04<1:44:54,  1.82s/it]"
          ]
        },
        {
          "name": "stdout",
          "output_type": "stream",
          "text": [
            "Progress: 730/4182 | EM: 29.45% | F1: 35.42%\n"
          ]
        },
        {
          "name": "stderr",
          "output_type": "stream",
          "text": [
            "Evaluating:  18%|█▊        | 740/4182 [28:33<2:49:31,  2.96s/it]"
          ]
        },
        {
          "name": "stdout",
          "output_type": "stream",
          "text": [
            "Progress: 740/4182 | EM: 29.32% | F1: 35.30%\n"
          ]
        },
        {
          "name": "stderr",
          "output_type": "stream",
          "text": [
            "Evaluating:  18%|█▊        | 750/4182 [29:05<3:02:23,  3.19s/it]"
          ]
        },
        {
          "name": "stdout",
          "output_type": "stream",
          "text": [
            "Progress: 750/4182 | EM: 28.93% | F1: 34.87%\n"
          ]
        },
        {
          "name": "stderr",
          "output_type": "stream",
          "text": [
            "Evaluating:  18%|█▊        | 760/4182 [29:36<3:01:40,  3.19s/it]"
          ]
        },
        {
          "name": "stdout",
          "output_type": "stream",
          "text": [
            "Progress: 760/4182 | EM: 28.55% | F1: 34.47%\n"
          ]
        },
        {
          "name": "stderr",
          "output_type": "stream",
          "text": [
            "Evaluating:  18%|█▊        | 770/4182 [30:08<3:01:46,  3.20s/it]"
          ]
        },
        {
          "name": "stdout",
          "output_type": "stream",
          "text": [
            "Progress: 770/4182 | EM: 28.18% | F1: 34.12%\n"
          ]
        },
        {
          "name": "stderr",
          "output_type": "stream",
          "text": [
            "Evaluating:  19%|█▊        | 780/4182 [30:39<2:33:36,  2.71s/it]"
          ]
        },
        {
          "name": "stdout",
          "output_type": "stream",
          "text": [
            "Progress: 780/4182 | EM: 27.82% | F1: 33.76%\n"
          ]
        },
        {
          "name": "stderr",
          "output_type": "stream",
          "text": [
            "Evaluating:  19%|█▉        | 790/4182 [31:00<1:48:43,  1.92s/it]"
          ]
        },
        {
          "name": "stdout",
          "output_type": "stream",
          "text": [
            "Progress: 790/4182 | EM: 28.10% | F1: 34.13%\n"
          ]
        },
        {
          "name": "stderr",
          "output_type": "stream",
          "text": [
            "Evaluating:  19%|█▉        | 800/4182 [31:16<2:00:10,  2.13s/it]"
          ]
        },
        {
          "name": "stdout",
          "output_type": "stream",
          "text": [
            "Progress: 800/4182 | EM: 28.62% | F1: 34.68%\n"
          ]
        },
        {
          "name": "stderr",
          "output_type": "stream",
          "text": [
            "Evaluating:  19%|█▉        | 810/4182 [31:36<2:10:07,  2.32s/it]"
          ]
        },
        {
          "name": "stdout",
          "output_type": "stream",
          "text": [
            "Progress: 810/4182 | EM: 29.38% | F1: 35.36%\n"
          ]
        },
        {
          "name": "stderr",
          "output_type": "stream",
          "text": [
            "Evaluating:  20%|█▉        | 820/4182 [31:53<1:15:30,  1.35s/it]"
          ]
        },
        {
          "name": "stdout",
          "output_type": "stream",
          "text": [
            "Progress: 820/4182 | EM: 30.12% | F1: 36.03%\n"
          ]
        },
        {
          "name": "stderr",
          "output_type": "stream",
          "text": [
            "Evaluating:  20%|█▉        | 830/4182 [32:26<2:57:10,  3.17s/it]"
          ]
        },
        {
          "name": "stdout",
          "output_type": "stream",
          "text": [
            "Progress: 830/4182 | EM: 29.76% | F1: 35.62%\n"
          ]
        },
        {
          "name": "stderr",
          "output_type": "stream",
          "text": [
            "Evaluating:  20%|██        | 840/4182 [32:58<3:01:58,  3.27s/it]"
          ]
        },
        {
          "name": "stdout",
          "output_type": "stream",
          "text": [
            "Progress: 840/4182 | EM: 29.40% | F1: 35.24%\n"
          ]
        },
        {
          "name": "stderr",
          "output_type": "stream",
          "text": [
            "Evaluating:  20%|██        | 850/4182 [33:31<3:01:45,  3.27s/it]"
          ]
        },
        {
          "name": "stdout",
          "output_type": "stream",
          "text": [
            "Progress: 850/4182 | EM: 29.06% | F1: 34.83%\n"
          ]
        },
        {
          "name": "stderr",
          "output_type": "stream",
          "text": [
            "Evaluating:  21%|██        | 860/4182 [34:04<3:00:46,  3.26s/it]"
          ]
        },
        {
          "name": "stdout",
          "output_type": "stream",
          "text": [
            "Progress: 860/4182 | EM: 28.72% | F1: 34.43%\n"
          ]
        },
        {
          "name": "stderr",
          "output_type": "stream",
          "text": [
            "Evaluating:  21%|██        | 870/4182 [34:34<2:46:41,  3.02s/it]"
          ]
        },
        {
          "name": "stdout",
          "output_type": "stream",
          "text": [
            "Progress: 870/4182 | EM: 28.39% | F1: 34.11%\n"
          ]
        },
        {
          "name": "stderr",
          "output_type": "stream",
          "text": [
            "Evaluating:  21%|██        | 880/4182 [35:03<2:36:46,  2.85s/it]"
          ]
        },
        {
          "name": "stdout",
          "output_type": "stream",
          "text": [
            "Progress: 880/4182 | EM: 28.07% | F1: 33.74%\n"
          ]
        },
        {
          "name": "stderr",
          "output_type": "stream",
          "text": [
            "Evaluating:  21%|██▏       | 890/4182 [35:35<2:55:33,  3.20s/it]"
          ]
        },
        {
          "name": "stdout",
          "output_type": "stream",
          "text": [
            "Progress: 890/4182 | EM: 27.75% | F1: 33.37%\n"
          ]
        },
        {
          "name": "stderr",
          "output_type": "stream",
          "text": [
            "Evaluating:  22%|██▏       | 900/4182 [36:04<2:28:37,  2.72s/it]"
          ]
        },
        {
          "name": "stdout",
          "output_type": "stream",
          "text": [
            "Progress: 900/4182 | EM: 27.44% | F1: 33.01%\n"
          ]
        },
        {
          "name": "stderr",
          "output_type": "stream",
          "text": [
            "Evaluating:  22%|██▏       | 910/4182 [36:26<1:27:57,  1.61s/it]"
          ]
        },
        {
          "name": "stdout",
          "output_type": "stream",
          "text": [
            "Progress: 910/4182 | EM: 27.36% | F1: 32.92%\n"
          ]
        },
        {
          "name": "stderr",
          "output_type": "stream",
          "text": [
            "Evaluating:  22%|██▏       | 920/4182 [36:38<32:38,  1.67it/s]"
          ]
        },
        {
          "name": "stdout",
          "output_type": "stream",
          "text": [
            "Progress: 920/4182 | EM: 27.83% | F1: 33.33%\n"
          ]
        },
        {
          "name": "stderr",
          "output_type": "stream",
          "text": [
            "Evaluating:  22%|██▏       | 930/4182 [36:51<1:13:14,  1.35s/it]"
          ]
        },
        {
          "name": "stdout",
          "output_type": "stream",
          "text": [
            "Progress: 930/4182 | EM: 27.85% | F1: 33.35%\n"
          ]
        },
        {
          "name": "stderr",
          "output_type": "stream",
          "text": [
            "Evaluating:  22%|██▏       | 940/4182 [36:59<1:03:57,  1.18s/it]"
          ]
        },
        {
          "name": "stdout",
          "output_type": "stream",
          "text": [
            "Progress: 940/4182 | EM: 28.19% | F1: 33.71%\n"
          ]
        },
        {
          "name": "stderr",
          "output_type": "stream",
          "text": [
            "Evaluating:  23%|██▎       | 950/4182 [37:20<1:33:48,  1.74s/it]"
          ]
        },
        {
          "name": "stdout",
          "output_type": "stream",
          "text": [
            "Progress: 950/4182 | EM: 28.21% | F1: 33.78%\n"
          ]
        },
        {
          "name": "stderr",
          "output_type": "stream",
          "text": [
            "Evaluating:  23%|██▎       | 960/4182 [37:44<1:43:54,  1.94s/it]"
          ]
        },
        {
          "name": "stdout",
          "output_type": "stream",
          "text": [
            "Progress: 960/4182 | EM: 28.54% | F1: 34.06%\n"
          ]
        },
        {
          "name": "stderr",
          "output_type": "stream",
          "text": [
            "Evaluating:  23%|██▎       | 970/4182 [38:04<1:36:21,  1.80s/it]"
          ]
        },
        {
          "name": "stdout",
          "output_type": "stream",
          "text": [
            "Progress: 970/4182 | EM: 28.76% | F1: 34.32%\n"
          ]
        },
        {
          "name": "stderr",
          "output_type": "stream",
          "text": [
            "Evaluating:  23%|██▎       | 980/4182 [38:26<2:03:43,  2.32s/it]"
          ]
        },
        {
          "name": "stdout",
          "output_type": "stream",
          "text": [
            "Progress: 980/4182 | EM: 28.98% | F1: 34.63%\n"
          ]
        },
        {
          "name": "stderr",
          "output_type": "stream",
          "text": [
            "Evaluating:  24%|██▎       | 990/4182 [38:56<2:45:21,  3.11s/it]"
          ]
        },
        {
          "name": "stdout",
          "output_type": "stream",
          "text": [
            "Progress: 990/4182 | EM: 28.89% | F1: 34.53%\n"
          ]
        },
        {
          "name": "stderr",
          "output_type": "stream",
          "text": [
            "Evaluating:  24%|██▍       | 1000/4182 [39:27<2:48:23,  3.18s/it]"
          ]
        },
        {
          "name": "stdout",
          "output_type": "stream",
          "text": [
            "Progress: 1000/4182 | EM: 28.60% | F1: 34.22%\n"
          ]
        },
        {
          "name": "stderr",
          "output_type": "stream",
          "text": [
            "Evaluating:  24%|██▍       | 1010/4182 [39:59<2:47:55,  3.18s/it]"
          ]
        },
        {
          "name": "stdout",
          "output_type": "stream",
          "text": [
            "Progress: 1010/4182 | EM: 28.32% | F1: 33.93%\n"
          ]
        },
        {
          "name": "stderr",
          "output_type": "stream",
          "text": [
            "Evaluating:  24%|██▍       | 1020/4182 [40:31<2:47:41,  3.18s/it]"
          ]
        },
        {
          "name": "stdout",
          "output_type": "stream",
          "text": [
            "Progress: 1020/4182 | EM: 28.04% | F1: 33.60%\n"
          ]
        },
        {
          "name": "stderr",
          "output_type": "stream",
          "text": [
            "Evaluating:  25%|██▍       | 1030/4182 [40:56<2:19:26,  2.65s/it]"
          ]
        },
        {
          "name": "stdout",
          "output_type": "stream",
          "text": [
            "Progress: 1030/4182 | EM: 27.86% | F1: 33.43%\n"
          ]
        },
        {
          "name": "stderr",
          "output_type": "stream",
          "text": [
            "Evaluating:  25%|██▍       | 1040/4182 [41:18<1:49:59,  2.10s/it]"
          ]
        },
        {
          "name": "stdout",
          "output_type": "stream",
          "text": [
            "Progress: 1040/4182 | EM: 27.69% | F1: 33.36%\n"
          ]
        },
        {
          "name": "stderr",
          "output_type": "stream",
          "text": [
            "Evaluating:  25%|██▌       | 1050/4182 [41:44<2:11:55,  2.53s/it]"
          ]
        },
        {
          "name": "stdout",
          "output_type": "stream",
          "text": [
            "Progress: 1050/4182 | EM: 27.52% | F1: 33.25%\n"
          ]
        },
        {
          "name": "stderr",
          "output_type": "stream",
          "text": [
            "Evaluating:  25%|██▌       | 1060/4182 [42:09<2:12:32,  2.55s/it]"
          ]
        },
        {
          "name": "stdout",
          "output_type": "stream",
          "text": [
            "Progress: 1060/4182 | EM: 27.55% | F1: 33.25%\n"
          ]
        },
        {
          "name": "stderr",
          "output_type": "stream",
          "text": [
            "Evaluating:  26%|██▌       | 1070/4182 [42:36<2:29:15,  2.88s/it]"
          ]
        },
        {
          "name": "stdout",
          "output_type": "stream",
          "text": [
            "Progress: 1070/4182 | EM: 27.29% | F1: 33.04%\n"
          ]
        },
        {
          "name": "stderr",
          "output_type": "stream",
          "text": [
            "Evaluating:  26%|██▌       | 1080/4182 [43:08<2:40:06,  3.10s/it]"
          ]
        },
        {
          "name": "stdout",
          "output_type": "stream",
          "text": [
            "Progress: 1080/4182 | EM: 27.04% | F1: 32.75%\n"
          ]
        },
        {
          "name": "stderr",
          "output_type": "stream",
          "text": [
            "Evaluating:  26%|██▌       | 1090/4182 [43:38<2:38:33,  3.08s/it]"
          ]
        },
        {
          "name": "stdout",
          "output_type": "stream",
          "text": [
            "Progress: 1090/4182 | EM: 26.79% | F1: 32.46%\n"
          ]
        },
        {
          "name": "stderr",
          "output_type": "stream",
          "text": [
            "Evaluating:  26%|██▋       | 1100/4182 [44:10<2:39:30,  3.11s/it]"
          ]
        },
        {
          "name": "stdout",
          "output_type": "stream",
          "text": [
            "Progress: 1100/4182 | EM: 26.64% | F1: 32.26%\n"
          ]
        },
        {
          "name": "stderr",
          "output_type": "stream",
          "text": [
            "Evaluating:  27%|██▋       | 1110/4182 [44:37<1:53:06,  2.21s/it]"
          ]
        },
        {
          "name": "stdout",
          "output_type": "stream",
          "text": [
            "Progress: 1110/4182 | EM: 26.40% | F1: 32.04%\n"
          ]
        },
        {
          "name": "stderr",
          "output_type": "stream",
          "text": [
            "Evaluating:  27%|██▋       | 1120/4182 [44:53<57:17,  1.12s/it]  "
          ]
        },
        {
          "name": "stdout",
          "output_type": "stream",
          "text": [
            "Progress: 1120/4182 | EM: 26.34% | F1: 32.00%\n"
          ]
        },
        {
          "name": "stderr",
          "output_type": "stream",
          "text": [
            "Evaluating:  27%|██▋       | 1130/4182 [45:10<1:36:50,  1.90s/it]"
          ]
        },
        {
          "name": "stdout",
          "output_type": "stream",
          "text": [
            "Progress: 1130/4182 | EM: 26.19% | F1: 31.92%\n"
          ]
        },
        {
          "name": "stderr",
          "output_type": "stream",
          "text": [
            "Evaluating:  27%|██▋       | 1140/4182 [45:17<1:10:54,  1.40s/it]"
          ]
        },
        {
          "name": "stdout",
          "output_type": "stream",
          "text": [
            "Progress: 1140/4182 | EM: 26.32% | F1: 32.04%\n"
          ]
        },
        {
          "name": "stderr",
          "output_type": "stream",
          "text": [
            "Evaluating:  27%|██▋       | 1150/4182 [45:34<1:47:02,  2.12s/it]"
          ]
        },
        {
          "name": "stdout",
          "output_type": "stream",
          "text": [
            "Progress: 1150/4182 | EM: 26.43% | F1: 32.13%\n"
          ]
        },
        {
          "name": "stderr",
          "output_type": "stream",
          "text": [
            "Evaluating:  28%|██▊       | 1160/4182 [46:05<2:34:54,  3.08s/it]"
          ]
        },
        {
          "name": "stdout",
          "output_type": "stream",
          "text": [
            "Progress: 1160/4182 | EM: 26.21% | F1: 31.88%\n"
          ]
        },
        {
          "name": "stderr",
          "output_type": "stream",
          "text": [
            "Evaluating:  28%|██▊       | 1170/4182 [46:36<2:35:17,  3.09s/it]"
          ]
        },
        {
          "name": "stdout",
          "output_type": "stream",
          "text": [
            "Progress: 1170/4182 | EM: 25.98% | F1: 31.60%\n"
          ]
        },
        {
          "name": "stderr",
          "output_type": "stream",
          "text": [
            "Evaluating:  28%|██▊       | 1180/4182 [47:07<2:35:30,  3.11s/it]"
          ]
        },
        {
          "name": "stdout",
          "output_type": "stream",
          "text": [
            "Progress: 1180/4182 | EM: 25.76% | F1: 31.34%\n"
          ]
        },
        {
          "name": "stderr",
          "output_type": "stream",
          "text": [
            "Evaluating:  28%|██▊       | 1190/4182 [47:38<2:28:23,  2.98s/it]"
          ]
        },
        {
          "name": "stdout",
          "output_type": "stream",
          "text": [
            "Progress: 1190/4182 | EM: 25.55% | F1: 31.14%\n"
          ]
        },
        {
          "name": "stderr",
          "output_type": "stream",
          "text": [
            "Evaluating:  29%|██▊       | 1200/4182 [48:03<2:01:45,  2.45s/it]"
          ]
        },
        {
          "name": "stdout",
          "output_type": "stream",
          "text": [
            "Progress: 1200/4182 | EM: 25.42% | F1: 31.11%\n"
          ]
        },
        {
          "name": "stderr",
          "output_type": "stream",
          "text": [
            "Evaluating:  29%|██▉       | 1210/4182 [48:27<2:07:03,  2.56s/it]"
          ]
        },
        {
          "name": "stdout",
          "output_type": "stream",
          "text": [
            "Progress: 1210/4182 | EM: 25.45% | F1: 31.24%\n"
          ]
        },
        {
          "name": "stderr",
          "output_type": "stream",
          "text": [
            "Evaluating:  29%|██▉       | 1220/4182 [48:48<1:49:54,  2.23s/it]"
          ]
        },
        {
          "name": "stdout",
          "output_type": "stream",
          "text": [
            "Progress: 1220/4182 | EM: 25.74% | F1: 31.54%\n"
          ]
        },
        {
          "name": "stderr",
          "output_type": "stream",
          "text": [
            "Evaluating:  29%|██▉       | 1230/4182 [49:11<1:54:21,  2.32s/it]"
          ]
        },
        {
          "name": "stdout",
          "output_type": "stream",
          "text": [
            "Progress: 1230/4182 | EM: 26.02% | F1: 31.87%\n"
          ]
        },
        {
          "name": "stderr",
          "output_type": "stream",
          "text": [
            "Evaluating:  30%|██▉       | 1240/4182 [49:42<2:30:24,  3.07s/it]"
          ]
        },
        {
          "name": "stdout",
          "output_type": "stream",
          "text": [
            "Progress: 1240/4182 | EM: 25.81% | F1: 31.66%\n"
          ]
        },
        {
          "name": "stderr",
          "output_type": "stream",
          "text": [
            "Evaluating:  30%|██▉       | 1250/4182 [50:13<2:31:20,  3.10s/it]"
          ]
        },
        {
          "name": "stdout",
          "output_type": "stream",
          "text": [
            "Progress: 1250/4182 | EM: 25.60% | F1: 31.41%\n"
          ]
        },
        {
          "name": "stderr",
          "output_type": "stream",
          "text": [
            "Evaluating:  30%|███       | 1260/4182 [50:44<2:30:46,  3.10s/it]"
          ]
        },
        {
          "name": "stdout",
          "output_type": "stream",
          "text": [
            "Progress: 1260/4182 | EM: 25.40% | F1: 31.17%\n"
          ]
        },
        {
          "name": "stderr",
          "output_type": "stream",
          "text": [
            "Evaluating:  30%|███       | 1270/4182 [51:14<2:29:49,  3.09s/it]"
          ]
        },
        {
          "name": "stdout",
          "output_type": "stream",
          "text": [
            "Progress: 1270/4182 | EM: 25.20% | F1: 30.93%\n"
          ]
        },
        {
          "name": "stderr",
          "output_type": "stream",
          "text": [
            "Evaluating:  31%|███       | 1280/4182 [51:46<2:31:44,  3.14s/it]"
          ]
        },
        {
          "name": "stdout",
          "output_type": "stream",
          "text": [
            "Progress: 1280/4182 | EM: 25.00% | F1: 30.69%\n"
          ]
        },
        {
          "name": "stderr",
          "output_type": "stream",
          "text": [
            "Evaluating:  31%|███       | 1290/4182 [52:17<2:31:17,  3.14s/it]"
          ]
        },
        {
          "name": "stdout",
          "output_type": "stream",
          "text": [
            "Progress: 1290/4182 | EM: 24.81% | F1: 30.46%\n"
          ]
        },
        {
          "name": "stderr",
          "output_type": "stream",
          "text": [
            "Evaluating:  31%|███       | 1300/4182 [52:48<2:30:30,  3.13s/it]"
          ]
        },
        {
          "name": "stdout",
          "output_type": "stream",
          "text": [
            "Progress: 1300/4182 | EM: 24.62% | F1: 30.28%\n"
          ]
        },
        {
          "name": "stderr",
          "output_type": "stream",
          "text": [
            "Evaluating:  31%|███▏      | 1310/4182 [53:20<2:30:27,  3.14s/it]"
          ]
        },
        {
          "name": "stdout",
          "output_type": "stream",
          "text": [
            "Progress: 1310/4182 | EM: 24.43% | F1: 30.10%\n"
          ]
        },
        {
          "name": "stderr",
          "output_type": "stream",
          "text": [
            "Evaluating:  32%|███▏      | 1320/4182 [53:45<1:48:33,  2.28s/it]"
          ]
        },
        {
          "name": "stdout",
          "output_type": "stream",
          "text": [
            "Progress: 1320/4182 | EM: 24.39% | F1: 30.06%\n"
          ]
        },
        {
          "name": "stderr",
          "output_type": "stream",
          "text": [
            "Evaluating:  32%|███▏      | 1330/4182 [54:10<2:07:47,  2.69s/it]"
          ]
        },
        {
          "name": "stdout",
          "output_type": "stream",
          "text": [
            "Progress: 1330/4182 | EM: 24.36% | F1: 30.04%\n"
          ]
        },
        {
          "name": "stderr",
          "output_type": "stream",
          "text": [
            "Evaluating:  32%|███▏      | 1340/4182 [54:30<1:52:54,  2.38s/it]"
          ]
        },
        {
          "name": "stdout",
          "output_type": "stream",
          "text": [
            "Progress: 1340/4182 | EM: 24.48% | F1: 30.12%\n"
          ]
        },
        {
          "name": "stderr",
          "output_type": "stream",
          "text": [
            "Evaluating:  32%|███▏      | 1350/4182 [54:57<2:08:38,  2.73s/it]"
          ]
        },
        {
          "name": "stdout",
          "output_type": "stream",
          "text": [
            "Progress: 1350/4182 | EM: 24.67% | F1: 30.31%\n"
          ]
        },
        {
          "name": "stderr",
          "output_type": "stream",
          "text": [
            "Evaluating:  33%|███▎      | 1360/4182 [55:18<1:47:53,  2.29s/it]"
          ]
        },
        {
          "name": "stdout",
          "output_type": "stream",
          "text": [
            "Progress: 1360/4182 | EM: 24.78% | F1: 30.39%\n"
          ]
        },
        {
          "name": "stderr",
          "output_type": "stream",
          "text": [
            "Evaluating:  33%|███▎      | 1370/4182 [55:34<35:26,  1.32it/s]"
          ]
        },
        {
          "name": "stdout",
          "output_type": "stream",
          "text": [
            "Progress: 1370/4182 | EM: 25.11% | F1: 30.71%\n"
          ]
        },
        {
          "name": "stderr",
          "output_type": "stream",
          "text": [
            "Evaluating:  33%|███▎      | 1380/4182 [55:49<49:44,  1.07s/it]"
          ]
        },
        {
          "name": "stdout",
          "output_type": "stream",
          "text": [
            "Progress: 1380/4182 | EM: 25.22% | F1: 30.78%\n"
          ]
        },
        {
          "name": "stderr",
          "output_type": "stream",
          "text": [
            "Evaluating:  33%|███▎      | 1390/4182 [56:05<1:35:13,  2.05s/it]"
          ]
        },
        {
          "name": "stdout",
          "output_type": "stream",
          "text": [
            "Progress: 1390/4182 | EM: 25.47% | F1: 31.03%\n"
          ]
        },
        {
          "name": "stderr",
          "output_type": "stream",
          "text": [
            "Evaluating:  33%|███▎      | 1400/4182 [56:22<1:20:15,  1.73s/it]"
          ]
        },
        {
          "name": "stdout",
          "output_type": "stream",
          "text": [
            "Progress: 1400/4182 | EM: 25.57% | F1: 31.12%\n"
          ]
        },
        {
          "name": "stderr",
          "output_type": "stream",
          "text": [
            "Evaluating:  34%|███▎      | 1410/4182 [56:40<1:40:47,  2.18s/it]"
          ]
        },
        {
          "name": "stdout",
          "output_type": "stream",
          "text": [
            "Progress: 1410/4182 | EM: 25.96% | F1: 31.49%\n"
          ]
        },
        {
          "name": "stderr",
          "output_type": "stream",
          "text": [
            "Evaluating:  34%|███▍      | 1420/4182 [56:57<1:48:06,  2.35s/it]"
          ]
        },
        {
          "name": "stdout",
          "output_type": "stream",
          "text": [
            "Progress: 1420/4182 | EM: 26.48% | F1: 31.97%\n"
          ]
        },
        {
          "name": "stderr",
          "output_type": "stream",
          "text": [
            "Evaluating:  34%|███▍      | 1430/4182 [57:10<30:01,  1.53it/s]"
          ]
        },
        {
          "name": "stdout",
          "output_type": "stream",
          "text": [
            "Progress: 1430/4182 | EM: 26.92% | F1: 32.40%\n"
          ]
        },
        {
          "name": "stderr",
          "output_type": "stream",
          "text": [
            "Evaluating:  34%|███▍      | 1440/4182 [57:30<1:34:34,  2.07s/it]"
          ]
        },
        {
          "name": "stdout",
          "output_type": "stream",
          "text": [
            "Progress: 1440/4182 | EM: 27.08% | F1: 32.61%\n"
          ]
        },
        {
          "name": "stderr",
          "output_type": "stream",
          "text": [
            "Evaluating:  35%|███▍      | 1450/4182 [57:54<1:36:25,  2.12s/it]"
          ]
        },
        {
          "name": "stdout",
          "output_type": "stream",
          "text": [
            "Progress: 1450/4182 | EM: 27.31% | F1: 32.82%\n"
          ]
        },
        {
          "name": "stderr",
          "output_type": "stream",
          "text": [
            "Evaluating:  35%|███▍      | 1460/4182 [58:10<1:02:18,  1.37s/it]"
          ]
        },
        {
          "name": "stdout",
          "output_type": "stream",
          "text": [
            "Progress: 1460/4182 | EM: 27.60% | F1: 33.07%\n"
          ]
        },
        {
          "name": "stderr",
          "output_type": "stream",
          "text": [
            "Evaluating:  35%|███▌      | 1470/4182 [58:24<1:30:24,  2.00s/it]"
          ]
        },
        {
          "name": "stdout",
          "output_type": "stream",
          "text": [
            "Progress: 1470/4182 | EM: 27.76% | F1: 33.19%\n"
          ]
        },
        {
          "name": "stderr",
          "output_type": "stream",
          "text": [
            "Evaluating:  35%|███▌      | 1480/4182 [58:39<1:31:27,  2.03s/it]"
          ]
        },
        {
          "name": "stdout",
          "output_type": "stream",
          "text": [
            "Progress: 1480/4182 | EM: 27.91% | F1: 33.41%\n"
          ]
        },
        {
          "name": "stderr",
          "output_type": "stream",
          "text": [
            "Evaluating:  36%|███▌      | 1490/4182 [59:01<1:52:23,  2.50s/it]"
          ]
        },
        {
          "name": "stdout",
          "output_type": "stream",
          "text": [
            "Progress: 1490/4182 | EM: 27.85% | F1: 33.40%\n"
          ]
        },
        {
          "name": "stderr",
          "output_type": "stream",
          "text": [
            "Evaluating:  36%|███▌      | 1500/4182 [59:24<1:51:44,  2.50s/it]"
          ]
        },
        {
          "name": "stdout",
          "output_type": "stream",
          "text": [
            "Progress: 1500/4182 | EM: 27.73% | F1: 33.39%\n"
          ]
        },
        {
          "name": "stderr",
          "output_type": "stream",
          "text": [
            "Evaluating:  36%|███▌      | 1510/4182 [59:46<1:25:42,  1.92s/it]"
          ]
        },
        {
          "name": "stdout",
          "output_type": "stream",
          "text": [
            "Progress: 1510/4182 | EM: 28.08% | F1: 33.76%\n"
          ]
        },
        {
          "name": "stderr",
          "output_type": "stream",
          "text": [
            "Evaluating:  36%|███▋      | 1520/4182 [1:00:10<1:44:55,  2.36s/it]"
          ]
        },
        {
          "name": "stdout",
          "output_type": "stream",
          "text": [
            "Progress: 1520/4182 | EM: 28.09% | F1: 33.74%\n"
          ]
        },
        {
          "name": "stderr",
          "output_type": "stream",
          "text": [
            "Evaluating:  37%|███▋      | 1530/4182 [1:00:28<1:23:33,  1.89s/it]"
          ]
        },
        {
          "name": "stdout",
          "output_type": "stream",
          "text": [
            "Progress: 1530/4182 | EM: 28.04% | F1: 33.79%\n"
          ]
        },
        {
          "name": "stderr",
          "output_type": "stream",
          "text": [
            "Evaluating:  37%|███▋      | 1540/4182 [1:00:52<1:47:17,  2.44s/it]"
          ]
        },
        {
          "name": "stdout",
          "output_type": "stream",
          "text": [
            "Progress: 1540/4182 | EM: 28.05% | F1: 33.85%\n"
          ]
        },
        {
          "name": "stderr",
          "output_type": "stream",
          "text": [
            "Evaluating:  37%|███▋      | 1550/4182 [1:01:15<1:43:33,  2.36s/it]"
          ]
        },
        {
          "name": "stdout",
          "output_type": "stream",
          "text": [
            "Progress: 1550/4182 | EM: 28.00% | F1: 33.86%\n"
          ]
        },
        {
          "name": "stderr",
          "output_type": "stream",
          "text": [
            "Evaluating:  37%|███▋      | 1560/4182 [1:01:39<1:53:12,  2.59s/it]"
          ]
        },
        {
          "name": "stdout",
          "output_type": "stream",
          "text": [
            "Progress: 1560/4182 | EM: 28.08% | F1: 33.92%\n"
          ]
        },
        {
          "name": "stderr",
          "output_type": "stream",
          "text": [
            "Evaluating:  38%|███▊      | 1570/4182 [1:01:59<1:02:54,  1.45s/it]"
          ]
        },
        {
          "name": "stdout",
          "output_type": "stream",
          "text": [
            "Progress: 1570/4182 | EM: 28.28% | F1: 34.12%\n"
          ]
        },
        {
          "name": "stderr",
          "output_type": "stream",
          "text": [
            "Evaluating:  38%|███▊      | 1580/4182 [1:02:13<1:13:21,  1.69s/it]"
          ]
        },
        {
          "name": "stdout",
          "output_type": "stream",
          "text": [
            "Progress: 1580/4182 | EM: 28.35% | F1: 34.22%\n"
          ]
        },
        {
          "name": "stderr",
          "output_type": "stream",
          "text": [
            "Evaluating:  38%|███▊      | 1590/4182 [1:02:30<1:16:41,  1.78s/it]"
          ]
        },
        {
          "name": "stdout",
          "output_type": "stream",
          "text": [
            "Progress: 1590/4182 | EM: 28.55% | F1: 34.39%\n"
          ]
        },
        {
          "name": "stderr",
          "output_type": "stream",
          "text": [
            "Evaluating:  38%|███▊      | 1600/4182 [1:02:45<1:25:20,  1.98s/it]"
          ]
        },
        {
          "name": "stdout",
          "output_type": "stream",
          "text": [
            "Progress: 1600/4182 | EM: 28.75% | F1: 34.55%\n"
          ]
        },
        {
          "name": "stderr",
          "output_type": "stream",
          "text": [
            "Evaluating:  38%|███▊      | 1610/4182 [1:03:13<1:58:51,  2.77s/it]"
          ]
        },
        {
          "name": "stdout",
          "output_type": "stream",
          "text": [
            "Progress: 1610/4182 | EM: 28.76% | F1: 34.55%\n"
          ]
        },
        {
          "name": "stderr",
          "output_type": "stream",
          "text": [
            "Evaluating:  39%|███▊      | 1620/4182 [1:03:41<1:59:26,  2.80s/it]"
          ]
        },
        {
          "name": "stdout",
          "output_type": "stream",
          "text": [
            "Progress: 1620/4182 | EM: 28.83% | F1: 34.62%\n"
          ]
        },
        {
          "name": "stderr",
          "output_type": "stream",
          "text": [
            "Evaluating:  39%|███▉      | 1630/4182 [1:04:01<1:27:14,  2.05s/it]"
          ]
        },
        {
          "name": "stdout",
          "output_type": "stream",
          "text": [
            "Progress: 1630/4182 | EM: 28.83% | F1: 34.60%\n"
          ]
        },
        {
          "name": "stderr",
          "output_type": "stream",
          "text": [
            "Evaluating:  39%|███▉      | 1640/4182 [1:04:25<1:42:09,  2.41s/it]"
          ]
        },
        {
          "name": "stdout",
          "output_type": "stream",
          "text": [
            "Progress: 1640/4182 | EM: 28.90% | F1: 34.64%\n"
          ]
        },
        {
          "name": "stderr",
          "output_type": "stream",
          "text": [
            "Evaluating:  39%|███▉      | 1650/4182 [1:04:58<2:17:23,  3.26s/it]"
          ]
        },
        {
          "name": "stdout",
          "output_type": "stream",
          "text": [
            "Progress: 1650/4182 | EM: 28.73% | F1: 34.43%\n"
          ]
        },
        {
          "name": "stderr",
          "output_type": "stream",
          "text": [
            "Evaluating:  40%|███▉      | 1660/4182 [1:05:30<2:16:55,  3.26s/it]"
          ]
        },
        {
          "name": "stdout",
          "output_type": "stream",
          "text": [
            "Progress: 1660/4182 | EM: 28.55% | F1: 34.23%\n"
          ]
        },
        {
          "name": "stderr",
          "output_type": "stream",
          "text": [
            "Evaluating:  40%|███▉      | 1670/4182 [1:06:02<2:11:58,  3.15s/it]"
          ]
        },
        {
          "name": "stdout",
          "output_type": "stream",
          "text": [
            "Progress: 1670/4182 | EM: 28.38% | F1: 34.03%\n"
          ]
        },
        {
          "name": "stderr",
          "output_type": "stream",
          "text": [
            "Evaluating:  40%|████      | 1680/4182 [1:06:34<2:12:36,  3.18s/it]"
          ]
        },
        {
          "name": "stdout",
          "output_type": "stream",
          "text": [
            "Progress: 1680/4182 | EM: 28.21% | F1: 33.83%\n"
          ]
        },
        {
          "name": "stderr",
          "output_type": "stream",
          "text": [
            "Evaluating:  40%|████      | 1690/4182 [1:07:00<1:24:00,  2.02s/it]"
          ]
        },
        {
          "name": "stdout",
          "output_type": "stream",
          "text": [
            "Progress: 1690/4182 | EM: 28.11% | F1: 33.74%\n"
          ]
        },
        {
          "name": "stderr",
          "output_type": "stream",
          "text": [
            "Evaluating:  41%|████      | 1700/4182 [1:07:25<1:46:34,  2.58s/it]"
          ]
        },
        {
          "name": "stdout",
          "output_type": "stream",
          "text": [
            "Progress: 1700/4182 | EM: 27.94% | F1: 33.61%\n"
          ]
        },
        {
          "name": "stderr",
          "output_type": "stream",
          "text": [
            "Evaluating:  41%|████      | 1710/4182 [1:07:48<1:49:04,  2.65s/it]"
          ]
        },
        {
          "name": "stdout",
          "output_type": "stream",
          "text": [
            "Progress: 1710/4182 | EM: 27.95% | F1: 33.59%\n"
          ]
        },
        {
          "name": "stderr",
          "output_type": "stream",
          "text": [
            "Evaluating:  41%|████      | 1720/4182 [1:08:08<1:41:47,  2.48s/it]"
          ]
        },
        {
          "name": "stdout",
          "output_type": "stream",
          "text": [
            "Progress: 1720/4182 | EM: 28.14% | F1: 33.74%\n"
          ]
        },
        {
          "name": "stderr",
          "output_type": "stream",
          "text": [
            "Evaluating:  41%|████▏     | 1730/4182 [1:08:38<2:05:47,  3.08s/it]"
          ]
        },
        {
          "name": "stdout",
          "output_type": "stream",
          "text": [
            "Progress: 1730/4182 | EM: 27.98% | F1: 33.55%\n"
          ]
        },
        {
          "name": "stderr",
          "output_type": "stream",
          "text": [
            "Evaluating:  42%|████▏     | 1740/4182 [1:09:10<2:07:43,  3.14s/it]"
          ]
        },
        {
          "name": "stdout",
          "output_type": "stream",
          "text": [
            "Progress: 1740/4182 | EM: 27.82% | F1: 33.36%\n"
          ]
        },
        {
          "name": "stderr",
          "output_type": "stream",
          "text": [
            "Evaluating:  42%|████▏     | 1750/4182 [1:09:42<2:09:20,  3.19s/it]"
          ]
        },
        {
          "name": "stdout",
          "output_type": "stream",
          "text": [
            "Progress: 1750/4182 | EM: 27.66% | F1: 33.20%\n"
          ]
        },
        {
          "name": "stderr",
          "output_type": "stream",
          "text": [
            "Evaluating:  42%|████▏     | 1760/4182 [1:10:11<2:04:15,  3.08s/it]"
          ]
        },
        {
          "name": "stdout",
          "output_type": "stream",
          "text": [
            "Progress: 1760/4182 | EM: 27.50% | F1: 33.02%\n"
          ]
        },
        {
          "name": "stderr",
          "output_type": "stream",
          "text": [
            "Evaluating:  42%|████▏     | 1770/4182 [1:10:42<2:03:52,  3.08s/it]"
          ]
        },
        {
          "name": "stdout",
          "output_type": "stream",
          "text": [
            "Progress: 1770/4182 | EM: 27.34% | F1: 32.87%\n"
          ]
        },
        {
          "name": "stderr",
          "output_type": "stream",
          "text": [
            "Evaluating:  43%|████▎     | 1780/4182 [1:11:13<2:03:42,  3.09s/it]"
          ]
        },
        {
          "name": "stdout",
          "output_type": "stream",
          "text": [
            "Progress: 1780/4182 | EM: 27.19% | F1: 32.69%\n"
          ]
        },
        {
          "name": "stderr",
          "output_type": "stream",
          "text": [
            "Evaluating:  43%|████▎     | 1790/4182 [1:11:44<2:03:29,  3.10s/it]"
          ]
        },
        {
          "name": "stdout",
          "output_type": "stream",
          "text": [
            "Progress: 1790/4182 | EM: 27.09% | F1: 32.57%\n"
          ]
        },
        {
          "name": "stderr",
          "output_type": "stream",
          "text": [
            "Evaluating:  43%|████▎     | 1800/4182 [1:12:15<2:02:34,  3.09s/it]"
          ]
        },
        {
          "name": "stdout",
          "output_type": "stream",
          "text": [
            "Progress: 1800/4182 | EM: 26.94% | F1: 32.39%\n"
          ]
        },
        {
          "name": "stderr",
          "output_type": "stream",
          "text": [
            "Evaluating:  43%|████▎     | 1810/4182 [1:12:41<1:39:57,  2.53s/it]"
          ]
        },
        {
          "name": "stdout",
          "output_type": "stream",
          "text": [
            "Progress: 1810/4182 | EM: 26.85% | F1: 32.34%\n"
          ]
        },
        {
          "name": "stderr",
          "output_type": "stream",
          "text": [
            "Evaluating:  44%|████▎     | 1820/4182 [1:13:01<1:26:59,  2.21s/it]"
          ]
        },
        {
          "name": "stdout",
          "output_type": "stream",
          "text": [
            "Progress: 1820/4182 | EM: 26.87% | F1: 32.37%\n"
          ]
        },
        {
          "name": "stderr",
          "output_type": "stream",
          "text": [
            "Evaluating:  44%|████▍     | 1830/4182 [1:13:16<35:02,  1.12it/s]"
          ]
        },
        {
          "name": "stdout",
          "output_type": "stream",
          "text": [
            "Progress: 1830/4182 | EM: 26.83% | F1: 32.50%\n"
          ]
        },
        {
          "name": "stderr",
          "output_type": "stream",
          "text": [
            "Evaluating:  44%|████▍     | 1840/4182 [1:13:33<1:18:16,  2.01s/it]"
          ]
        },
        {
          "name": "stdout",
          "output_type": "stream",
          "text": [
            "Progress: 1840/4182 | EM: 26.90% | F1: 32.56%\n"
          ]
        },
        {
          "name": "stderr",
          "output_type": "stream",
          "text": [
            "Evaluating:  44%|████▍     | 1850/4182 [1:13:58<1:53:41,  2.93s/it]"
          ]
        },
        {
          "name": "stdout",
          "output_type": "stream",
          "text": [
            "Progress: 1850/4182 | EM: 26.76% | F1: 32.40%\n"
          ]
        },
        {
          "name": "stderr",
          "output_type": "stream",
          "text": [
            "Evaluating:  44%|████▍     | 1860/4182 [1:14:29<2:01:58,  3.15s/it]"
          ]
        },
        {
          "name": "stdout",
          "output_type": "stream",
          "text": [
            "Progress: 1860/4182 | EM: 26.61% | F1: 32.23%\n"
          ]
        },
        {
          "name": "stderr",
          "output_type": "stream",
          "text": [
            "Evaluating:  45%|████▍     | 1870/4182 [1:15:01<2:00:52,  3.14s/it]"
          ]
        },
        {
          "name": "stdout",
          "output_type": "stream",
          "text": [
            "Progress: 1870/4182 | EM: 26.47% | F1: 32.06%\n"
          ]
        },
        {
          "name": "stderr",
          "output_type": "stream",
          "text": [
            "Evaluating:  45%|████▍     | 1880/4182 [1:15:32<2:00:32,  3.14s/it]"
          ]
        },
        {
          "name": "stdout",
          "output_type": "stream",
          "text": [
            "Progress: 1880/4182 | EM: 26.33% | F1: 31.91%\n"
          ]
        },
        {
          "name": "stderr",
          "output_type": "stream",
          "text": [
            "Evaluating:  45%|████▌     | 1890/4182 [1:16:04<2:01:06,  3.17s/it]"
          ]
        },
        {
          "name": "stdout",
          "output_type": "stream",
          "text": [
            "Progress: 1890/4182 | EM: 26.19% | F1: 31.78%\n"
          ]
        },
        {
          "name": "stderr",
          "output_type": "stream",
          "text": [
            "Evaluating:  45%|████▌     | 1900/4182 [1:16:36<2:00:31,  3.17s/it]"
          ]
        },
        {
          "name": "stdout",
          "output_type": "stream",
          "text": [
            "Progress: 1900/4182 | EM: 26.05% | F1: 31.63%\n"
          ]
        },
        {
          "name": "stderr",
          "output_type": "stream",
          "text": [
            "Evaluating:  46%|████▌     | 1910/4182 [1:17:07<1:59:49,  3.16s/it]"
          ]
        },
        {
          "name": "stdout",
          "output_type": "stream",
          "text": [
            "Progress: 1910/4182 | EM: 25.92% | F1: 31.47%\n"
          ]
        },
        {
          "name": "stderr",
          "output_type": "stream",
          "text": [
            "Evaluating:  46%|████▌     | 1920/4182 [1:17:39<1:59:12,  3.16s/it]"
          ]
        },
        {
          "name": "stdout",
          "output_type": "stream",
          "text": [
            "Progress: 1920/4182 | EM: 25.78% | F1: 31.34%\n"
          ]
        },
        {
          "name": "stderr",
          "output_type": "stream",
          "text": [
            "Evaluating:  46%|████▌     | 1930/4182 [1:18:07<1:23:09,  2.22s/it]"
          ]
        },
        {
          "name": "stdout",
          "output_type": "stream",
          "text": [
            "Progress: 1930/4182 | EM: 25.70% | F1: 31.26%\n"
          ]
        },
        {
          "name": "stderr",
          "output_type": "stream",
          "text": [
            "Evaluating:  46%|████▋     | 1940/4182 [1:18:25<1:23:42,  2.24s/it]"
          ]
        },
        {
          "name": "stdout",
          "output_type": "stream",
          "text": [
            "Progress: 1940/4182 | EM: 25.77% | F1: 31.33%\n"
          ]
        },
        {
          "name": "stderr",
          "output_type": "stream",
          "text": [
            "Evaluating:  47%|████▋     | 1950/4182 [1:18:45<56:12,  1.51s/it]  "
          ]
        },
        {
          "name": "stdout",
          "output_type": "stream",
          "text": [
            "Progress: 1950/4182 | EM: 25.90% | F1: 31.43%\n"
          ]
        },
        {
          "name": "stderr",
          "output_type": "stream",
          "text": [
            "Evaluating:  47%|████▋     | 1960/4182 [1:19:02<57:42,  1.56s/it]"
          ]
        },
        {
          "name": "stdout",
          "output_type": "stream",
          "text": [
            "Progress: 1960/4182 | EM: 26.07% | F1: 31.58%\n"
          ]
        },
        {
          "name": "stderr",
          "output_type": "stream",
          "text": [
            "Evaluating:  47%|████▋     | 1970/4182 [1:19:15<55:24,  1.50s/it]"
          ]
        },
        {
          "name": "stdout",
          "output_type": "stream",
          "text": [
            "Progress: 1970/4182 | EM: 26.04% | F1: 31.52%\n"
          ]
        },
        {
          "name": "stderr",
          "output_type": "stream",
          "text": [
            "Evaluating:  47%|████▋     | 1980/4182 [1:19:37<1:13:18,  2.00s/it]"
          ]
        },
        {
          "name": "stdout",
          "output_type": "stream",
          "text": [
            "Progress: 1980/4182 | EM: 26.26% | F1: 31.76%\n"
          ]
        },
        {
          "name": "stderr",
          "output_type": "stream",
          "text": [
            "Evaluating:  48%|████▊     | 1990/4182 [1:19:52<38:52,  1.06s/it]"
          ]
        },
        {
          "name": "stdout",
          "output_type": "stream",
          "text": [
            "Progress: 1990/4182 | EM: 26.43% | F1: 31.93%\n"
          ]
        },
        {
          "name": "stderr",
          "output_type": "stream",
          "text": [
            "Evaluating:  48%|████▊     | 2000/4182 [1:20:06<51:11,  1.41s/it]  "
          ]
        },
        {
          "name": "stdout",
          "output_type": "stream",
          "text": [
            "Progress: 2000/4182 | EM: 26.55% | F1: 32.05%\n"
          ]
        },
        {
          "name": "stderr",
          "output_type": "stream",
          "text": [
            "Evaluating:  48%|████▊     | 2010/4182 [1:20:27<1:16:40,  2.12s/it]"
          ]
        },
        {
          "name": "stdout",
          "output_type": "stream",
          "text": [
            "Progress: 2010/4182 | EM: 26.77% | F1: 32.24%\n"
          ]
        },
        {
          "name": "stderr",
          "output_type": "stream",
          "text": [
            "Evaluating:  48%|████▊     | 2020/4182 [1:20:50<1:19:49,  2.22s/it]"
          ]
        },
        {
          "name": "stdout",
          "output_type": "stream",
          "text": [
            "Progress: 2020/4182 | EM: 26.73% | F1: 32.19%\n"
          ]
        },
        {
          "name": "stderr",
          "output_type": "stream",
          "text": [
            "Evaluating:  49%|████▊     | 2030/4182 [1:21:10<1:13:46,  2.06s/it]"
          ]
        },
        {
          "name": "stdout",
          "output_type": "stream",
          "text": [
            "Progress: 2030/4182 | EM: 26.75% | F1: 32.19%\n"
          ]
        },
        {
          "name": "stderr",
          "output_type": "stream",
          "text": [
            "Evaluating:  49%|████▉     | 2040/4182 [1:21:29<37:42,  1.06s/it]"
          ]
        },
        {
          "name": "stdout",
          "output_type": "stream",
          "text": [
            "Progress: 2040/4182 | EM: 26.81% | F1: 32.25%\n"
          ]
        },
        {
          "name": "stderr",
          "output_type": "stream",
          "text": [
            "Evaluating:  49%|████▉     | 2050/4182 [1:21:53<1:30:43,  2.55s/it]"
          ]
        },
        {
          "name": "stdout",
          "output_type": "stream",
          "text": [
            "Progress: 2050/4182 | EM: 26.83% | F1: 32.25%\n"
          ]
        },
        {
          "name": "stderr",
          "output_type": "stream",
          "text": [
            "Evaluating:  49%|████▉     | 2060/4182 [1:22:21<1:38:45,  2.79s/it]"
          ]
        },
        {
          "name": "stdout",
          "output_type": "stream",
          "text": [
            "Progress: 2060/4182 | EM: 26.80% | F1: 32.24%\n"
          ]
        },
        {
          "name": "stderr",
          "output_type": "stream",
          "text": [
            "Evaluating:  49%|████▉     | 2070/4182 [1:22:46<1:31:09,  2.59s/it]"
          ]
        },
        {
          "name": "stdout",
          "output_type": "stream",
          "text": [
            "Progress: 2070/4182 | EM: 26.71% | F1: 32.17%\n"
          ]
        },
        {
          "name": "stderr",
          "output_type": "stream",
          "text": [
            "Evaluating:  50%|████▉     | 2080/4182 [1:23:11<1:09:13,  1.98s/it]"
          ]
        },
        {
          "name": "stdout",
          "output_type": "stream",
          "text": [
            "Progress: 2080/4182 | EM: 26.68% | F1: 32.13%\n"
          ]
        },
        {
          "name": "stderr",
          "output_type": "stream",
          "text": [
            "Evaluating:  50%|████▉     | 2090/4182 [1:23:34<1:22:33,  2.37s/it]"
          ]
        },
        {
          "name": "stdout",
          "output_type": "stream",
          "text": [
            "Progress: 2090/4182 | EM: 26.70% | F1: 32.14%\n"
          ]
        },
        {
          "name": "stderr",
          "output_type": "stream",
          "text": [
            "Evaluating:  50%|█████     | 2100/4182 [1:23:56<1:01:30,  1.77s/it]"
          ]
        },
        {
          "name": "stdout",
          "output_type": "stream",
          "text": [
            "Progress: 2100/4182 | EM: 26.62% | F1: 32.07%\n"
          ]
        },
        {
          "name": "stderr",
          "output_type": "stream",
          "text": [
            "Evaluating:  50%|█████     | 2110/4182 [1:24:21<1:27:18,  2.53s/it]"
          ]
        },
        {
          "name": "stdout",
          "output_type": "stream",
          "text": [
            "Progress: 2110/4182 | EM: 26.64% | F1: 32.09%\n"
          ]
        },
        {
          "name": "stderr",
          "output_type": "stream",
          "text": [
            "Evaluating:  51%|█████     | 2120/4182 [1:24:44<1:04:27,  1.88s/it]"
          ]
        },
        {
          "name": "stdout",
          "output_type": "stream",
          "text": [
            "Progress: 2120/4182 | EM: 26.70% | F1: 32.13%\n"
          ]
        },
        {
          "name": "stderr",
          "output_type": "stream",
          "text": [
            "Evaluating:  51%|█████     | 2130/4182 [1:24:59<1:11:33,  2.09s/it]"
          ]
        },
        {
          "name": "stdout",
          "output_type": "stream",
          "text": [
            "Progress: 2130/4182 | EM: 26.76% | F1: 32.17%\n"
          ]
        },
        {
          "name": "stderr",
          "output_type": "stream",
          "text": [
            "Evaluating:  51%|█████     | 2140/4182 [1:25:24<1:26:44,  2.55s/it]"
          ]
        },
        {
          "name": "stdout",
          "output_type": "stream",
          "text": [
            "Progress: 2140/4182 | EM: 26.78% | F1: 32.18%\n"
          ]
        },
        {
          "name": "stderr",
          "output_type": "stream",
          "text": [
            "Evaluating:  51%|█████▏    | 2150/4182 [1:25:46<1:13:10,  2.16s/it]"
          ]
        },
        {
          "name": "stdout",
          "output_type": "stream",
          "text": [
            "Progress: 2150/4182 | EM: 26.79% | F1: 32.20%\n"
          ]
        },
        {
          "name": "stderr",
          "output_type": "stream",
          "text": [
            "Evaluating:  52%|█████▏    | 2160/4182 [1:26:03<59:23,  1.76s/it]"
          ]
        },
        {
          "name": "stdout",
          "output_type": "stream",
          "text": [
            "Progress: 2160/4182 | EM: 26.94% | F1: 32.36%\n"
          ]
        },
        {
          "name": "stderr",
          "output_type": "stream",
          "text": [
            "Evaluating:  52%|█████▏    | 2170/4182 [1:26:18<50:26,  1.50s/it]"
          ]
        },
        {
          "name": "stdout",
          "output_type": "stream",
          "text": [
            "Progress: 2170/4182 | EM: 27.00% | F1: 32.43%\n"
          ]
        },
        {
          "name": "stderr",
          "output_type": "stream",
          "text": [
            "Evaluating:  52%|█████▏    | 2180/4182 [1:26:37<1:06:16,  1.99s/it]"
          ]
        },
        {
          "name": "stdout",
          "output_type": "stream",
          "text": [
            "Progress: 2180/4182 | EM: 27.06% | F1: 32.48%\n"
          ]
        },
        {
          "name": "stderr",
          "output_type": "stream",
          "text": [
            "Evaluating:  52%|█████▏    | 2190/4182 [1:26:57<46:04,  1.39s/it]"
          ]
        },
        {
          "name": "stdout",
          "output_type": "stream",
          "text": [
            "Progress: 2190/4182 | EM: 27.26% | F1: 32.65%\n"
          ]
        },
        {
          "name": "stderr",
          "output_type": "stream",
          "text": [
            "Evaluating:  53%|█████▎    | 2200/4182 [1:27:06<40:51,  1.24s/it]"
          ]
        },
        {
          "name": "stdout",
          "output_type": "stream",
          "text": [
            "Progress: 2200/4182 | EM: 27.45% | F1: 32.87%\n"
          ]
        },
        {
          "name": "stderr",
          "output_type": "stream",
          "text": [
            "Evaluating:  53%|█████▎    | 2210/4182 [1:27:18<31:56,  1.03it/s]"
          ]
        },
        {
          "name": "stdout",
          "output_type": "stream",
          "text": [
            "Progress: 2210/4182 | EM: 27.69% | F1: 33.09%\n"
          ]
        },
        {
          "name": "stderr",
          "output_type": "stream",
          "text": [
            "Evaluating:  53%|█████▎    | 2220/4182 [1:27:42<1:21:41,  2.50s/it]"
          ]
        },
        {
          "name": "stdout",
          "output_type": "stream",
          "text": [
            "Progress: 2220/4182 | EM: 27.75% | F1: 33.16%\n"
          ]
        },
        {
          "name": "stderr",
          "output_type": "stream",
          "text": [
            "Evaluating:  53%|█████▎    | 2230/4182 [1:28:07<1:23:28,  2.57s/it]"
          ]
        },
        {
          "name": "stdout",
          "output_type": "stream",
          "text": [
            "Progress: 2230/4182 | EM: 27.85% | F1: 33.27%\n"
          ]
        },
        {
          "name": "stderr",
          "output_type": "stream",
          "text": [
            "Evaluating:  54%|█████▎    | 2240/4182 [1:28:33<1:23:12,  2.57s/it]"
          ]
        },
        {
          "name": "stdout",
          "output_type": "stream",
          "text": [
            "Progress: 2240/4182 | EM: 27.86% | F1: 33.26%\n"
          ]
        },
        {
          "name": "stderr",
          "output_type": "stream",
          "text": [
            "Evaluating:  54%|█████▍    | 2250/4182 [1:28:57<1:22:20,  2.56s/it]"
          ]
        },
        {
          "name": "stdout",
          "output_type": "stream",
          "text": [
            "Progress: 2250/4182 | EM: 28.04% | F1: 33.42%\n"
          ]
        },
        {
          "name": "stderr",
          "output_type": "stream",
          "text": [
            "Evaluating:  54%|█████▍    | 2261/4182 [1:29:24<1:02:14,  1.94s/it]"
          ]
        },
        {
          "name": "stdout",
          "output_type": "stream",
          "text": [
            "Progress: 2260/4182 | EM: 28.05% | F1: 33.44%\n"
          ]
        },
        {
          "name": "stderr",
          "output_type": "stream",
          "text": [
            "Evaluating:  54%|█████▍    | 2270/4182 [1:29:40<53:46,  1.69s/it]"
          ]
        },
        {
          "name": "stdout",
          "output_type": "stream",
          "text": [
            "Progress: 2270/4182 | EM: 28.19% | F1: 33.57%\n"
          ]
        },
        {
          "name": "stderr",
          "output_type": "stream",
          "text": [
            "Evaluating:  55%|█████▍    | 2281/4182 [1:29:52<26:37,  1.19it/s]"
          ]
        },
        {
          "name": "stdout",
          "output_type": "stream",
          "text": [
            "Progress: 2280/4182 | EM: 28.51% | F1: 33.86%\n"
          ]
        },
        {
          "name": "stderr",
          "output_type": "stream",
          "text": [
            "Evaluating:  55%|█████▍    | 2290/4182 [1:30:05<34:56,  1.11s/it]"
          ]
        },
        {
          "name": "stdout",
          "output_type": "stream",
          "text": [
            "Progress: 2290/4182 | EM: 28.73% | F1: 34.08%\n"
          ]
        },
        {
          "name": "stderr",
          "output_type": "stream",
          "text": [
            "Evaluating:  55%|█████▍    | 2300/4182 [1:30:29<1:26:50,  2.77s/it]"
          ]
        },
        {
          "name": "stdout",
          "output_type": "stream",
          "text": [
            "Progress: 2300/4182 | EM: 28.78% | F1: 34.11%\n"
          ]
        },
        {
          "name": "stderr",
          "output_type": "stream",
          "text": [
            "Evaluating:  55%|█████▌    | 2310/4182 [1:31:00<1:36:07,  3.08s/it]"
          ]
        },
        {
          "name": "stdout",
          "output_type": "stream",
          "text": [
            "Progress: 2310/4182 | EM: 28.66% | F1: 33.96%\n"
          ]
        },
        {
          "name": "stderr",
          "output_type": "stream",
          "text": [
            "Evaluating:  55%|█████▌    | 2320/4182 [1:31:31<1:36:07,  3.10s/it]"
          ]
        },
        {
          "name": "stdout",
          "output_type": "stream",
          "text": [
            "Progress: 2320/4182 | EM: 28.53% | F1: 33.82%\n"
          ]
        },
        {
          "name": "stderr",
          "output_type": "stream",
          "text": [
            "Evaluating:  56%|█████▌    | 2330/4182 [1:32:02<1:35:28,  3.09s/it]"
          ]
        },
        {
          "name": "stdout",
          "output_type": "stream",
          "text": [
            "Progress: 2330/4182 | EM: 28.41% | F1: 33.67%\n"
          ]
        },
        {
          "name": "stderr",
          "output_type": "stream",
          "text": [
            "Evaluating:  56%|█████▌    | 2340/4182 [1:32:33<1:38:40,  3.21s/it]"
          ]
        },
        {
          "name": "stdout",
          "output_type": "stream",
          "text": [
            "Progress: 2340/4182 | EM: 28.29% | F1: 33.53%\n"
          ]
        },
        {
          "name": "stderr",
          "output_type": "stream",
          "text": [
            "Evaluating:  56%|█████▌    | 2350/4182 [1:33:06<1:39:14,  3.25s/it]"
          ]
        },
        {
          "name": "stdout",
          "output_type": "stream",
          "text": [
            "Progress: 2350/4182 | EM: 28.17% | F1: 33.40%\n"
          ]
        },
        {
          "name": "stderr",
          "output_type": "stream",
          "text": [
            "Evaluating:  56%|█████▋    | 2360/4182 [1:33:36<1:33:11,  3.07s/it]"
          ]
        },
        {
          "name": "stdout",
          "output_type": "stream",
          "text": [
            "Progress: 2360/4182 | EM: 28.05% | F1: 33.26%\n"
          ]
        },
        {
          "name": "stderr",
          "output_type": "stream",
          "text": [
            "Evaluating:  57%|█████▋    | 2370/4182 [1:34:07<1:33:16,  3.09s/it]"
          ]
        },
        {
          "name": "stdout",
          "output_type": "stream",
          "text": [
            "Progress: 2370/4182 | EM: 27.93% | F1: 33.12%\n"
          ]
        },
        {
          "name": "stderr",
          "output_type": "stream",
          "text": [
            "Evaluating:  57%|█████▋    | 2380/4182 [1:34:38<1:29:38,  2.98s/it]"
          ]
        },
        {
          "name": "stdout",
          "output_type": "stream",
          "text": [
            "Progress: 2380/4182 | EM: 27.82% | F1: 32.99%\n"
          ]
        },
        {
          "name": "stderr",
          "output_type": "stream",
          "text": [
            "Evaluating:  57%|█████▋    | 2390/4182 [1:35:04<1:23:55,  2.81s/it]"
          ]
        },
        {
          "name": "stdout",
          "output_type": "stream",
          "text": [
            "Progress: 2390/4182 | EM: 27.87% | F1: 33.02%\n"
          ]
        },
        {
          "name": "stderr",
          "output_type": "stream",
          "text": [
            "Evaluating:  57%|█████▋    | 2400/4182 [1:35:30<1:18:38,  2.65s/it]"
          ]
        },
        {
          "name": "stdout",
          "output_type": "stream",
          "text": [
            "Progress: 2400/4182 | EM: 27.83% | F1: 33.02%\n"
          ]
        },
        {
          "name": "stderr",
          "output_type": "stream",
          "text": [
            "Evaluating:  58%|█████▊    | 2410/4182 [1:35:53<45:55,  1.56s/it]  "
          ]
        },
        {
          "name": "stdout",
          "output_type": "stream",
          "text": [
            "Progress: 2410/4182 | EM: 27.88% | F1: 33.08%\n"
          ]
        },
        {
          "name": "stderr",
          "output_type": "stream",
          "text": [
            "Evaluating:  58%|█████▊    | 2420/4182 [1:36:21<1:21:34,  2.78s/it]"
          ]
        },
        {
          "name": "stdout",
          "output_type": "stream",
          "text": [
            "Progress: 2420/4182 | EM: 27.77% | F1: 33.00%\n"
          ]
        },
        {
          "name": "stderr",
          "output_type": "stream",
          "text": [
            "Evaluating:  58%|█████▊    | 2430/4182 [1:36:42<56:30,  1.94s/it]"
          ]
        },
        {
          "name": "stdout",
          "output_type": "stream",
          "text": [
            "Progress: 2430/4182 | EM: 27.78% | F1: 33.04%\n"
          ]
        },
        {
          "name": "stderr",
          "output_type": "stream",
          "text": [
            "Evaluating:  58%|█████▊    | 2440/4182 [1:37:04<51:36,  1.78s/it]"
          ]
        },
        {
          "name": "stdout",
          "output_type": "stream",
          "text": [
            "Progress: 2440/4182 | EM: 27.83% | F1: 33.09%\n"
          ]
        },
        {
          "name": "stderr",
          "output_type": "stream",
          "text": [
            "Evaluating:  59%|█████▊    | 2450/4182 [1:37:28<1:10:13,  2.43s/it]"
          ]
        },
        {
          "name": "stdout",
          "output_type": "stream",
          "text": [
            "Progress: 2450/4182 | EM: 27.92% | F1: 33.19%\n"
          ]
        },
        {
          "name": "stderr",
          "output_type": "stream",
          "text": [
            "Evaluating:  59%|█████▉    | 2460/4182 [1:37:47<52:00,  1.81s/it]  "
          ]
        },
        {
          "name": "stdout",
          "output_type": "stream",
          "text": [
            "Progress: 2460/4182 | EM: 27.97% | F1: 33.23%\n"
          ]
        },
        {
          "name": "stderr",
          "output_type": "stream",
          "text": [
            "Evaluating:  59%|█████▉    | 2470/4182 [1:38:05<51:09,  1.79s/it]"
          ]
        },
        {
          "name": "stdout",
          "output_type": "stream",
          "text": [
            "Progress: 2470/4182 | EM: 28.06% | F1: 33.32%\n"
          ]
        },
        {
          "name": "stderr",
          "output_type": "stream",
          "text": [
            "Evaluating:  59%|█████▉    | 2480/4182 [1:38:14<14:55,  1.90it/s]"
          ]
        },
        {
          "name": "stdout",
          "output_type": "stream",
          "text": [
            "Progress: 2480/4182 | EM: 28.31% | F1: 33.57%\n"
          ]
        },
        {
          "name": "stderr",
          "output_type": "stream",
          "text": [
            "Evaluating:  60%|█████▉    | 2490/4182 [1:38:22<12:39,  2.23it/s]"
          ]
        },
        {
          "name": "stdout",
          "output_type": "stream",
          "text": [
            "Progress: 2490/4182 | EM: 28.55% | F1: 33.80%\n"
          ]
        },
        {
          "name": "stderr",
          "output_type": "stream",
          "text": [
            "Evaluating:  60%|█████▉    | 2500/4182 [1:38:27<12:07,  2.31it/s]"
          ]
        },
        {
          "name": "stdout",
          "output_type": "stream",
          "text": [
            "Progress: 2500/4182 | EM: 28.80% | F1: 34.04%\n"
          ]
        },
        {
          "name": "stderr",
          "output_type": "stream",
          "text": [
            "Evaluating:  60%|██████    | 2510/4182 [1:38:58<1:27:01,  3.12s/it]"
          ]
        },
        {
          "name": "stdout",
          "output_type": "stream",
          "text": [
            "Progress: 2510/4182 | EM: 28.73% | F1: 33.95%\n"
          ]
        },
        {
          "name": "stderr",
          "output_type": "stream",
          "text": [
            "Evaluating:  60%|██████    | 2520/4182 [1:39:30<1:27:23,  3.15s/it]"
          ]
        },
        {
          "name": "stdout",
          "output_type": "stream",
          "text": [
            "Progress: 2520/4182 | EM: 28.61% | F1: 33.83%\n"
          ]
        },
        {
          "name": "stderr",
          "output_type": "stream",
          "text": [
            "Evaluating:  60%|██████    | 2530/4182 [1:40:01<1:26:20,  3.14s/it]"
          ]
        },
        {
          "name": "stdout",
          "output_type": "stream",
          "text": [
            "Progress: 2530/4182 | EM: 28.50% | F1: 33.73%\n"
          ]
        },
        {
          "name": "stderr",
          "output_type": "stream",
          "text": [
            "Evaluating:  61%|██████    | 2540/4182 [1:40:33<1:25:48,  3.14s/it]"
          ]
        },
        {
          "name": "stdout",
          "output_type": "stream",
          "text": [
            "Progress: 2540/4182 | EM: 28.39% | F1: 33.60%\n"
          ]
        },
        {
          "name": "stderr",
          "output_type": "stream",
          "text": [
            "Evaluating:  61%|██████    | 2550/4182 [1:40:57<1:03:14,  2.33s/it]"
          ]
        },
        {
          "name": "stdout",
          "output_type": "stream",
          "text": [
            "Progress: 2550/4182 | EM: 28.27% | F1: 33.53%\n"
          ]
        },
        {
          "name": "stderr",
          "output_type": "stream",
          "text": [
            "Evaluating:  61%|██████    | 2560/4182 [1:41:24<1:12:06,  2.67s/it]"
          ]
        },
        {
          "name": "stdout",
          "output_type": "stream",
          "text": [
            "Progress: 2560/4182 | EM: 28.32% | F1: 33.57%\n"
          ]
        },
        {
          "name": "stderr",
          "output_type": "stream",
          "text": [
            "Evaluating:  61%|██████▏   | 2570/4182 [1:41:43<54:50,  2.04s/it]"
          ]
        },
        {
          "name": "stdout",
          "output_type": "stream",
          "text": [
            "Progress: 2570/4182 | EM: 28.25% | F1: 33.49%\n"
          ]
        },
        {
          "name": "stderr",
          "output_type": "stream",
          "text": [
            "Evaluating:  62%|██████▏   | 2580/4182 [1:42:06<42:00,  1.57s/it]"
          ]
        },
        {
          "name": "stdout",
          "output_type": "stream",
          "text": [
            "Progress: 2580/4182 | EM: 28.22% | F1: 33.45%\n"
          ]
        },
        {
          "name": "stderr",
          "output_type": "stream",
          "text": [
            "Evaluating:  62%|██████▏   | 2590/4182 [1:42:30<1:04:26,  2.43s/it]"
          ]
        },
        {
          "name": "stdout",
          "output_type": "stream",
          "text": [
            "Progress: 2590/4182 | EM: 28.22% | F1: 33.47%\n"
          ]
        },
        {
          "name": "stderr",
          "output_type": "stream",
          "text": [
            "Evaluating:  62%|██████▏   | 2600/4182 [1:42:47<1:01:49,  2.34s/it]"
          ]
        },
        {
          "name": "stdout",
          "output_type": "stream",
          "text": [
            "Progress: 2600/4182 | EM: 28.38% | F1: 33.62%\n"
          ]
        },
        {
          "name": "stderr",
          "output_type": "stream",
          "text": [
            "Evaluating:  62%|██████▏   | 2610/4182 [1:43:04<49:18,  1.88s/it]"
          ]
        },
        {
          "name": "stdout",
          "output_type": "stream",
          "text": [
            "Progress: 2610/4182 | EM: 28.58% | F1: 33.80%\n"
          ]
        },
        {
          "name": "stderr",
          "output_type": "stream",
          "text": [
            "Evaluating:  63%|██████▎   | 2620/4182 [1:43:19<57:57,  2.23s/it]"
          ]
        },
        {
          "name": "stdout",
          "output_type": "stream",
          "text": [
            "Progress: 2620/4182 | EM: 28.78% | F1: 33.99%\n"
          ]
        },
        {
          "name": "stderr",
          "output_type": "stream",
          "text": [
            "Evaluating:  63%|██████▎   | 2630/4182 [1:43:45<1:09:56,  2.70s/it]"
          ]
        },
        {
          "name": "stdout",
          "output_type": "stream",
          "text": [
            "Progress: 2630/4182 | EM: 28.82% | F1: 34.04%\n"
          ]
        },
        {
          "name": "stderr",
          "output_type": "stream",
          "text": [
            "Evaluating:  63%|██████▎   | 2640/4182 [1:44:12<1:10:24,  2.74s/it]"
          ]
        },
        {
          "name": "stdout",
          "output_type": "stream",
          "text": [
            "Progress: 2640/4182 | EM: 28.71% | F1: 33.95%\n"
          ]
        },
        {
          "name": "stderr",
          "output_type": "stream",
          "text": [
            "Evaluating:  63%|██████▎   | 2650/4182 [1:44:35<58:34,  2.29s/it]"
          ]
        },
        {
          "name": "stdout",
          "output_type": "stream",
          "text": [
            "Progress: 2650/4182 | EM: 28.72% | F1: 33.94%\n"
          ]
        },
        {
          "name": "stderr",
          "output_type": "stream",
          "text": [
            "Evaluating:  64%|██████▎   | 2660/4182 [1:45:00<1:01:15,  2.42s/it]"
          ]
        },
        {
          "name": "stdout",
          "output_type": "stream",
          "text": [
            "Progress: 2660/4182 | EM: 28.68% | F1: 33.91%\n"
          ]
        },
        {
          "name": "stderr",
          "output_type": "stream",
          "text": [
            "Evaluating:  64%|██████▍   | 2670/4182 [1:45:28<1:12:49,  2.89s/it]"
          ]
        },
        {
          "name": "stdout",
          "output_type": "stream",
          "text": [
            "Progress: 2670/4182 | EM: 28.58% | F1: 33.82%\n"
          ]
        },
        {
          "name": "stderr",
          "output_type": "stream",
          "text": [
            "Evaluating:  64%|██████▍   | 2680/4182 [1:45:52<1:05:26,  2.61s/it]"
          ]
        },
        {
          "name": "stdout",
          "output_type": "stream",
          "text": [
            "Progress: 2680/4182 | EM: 28.58% | F1: 33.84%\n"
          ]
        },
        {
          "name": "stderr",
          "output_type": "stream",
          "text": [
            "Evaluating:  64%|██████▍   | 2690/4182 [1:46:13<1:04:34,  2.60s/it]"
          ]
        },
        {
          "name": "stdout",
          "output_type": "stream",
          "text": [
            "Progress: 2690/4182 | EM: 28.59% | F1: 33.86%\n"
          ]
        },
        {
          "name": "stderr",
          "output_type": "stream",
          "text": [
            "Evaluating:  65%|██████▍   | 2700/4182 [1:46:39<1:10:15,  2.84s/it]"
          ]
        },
        {
          "name": "stdout",
          "output_type": "stream",
          "text": [
            "Progress: 2700/4182 | EM: 28.52% | F1: 33.78%\n"
          ]
        },
        {
          "name": "stderr",
          "output_type": "stream",
          "text": [
            "Evaluating:  65%|██████▍   | 2710/4182 [1:47:06<1:13:39,  3.00s/it]"
          ]
        },
        {
          "name": "stdout",
          "output_type": "stream",
          "text": [
            "Progress: 2710/4182 | EM: 28.52% | F1: 33.77%\n"
          ]
        },
        {
          "name": "stderr",
          "output_type": "stream",
          "text": [
            "Evaluating:  65%|██████▌   | 2720/4182 [1:47:38<1:15:57,  3.12s/it]"
          ]
        },
        {
          "name": "stdout",
          "output_type": "stream",
          "text": [
            "Progress: 2720/4182 | EM: 28.42% | F1: 33.66%\n"
          ]
        },
        {
          "name": "stderr",
          "output_type": "stream",
          "text": [
            "Evaluating:  65%|██████▌   | 2730/4182 [1:48:09<1:15:23,  3.12s/it]"
          ]
        },
        {
          "name": "stdout",
          "output_type": "stream",
          "text": [
            "Progress: 2730/4182 | EM: 28.32% | F1: 33.57%\n"
          ]
        },
        {
          "name": "stderr",
          "output_type": "stream",
          "text": [
            "Evaluating:  66%|██████▌   | 2740/4182 [1:48:40<1:15:52,  3.16s/it]"
          ]
        },
        {
          "name": "stdout",
          "output_type": "stream",
          "text": [
            "Progress: 2740/4182 | EM: 28.21% | F1: 33.46%\n"
          ]
        },
        {
          "name": "stderr",
          "output_type": "stream",
          "text": [
            "Evaluating:  66%|██████▌   | 2750/4182 [1:49:09<57:22,  2.40s/it]  "
          ]
        },
        {
          "name": "stdout",
          "output_type": "stream",
          "text": [
            "Progress: 2750/4182 | EM: 28.11% | F1: 33.35%\n"
          ]
        },
        {
          "name": "stderr",
          "output_type": "stream",
          "text": [
            "Evaluating:  66%|██████▌   | 2760/4182 [1:49:35<1:03:20,  2.67s/it]"
          ]
        },
        {
          "name": "stdout",
          "output_type": "stream",
          "text": [
            "Progress: 2760/4182 | EM: 28.15% | F1: 33.43%\n"
          ]
        },
        {
          "name": "stderr",
          "output_type": "stream",
          "text": [
            "Evaluating:  66%|██████▌   | 2770/4182 [1:49:53<35:42,  1.52s/it]"
          ]
        },
        {
          "name": "stdout",
          "output_type": "stream",
          "text": [
            "Progress: 2770/4182 | EM: 28.09% | F1: 33.39%\n"
          ]
        },
        {
          "name": "stderr",
          "output_type": "stream",
          "text": [
            "Evaluating:  66%|██████▋   | 2780/4182 [1:50:16<53:57,  2.31s/it]"
          ]
        },
        {
          "name": "stdout",
          "output_type": "stream",
          "text": [
            "Progress: 2780/4182 | EM: 28.17% | F1: 33.46%\n"
          ]
        },
        {
          "name": "stderr",
          "output_type": "stream",
          "text": [
            "Evaluating:  67%|██████▋   | 2790/4182 [1:50:38<42:31,  1.83s/it]"
          ]
        },
        {
          "name": "stdout",
          "output_type": "stream",
          "text": [
            "Progress: 2790/4182 | EM: 28.17% | F1: 33.46%\n"
          ]
        },
        {
          "name": "stderr",
          "output_type": "stream",
          "text": [
            "Evaluating:  67%|██████▋   | 2800/4182 [1:51:02<1:00:25,  2.62s/it]"
          ]
        },
        {
          "name": "stdout",
          "output_type": "stream",
          "text": [
            "Progress: 2800/4182 | EM: 28.18% | F1: 33.51%\n"
          ]
        },
        {
          "name": "stderr",
          "output_type": "stream",
          "text": [
            "Evaluating:  67%|██████▋   | 2810/4182 [1:51:27<54:39,  2.39s/it]"
          ]
        },
        {
          "name": "stdout",
          "output_type": "stream",
          "text": [
            "Progress: 2810/4182 | EM: 28.22% | F1: 33.53%\n"
          ]
        },
        {
          "name": "stderr",
          "output_type": "stream",
          "text": [
            "Evaluating:  67%|██████▋   | 2820/4182 [1:51:50<48:00,  2.11s/it]"
          ]
        },
        {
          "name": "stdout",
          "output_type": "stream",
          "text": [
            "Progress: 2820/4182 | EM: 28.23% | F1: 33.54%\n"
          ]
        },
        {
          "name": "stderr",
          "output_type": "stream",
          "text": [
            "Evaluating:  68%|██████▊   | 2830/4182 [1:52:15<56:40,  2.52s/it]"
          ]
        },
        {
          "name": "stdout",
          "output_type": "stream",
          "text": [
            "Progress: 2830/4182 | EM: 28.20% | F1: 33.50%\n"
          ]
        },
        {
          "name": "stderr",
          "output_type": "stream",
          "text": [
            "Evaluating:  68%|██████▊   | 2840/4182 [1:52:37<50:49,  2.27s/it]"
          ]
        },
        {
          "name": "stdout",
          "output_type": "stream",
          "text": [
            "Progress: 2840/4182 | EM: 28.13% | F1: 33.44%\n"
          ]
        },
        {
          "name": "stderr",
          "output_type": "stream",
          "text": [
            "Evaluating:  68%|██████▊   | 2850/4182 [1:52:55<39:38,  1.79s/it]"
          ]
        },
        {
          "name": "stdout",
          "output_type": "stream",
          "text": [
            "Progress: 2850/4182 | EM: 28.11% | F1: 33.40%\n"
          ]
        },
        {
          "name": "stderr",
          "output_type": "stream",
          "text": [
            "Evaluating:  68%|██████▊   | 2860/4182 [1:53:13<44:07,  2.00s/it]"
          ]
        },
        {
          "name": "stdout",
          "output_type": "stream",
          "text": [
            "Progress: 2860/4182 | EM: 28.18% | F1: 33.45%\n"
          ]
        },
        {
          "name": "stderr",
          "output_type": "stream",
          "text": [
            "Evaluating:  69%|██████▊   | 2870/4182 [1:53:33<38:35,  1.76s/it]"
          ]
        },
        {
          "name": "stdout",
          "output_type": "stream",
          "text": [
            "Progress: 2870/4182 | EM: 28.26% | F1: 33.56%\n"
          ]
        },
        {
          "name": "stderr",
          "output_type": "stream",
          "text": [
            "Evaluating:  69%|██████▉   | 2880/4182 [1:54:03<1:02:49,  2.89s/it]"
          ]
        },
        {
          "name": "stdout",
          "output_type": "stream",
          "text": [
            "Progress: 2880/4182 | EM: 28.16% | F1: 33.44%\n"
          ]
        },
        {
          "name": "stderr",
          "output_type": "stream",
          "text": [
            "Evaluating:  69%|██████▉   | 2890/4182 [1:54:34<1:06:15,  3.08s/it]"
          ]
        },
        {
          "name": "stdout",
          "output_type": "stream",
          "text": [
            "Progress: 2890/4182 | EM: 28.06% | F1: 33.34%\n"
          ]
        },
        {
          "name": "stderr",
          "output_type": "stream",
          "text": [
            "Evaluating:  69%|██████▉   | 2900/4182 [1:55:05<1:06:09,  3.10s/it]"
          ]
        },
        {
          "name": "stdout",
          "output_type": "stream",
          "text": [
            "Progress: 2900/4182 | EM: 27.97% | F1: 33.23%\n"
          ]
        },
        {
          "name": "stderr",
          "output_type": "stream",
          "text": [
            "Evaluating:  70%|██████▉   | 2910/4182 [1:55:35<1:05:14,  3.08s/it]"
          ]
        },
        {
          "name": "stdout",
          "output_type": "stream",
          "text": [
            "Progress: 2910/4182 | EM: 27.87% | F1: 33.12%\n"
          ]
        },
        {
          "name": "stderr",
          "output_type": "stream",
          "text": [
            "Evaluating:  70%|██████▉   | 2920/4182 [1:55:58<45:05,  2.14s/it]"
          ]
        },
        {
          "name": "stdout",
          "output_type": "stream",
          "text": [
            "Progress: 2920/4182 | EM: 27.81% | F1: 33.06%\n"
          ]
        },
        {
          "name": "stderr",
          "output_type": "stream",
          "text": [
            "Evaluating:  70%|███████   | 2930/4182 [1:56:18<47:13,  2.26s/it]"
          ]
        },
        {
          "name": "stdout",
          "output_type": "stream",
          "text": [
            "Progress: 2930/4182 | EM: 27.85% | F1: 33.11%\n"
          ]
        },
        {
          "name": "stderr",
          "output_type": "stream",
          "text": [
            "Evaluating:  70%|███████   | 2940/4182 [1:56:38<29:02,  1.40s/it]"
          ]
        },
        {
          "name": "stdout",
          "output_type": "stream",
          "text": [
            "Progress: 2940/4182 | EM: 27.86% | F1: 33.12%\n"
          ]
        },
        {
          "name": "stderr",
          "output_type": "stream",
          "text": [
            "Evaluating:  71%|███████   | 2950/4182 [1:56:54<28:27,  1.39s/it]"
          ]
        },
        {
          "name": "stdout",
          "output_type": "stream",
          "text": [
            "Progress: 2950/4182 | EM: 27.97% | F1: 33.25%\n"
          ]
        },
        {
          "name": "stderr",
          "output_type": "stream",
          "text": [
            "Evaluating:  71%|███████   | 2960/4182 [1:57:15<47:19,  2.32s/it]"
          ]
        },
        {
          "name": "stdout",
          "output_type": "stream",
          "text": [
            "Progress: 2960/4182 | EM: 27.94% | F1: 33.25%\n"
          ]
        },
        {
          "name": "stderr",
          "output_type": "stream",
          "text": [
            "Evaluating:  71%|███████   | 2970/4182 [1:57:36<43:31,  2.15s/it]"
          ]
        },
        {
          "name": "stdout",
          "output_type": "stream",
          "text": [
            "Progress: 2970/4182 | EM: 27.98% | F1: 33.28%\n"
          ]
        },
        {
          "name": "stderr",
          "output_type": "stream",
          "text": [
            "Evaluating:  71%|███████▏  | 2980/4182 [1:57:58<43:10,  2.16s/it]"
          ]
        },
        {
          "name": "stdout",
          "output_type": "stream",
          "text": [
            "Progress: 2980/4182 | EM: 27.92% | F1: 33.21%\n"
          ]
        },
        {
          "name": "stderr",
          "output_type": "stream",
          "text": [
            "Evaluating:  71%|███████▏  | 2990/4182 [1:58:21<43:16,  2.18s/it]"
          ]
        },
        {
          "name": "stdout",
          "output_type": "stream",
          "text": [
            "Progress: 2990/4182 | EM: 27.96% | F1: 33.25%\n"
          ]
        },
        {
          "name": "stderr",
          "output_type": "stream",
          "text": [
            "Evaluating:  72%|███████▏  | 3000/4182 [1:58:51<1:00:42,  3.08s/it]"
          ]
        },
        {
          "name": "stdout",
          "output_type": "stream",
          "text": [
            "Progress: 3000/4182 | EM: 27.93% | F1: 33.21%\n"
          ]
        },
        {
          "name": "stderr",
          "output_type": "stream",
          "text": [
            "Evaluating:  72%|███████▏  | 3010/4182 [1:59:22<1:01:16,  3.14s/it]"
          ]
        },
        {
          "name": "stdout",
          "output_type": "stream",
          "text": [
            "Progress: 3010/4182 | EM: 27.84% | F1: 33.11%\n"
          ]
        },
        {
          "name": "stderr",
          "output_type": "stream",
          "text": [
            "Evaluating:  72%|███████▏  | 3020/4182 [1:59:54<1:00:44,  3.14s/it]"
          ]
        },
        {
          "name": "stdout",
          "output_type": "stream",
          "text": [
            "Progress: 3020/4182 | EM: 27.75% | F1: 33.01%\n"
          ]
        },
        {
          "name": "stderr",
          "output_type": "stream",
          "text": [
            "Evaluating:  72%|███████▏  | 3030/4182 [2:00:25<1:00:03,  3.13s/it]"
          ]
        },
        {
          "name": "stdout",
          "output_type": "stream",
          "text": [
            "Progress: 3030/4182 | EM: 27.66% | F1: 32.91%\n"
          ]
        },
        {
          "name": "stderr",
          "output_type": "stream",
          "text": [
            "Evaluating:  73%|███████▎  | 3040/4182 [2:00:51<47:16,  2.48s/it]"
          ]
        },
        {
          "name": "stdout",
          "output_type": "stream",
          "text": [
            "Progress: 3040/4182 | EM: 27.60% | F1: 32.84%\n"
          ]
        },
        {
          "name": "stderr",
          "output_type": "stream",
          "text": [
            "Evaluating:  73%|███████▎  | 3050/4182 [2:01:05<19:27,  1.03s/it]"
          ]
        },
        {
          "name": "stdout",
          "output_type": "stream",
          "text": [
            "Progress: 3050/4182 | EM: 27.70% | F1: 32.94%\n"
          ]
        },
        {
          "name": "stderr",
          "output_type": "stream",
          "text": [
            "Evaluating:  73%|███████▎  | 3060/4182 [2:01:19<28:59,  1.55s/it]"
          ]
        },
        {
          "name": "stdout",
          "output_type": "stream",
          "text": [
            "Progress: 3060/4182 | EM: 27.81% | F1: 33.05%\n"
          ]
        },
        {
          "name": "stderr",
          "output_type": "stream",
          "text": [
            "Evaluating:  73%|███████▎  | 3070/4182 [2:01:39<39:34,  2.14s/it]"
          ]
        },
        {
          "name": "stdout",
          "output_type": "stream",
          "text": [
            "Progress: 3070/4182 | EM: 27.95% | F1: 33.20%\n"
          ]
        },
        {
          "name": "stderr",
          "output_type": "stream",
          "text": [
            "Evaluating:  74%|███████▎  | 3080/4182 [2:02:02<52:48,  2.88s/it]"
          ]
        },
        {
          "name": "stdout",
          "output_type": "stream",
          "text": [
            "Progress: 3080/4182 | EM: 27.92% | F1: 33.17%\n"
          ]
        },
        {
          "name": "stderr",
          "output_type": "stream",
          "text": [
            "Evaluating:  74%|███████▍  | 3090/4182 [2:02:33<55:46,  3.06s/it]"
          ]
        },
        {
          "name": "stdout",
          "output_type": "stream",
          "text": [
            "Progress: 3090/4182 | EM: 27.86% | F1: 33.10%\n"
          ]
        },
        {
          "name": "stderr",
          "output_type": "stream",
          "text": [
            "Evaluating:  74%|███████▍  | 3100/4182 [2:03:04<55:02,  3.05s/it]"
          ]
        },
        {
          "name": "stdout",
          "output_type": "stream",
          "text": [
            "Progress: 3100/4182 | EM: 27.77% | F1: 33.01%\n"
          ]
        },
        {
          "name": "stderr",
          "output_type": "stream",
          "text": [
            "Evaluating:  74%|███████▍  | 3110/4182 [2:03:34<55:07,  3.09s/it]"
          ]
        },
        {
          "name": "stdout",
          "output_type": "stream",
          "text": [
            "Progress: 3110/4182 | EM: 27.68% | F1: 32.91%\n"
          ]
        },
        {
          "name": "stderr",
          "output_type": "stream",
          "text": [
            "Evaluating:  75%|███████▍  | 3120/4182 [2:04:05<54:47,  3.10s/it]"
          ]
        },
        {
          "name": "stdout",
          "output_type": "stream",
          "text": [
            "Progress: 3120/4182 | EM: 27.60% | F1: 32.82%\n"
          ]
        },
        {
          "name": "stderr",
          "output_type": "stream",
          "text": [
            "Evaluating:  75%|███████▍  | 3130/4182 [2:04:36<54:15,  3.09s/it]"
          ]
        },
        {
          "name": "stdout",
          "output_type": "stream",
          "text": [
            "Progress: 3130/4182 | EM: 27.51% | F1: 32.72%\n"
          ]
        },
        {
          "name": "stderr",
          "output_type": "stream",
          "text": [
            "Evaluating:  75%|███████▌  | 3140/4182 [2:05:08<54:44,  3.15s/it]"
          ]
        },
        {
          "name": "stdout",
          "output_type": "stream",
          "text": [
            "Progress: 3140/4182 | EM: 27.42% | F1: 32.63%\n"
          ]
        },
        {
          "name": "stderr",
          "output_type": "stream",
          "text": [
            "Evaluating:  75%|███████▌  | 3150/4182 [2:05:39<53:15,  3.10s/it]"
          ]
        },
        {
          "name": "stdout",
          "output_type": "stream",
          "text": [
            "Progress: 3150/4182 | EM: 27.33% | F1: 32.53%\n"
          ]
        },
        {
          "name": "stderr",
          "output_type": "stream",
          "text": [
            "Evaluating:  76%|███████▌  | 3160/4182 [2:06:10<53:31,  3.14s/it]"
          ]
        },
        {
          "name": "stdout",
          "output_type": "stream",
          "text": [
            "Progress: 3160/4182 | EM: 27.25% | F1: 32.43%\n"
          ]
        },
        {
          "name": "stderr",
          "output_type": "stream",
          "text": [
            "Evaluating:  76%|███████▌  | 3170/4182 [2:06:41<53:29,  3.17s/it]"
          ]
        },
        {
          "name": "stdout",
          "output_type": "stream",
          "text": [
            "Progress: 3170/4182 | EM: 27.16% | F1: 32.33%\n"
          ]
        },
        {
          "name": "stderr",
          "output_type": "stream",
          "text": [
            "Evaluating:  76%|███████▌  | 3180/4182 [2:07:13<52:54,  3.17s/it]"
          ]
        },
        {
          "name": "stdout",
          "output_type": "stream",
          "text": [
            "Progress: 3180/4182 | EM: 27.11% | F1: 32.27%\n"
          ]
        },
        {
          "name": "stderr",
          "output_type": "stream",
          "text": [
            "Evaluating:  76%|███████▋  | 3190/4182 [2:07:44<52:40,  3.19s/it]"
          ]
        },
        {
          "name": "stdout",
          "output_type": "stream",
          "text": [
            "Progress: 3190/4182 | EM: 27.02% | F1: 32.17%\n"
          ]
        },
        {
          "name": "stderr",
          "output_type": "stream",
          "text": [
            "Evaluating:  77%|███████▋  | 3200/4182 [2:08:16<50:40,  3.10s/it]"
          ]
        },
        {
          "name": "stdout",
          "output_type": "stream",
          "text": [
            "Progress: 3200/4182 | EM: 26.94% | F1: 32.08%\n"
          ]
        },
        {
          "name": "stderr",
          "output_type": "stream",
          "text": [
            "Evaluating:  77%|███████▋  | 3210/4182 [2:08:46<50:06,  3.09s/it]"
          ]
        },
        {
          "name": "stdout",
          "output_type": "stream",
          "text": [
            "Progress: 3210/4182 | EM: 26.85% | F1: 31.98%\n"
          ]
        },
        {
          "name": "stderr",
          "output_type": "stream",
          "text": [
            "Evaluating:  77%|███████▋  | 3220/4182 [2:09:17<49:34,  3.09s/it]"
          ]
        },
        {
          "name": "stdout",
          "output_type": "stream",
          "text": [
            "Progress: 3220/4182 | EM: 26.77% | F1: 31.88%\n"
          ]
        },
        {
          "name": "stderr",
          "output_type": "stream",
          "text": [
            "Evaluating:  77%|███████▋  | 3230/4182 [2:09:48<49:02,  3.09s/it]"
          ]
        },
        {
          "name": "stdout",
          "output_type": "stream",
          "text": [
            "Progress: 3230/4182 | EM: 26.69% | F1: 31.79%\n"
          ]
        },
        {
          "name": "stderr",
          "output_type": "stream",
          "text": [
            "Evaluating:  77%|███████▋  | 3240/4182 [2:10:20<49:33,  3.16s/it]"
          ]
        },
        {
          "name": "stdout",
          "output_type": "stream",
          "text": [
            "Progress: 3240/4182 | EM: 26.60% | F1: 31.70%\n"
          ]
        },
        {
          "name": "stderr",
          "output_type": "stream",
          "text": [
            "Evaluating:  78%|███████▊  | 3250/4182 [2:10:52<50:34,  3.26s/it]"
          ]
        },
        {
          "name": "stdout",
          "output_type": "stream",
          "text": [
            "Progress: 3250/4182 | EM: 26.52% | F1: 31.62%\n"
          ]
        },
        {
          "name": "stderr",
          "output_type": "stream",
          "text": [
            "Evaluating:  78%|███████▊  | 3260/4182 [2:11:25<50:30,  3.29s/it]"
          ]
        },
        {
          "name": "stdout",
          "output_type": "stream",
          "text": [
            "Progress: 3260/4182 | EM: 26.44% | F1: 31.54%\n"
          ]
        },
        {
          "name": "stderr",
          "output_type": "stream",
          "text": [
            "Evaluating:  78%|███████▊  | 3270/4182 [2:11:57<48:43,  3.21s/it]"
          ]
        },
        {
          "name": "stdout",
          "output_type": "stream",
          "text": [
            "Progress: 3270/4182 | EM: 26.36% | F1: 31.45%\n"
          ]
        },
        {
          "name": "stderr",
          "output_type": "stream",
          "text": [
            "Evaluating:  78%|███████▊  | 3280/4182 [2:12:30<49:24,  3.29s/it]"
          ]
        },
        {
          "name": "stdout",
          "output_type": "stream",
          "text": [
            "Progress: 3280/4182 | EM: 26.28% | F1: 31.37%\n"
          ]
        },
        {
          "name": "stderr",
          "output_type": "stream",
          "text": [
            "Evaluating:  79%|███████▊  | 3290/4182 [2:12:51<27:43,  1.87s/it]"
          ]
        },
        {
          "name": "stdout",
          "output_type": "stream",
          "text": [
            "Progress: 3290/4182 | EM: 26.23% | F1: 31.34%\n"
          ]
        },
        {
          "name": "stderr",
          "output_type": "stream",
          "text": [
            "Evaluating:  79%|███████▉  | 3300/4182 [2:13:11<32:21,  2.20s/it]"
          ]
        },
        {
          "name": "stdout",
          "output_type": "stream",
          "text": [
            "Progress: 3300/4182 | EM: 26.27% | F1: 31.37%\n"
          ]
        },
        {
          "name": "stderr",
          "output_type": "stream",
          "text": [
            "Evaluating:  79%|███████▉  | 3310/4182 [2:13:28<23:20,  1.61s/it]"
          ]
        },
        {
          "name": "stdout",
          "output_type": "stream",
          "text": [
            "Progress: 3310/4182 | EM: 26.37% | F1: 31.46%\n"
          ]
        },
        {
          "name": "stderr",
          "output_type": "stream",
          "text": [
            "Evaluating:  79%|███████▉  | 3320/4182 [2:13:46<33:37,  2.34s/it]"
          ]
        },
        {
          "name": "stdout",
          "output_type": "stream",
          "text": [
            "Progress: 3320/4182 | EM: 26.45% | F1: 31.52%\n"
          ]
        },
        {
          "name": "stderr",
          "output_type": "stream",
          "text": [
            "Evaluating:  80%|███████▉  | 3330/4182 [2:14:14<43:43,  3.08s/it]"
          ]
        },
        {
          "name": "stdout",
          "output_type": "stream",
          "text": [
            "Progress: 3330/4182 | EM: 26.40% | F1: 31.46%\n"
          ]
        },
        {
          "name": "stderr",
          "output_type": "stream",
          "text": [
            "Evaluating:  80%|███████▉  | 3340/4182 [2:14:46<44:22,  3.16s/it]"
          ]
        },
        {
          "name": "stdout",
          "output_type": "stream",
          "text": [
            "Progress: 3340/4182 | EM: 26.32% | F1: 31.37%\n"
          ]
        },
        {
          "name": "stderr",
          "output_type": "stream",
          "text": [
            "Evaluating:  80%|████████  | 3350/4182 [2:15:17<43:05,  3.11s/it]"
          ]
        },
        {
          "name": "stdout",
          "output_type": "stream",
          "text": [
            "Progress: 3350/4182 | EM: 26.24% | F1: 31.29%\n"
          ]
        },
        {
          "name": "stderr",
          "output_type": "stream",
          "text": [
            "Evaluating:  80%|████████  | 3360/4182 [2:15:48<42:32,  3.11s/it]"
          ]
        },
        {
          "name": "stdout",
          "output_type": "stream",
          "text": [
            "Progress: 3360/4182 | EM: 26.16% | F1: 31.21%\n"
          ]
        },
        {
          "name": "stderr",
          "output_type": "stream",
          "text": [
            "Evaluating:  81%|████████  | 3370/4182 [2:16:12<29:29,  2.18s/it]"
          ]
        },
        {
          "name": "stdout",
          "output_type": "stream",
          "text": [
            "Progress: 3370/4182 | EM: 26.11% | F1: 31.18%\n"
          ]
        },
        {
          "name": "stderr",
          "output_type": "stream",
          "text": [
            "Evaluating:  81%|████████  | 3380/4182 [2:16:39<35:53,  2.68s/it]"
          ]
        },
        {
          "name": "stdout",
          "output_type": "stream",
          "text": [
            "Progress: 3380/4182 | EM: 26.12% | F1: 31.21%\n"
          ]
        },
        {
          "name": "stderr",
          "output_type": "stream",
          "text": [
            "Evaluating:  81%|████████  | 3390/4182 [2:17:02<25:56,  1.97s/it]"
          ]
        },
        {
          "name": "stdout",
          "output_type": "stream",
          "text": [
            "Progress: 3390/4182 | EM: 26.14% | F1: 31.23%\n"
          ]
        },
        {
          "name": "stderr",
          "output_type": "stream",
          "text": [
            "Evaluating:  81%|████████▏ | 3400/4182 [2:17:27<33:53,  2.60s/it]"
          ]
        },
        {
          "name": "stdout",
          "output_type": "stream",
          "text": [
            "Progress: 3400/4182 | EM: 26.15% | F1: 31.23%\n"
          ]
        },
        {
          "name": "stderr",
          "output_type": "stream",
          "text": [
            "Evaluating:  82%|████████▏ | 3410/4182 [2:17:43<27:20,  2.12s/it]"
          ]
        },
        {
          "name": "stdout",
          "output_type": "stream",
          "text": [
            "Progress: 3410/4182 | EM: 26.07% | F1: 31.17%\n"
          ]
        },
        {
          "name": "stderr",
          "output_type": "stream",
          "text": [
            "Evaluating:  82%|████████▏ | 3420/4182 [2:18:04<22:39,  1.78s/it]"
          ]
        },
        {
          "name": "stdout",
          "output_type": "stream",
          "text": [
            "Progress: 3420/4182 | EM: 26.08% | F1: 31.17%\n"
          ]
        },
        {
          "name": "stderr",
          "output_type": "stream",
          "text": [
            "Evaluating:  82%|████████▏ | 3430/4182 [2:18:29<26:33,  2.12s/it]"
          ]
        },
        {
          "name": "stdout",
          "output_type": "stream",
          "text": [
            "Progress: 3430/4182 | EM: 26.06% | F1: 31.15%\n"
          ]
        },
        {
          "name": "stderr",
          "output_type": "stream",
          "text": [
            "Evaluating:  82%|████████▏ | 3440/4182 [2:18:50<23:23,  1.89s/it]"
          ]
        },
        {
          "name": "stdout",
          "output_type": "stream",
          "text": [
            "Progress: 3440/4182 | EM: 26.10% | F1: 31.20%\n"
          ]
        },
        {
          "name": "stderr",
          "output_type": "stream",
          "text": [
            "Evaluating:  82%|████████▏ | 3450/4182 [2:19:12<22:56,  1.88s/it]"
          ]
        },
        {
          "name": "stdout",
          "output_type": "stream",
          "text": [
            "Progress: 3450/4182 | EM: 26.14% | F1: 31.24%\n"
          ]
        },
        {
          "name": "stderr",
          "output_type": "stream",
          "text": [
            "Evaluating:  83%|████████▎ | 3460/4182 [2:19:39<32:32,  2.70s/it]"
          ]
        },
        {
          "name": "stdout",
          "output_type": "stream",
          "text": [
            "Progress: 3460/4182 | EM: 26.16% | F1: 31.24%\n"
          ]
        },
        {
          "name": "stderr",
          "output_type": "stream",
          "text": [
            "Evaluating:  83%|████████▎ | 3470/4182 [2:20:02<26:07,  2.20s/it]"
          ]
        },
        {
          "name": "stdout",
          "output_type": "stream",
          "text": [
            "Progress: 3470/4182 | EM: 26.14% | F1: 31.21%\n"
          ]
        },
        {
          "name": "stderr",
          "output_type": "stream",
          "text": [
            "Evaluating:  83%|████████▎ | 3480/4182 [2:20:22<21:03,  1.80s/it]"
          ]
        },
        {
          "name": "stdout",
          "output_type": "stream",
          "text": [
            "Progress: 3480/4182 | EM: 26.18% | F1: 31.27%\n"
          ]
        },
        {
          "name": "stderr",
          "output_type": "stream",
          "text": [
            "Evaluating:  83%|████████▎ | 3490/4182 [2:20:45<24:41,  2.14s/it]"
          ]
        },
        {
          "name": "stdout",
          "output_type": "stream",
          "text": [
            "Progress: 3490/4182 | EM: 26.13% | F1: 31.21%\n"
          ]
        },
        {
          "name": "stderr",
          "output_type": "stream",
          "text": [
            "Evaluating:  84%|████████▎ | 3500/4182 [2:21:06<25:06,  2.21s/it]"
          ]
        },
        {
          "name": "stdout",
          "output_type": "stream",
          "text": [
            "Progress: 3500/4182 | EM: 26.20% | F1: 31.28%\n"
          ]
        },
        {
          "name": "stderr",
          "output_type": "stream",
          "text": [
            "Evaluating:  84%|████████▍ | 3511/4182 [2:21:23<11:32,  1.03s/it]"
          ]
        },
        {
          "name": "stdout",
          "output_type": "stream",
          "text": [
            "Progress: 3510/4182 | EM: 26.30% | F1: 31.38%\n"
          ]
        },
        {
          "name": "stderr",
          "output_type": "stream",
          "text": [
            "Evaluating:  84%|████████▍ | 3520/4182 [2:21:37<22:21,  2.03s/it]"
          ]
        },
        {
          "name": "stdout",
          "output_type": "stream",
          "text": [
            "Progress: 3520/4182 | EM: 26.39% | F1: 31.46%\n"
          ]
        },
        {
          "name": "stderr",
          "output_type": "stream",
          "text": [
            "Evaluating:  84%|████████▍ | 3530/4182 [2:22:00<26:03,  2.40s/it]"
          ]
        },
        {
          "name": "stdout",
          "output_type": "stream",
          "text": [
            "Progress: 3530/4182 | EM: 26.40% | F1: 31.48%\n"
          ]
        },
        {
          "name": "stderr",
          "output_type": "stream",
          "text": [
            "Evaluating:  85%|████████▍ | 3540/4182 [2:22:17<17:14,  1.61s/it]"
          ]
        },
        {
          "name": "stdout",
          "output_type": "stream",
          "text": [
            "Progress: 3540/4182 | EM: 26.38% | F1: 31.48%\n"
          ]
        },
        {
          "name": "stderr",
          "output_type": "stream",
          "text": [
            "Evaluating:  85%|████████▍ | 3550/4182 [2:22:45<28:44,  2.73s/it]"
          ]
        },
        {
          "name": "stdout",
          "output_type": "stream",
          "text": [
            "Progress: 3550/4182 | EM: 26.39% | F1: 31.48%\n"
          ]
        },
        {
          "name": "stderr",
          "output_type": "stream",
          "text": [
            "Evaluating:  85%|████████▌ | 3560/4182 [2:23:04<20:45,  2.00s/it]"
          ]
        },
        {
          "name": "stdout",
          "output_type": "stream",
          "text": [
            "Progress: 3560/4182 | EM: 26.40% | F1: 31.49%\n"
          ]
        },
        {
          "name": "stderr",
          "output_type": "stream",
          "text": [
            "Evaluating:  85%|████████▌ | 3570/4182 [2:23:31<24:47,  2.43s/it]"
          ]
        },
        {
          "name": "stdout",
          "output_type": "stream",
          "text": [
            "Progress: 3570/4182 | EM: 26.44% | F1: 31.53%\n"
          ]
        },
        {
          "name": "stderr",
          "output_type": "stream",
          "text": [
            "Evaluating:  86%|████████▌ | 3580/4182 [2:23:38<03:46,  2.65it/s]"
          ]
        },
        {
          "name": "stdout",
          "output_type": "stream",
          "text": [
            "Progress: 3580/4182 | EM: 26.59% | F1: 31.68%\n"
          ]
        },
        {
          "name": "stderr",
          "output_type": "stream",
          "text": [
            "Evaluating:  86%|████████▌ | 3590/4182 [2:23:45<05:20,  1.85it/s]"
          ]
        },
        {
          "name": "stdout",
          "output_type": "stream",
          "text": [
            "Progress: 3590/4182 | EM: 26.80% | F1: 31.87%\n"
          ]
        },
        {
          "name": "stderr",
          "output_type": "stream",
          "text": [
            "Evaluating:  86%|████████▌ | 3600/4182 [2:23:48<02:33,  3.79it/s]"
          ]
        },
        {
          "name": "stdout",
          "output_type": "stream",
          "text": [
            "Progress: 3600/4182 | EM: 27.00% | F1: 32.06%\n"
          ]
        },
        {
          "name": "stderr",
          "output_type": "stream",
          "text": [
            "Evaluating:  86%|████████▋ | 3610/4182 [2:24:03<18:03,  1.89s/it]"
          ]
        },
        {
          "name": "stdout",
          "output_type": "stream",
          "text": [
            "Progress: 3610/4182 | EM: 27.09% | F1: 32.14%\n"
          ]
        },
        {
          "name": "stderr",
          "output_type": "stream",
          "text": [
            "Evaluating:  87%|████████▋ | 3620/4182 [2:24:34<29:05,  3.11s/it]"
          ]
        },
        {
          "name": "stdout",
          "output_type": "stream",
          "text": [
            "Progress: 3620/4182 | EM: 27.02% | F1: 32.05%\n"
          ]
        },
        {
          "name": "stderr",
          "output_type": "stream",
          "text": [
            "Evaluating:  87%|████████▋ | 3630/4182 [2:25:06<28:38,  3.11s/it]"
          ]
        },
        {
          "name": "stdout",
          "output_type": "stream",
          "text": [
            "Progress: 3630/4182 | EM: 26.94% | F1: 31.97%\n"
          ]
        },
        {
          "name": "stderr",
          "output_type": "stream",
          "text": [
            "Evaluating:  87%|████████▋ | 3640/4182 [2:25:37<28:12,  3.12s/it]"
          ]
        },
        {
          "name": "stdout",
          "output_type": "stream",
          "text": [
            "Progress: 3640/4182 | EM: 26.87% | F1: 31.89%\n"
          ]
        },
        {
          "name": "stderr",
          "output_type": "stream",
          "text": [
            "Evaluating:  87%|████████▋ | 3650/4182 [2:26:08<27:14,  3.07s/it]"
          ]
        },
        {
          "name": "stdout",
          "output_type": "stream",
          "text": [
            "Progress: 3650/4182 | EM: 26.79% | F1: 31.81%\n"
          ]
        },
        {
          "name": "stderr",
          "output_type": "stream",
          "text": [
            "Evaluating:  88%|████████▊ | 3660/4182 [2:26:37<25:45,  2.96s/it]"
          ]
        },
        {
          "name": "stdout",
          "output_type": "stream",
          "text": [
            "Progress: 3660/4182 | EM: 26.72% | F1: 31.75%\n"
          ]
        },
        {
          "name": "stderr",
          "output_type": "stream",
          "text": [
            "Evaluating:  88%|████████▊ | 3670/4182 [2:27:07<25:12,  2.95s/it]"
          ]
        },
        {
          "name": "stdout",
          "output_type": "stream",
          "text": [
            "Progress: 3670/4182 | EM: 26.70% | F1: 31.72%\n"
          ]
        },
        {
          "name": "stderr",
          "output_type": "stream",
          "text": [
            "Evaluating:  88%|████████▊ | 3680/4182 [2:27:36<24:39,  2.95s/it]"
          ]
        },
        {
          "name": "stdout",
          "output_type": "stream",
          "text": [
            "Progress: 3680/4182 | EM: 26.66% | F1: 31.67%\n"
          ]
        },
        {
          "name": "stderr",
          "output_type": "stream",
          "text": [
            "Evaluating:  88%|████████▊ | 3690/4182 [2:28:06<24:14,  2.96s/it]"
          ]
        },
        {
          "name": "stdout",
          "output_type": "stream",
          "text": [
            "Progress: 3690/4182 | EM: 26.61% | F1: 31.63%\n"
          ]
        },
        {
          "name": "stderr",
          "output_type": "stream",
          "text": [
            "Evaluating:  88%|████████▊ | 3700/4182 [2:28:25<17:48,  2.22s/it]"
          ]
        },
        {
          "name": "stdout",
          "output_type": "stream",
          "text": [
            "Progress: 3700/4182 | EM: 26.59% | F1: 31.62%\n"
          ]
        },
        {
          "name": "stderr",
          "output_type": "stream",
          "text": [
            "Evaluating:  89%|████████▊ | 3710/4182 [2:28:46<14:07,  1.80s/it]"
          ]
        },
        {
          "name": "stdout",
          "output_type": "stream",
          "text": [
            "Progress: 3710/4182 | EM: 26.60% | F1: 31.64%\n"
          ]
        },
        {
          "name": "stderr",
          "output_type": "stream",
          "text": [
            "Evaluating:  89%|████████▉ | 3720/4182 [2:29:05<16:36,  2.16s/it]"
          ]
        },
        {
          "name": "stdout",
          "output_type": "stream",
          "text": [
            "Progress: 3720/4182 | EM: 26.72% | F1: 31.75%\n"
          ]
        },
        {
          "name": "stderr",
          "output_type": "stream",
          "text": [
            "Evaluating:  89%|████████▉ | 3730/4182 [2:29:28<17:37,  2.34s/it]"
          ]
        },
        {
          "name": "stdout",
          "output_type": "stream",
          "text": [
            "Progress: 3730/4182 | EM: 26.73% | F1: 31.75%\n"
          ]
        },
        {
          "name": "stderr",
          "output_type": "stream",
          "text": [
            "Evaluating:  89%|████████▉ | 3740/4182 [2:29:56<22:37,  3.07s/it]"
          ]
        },
        {
          "name": "stdout",
          "output_type": "stream",
          "text": [
            "Progress: 3740/4182 | EM: 26.66% | F1: 31.68%\n"
          ]
        },
        {
          "name": "stderr",
          "output_type": "stream",
          "text": [
            "Evaluating:  90%|████████▉ | 3750/4182 [2:30:28<22:34,  3.14s/it]"
          ]
        },
        {
          "name": "stdout",
          "output_type": "stream",
          "text": [
            "Progress: 3750/4182 | EM: 26.59% | F1: 31.61%\n"
          ]
        },
        {
          "name": "stderr",
          "output_type": "stream",
          "text": [
            "Evaluating:  90%|████████▉ | 3760/4182 [2:30:59<21:51,  3.11s/it]"
          ]
        },
        {
          "name": "stdout",
          "output_type": "stream",
          "text": [
            "Progress: 3760/4182 | EM: 26.52% | F1: 31.53%\n"
          ]
        },
        {
          "name": "stderr",
          "output_type": "stream",
          "text": [
            "Evaluating:  90%|█████████ | 3770/4182 [2:31:30<21:24,  3.12s/it]"
          ]
        },
        {
          "name": "stdout",
          "output_type": "stream",
          "text": [
            "Progress: 3770/4182 | EM: 26.45% | F1: 31.45%\n"
          ]
        },
        {
          "name": "stderr",
          "output_type": "stream",
          "text": [
            "Evaluating:  90%|█████████ | 3780/4182 [2:31:57<16:53,  2.52s/it]"
          ]
        },
        {
          "name": "stdout",
          "output_type": "stream",
          "text": [
            "Progress: 3780/4182 | EM: 26.40% | F1: 31.40%\n"
          ]
        },
        {
          "name": "stderr",
          "output_type": "stream",
          "text": [
            "Evaluating:  91%|█████████ | 3790/4182 [2:32:23<17:07,  2.62s/it]"
          ]
        },
        {
          "name": "stdout",
          "output_type": "stream",
          "text": [
            "Progress: 3790/4182 | EM: 26.44% | F1: 31.45%\n"
          ]
        },
        {
          "name": "stderr",
          "output_type": "stream",
          "text": [
            "Evaluating:  91%|█████████ | 3800/4182 [2:32:47<15:20,  2.41s/it]"
          ]
        },
        {
          "name": "stdout",
          "output_type": "stream",
          "text": [
            "Progress: 3800/4182 | EM: 26.42% | F1: 31.43%\n"
          ]
        },
        {
          "name": "stderr",
          "output_type": "stream",
          "text": [
            "Evaluating:  91%|█████████ | 3810/4182 [2:33:16<17:53,  2.89s/it]"
          ]
        },
        {
          "name": "stdout",
          "output_type": "stream",
          "text": [
            "Progress: 3810/4182 | EM: 26.43% | F1: 31.43%\n"
          ]
        },
        {
          "name": "stderr",
          "output_type": "stream",
          "text": [
            "Evaluating:  91%|█████████▏| 3820/4182 [2:33:38<10:58,  1.82s/it]"
          ]
        },
        {
          "name": "stdout",
          "output_type": "stream",
          "text": [
            "Progress: 3820/4182 | EM: 26.49% | F1: 31.48%\n"
          ]
        },
        {
          "name": "stderr",
          "output_type": "stream",
          "text": [
            "Evaluating:  92%|█████████▏| 3830/4182 [2:33:51<06:12,  1.06s/it]"
          ]
        },
        {
          "name": "stdout",
          "output_type": "stream",
          "text": [
            "Progress: 3830/4182 | EM: 26.61% | F1: 31.58%\n"
          ]
        },
        {
          "name": "stderr",
          "output_type": "stream",
          "text": [
            "Evaluating:  92%|█████████▏| 3840/4182 [2:34:08<07:12,  1.26s/it]"
          ]
        },
        {
          "name": "stdout",
          "output_type": "stream",
          "text": [
            "Progress: 3840/4182 | EM: 26.72% | F1: 31.68%\n"
          ]
        },
        {
          "name": "stderr",
          "output_type": "stream",
          "text": [
            "Evaluating:  92%|█████████▏| 3850/4182 [2:34:25<08:37,  1.56s/it]"
          ]
        },
        {
          "name": "stdout",
          "output_type": "stream",
          "text": [
            "Progress: 3850/4182 | EM: 26.88% | F1: 31.84%\n"
          ]
        },
        {
          "name": "stderr",
          "output_type": "stream",
          "text": [
            "Evaluating:  92%|█████████▏| 3860/4182 [2:34:44<11:20,  2.11s/it]"
          ]
        },
        {
          "name": "stdout",
          "output_type": "stream",
          "text": [
            "Progress: 3860/4182 | EM: 26.94% | F1: 31.90%\n"
          ]
        },
        {
          "name": "stderr",
          "output_type": "stream",
          "text": [
            "Evaluating:  93%|█████████▎| 3870/4182 [2:35:11<14:14,  2.74s/it]"
          ]
        },
        {
          "name": "stdout",
          "output_type": "stream",
          "text": [
            "Progress: 3870/4182 | EM: 26.95% | F1: 31.90%\n"
          ]
        },
        {
          "name": "stderr",
          "output_type": "stream",
          "text": [
            "Evaluating:  93%|█████████▎| 3880/4182 [2:35:34<12:44,  2.53s/it]"
          ]
        },
        {
          "name": "stdout",
          "output_type": "stream",
          "text": [
            "Progress: 3880/4182 | EM: 27.01% | F1: 31.95%\n"
          ]
        },
        {
          "name": "stderr",
          "output_type": "stream",
          "text": [
            "Evaluating:  93%|█████████▎| 3890/4182 [2:35:59<12:37,  2.59s/it]"
          ]
        },
        {
          "name": "stdout",
          "output_type": "stream",
          "text": [
            "Progress: 3890/4182 | EM: 27.02% | F1: 31.95%\n"
          ]
        },
        {
          "name": "stderr",
          "output_type": "stream",
          "text": [
            "Evaluating:  93%|█████████▎| 3900/4182 [2:36:23<09:52,  2.10s/it]"
          ]
        },
        {
          "name": "stdout",
          "output_type": "stream",
          "text": [
            "Progress: 3900/4182 | EM: 27.05% | F1: 32.01%\n"
          ]
        },
        {
          "name": "stderr",
          "output_type": "stream",
          "text": [
            "Evaluating:  93%|█████████▎| 3910/4182 [2:36:41<10:09,  2.24s/it]"
          ]
        },
        {
          "name": "stdout",
          "output_type": "stream",
          "text": [
            "Progress: 3910/4182 | EM: 27.11% | F1: 32.07%\n"
          ]
        },
        {
          "name": "stderr",
          "output_type": "stream",
          "text": [
            "Evaluating:  94%|█████████▎| 3920/4182 [2:36:58<08:04,  1.85s/it]"
          ]
        },
        {
          "name": "stdout",
          "output_type": "stream",
          "text": [
            "Progress: 3920/4182 | EM: 27.12% | F1: 32.08%\n"
          ]
        },
        {
          "name": "stderr",
          "output_type": "stream",
          "text": [
            "Evaluating:  94%|█████████▍| 3930/4182 [2:37:19<08:03,  1.92s/it]"
          ]
        },
        {
          "name": "stdout",
          "output_type": "stream",
          "text": [
            "Progress: 3930/4182 | EM: 27.12% | F1: 32.08%\n"
          ]
        },
        {
          "name": "stderr",
          "output_type": "stream",
          "text": [
            "Evaluating:  94%|█████████▍| 3940/4182 [2:37:39<09:08,  2.27s/it]"
          ]
        },
        {
          "name": "stdout",
          "output_type": "stream",
          "text": [
            "Progress: 3940/4182 | EM: 27.16% | F1: 32.12%\n"
          ]
        },
        {
          "name": "stderr",
          "output_type": "stream",
          "text": [
            "Evaluating:  94%|█████████▍| 3950/4182 [2:38:05<10:20,  2.67s/it]"
          ]
        },
        {
          "name": "stdout",
          "output_type": "stream",
          "text": [
            "Progress: 3950/4182 | EM: 27.19% | F1: 32.16%\n"
          ]
        },
        {
          "name": "stderr",
          "output_type": "stream",
          "text": [
            "Evaluating:  95%|█████████▍| 3960/4182 [2:38:31<09:49,  2.66s/it]"
          ]
        },
        {
          "name": "stdout",
          "output_type": "stream",
          "text": [
            "Progress: 3960/4182 | EM: 27.27% | F1: 32.25%\n"
          ]
        },
        {
          "name": "stderr",
          "output_type": "stream",
          "text": [
            "Evaluating:  95%|█████████▍| 3970/4182 [2:38:50<05:10,  1.46s/it]"
          ]
        },
        {
          "name": "stdout",
          "output_type": "stream",
          "text": [
            "Progress: 3970/4182 | EM: 27.25% | F1: 32.24%\n"
          ]
        },
        {
          "name": "stderr",
          "output_type": "stream",
          "text": [
            "Evaluating:  95%|█████████▌| 3980/4182 [2:39:17<08:49,  2.62s/it]"
          ]
        },
        {
          "name": "stdout",
          "output_type": "stream",
          "text": [
            "Progress: 3980/4182 | EM: 27.26% | F1: 32.24%\n"
          ]
        },
        {
          "name": "stderr",
          "output_type": "stream",
          "text": [
            "Evaluating:  95%|█████████▌| 3990/4182 [2:39:37<07:03,  2.21s/it]"
          ]
        },
        {
          "name": "stdout",
          "output_type": "stream",
          "text": [
            "Progress: 3990/4182 | EM: 27.32% | F1: 32.29%\n"
          ]
        },
        {
          "name": "stderr",
          "output_type": "stream",
          "text": [
            "Evaluating:  96%|█████████▌| 4000/4182 [2:39:59<07:35,  2.50s/it]"
          ]
        },
        {
          "name": "stdout",
          "output_type": "stream",
          "text": [
            "Progress: 4000/4182 | EM: 27.38% | F1: 32.36%\n"
          ]
        },
        {
          "name": "stderr",
          "output_type": "stream",
          "text": [
            "Evaluating:  96%|█████████▌| 4010/4182 [2:40:25<07:30,  2.62s/it]"
          ]
        },
        {
          "name": "stdout",
          "output_type": "stream",
          "text": [
            "Progress: 4010/4182 | EM: 27.46% | F1: 32.43%\n"
          ]
        },
        {
          "name": "stderr",
          "output_type": "stream",
          "text": [
            "Evaluating:  96%|█████████▌| 4020/4182 [2:40:48<07:26,  2.76s/it]"
          ]
        },
        {
          "name": "stdout",
          "output_type": "stream",
          "text": [
            "Progress: 4020/4182 | EM: 27.51% | F1: 32.48%\n"
          ]
        },
        {
          "name": "stderr",
          "output_type": "stream",
          "text": [
            "Evaluating:  96%|█████████▋| 4030/4182 [2:41:19<07:46,  3.07s/it]"
          ]
        },
        {
          "name": "stdout",
          "output_type": "stream",
          "text": [
            "Progress: 4030/4182 | EM: 27.44% | F1: 32.41%\n"
          ]
        },
        {
          "name": "stderr",
          "output_type": "stream",
          "text": [
            "Evaluating:  97%|█████████▋| 4040/4182 [2:41:50<07:20,  3.10s/it]"
          ]
        },
        {
          "name": "stdout",
          "output_type": "stream",
          "text": [
            "Progress: 4040/4182 | EM: 27.38% | F1: 32.33%\n"
          ]
        },
        {
          "name": "stderr",
          "output_type": "stream",
          "text": [
            "Evaluating:  97%|█████████▋| 4050/4182 [2:42:21<06:49,  3.10s/it]"
          ]
        },
        {
          "name": "stdout",
          "output_type": "stream",
          "text": [
            "Progress: 4050/4182 | EM: 27.31% | F1: 32.27%\n"
          ]
        },
        {
          "name": "stderr",
          "output_type": "stream",
          "text": [
            "Evaluating:  97%|█████████▋| 4060/4182 [2:42:50<05:26,  2.67s/it]"
          ]
        },
        {
          "name": "stdout",
          "output_type": "stream",
          "text": [
            "Progress: 4060/4182 | EM: 27.24% | F1: 32.21%\n"
          ]
        },
        {
          "name": "stderr",
          "output_type": "stream",
          "text": [
            "Evaluating:  97%|█████████▋| 4070/4182 [2:43:15<04:09,  2.23s/it]"
          ]
        },
        {
          "name": "stdout",
          "output_type": "stream",
          "text": [
            "Progress: 4070/4182 | EM: 27.27% | F1: 32.26%\n"
          ]
        },
        {
          "name": "stderr",
          "output_type": "stream",
          "text": [
            "Evaluating:  98%|█████████▊| 4080/4182 [2:43:31<03:10,  1.87s/it]"
          ]
        },
        {
          "name": "stdout",
          "output_type": "stream",
          "text": [
            "Progress: 4080/4182 | EM: 27.25% | F1: 32.27%\n"
          ]
        },
        {
          "name": "stderr",
          "output_type": "stream",
          "text": [
            "Evaluating:  98%|█████████▊| 4090/4182 [2:43:49<02:11,  1.42s/it]"
          ]
        },
        {
          "name": "stdout",
          "output_type": "stream",
          "text": [
            "Progress: 4090/4182 | EM: 27.21% | F1: 32.24%\n"
          ]
        },
        {
          "name": "stderr",
          "output_type": "stream",
          "text": [
            "Evaluating:  98%|█████████▊| 4100/4182 [2:44:01<01:08,  1.20it/s]"
          ]
        },
        {
          "name": "stdout",
          "output_type": "stream",
          "text": [
            "Progress: 4100/4182 | EM: 27.22% | F1: 32.27%\n"
          ]
        },
        {
          "name": "stderr",
          "output_type": "stream",
          "text": [
            "Evaluating:  98%|█████████▊| 4110/4182 [2:44:16<02:15,  1.88s/it]"
          ]
        },
        {
          "name": "stdout",
          "output_type": "stream",
          "text": [
            "Progress: 4110/4182 | EM: 27.18% | F1: 32.29%\n"
          ]
        },
        {
          "name": "stderr",
          "output_type": "stream",
          "text": [
            "Evaluating:  99%|█████████▊| 4120/4182 [2:44:37<01:47,  1.73s/it]"
          ]
        },
        {
          "name": "stdout",
          "output_type": "stream",
          "text": [
            "Progress: 4120/4182 | EM: 27.18% | F1: 32.30%\n"
          ]
        },
        {
          "name": "stderr",
          "output_type": "stream",
          "text": [
            "Evaluating:  99%|█████████▉| 4130/4182 [2:45:01<02:16,  2.63s/it]"
          ]
        },
        {
          "name": "stdout",
          "output_type": "stream",
          "text": [
            "Progress: 4130/4182 | EM: 27.17% | F1: 32.27%\n"
          ]
        },
        {
          "name": "stderr",
          "output_type": "stream",
          "text": [
            "Evaluating:  99%|█████████▉| 4140/4182 [2:45:16<01:16,  1.82s/it]"
          ]
        },
        {
          "name": "stdout",
          "output_type": "stream",
          "text": [
            "Progress: 4140/4182 | EM: 27.13% | F1: 32.23%\n"
          ]
        },
        {
          "name": "stderr",
          "output_type": "stream",
          "text": [
            "Evaluating:  99%|█████████▉| 4150/4182 [2:45:43<01:25,  2.66s/it]"
          ]
        },
        {
          "name": "stdout",
          "output_type": "stream",
          "text": [
            "Progress: 4150/4182 | EM: 27.08% | F1: 32.20%\n"
          ]
        },
        {
          "name": "stderr",
          "output_type": "stream",
          "text": [
            "Evaluating:  99%|█████████▉| 4160/4182 [2:46:07<00:51,  2.33s/it]"
          ]
        },
        {
          "name": "stdout",
          "output_type": "stream",
          "text": [
            "Progress: 4160/4182 | EM: 27.07% | F1: 32.17%\n"
          ]
        },
        {
          "name": "stderr",
          "output_type": "stream",
          "text": [
            "Evaluating: 100%|█████████▉| 4170/4182 [2:46:33<00:30,  2.51s/it]"
          ]
        },
        {
          "name": "stdout",
          "output_type": "stream",
          "text": [
            "Progress: 4170/4182 | EM: 27.05% | F1: 32.15%\n"
          ]
        },
        {
          "name": "stderr",
          "output_type": "stream",
          "text": [
            "Evaluating: 100%|█████████▉| 4180/4182 [2:46:57<00:05,  2.62s/it]"
          ]
        },
        {
          "name": "stdout",
          "output_type": "stream",
          "text": [
            "Progress: 4180/4182 | EM: 27.11% | F1: 32.21%\n"
          ]
        },
        {
          "name": "stderr",
          "output_type": "stream",
          "text": [
            "Evaluating: 100%|██████████| 4182/4182 [2:47:00<00:00,  2.40s/it]\n"
          ]
        },
        {
          "name": "stdout",
          "output_type": "stream",
          "text": [
            "\n",
            "================================================================================\n",
            "EVALUATION RESULTS\n",
            "================================================================================\n",
            "Model: unsloth/Llama-3.2-3B-Instruct-bnb-4bit\n",
            "Samples Evaluated: 4182\n",
            "Exact Match: 27.14%\n",
            "F1 Score: 32.24%\n",
            "Evaluation Time: 167.00 minutes\n",
            "Speed: 0.42 samples/second\n",
            "================================================================================\n",
            "📁 Predictions saved to: ./evaluation_results/predictions_Llama-3.2-3B-Instruct-bnb-4bit_20250608_043934.json\n",
            "📁 Detailed results saved to: ./evaluation_results/results_Llama-3.2-3B-Instruct-bnb-4bit_20250608_043934.json\n",
            "\n",
            "🔄 EVALUATING FINE-TUNED MODEL\n",
            "==================================================\n",
            "Loading model from: ./cuad_finetuned_llama3_2_3b\n",
            "Max sequence length: 65536\n",
            "==((====))==  Unsloth 2025.6.1: Fast Llama patching. Transformers: 4.51.3.\n",
            "   \\\\   /|    NVIDIA A100-SXM4-40GB. Num GPUs = 1. Max memory: 39.557 GB. Platform: Linux.\n",
            "O^O/ \\_/ \\    Torch: 2.6.0+cu124. CUDA: 8.0. CUDA Toolkit: 12.4. Triton: 3.2.0\n",
            "\\        /    Bfloat16 = TRUE. FA [Xformers = 0.0.29.post3. FA2 = False]\n",
            " \"-____-\"     Free license: http://github.com/unslothai/unsloth\n",
            "Unsloth: Fast downloading is enabled - ignore downloading bars which are red colored!\n",
            "unsloth/llama-3.2-3b-instruct-bnb-4bit does not have a padding token! Will use pad_token = <|finetune_right_pad_id|>.\n",
            "✅ Model loaded successfully!\n",
            "Evaluating on 4182 samples...\n"
          ]
        },
        {
          "name": "stderr",
          "output_type": "stream",
          "text": [
            "Evaluating:   0%|          | 10/4182 [00:08<48:15,  1.44it/s] "
          ]
        },
        {
          "name": "stdout",
          "output_type": "stream",
          "text": [
            "Progress: 10/4182 | EM: 70.00% | F1: 79.41%\n"
          ]
        },
        {
          "name": "stderr",
          "output_type": "stream",
          "text": [
            "Evaluating:   0%|          | 20/4182 [00:10<18:31,  3.74it/s]"
          ]
        },
        {
          "name": "stdout",
          "output_type": "stream",
          "text": [
            "Progress: 20/4182 | EM: 85.00% | F1: 89.71%\n"
          ]
        },
        {
          "name": "stderr",
          "output_type": "stream",
          "text": [
            "Evaluating:   1%|          | 30/4182 [00:13<17:24,  3.97it/s]"
          ]
        },
        {
          "name": "stdout",
          "output_type": "stream",
          "text": [
            "Progress: 30/4182 | EM: 90.00% | F1: 93.14%\n"
          ]
        },
        {
          "name": "stderr",
          "output_type": "stream",
          "text": [
            "Evaluating:   1%|          | 40/4182 [00:15<17:37,  3.92it/s]"
          ]
        },
        {
          "name": "stdout",
          "output_type": "stream",
          "text": [
            "Progress: 40/4182 | EM: 87.50% | F1: 89.96%\n"
          ]
        },
        {
          "name": "stderr",
          "output_type": "stream",
          "text": [
            "Evaluating:   1%|          | 50/4182 [00:27<1:39:03,  1.44s/it]"
          ]
        },
        {
          "name": "stdout",
          "output_type": "stream",
          "text": [
            "Progress: 50/4182 | EM: 80.00% | F1: 83.64%\n"
          ]
        },
        {
          "name": "stderr",
          "output_type": "stream",
          "text": [
            "Evaluating:   1%|▏         | 60/4182 [00:32<53:44,  1.28it/s]"
          ]
        },
        {
          "name": "stdout",
          "output_type": "stream",
          "text": [
            "Progress: 60/4182 | EM: 81.67% | F1: 84.70%\n"
          ]
        },
        {
          "name": "stderr",
          "output_type": "stream",
          "text": [
            "Evaluating:   2%|▏         | 70/4182 [00:35<19:16,  3.56it/s]"
          ]
        },
        {
          "name": "stdout",
          "output_type": "stream",
          "text": [
            "Progress: 70/4182 | EM: 84.29% | F1: 86.89%\n"
          ]
        },
        {
          "name": "stderr",
          "output_type": "stream",
          "text": [
            "Evaluating:   2%|▏         | 80/4182 [00:40<33:21,  2.05it/s]"
          ]
        },
        {
          "name": "stdout",
          "output_type": "stream",
          "text": [
            "Progress: 80/4182 | EM: 85.00% | F1: 87.31%\n"
          ]
        },
        {
          "name": "stderr",
          "output_type": "stream",
          "text": [
            "Evaluating:   2%|▏         | 90/4182 [00:55<2:30:19,  2.20s/it]"
          ]
        },
        {
          "name": "stdout",
          "output_type": "stream",
          "text": [
            "Progress: 90/4182 | EM: 83.33% | F1: 86.13%\n"
          ]
        },
        {
          "name": "stderr",
          "output_type": "stream",
          "text": [
            "Evaluating:   2%|▏         | 100/4182 [01:08<1:57:54,  1.73s/it]"
          ]
        },
        {
          "name": "stdout",
          "output_type": "stream",
          "text": [
            "Progress: 100/4182 | EM: 78.00% | F1: 80.52%\n"
          ]
        },
        {
          "name": "stderr",
          "output_type": "stream",
          "text": [
            "Evaluating:   3%|▎         | 110/4182 [01:27<2:25:24,  2.14s/it]"
          ]
        },
        {
          "name": "stdout",
          "output_type": "stream",
          "text": [
            "Progress: 110/4182 | EM: 74.55% | F1: 77.19%\n"
          ]
        },
        {
          "name": "stderr",
          "output_type": "stream",
          "text": [
            "Evaluating:   3%|▎         | 120/4182 [01:35<59:00,  1.15it/s]  "
          ]
        },
        {
          "name": "stdout",
          "output_type": "stream",
          "text": [
            "Progress: 120/4182 | EM: 72.50% | F1: 74.98%\n"
          ]
        },
        {
          "name": "stderr",
          "output_type": "stream",
          "text": [
            "Evaluating:   3%|▎         | 130/4182 [01:49<1:36:22,  1.43s/it]"
          ]
        },
        {
          "name": "stdout",
          "output_type": "stream",
          "text": [
            "Progress: 130/4182 | EM: 69.23% | F1: 72.10%\n"
          ]
        },
        {
          "name": "stderr",
          "output_type": "stream",
          "text": [
            "Evaluating:   3%|▎         | 140/4182 [02:00<58:58,  1.14it/s]  "
          ]
        },
        {
          "name": "stdout",
          "output_type": "stream",
          "text": [
            "Progress: 140/4182 | EM: 68.57% | F1: 71.27%\n"
          ]
        },
        {
          "name": "stderr",
          "output_type": "stream",
          "text": [
            "Evaluating:   4%|▎         | 150/4182 [02:19<2:57:40,  2.64s/it]"
          ]
        },
        {
          "name": "stdout",
          "output_type": "stream",
          "text": [
            "Progress: 150/4182 | EM: 66.00% | F1: 68.63%\n"
          ]
        },
        {
          "name": "stderr",
          "output_type": "stream",
          "text": [
            "Evaluating:   4%|▍         | 160/4182 [02:27<59:02,  1.14it/s]  "
          ]
        },
        {
          "name": "stdout",
          "output_type": "stream",
          "text": [
            "Progress: 160/4182 | EM: 65.00% | F1: 67.50%\n"
          ]
        },
        {
          "name": "stderr",
          "output_type": "stream",
          "text": [
            "Evaluating:   4%|▍         | 170/4182 [02:32<26:05,  2.56it/s]"
          ]
        },
        {
          "name": "stdout",
          "output_type": "stream",
          "text": [
            "Progress: 170/4182 | EM: 64.71% | F1: 67.63%\n"
          ]
        },
        {
          "name": "stderr",
          "output_type": "stream",
          "text": [
            "Evaluating:   4%|▍         | 180/4182 [02:35<16:01,  4.16it/s]"
          ]
        },
        {
          "name": "stdout",
          "output_type": "stream",
          "text": [
            "Progress: 180/4182 | EM: 66.67% | F1: 69.43%\n"
          ]
        },
        {
          "name": "stderr",
          "output_type": "stream",
          "text": [
            "Evaluating:   5%|▍         | 190/4182 [02:39<19:13,  3.46it/s]"
          ]
        },
        {
          "name": "stdout",
          "output_type": "stream",
          "text": [
            "Progress: 190/4182 | EM: 67.37% | F1: 69.99%\n"
          ]
        },
        {
          "name": "stderr",
          "output_type": "stream",
          "text": [
            "Evaluating:   5%|▍         | 200/4182 [02:42<15:30,  4.28it/s]"
          ]
        },
        {
          "name": "stdout",
          "output_type": "stream",
          "text": [
            "Progress: 200/4182 | EM: 69.00% | F1: 71.49%\n"
          ]
        },
        {
          "name": "stderr",
          "output_type": "stream",
          "text": [
            "Evaluating:   5%|▌         | 210/4182 [02:46<39:05,  1.69it/s]"
          ]
        },
        {
          "name": "stdout",
          "output_type": "stream",
          "text": [
            "Progress: 210/4182 | EM: 70.48% | F1: 72.84%\n"
          ]
        },
        {
          "name": "stderr",
          "output_type": "stream",
          "text": [
            "Evaluating:   5%|▌         | 220/4182 [03:01<1:19:23,  1.20s/it]"
          ]
        },
        {
          "name": "stdout",
          "output_type": "stream",
          "text": [
            "Progress: 220/4182 | EM: 70.91% | F1: 73.17%\n"
          ]
        },
        {
          "name": "stderr",
          "output_type": "stream",
          "text": [
            "Evaluating:   5%|▌         | 230/4182 [03:12<1:25:12,  1.29s/it]"
          ]
        },
        {
          "name": "stdout",
          "output_type": "stream",
          "text": [
            "Progress: 230/4182 | EM: 71.30% | F1: 73.50%\n"
          ]
        },
        {
          "name": "stderr",
          "output_type": "stream",
          "text": [
            "Evaluating:   6%|▌         | 240/4182 [03:19<32:57,  1.99it/s]"
          ]
        },
        {
          "name": "stdout",
          "output_type": "stream",
          "text": [
            "Progress: 240/4182 | EM: 72.08% | F1: 74.19%\n"
          ]
        },
        {
          "name": "stderr",
          "output_type": "stream",
          "text": [
            "Evaluating:   6%|▌         | 250/4182 [03:27<41:24,  1.58it/s]"
          ]
        },
        {
          "name": "stdout",
          "output_type": "stream",
          "text": [
            "Progress: 250/4182 | EM: 71.60% | F1: 74.04%\n"
          ]
        },
        {
          "name": "stderr",
          "output_type": "stream",
          "text": [
            "Evaluating:   6%|▌         | 260/4182 [03:41<1:11:14,  1.09s/it]"
          ]
        },
        {
          "name": "stdout",
          "output_type": "stream",
          "text": [
            "Progress: 260/4182 | EM: 70.77% | F1: 73.21%\n"
          ]
        },
        {
          "name": "stderr",
          "output_type": "stream",
          "text": [
            "Evaluating:   6%|▋         | 270/4182 [03:45<26:30,  2.46it/s]"
          ]
        },
        {
          "name": "stdout",
          "output_type": "stream",
          "text": [
            "Progress: 270/4182 | EM: 70.37% | F1: 72.77%\n"
          ]
        },
        {
          "name": "stderr",
          "output_type": "stream",
          "text": [
            "Evaluating:   7%|▋         | 280/4182 [03:48<19:31,  3.33it/s]"
          ]
        },
        {
          "name": "stdout",
          "output_type": "stream",
          "text": [
            "Progress: 280/4182 | EM: 71.43% | F1: 73.75%\n"
          ]
        },
        {
          "name": "stderr",
          "output_type": "stream",
          "text": [
            "Evaluating:   7%|▋         | 290/4182 [03:52<27:46,  2.34it/s]"
          ]
        },
        {
          "name": "stdout",
          "output_type": "stream",
          "text": [
            "Progress: 290/4182 | EM: 71.72% | F1: 73.96%\n"
          ]
        },
        {
          "name": "stderr",
          "output_type": "stream",
          "text": [
            "Evaluating:   7%|▋         | 300/4182 [04:04<1:03:52,  1.01it/s]"
          ]
        },
        {
          "name": "stdout",
          "output_type": "stream",
          "text": [
            "Progress: 300/4182 | EM: 71.33% | F1: 73.53%\n"
          ]
        },
        {
          "name": "stderr",
          "output_type": "stream",
          "text": [
            "Evaluating:   7%|▋         | 310/4182 [04:18<2:29:54,  2.32s/it]"
          ]
        },
        {
          "name": "stdout",
          "output_type": "stream",
          "text": [
            "Progress: 310/4182 | EM: 70.97% | F1: 73.17%\n"
          ]
        },
        {
          "name": "stderr",
          "output_type": "stream",
          "text": [
            "Evaluating:   8%|▊         | 320/4182 [04:23<28:16,  2.28it/s]"
          ]
        },
        {
          "name": "stdout",
          "output_type": "stream",
          "text": [
            "Progress: 320/4182 | EM: 71.56% | F1: 73.79%\n"
          ]
        },
        {
          "name": "stderr",
          "output_type": "stream",
          "text": [
            "Evaluating:   8%|▊         | 330/4182 [04:35<30:13,  2.12it/s]"
          ]
        },
        {
          "name": "stdout",
          "output_type": "stream",
          "text": [
            "Progress: 330/4182 | EM: 71.52% | F1: 73.67%\n"
          ]
        },
        {
          "name": "stderr",
          "output_type": "stream",
          "text": [
            "Evaluating:   8%|▊         | 340/4182 [04:39<22:23,  2.86it/s]"
          ]
        },
        {
          "name": "stdout",
          "output_type": "stream",
          "text": [
            "Progress: 340/4182 | EM: 72.35% | F1: 74.45%\n"
          ]
        },
        {
          "name": "stderr",
          "output_type": "stream",
          "text": [
            "Evaluating:   8%|▊         | 350/4182 [04:42<16:28,  3.88it/s]"
          ]
        },
        {
          "name": "stdout",
          "output_type": "stream",
          "text": [
            "Progress: 350/4182 | EM: 73.14% | F1: 75.18%\n"
          ]
        },
        {
          "name": "stderr",
          "output_type": "stream",
          "text": [
            "Evaluating:   9%|▊         | 360/4182 [04:48<23:31,  2.71it/s]"
          ]
        },
        {
          "name": "stdout",
          "output_type": "stream",
          "text": [
            "Progress: 360/4182 | EM: 73.33% | F1: 75.31%\n"
          ]
        },
        {
          "name": "stderr",
          "output_type": "stream",
          "text": [
            "Evaluating:   9%|▉         | 370/4182 [04:54<28:18,  2.24it/s]"
          ]
        },
        {
          "name": "stdout",
          "output_type": "stream",
          "text": [
            "Progress: 370/4182 | EM: 73.78% | F1: 75.71%\n"
          ]
        },
        {
          "name": "stderr",
          "output_type": "stream",
          "text": [
            "Evaluating:   9%|▉         | 380/4182 [05:06<56:21,  1.12it/s]  "
          ]
        },
        {
          "name": "stdout",
          "output_type": "stream",
          "text": [
            "Progress: 380/4182 | EM: 74.21% | F1: 76.10%\n"
          ]
        },
        {
          "name": "stderr",
          "output_type": "stream",
          "text": [
            "Evaluating:   9%|▉         | 390/4182 [05:16<56:30,  1.12it/s]  "
          ]
        },
        {
          "name": "stdout",
          "output_type": "stream",
          "text": [
            "Progress: 390/4182 | EM: 74.62% | F1: 76.45%\n"
          ]
        },
        {
          "name": "stderr",
          "output_type": "stream",
          "text": [
            "Evaluating:  10%|▉         | 400/4182 [05:19<24:04,  2.62it/s]"
          ]
        },
        {
          "name": "stdout",
          "output_type": "stream",
          "text": [
            "Progress: 400/4182 | EM: 75.25% | F1: 77.04%\n"
          ]
        },
        {
          "name": "stderr",
          "output_type": "stream",
          "text": [
            "Evaluating:  10%|▉         | 410/4182 [05:23<23:05,  2.72it/s]"
          ]
        },
        {
          "name": "stdout",
          "output_type": "stream",
          "text": [
            "Progress: 410/4182 | EM: 75.85% | F1: 77.60%\n"
          ]
        },
        {
          "name": "stderr",
          "output_type": "stream",
          "text": [
            "Evaluating:  10%|█         | 420/4182 [05:34<55:50,  1.12it/s]  "
          ]
        },
        {
          "name": "stdout",
          "output_type": "stream",
          "text": [
            "Progress: 420/4182 | EM: 75.48% | F1: 77.24%\n"
          ]
        },
        {
          "name": "stderr",
          "output_type": "stream",
          "text": [
            "Evaluating:  10%|█         | 430/4182 [05:45<1:22:22,  1.32s/it]"
          ]
        },
        {
          "name": "stdout",
          "output_type": "stream",
          "text": [
            "Progress: 430/4182 | EM: 75.58% | F1: 77.31%\n"
          ]
        },
        {
          "name": "stderr",
          "output_type": "stream",
          "text": [
            "Evaluating:  11%|█         | 440/4182 [05:52<39:15,  1.59it/s]"
          ]
        },
        {
          "name": "stdout",
          "output_type": "stream",
          "text": [
            "Progress: 440/4182 | EM: 75.45% | F1: 77.20%\n"
          ]
        },
        {
          "name": "stderr",
          "output_type": "stream",
          "text": [
            "Evaluating:  11%|█         | 450/4182 [06:00<1:08:45,  1.11s/it]"
          ]
        },
        {
          "name": "stdout",
          "output_type": "stream",
          "text": [
            "Progress: 450/4182 | EM: 75.56% | F1: 77.27%\n"
          ]
        },
        {
          "name": "stderr",
          "output_type": "stream",
          "text": [
            "Evaluating:  11%|█         | 460/4182 [06:04<18:27,  3.36it/s]"
          ]
        },
        {
          "name": "stdout",
          "output_type": "stream",
          "text": [
            "Progress: 460/4182 | EM: 76.09% | F1: 77.76%\n"
          ]
        },
        {
          "name": "stderr",
          "output_type": "stream",
          "text": [
            "Evaluating:  11%|█         | 470/4182 [06:07<14:20,  4.32it/s]"
          ]
        },
        {
          "name": "stdout",
          "output_type": "stream",
          "text": [
            "Progress: 470/4182 | EM: 76.60% | F1: 78.23%\n"
          ]
        },
        {
          "name": "stderr",
          "output_type": "stream",
          "text": [
            "Evaluating:  11%|█▏        | 480/4182 [06:09<14:14,  4.33it/s]"
          ]
        },
        {
          "name": "stdout",
          "output_type": "stream",
          "text": [
            "Progress: 480/4182 | EM: 76.88% | F1: 78.48%\n"
          ]
        },
        {
          "name": "stderr",
          "output_type": "stream",
          "text": [
            "Evaluating:  12%|█▏        | 490/4182 [06:11<14:09,  4.35it/s]"
          ]
        },
        {
          "name": "stdout",
          "output_type": "stream",
          "text": [
            "Progress: 490/4182 | EM: 77.35% | F1: 78.92%\n"
          ]
        },
        {
          "name": "stderr",
          "output_type": "stream",
          "text": [
            "Evaluating:  12%|█▏        | 500/4182 [06:20<1:11:55,  1.17s/it]"
          ]
        },
        {
          "name": "stdout",
          "output_type": "stream",
          "text": [
            "Progress: 500/4182 | EM: 76.80% | F1: 78.82%\n"
          ]
        },
        {
          "name": "stderr",
          "output_type": "stream",
          "text": [
            "Evaluating:  12%|█▏        | 510/4182 [06:29<52:06,  1.17it/s]  "
          ]
        },
        {
          "name": "stdout",
          "output_type": "stream",
          "text": [
            "Progress: 510/4182 | EM: 77.06% | F1: 79.04%\n"
          ]
        },
        {
          "name": "stderr",
          "output_type": "stream",
          "text": [
            "Evaluating:  12%|█▏        | 520/4182 [06:39<54:13,  1.13it/s]  "
          ]
        },
        {
          "name": "stdout",
          "output_type": "stream",
          "text": [
            "Progress: 520/4182 | EM: 76.54% | F1: 78.58%\n"
          ]
        },
        {
          "name": "stderr",
          "output_type": "stream",
          "text": [
            "Evaluating:  13%|█▎        | 530/4182 [06:46<39:14,  1.55it/s]"
          ]
        },
        {
          "name": "stdout",
          "output_type": "stream",
          "text": [
            "Progress: 530/4182 | EM: 76.79% | F1: 78.79%\n"
          ]
        },
        {
          "name": "stderr",
          "output_type": "stream",
          "text": [
            "Evaluating:  13%|█▎        | 540/4182 [07:03<2:02:06,  2.01s/it]"
          ]
        },
        {
          "name": "stdout",
          "output_type": "stream",
          "text": [
            "Progress: 540/4182 | EM: 75.74% | F1: 77.82%\n"
          ]
        },
        {
          "name": "stderr",
          "output_type": "stream",
          "text": [
            "Evaluating:  13%|█▎        | 550/4182 [07:07<22:26,  2.70it/s]"
          ]
        },
        {
          "name": "stdout",
          "output_type": "stream",
          "text": [
            "Progress: 550/4182 | EM: 76.18% | F1: 78.23%\n"
          ]
        },
        {
          "name": "stderr",
          "output_type": "stream",
          "text": [
            "Evaluating:  13%|█▎        | 560/4182 [07:18<1:35:47,  1.59s/it]"
          ]
        },
        {
          "name": "stdout",
          "output_type": "stream",
          "text": [
            "Progress: 560/4182 | EM: 76.25% | F1: 78.26%\n"
          ]
        },
        {
          "name": "stderr",
          "output_type": "stream",
          "text": [
            "Evaluating:  14%|█▎        | 570/4182 [07:27<1:33:30,  1.55s/it]"
          ]
        },
        {
          "name": "stdout",
          "output_type": "stream",
          "text": [
            "Progress: 570/4182 | EM: 76.14% | F1: 78.11%\n"
          ]
        },
        {
          "name": "stderr",
          "output_type": "stream",
          "text": [
            "Evaluating:  14%|█▍        | 580/4182 [07:36<1:11:00,  1.18s/it]"
          ]
        },
        {
          "name": "stdout",
          "output_type": "stream",
          "text": [
            "Progress: 580/4182 | EM: 75.52% | F1: 77.57%\n"
          ]
        },
        {
          "name": "stderr",
          "output_type": "stream",
          "text": [
            "Evaluating:  14%|█▍        | 590/4182 [07:48<1:23:43,  1.40s/it]"
          ]
        },
        {
          "name": "stdout",
          "output_type": "stream",
          "text": [
            "Progress: 590/4182 | EM: 75.76% | F1: 77.78%\n"
          ]
        },
        {
          "name": "stderr",
          "output_type": "stream",
          "text": [
            "Evaluating:  14%|█▍        | 600/4182 [08:05<1:17:35,  1.30s/it]"
          ]
        },
        {
          "name": "stdout",
          "output_type": "stream",
          "text": [
            "Progress: 600/4182 | EM: 75.33% | F1: 77.32%\n"
          ]
        },
        {
          "name": "stderr",
          "output_type": "stream",
          "text": [
            "Evaluating:  15%|█▍        | 610/4182 [08:17<1:55:11,  1.94s/it]"
          ]
        },
        {
          "name": "stdout",
          "output_type": "stream",
          "text": [
            "Progress: 610/4182 | EM: 75.25% | F1: 77.20%\n"
          ]
        },
        {
          "name": "stderr",
          "output_type": "stream",
          "text": [
            "Evaluating:  15%|█▍        | 620/4182 [08:27<1:05:50,  1.11s/it]"
          ]
        },
        {
          "name": "stdout",
          "output_type": "stream",
          "text": [
            "Progress: 620/4182 | EM: 74.84% | F1: 76.81%\n"
          ]
        },
        {
          "name": "stderr",
          "output_type": "stream",
          "text": [
            "Evaluating:  15%|█▌        | 630/4182 [08:37<45:54,  1.29it/s]"
          ]
        },
        {
          "name": "stdout",
          "output_type": "stream",
          "text": [
            "Progress: 630/4182 | EM: 75.08% | F1: 77.03%\n"
          ]
        },
        {
          "name": "stderr",
          "output_type": "stream",
          "text": [
            "Evaluating:  15%|█▌        | 640/4182 [08:50<1:13:38,  1.25s/it]"
          ]
        },
        {
          "name": "stdout",
          "output_type": "stream",
          "text": [
            "Progress: 640/4182 | EM: 74.84% | F1: 76.76%\n"
          ]
        },
        {
          "name": "stderr",
          "output_type": "stream",
          "text": [
            "Evaluating:  16%|█▌        | 650/4182 [09:04<1:45:52,  1.80s/it]"
          ]
        },
        {
          "name": "stdout",
          "output_type": "stream",
          "text": [
            "Progress: 650/4182 | EM: 74.62% | F1: 76.53%\n"
          ]
        },
        {
          "name": "stderr",
          "output_type": "stream",
          "text": [
            "Evaluating:  16%|█▌        | 660/4182 [09:14<40:37,  1.45it/s]"
          ]
        },
        {
          "name": "stdout",
          "output_type": "stream",
          "text": [
            "Progress: 660/4182 | EM: 74.55% | F1: 76.55%\n"
          ]
        },
        {
          "name": "stderr",
          "output_type": "stream",
          "text": [
            "Evaluating:  16%|█▌        | 670/4182 [09:20<23:09,  2.53it/s]"
          ]
        },
        {
          "name": "stdout",
          "output_type": "stream",
          "text": [
            "Progress: 670/4182 | EM: 74.78% | F1: 76.75%\n"
          ]
        },
        {
          "name": "stderr",
          "output_type": "stream",
          "text": [
            "Evaluating:  16%|█▋        | 680/4182 [09:27<25:31,  2.29it/s]"
          ]
        },
        {
          "name": "stdout",
          "output_type": "stream",
          "text": [
            "Progress: 680/4182 | EM: 75.00% | F1: 76.95%\n"
          ]
        },
        {
          "name": "stderr",
          "output_type": "stream",
          "text": [
            "Evaluating:  16%|█▋        | 690/4182 [09:41<1:27:08,  1.50s/it]"
          ]
        },
        {
          "name": "stdout",
          "output_type": "stream",
          "text": [
            "Progress: 690/4182 | EM: 74.78% | F1: 76.71%\n"
          ]
        },
        {
          "name": "stderr",
          "output_type": "stream",
          "text": [
            "Evaluating:  17%|█▋        | 700/4182 [09:44<30:33,  1.90it/s]"
          ]
        },
        {
          "name": "stdout",
          "output_type": "stream",
          "text": [
            "Progress: 700/4182 | EM: 74.71% | F1: 76.72%\n"
          ]
        },
        {
          "name": "stderr",
          "output_type": "stream",
          "text": [
            "Evaluating:  17%|█▋        | 710/4182 [09:54<32:28,  1.78it/s]"
          ]
        },
        {
          "name": "stdout",
          "output_type": "stream",
          "text": [
            "Progress: 710/4182 | EM: 74.37% | F1: 76.34%\n"
          ]
        },
        {
          "name": "stderr",
          "output_type": "stream",
          "text": [
            "Evaluating:  17%|█▋        | 720/4182 [10:00<40:15,  1.43it/s]"
          ]
        },
        {
          "name": "stdout",
          "output_type": "stream",
          "text": [
            "Progress: 720/4182 | EM: 74.31% | F1: 76.25%\n"
          ]
        },
        {
          "name": "stderr",
          "output_type": "stream",
          "text": [
            "Evaluating:  17%|█▋        | 730/4182 [10:07<1:15:53,  1.32s/it]"
          ]
        },
        {
          "name": "stdout",
          "output_type": "stream",
          "text": [
            "Progress: 730/4182 | EM: 74.52% | F1: 76.45%\n"
          ]
        },
        {
          "name": "stderr",
          "output_type": "stream",
          "text": [
            "Evaluating:  18%|█▊        | 740/4182 [10:13<47:15,  1.21it/s]"
          ]
        },
        {
          "name": "stdout",
          "output_type": "stream",
          "text": [
            "Progress: 740/4182 | EM: 74.32% | F1: 76.23%\n"
          ]
        },
        {
          "name": "stderr",
          "output_type": "stream",
          "text": [
            "Evaluating:  18%|█▊        | 750/4182 [10:27<1:04:49,  1.13s/it]"
          ]
        },
        {
          "name": "stdout",
          "output_type": "stream",
          "text": [
            "Progress: 750/4182 | EM: 74.13% | F1: 76.05%\n"
          ]
        },
        {
          "name": "stderr",
          "output_type": "stream",
          "text": [
            "Evaluating:  18%|█▊        | 760/4182 [10:46<1:21:46,  1.43s/it]"
          ]
        },
        {
          "name": "stdout",
          "output_type": "stream",
          "text": [
            "Progress: 760/4182 | EM: 73.82% | F1: 75.73%\n"
          ]
        },
        {
          "name": "stderr",
          "output_type": "stream",
          "text": [
            "Evaluating:  18%|█▊        | 770/4182 [10:57<53:36,  1.06it/s]"
          ]
        },
        {
          "name": "stdout",
          "output_type": "stream",
          "text": [
            "Progress: 770/4182 | EM: 73.38% | F1: 75.28%\n"
          ]
        },
        {
          "name": "stderr",
          "output_type": "stream",
          "text": [
            "Evaluating:  19%|█▊        | 780/4182 [11:14<58:03,  1.02s/it]  "
          ]
        },
        {
          "name": "stdout",
          "output_type": "stream",
          "text": [
            "Progress: 780/4182 | EM: 72.95% | F1: 74.85%\n"
          ]
        },
        {
          "name": "stderr",
          "output_type": "stream",
          "text": [
            "Evaluating:  19%|█▉        | 790/4182 [11:17<14:28,  3.91it/s]"
          ]
        },
        {
          "name": "stdout",
          "output_type": "stream",
          "text": [
            "Progress: 790/4182 | EM: 73.04% | F1: 74.92%\n"
          ]
        },
        {
          "name": "stderr",
          "output_type": "stream",
          "text": [
            "Evaluating:  19%|█▉        | 800/4182 [11:19<13:08,  4.29it/s]"
          ]
        },
        {
          "name": "stdout",
          "output_type": "stream",
          "text": [
            "Progress: 800/4182 | EM: 73.38% | F1: 75.23%\n"
          ]
        },
        {
          "name": "stderr",
          "output_type": "stream",
          "text": [
            "Evaluating:  19%|█▉        | 810/4182 [11:21<13:04,  4.30it/s]"
          ]
        },
        {
          "name": "stdout",
          "output_type": "stream",
          "text": [
            "Progress: 810/4182 | EM: 73.70% | F1: 75.54%\n"
          ]
        },
        {
          "name": "stderr",
          "output_type": "stream",
          "text": [
            "Evaluating:  20%|█▉        | 820/4182 [11:24<12:52,  4.35it/s]"
          ]
        },
        {
          "name": "stdout",
          "output_type": "stream",
          "text": [
            "Progress: 820/4182 | EM: 74.02% | F1: 75.84%\n"
          ]
        },
        {
          "name": "stderr",
          "output_type": "stream",
          "text": [
            "Evaluating:  20%|█▉        | 830/4182 [11:43<2:19:54,  2.50s/it]"
          ]
        },
        {
          "name": "stdout",
          "output_type": "stream",
          "text": [
            "Progress: 830/4182 | EM: 73.61% | F1: 75.43%\n"
          ]
        },
        {
          "name": "stderr",
          "output_type": "stream",
          "text": [
            "Evaluating:  20%|██        | 840/4182 [11:55<1:32:26,  1.66s/it]"
          ]
        },
        {
          "name": "stdout",
          "output_type": "stream",
          "text": [
            "Progress: 840/4182 | EM: 73.45% | F1: 75.27%\n"
          ]
        },
        {
          "name": "stderr",
          "output_type": "stream",
          "text": [
            "Evaluating:  20%|██        | 850/4182 [12:10<1:12:34,  1.31s/it]"
          ]
        },
        {
          "name": "stdout",
          "output_type": "stream",
          "text": [
            "Progress: 850/4182 | EM: 73.29% | F1: 75.11%\n"
          ]
        },
        {
          "name": "stderr",
          "output_type": "stream",
          "text": [
            "Evaluating:  21%|██        | 860/4182 [12:35<2:32:07,  2.75s/it]"
          ]
        },
        {
          "name": "stdout",
          "output_type": "stream",
          "text": [
            "Progress: 860/4182 | EM: 72.91% | F1: 74.76%\n"
          ]
        },
        {
          "name": "stderr",
          "output_type": "stream",
          "text": [
            "Evaluating:  21%|██        | 870/4182 [12:46<1:05:34,  1.19s/it]"
          ]
        },
        {
          "name": "stdout",
          "output_type": "stream",
          "text": [
            "Progress: 870/4182 | EM: 72.76% | F1: 74.77%\n"
          ]
        },
        {
          "name": "stderr",
          "output_type": "stream",
          "text": [
            "Evaluating:  21%|██        | 880/4182 [12:56<1:08:08,  1.24s/it]"
          ]
        },
        {
          "name": "stdout",
          "output_type": "stream",
          "text": [
            "Progress: 880/4182 | EM: 72.95% | F1: 74.97%\n"
          ]
        },
        {
          "name": "stderr",
          "output_type": "stream",
          "text": [
            "Evaluating:  21%|██▏       | 890/4182 [13:07<51:29,  1.07it/s]"
          ]
        },
        {
          "name": "stdout",
          "output_type": "stream",
          "text": [
            "Progress: 890/4182 | EM: 73.03% | F1: 75.03%\n"
          ]
        },
        {
          "name": "stderr",
          "output_type": "stream",
          "text": [
            "Evaluating:  22%|██▏       | 900/4182 [13:22<1:53:08,  2.07s/it]"
          ]
        },
        {
          "name": "stdout",
          "output_type": "stream",
          "text": [
            "Progress: 900/4182 | EM: 72.89% | F1: 74.87%\n"
          ]
        },
        {
          "name": "stderr",
          "output_type": "stream",
          "text": [
            "Evaluating:  22%|██▏       | 910/4182 [13:31<1:09:14,  1.27s/it]"
          ]
        },
        {
          "name": "stdout",
          "output_type": "stream",
          "text": [
            "Progress: 910/4182 | EM: 72.64% | F1: 74.74%\n"
          ]
        },
        {
          "name": "stderr",
          "output_type": "stream",
          "text": [
            "Evaluating:  22%|██▏       | 920/4182 [13:34<14:15,  3.81it/s]"
          ]
        },
        {
          "name": "stdout",
          "output_type": "stream",
          "text": [
            "Progress: 920/4182 | EM: 72.93% | F1: 75.02%\n"
          ]
        },
        {
          "name": "stderr",
          "output_type": "stream",
          "text": [
            "Evaluating:  22%|██▏       | 930/4182 [13:36<12:24,  4.37it/s]"
          ]
        },
        {
          "name": "stdout",
          "output_type": "stream",
          "text": [
            "Progress: 930/4182 | EM: 73.23% | F1: 75.29%\n"
          ]
        },
        {
          "name": "stderr",
          "output_type": "stream",
          "text": [
            "Evaluating:  22%|██▏       | 940/4182 [13:38<12:20,  4.38it/s]"
          ]
        },
        {
          "name": "stdout",
          "output_type": "stream",
          "text": [
            "Progress: 940/4182 | EM: 73.51% | F1: 75.55%\n"
          ]
        },
        {
          "name": "stderr",
          "output_type": "stream",
          "text": [
            "Evaluating:  23%|██▎       | 950/4182 [13:43<26:57,  2.00it/s]"
          ]
        },
        {
          "name": "stdout",
          "output_type": "stream",
          "text": [
            "Progress: 950/4182 | EM: 73.58% | F1: 75.60%\n"
          ]
        },
        {
          "name": "stderr",
          "output_type": "stream",
          "text": [
            "Evaluating:  23%|██▎       | 960/4182 [13:46<14:46,  3.63it/s]"
          ]
        },
        {
          "name": "stdout",
          "output_type": "stream",
          "text": [
            "Progress: 960/4182 | EM: 73.85% | F1: 75.85%\n"
          ]
        },
        {
          "name": "stderr",
          "output_type": "stream",
          "text": [
            "Evaluating:  23%|██▎       | 970/4182 [13:50<14:45,  3.63it/s]"
          ]
        },
        {
          "name": "stdout",
          "output_type": "stream",
          "text": [
            "Progress: 970/4182 | EM: 74.12% | F1: 76.10%\n"
          ]
        },
        {
          "name": "stderr",
          "output_type": "stream",
          "text": [
            "Evaluating:  23%|██▎       | 980/4182 [13:53<13:52,  3.84it/s]"
          ]
        },
        {
          "name": "stdout",
          "output_type": "stream",
          "text": [
            "Progress: 980/4182 | EM: 74.39% | F1: 76.34%\n"
          ]
        },
        {
          "name": "stderr",
          "output_type": "stream",
          "text": [
            "Evaluating:  24%|██▎       | 990/4182 [14:02<1:20:23,  1.51s/it]"
          ]
        },
        {
          "name": "stdout",
          "output_type": "stream",
          "text": [
            "Progress: 990/4182 | EM: 74.34% | F1: 76.28%\n"
          ]
        },
        {
          "name": "stderr",
          "output_type": "stream",
          "text": [
            "Evaluating:  24%|██▍       | 1000/4182 [14:16<48:37,  1.09it/s]"
          ]
        },
        {
          "name": "stdout",
          "output_type": "stream",
          "text": [
            "Progress: 1000/4182 | EM: 74.20% | F1: 76.13%\n"
          ]
        },
        {
          "name": "stderr",
          "output_type": "stream",
          "text": [
            "Evaluating:  24%|██▍       | 1010/4182 [14:24<43:56,  1.20it/s]"
          ]
        },
        {
          "name": "stdout",
          "output_type": "stream",
          "text": [
            "Progress: 1010/4182 | EM: 73.76% | F1: 75.69%\n"
          ]
        },
        {
          "name": "stderr",
          "output_type": "stream",
          "text": [
            "Evaluating:  24%|██▍       | 1020/4182 [14:38<1:11:01,  1.35s/it]"
          ]
        },
        {
          "name": "stdout",
          "output_type": "stream",
          "text": [
            "Progress: 1020/4182 | EM: 73.73% | F1: 75.65%\n"
          ]
        },
        {
          "name": "stderr",
          "output_type": "stream",
          "text": [
            "Evaluating:  25%|██▍       | 1030/4182 [14:51<1:20:23,  1.53s/it]"
          ]
        },
        {
          "name": "stdout",
          "output_type": "stream",
          "text": [
            "Progress: 1030/4182 | EM: 73.30% | F1: 75.33%\n"
          ]
        },
        {
          "name": "stderr",
          "output_type": "stream",
          "text": [
            "Evaluating:  25%|██▍       | 1040/4182 [15:01<30:30,  1.72it/s]"
          ]
        },
        {
          "name": "stdout",
          "output_type": "stream",
          "text": [
            "Progress: 1040/4182 | EM: 73.37% | F1: 75.37%\n"
          ]
        },
        {
          "name": "stderr",
          "output_type": "stream",
          "text": [
            "Evaluating:  25%|██▌       | 1050/4182 [15:12<39:19,  1.33it/s]"
          ]
        },
        {
          "name": "stdout",
          "output_type": "stream",
          "text": [
            "Progress: 1050/4182 | EM: 73.24% | F1: 75.23%\n"
          ]
        },
        {
          "name": "stderr",
          "output_type": "stream",
          "text": [
            "Evaluating:  25%|██▌       | 1060/4182 [15:20<33:03,  1.57it/s]"
          ]
        },
        {
          "name": "stdout",
          "output_type": "stream",
          "text": [
            "Progress: 1060/4182 | EM: 73.21% | F1: 75.19%\n"
          ]
        },
        {
          "name": "stderr",
          "output_type": "stream",
          "text": [
            "Evaluating:  26%|██▌       | 1070/4182 [15:30<46:21,  1.12it/s]"
          ]
        },
        {
          "name": "stdout",
          "output_type": "stream",
          "text": [
            "Progress: 1070/4182 | EM: 73.08% | F1: 75.08%\n"
          ]
        },
        {
          "name": "stderr",
          "output_type": "stream",
          "text": [
            "Evaluating:  26%|██▌       | 1080/4182 [15:44<41:55,  1.23it/s]"
          ]
        },
        {
          "name": "stdout",
          "output_type": "stream",
          "text": [
            "Progress: 1080/4182 | EM: 72.87% | F1: 74.85%\n"
          ]
        },
        {
          "name": "stderr",
          "output_type": "stream",
          "text": [
            "Evaluating:  26%|██▌       | 1090/4182 [15:58<1:02:57,  1.22s/it]"
          ]
        },
        {
          "name": "stdout",
          "output_type": "stream",
          "text": [
            "Progress: 1090/4182 | EM: 72.75% | F1: 74.73%\n"
          ]
        },
        {
          "name": "stderr",
          "output_type": "stream",
          "text": [
            "Evaluating:  26%|██▋       | 1100/4182 [16:07<34:21,  1.49it/s]"
          ]
        },
        {
          "name": "stdout",
          "output_type": "stream",
          "text": [
            "Progress: 1100/4182 | EM: 72.91% | F1: 74.87%\n"
          ]
        },
        {
          "name": "stderr",
          "output_type": "stream",
          "text": [
            "Evaluating:  27%|██▋       | 1110/4182 [16:14<29:43,  1.72it/s]"
          ]
        },
        {
          "name": "stdout",
          "output_type": "stream",
          "text": [
            "Progress: 1110/4182 | EM: 72.79% | F1: 74.80%\n"
          ]
        },
        {
          "name": "stderr",
          "output_type": "stream",
          "text": [
            "Evaluating:  27%|██▋       | 1120/4182 [16:20<21:12,  2.41it/s]"
          ]
        },
        {
          "name": "stdout",
          "output_type": "stream",
          "text": [
            "Progress: 1120/4182 | EM: 72.77% | F1: 74.77%\n"
          ]
        },
        {
          "name": "stderr",
          "output_type": "stream",
          "text": [
            "Evaluating:  27%|██▋       | 1130/4182 [16:27<21:46,  2.34it/s]"
          ]
        },
        {
          "name": "stdout",
          "output_type": "stream",
          "text": [
            "Progress: 1130/4182 | EM: 72.83% | F1: 74.82%\n"
          ]
        },
        {
          "name": "stderr",
          "output_type": "stream",
          "text": [
            "Evaluating:  27%|██▋       | 1140/4182 [16:29<15:19,  3.31it/s]"
          ]
        },
        {
          "name": "stdout",
          "output_type": "stream",
          "text": [
            "Progress: 1140/4182 | EM: 73.07% | F1: 75.04%\n"
          ]
        },
        {
          "name": "stderr",
          "output_type": "stream",
          "text": [
            "Evaluating:  27%|██▋       | 1150/4182 [16:35<39:25,  1.28it/s]"
          ]
        },
        {
          "name": "stdout",
          "output_type": "stream",
          "text": [
            "Progress: 1150/4182 | EM: 73.13% | F1: 75.08%\n"
          ]
        },
        {
          "name": "stderr",
          "output_type": "stream",
          "text": [
            "Evaluating:  28%|██▊       | 1160/4182 [16:51<59:35,  1.18s/it]  "
          ]
        },
        {
          "name": "stdout",
          "output_type": "stream",
          "text": [
            "Progress: 1160/4182 | EM: 72.93% | F1: 74.90%\n"
          ]
        },
        {
          "name": "stderr",
          "output_type": "stream",
          "text": [
            "Evaluating:  28%|██▊       | 1170/4182 [17:04<1:29:15,  1.78s/it]"
          ]
        },
        {
          "name": "stdout",
          "output_type": "stream",
          "text": [
            "Progress: 1170/4182 | EM: 72.99% | F1: 74.95%\n"
          ]
        },
        {
          "name": "stderr",
          "output_type": "stream",
          "text": [
            "Evaluating:  28%|██▊       | 1180/4182 [17:14<45:10,  1.11it/s]"
          ]
        },
        {
          "name": "stdout",
          "output_type": "stream",
          "text": [
            "Progress: 1180/4182 | EM: 73.05% | F1: 74.99%\n"
          ]
        },
        {
          "name": "stderr",
          "output_type": "stream",
          "text": [
            "Evaluating:  28%|██▊       | 1190/4182 [17:32<51:26,  1.03s/it]  "
          ]
        },
        {
          "name": "stdout",
          "output_type": "stream",
          "text": [
            "Progress: 1190/4182 | EM: 72.77% | F1: 74.70%\n"
          ]
        },
        {
          "name": "stderr",
          "output_type": "stream",
          "text": [
            "Evaluating:  29%|██▊       | 1200/4182 [17:40<28:28,  1.75it/s]"
          ]
        },
        {
          "name": "stdout",
          "output_type": "stream",
          "text": [
            "Progress: 1200/4182 | EM: 72.58% | F1: 74.57%\n"
          ]
        },
        {
          "name": "stderr",
          "output_type": "stream",
          "text": [
            "Evaluating:  29%|██▉       | 1210/4182 [17:45<36:49,  1.35it/s]"
          ]
        },
        {
          "name": "stdout",
          "output_type": "stream",
          "text": [
            "Progress: 1210/4182 | EM: 72.56% | F1: 74.55%\n"
          ]
        },
        {
          "name": "stderr",
          "output_type": "stream",
          "text": [
            "Evaluating:  29%|██▉       | 1220/4182 [17:48<12:29,  3.95it/s]"
          ]
        },
        {
          "name": "stdout",
          "output_type": "stream",
          "text": [
            "Progress: 1220/4182 | EM: 72.79% | F1: 74.75%\n"
          ]
        },
        {
          "name": "stderr",
          "output_type": "stream",
          "text": [
            "Evaluating:  29%|██▉       | 1230/4182 [17:52<15:55,  3.09it/s]"
          ]
        },
        {
          "name": "stdout",
          "output_type": "stream",
          "text": [
            "Progress: 1230/4182 | EM: 72.93% | F1: 74.89%\n"
          ]
        },
        {
          "name": "stderr",
          "output_type": "stream",
          "text": [
            "Evaluating:  30%|██▉       | 1240/4182 [18:04<55:38,  1.13s/it]  "
          ]
        },
        {
          "name": "stdout",
          "output_type": "stream",
          "text": [
            "Progress: 1240/4182 | EM: 72.98% | F1: 74.94%\n"
          ]
        },
        {
          "name": "stderr",
          "output_type": "stream",
          "text": [
            "Evaluating:  30%|██▉       | 1250/4182 [18:13<56:33,  1.16s/it]  "
          ]
        },
        {
          "name": "stdout",
          "output_type": "stream",
          "text": [
            "Progress: 1250/4182 | EM: 72.88% | F1: 74.82%\n"
          ]
        },
        {
          "name": "stderr",
          "output_type": "stream",
          "text": [
            "Evaluating:  30%|███       | 1260/4182 [18:23<44:38,  1.09it/s]"
          ]
        },
        {
          "name": "stdout",
          "output_type": "stream",
          "text": [
            "Progress: 1260/4182 | EM: 72.70% | F1: 74.64%\n"
          ]
        },
        {
          "name": "stderr",
          "output_type": "stream",
          "text": [
            "Evaluating:  30%|███       | 1270/4182 [18:34<41:38,  1.17it/s]"
          ]
        },
        {
          "name": "stdout",
          "output_type": "stream",
          "text": [
            "Progress: 1270/4182 | EM: 72.68% | F1: 74.61%\n"
          ]
        },
        {
          "name": "stderr",
          "output_type": "stream",
          "text": [
            "Evaluating:  31%|███       | 1280/4182 [18:54<1:44:22,  2.16s/it]"
          ]
        },
        {
          "name": "stdout",
          "output_type": "stream",
          "text": [
            "Progress: 1280/4182 | EM: 72.58% | F1: 74.49%\n"
          ]
        },
        {
          "name": "stderr",
          "output_type": "stream",
          "text": [
            "Evaluating:  31%|███       | 1290/4182 [19:04<1:01:45,  1.28s/it]"
          ]
        },
        {
          "name": "stdout",
          "output_type": "stream",
          "text": [
            "Progress: 1290/4182 | EM: 72.56% | F1: 74.51%\n"
          ]
        },
        {
          "name": "stderr",
          "output_type": "stream",
          "text": [
            "Evaluating:  31%|███       | 1300/4182 [19:15<42:49,  1.12it/s]"
          ]
        },
        {
          "name": "stdout",
          "output_type": "stream",
          "text": [
            "Progress: 1300/4182 | EM: 72.62% | F1: 74.56%\n"
          ]
        },
        {
          "name": "stderr",
          "output_type": "stream",
          "text": [
            "Evaluating:  31%|███▏      | 1310/4182 [19:28<1:07:41,  1.41s/it]"
          ]
        },
        {
          "name": "stdout",
          "output_type": "stream",
          "text": [
            "Progress: 1310/4182 | EM: 72.44% | F1: 74.40%\n"
          ]
        },
        {
          "name": "stderr",
          "output_type": "stream",
          "text": [
            "Evaluating:  32%|███▏      | 1320/4182 [19:38<56:38,  1.19s/it]"
          ]
        },
        {
          "name": "stdout",
          "output_type": "stream",
          "text": [
            "Progress: 1320/4182 | EM: 72.50% | F1: 74.47%\n"
          ]
        },
        {
          "name": "stderr",
          "output_type": "stream",
          "text": [
            "Evaluating:  32%|███▏      | 1330/4182 [19:48<55:05,  1.16s/it]  "
          ]
        },
        {
          "name": "stdout",
          "output_type": "stream",
          "text": [
            "Progress: 1330/4182 | EM: 72.63% | F1: 74.58%\n"
          ]
        },
        {
          "name": "stderr",
          "output_type": "stream",
          "text": [
            "Evaluating:  32%|███▏      | 1340/4182 [19:55<19:23,  2.44it/s]"
          ]
        },
        {
          "name": "stdout",
          "output_type": "stream",
          "text": [
            "Progress: 1340/4182 | EM: 72.76% | F1: 74.70%\n"
          ]
        },
        {
          "name": "stderr",
          "output_type": "stream",
          "text": [
            "Evaluating:  32%|███▏      | 1350/4182 [19:58<16:16,  2.90it/s]"
          ]
        },
        {
          "name": "stdout",
          "output_type": "stream",
          "text": [
            "Progress: 1350/4182 | EM: 72.89% | F1: 74.82%\n"
          ]
        },
        {
          "name": "stderr",
          "output_type": "stream",
          "text": [
            "Evaluating:  33%|███▎      | 1360/4182 [20:02<15:16,  3.08it/s]"
          ]
        },
        {
          "name": "stdout",
          "output_type": "stream",
          "text": [
            "Progress: 1360/4182 | EM: 72.94% | F1: 74.86%\n"
          ]
        },
        {
          "name": "stderr",
          "output_type": "stream",
          "text": [
            "Evaluating:  33%|███▎      | 1370/4182 [20:06<15:08,  3.09it/s]"
          ]
        },
        {
          "name": "stdout",
          "output_type": "stream",
          "text": [
            "Progress: 1370/4182 | EM: 73.14% | F1: 75.05%\n"
          ]
        },
        {
          "name": "stderr",
          "output_type": "stream",
          "text": [
            "Evaluating:  33%|███▎      | 1380/4182 [20:10<14:55,  3.13it/s]"
          ]
        },
        {
          "name": "stdout",
          "output_type": "stream",
          "text": [
            "Progress: 1380/4182 | EM: 73.26% | F1: 75.17%\n"
          ]
        },
        {
          "name": "stderr",
          "output_type": "stream",
          "text": [
            "Evaluating:  33%|███▎      | 1390/4182 [20:13<13:56,  3.34it/s]"
          ]
        },
        {
          "name": "stdout",
          "output_type": "stream",
          "text": [
            "Progress: 1390/4182 | EM: 73.45% | F1: 75.35%\n"
          ]
        },
        {
          "name": "stderr",
          "output_type": "stream",
          "text": [
            "Evaluating:  33%|███▎      | 1400/4182 [20:17<13:20,  3.48it/s]"
          ]
        },
        {
          "name": "stdout",
          "output_type": "stream",
          "text": [
            "Progress: 1400/4182 | EM: 73.50% | F1: 75.38%\n"
          ]
        },
        {
          "name": "stderr",
          "output_type": "stream",
          "text": [
            "Evaluating:  34%|███▎      | 1410/4182 [20:19<10:55,  4.23it/s]"
          ]
        },
        {
          "name": "stdout",
          "output_type": "stream",
          "text": [
            "Progress: 1410/4182 | EM: 73.69% | F1: 75.56%\n"
          ]
        },
        {
          "name": "stderr",
          "output_type": "stream",
          "text": [
            "Evaluating:  34%|███▍      | 1420/4182 [20:21<10:42,  4.30it/s]"
          ]
        },
        {
          "name": "stdout",
          "output_type": "stream",
          "text": [
            "Progress: 1420/4182 | EM: 73.87% | F1: 75.73%\n"
          ]
        },
        {
          "name": "stderr",
          "output_type": "stream",
          "text": [
            "Evaluating:  34%|███▍      | 1430/4182 [20:24<10:29,  4.37it/s]"
          ]
        },
        {
          "name": "stdout",
          "output_type": "stream",
          "text": [
            "Progress: 1430/4182 | EM: 74.06% | F1: 75.90%\n"
          ]
        },
        {
          "name": "stderr",
          "output_type": "stream",
          "text": [
            "Evaluating:  34%|███▍      | 1440/4182 [20:28<18:54,  2.42it/s]"
          ]
        },
        {
          "name": "stdout",
          "output_type": "stream",
          "text": [
            "Progress: 1440/4182 | EM: 74.03% | F1: 75.92%\n"
          ]
        },
        {
          "name": "stderr",
          "output_type": "stream",
          "text": [
            "Evaluating:  35%|███▍      | 1450/4182 [20:31<11:54,  3.83it/s]"
          ]
        },
        {
          "name": "stdout",
          "output_type": "stream",
          "text": [
            "Progress: 1450/4182 | EM: 74.14% | F1: 76.03%\n"
          ]
        },
        {
          "name": "stderr",
          "output_type": "stream",
          "text": [
            "Evaluating:  35%|███▍      | 1460/4182 [20:33<10:26,  4.34it/s]"
          ]
        },
        {
          "name": "stdout",
          "output_type": "stream",
          "text": [
            "Progress: 1460/4182 | EM: 74.32% | F1: 76.19%\n"
          ]
        },
        {
          "name": "stderr",
          "output_type": "stream",
          "text": [
            "Evaluating:  35%|███▌      | 1470/4182 [20:36<10:28,  4.32it/s]"
          ]
        },
        {
          "name": "stdout",
          "output_type": "stream",
          "text": [
            "Progress: 1470/4182 | EM: 74.49% | F1: 76.35%\n"
          ]
        },
        {
          "name": "stderr",
          "output_type": "stream",
          "text": [
            "Evaluating:  35%|███▌      | 1480/4182 [20:39<18:37,  2.42it/s]"
          ]
        },
        {
          "name": "stdout",
          "output_type": "stream",
          "text": [
            "Progress: 1480/4182 | EM: 74.46% | F1: 76.36%\n"
          ]
        },
        {
          "name": "stderr",
          "output_type": "stream",
          "text": [
            "Evaluating:  36%|███▌      | 1490/4182 [20:50<32:13,  1.39it/s]"
          ]
        },
        {
          "name": "stdout",
          "output_type": "stream",
          "text": [
            "Progress: 1490/4182 | EM: 74.36% | F1: 76.30%\n"
          ]
        },
        {
          "name": "stderr",
          "output_type": "stream",
          "text": [
            "Evaluating:  36%|███▌      | 1500/4182 [21:01<42:15,  1.06it/s]"
          ]
        },
        {
          "name": "stdout",
          "output_type": "stream",
          "text": [
            "Progress: 1500/4182 | EM: 74.13% | F1: 76.12%\n"
          ]
        },
        {
          "name": "stderr",
          "output_type": "stream",
          "text": [
            "Evaluating:  36%|███▌      | 1510/4182 [21:05<15:14,  2.92it/s]"
          ]
        },
        {
          "name": "stdout",
          "output_type": "stream",
          "text": [
            "Progress: 1510/4182 | EM: 74.24% | F1: 76.21%\n"
          ]
        },
        {
          "name": "stderr",
          "output_type": "stream",
          "text": [
            "Evaluating:  36%|███▋      | 1520/4182 [21:11<28:41,  1.55it/s]"
          ]
        },
        {
          "name": "stdout",
          "output_type": "stream",
          "text": [
            "Progress: 1520/4182 | EM: 74.21% | F1: 76.17%\n"
          ]
        },
        {
          "name": "stderr",
          "output_type": "stream",
          "text": [
            "Evaluating:  37%|███▋      | 1530/4182 [21:24<28:37,  1.54it/s]"
          ]
        },
        {
          "name": "stdout",
          "output_type": "stream",
          "text": [
            "Progress: 1530/4182 | EM: 74.12% | F1: 76.08%\n"
          ]
        },
        {
          "name": "stderr",
          "output_type": "stream",
          "text": [
            "Evaluating:  37%|███▋      | 1540/4182 [21:30<24:45,  1.78it/s]"
          ]
        },
        {
          "name": "stdout",
          "output_type": "stream",
          "text": [
            "Progress: 1540/4182 | EM: 74.09% | F1: 76.04%\n"
          ]
        },
        {
          "name": "stderr",
          "output_type": "stream",
          "text": [
            "Evaluating:  37%|███▋      | 1550/4182 [21:38<24:10,  1.81it/s]"
          ]
        },
        {
          "name": "stdout",
          "output_type": "stream",
          "text": [
            "Progress: 1550/4182 | EM: 74.00% | F1: 75.97%\n"
          ]
        },
        {
          "name": "stderr",
          "output_type": "stream",
          "text": [
            "Evaluating:  37%|███▋      | 1560/4182 [21:41<16:44,  2.61it/s]"
          ]
        },
        {
          "name": "stdout",
          "output_type": "stream",
          "text": [
            "Progress: 1560/4182 | EM: 74.17% | F1: 76.13%\n"
          ]
        },
        {
          "name": "stderr",
          "output_type": "stream",
          "text": [
            "Evaluating:  38%|███▊      | 1570/4182 [21:44<10:16,  4.24it/s]"
          ]
        },
        {
          "name": "stdout",
          "output_type": "stream",
          "text": [
            "Progress: 1570/4182 | EM: 74.33% | F1: 76.28%\n"
          ]
        },
        {
          "name": "stderr",
          "output_type": "stream",
          "text": [
            "Evaluating:  38%|███▊      | 1580/4182 [21:46<10:03,  4.31it/s]"
          ]
        },
        {
          "name": "stdout",
          "output_type": "stream",
          "text": [
            "Progress: 1580/4182 | EM: 74.49% | F1: 76.43%\n"
          ]
        },
        {
          "name": "stderr",
          "output_type": "stream",
          "text": [
            "Evaluating:  38%|███▊      | 1590/4182 [21:48<09:54,  4.36it/s]"
          ]
        },
        {
          "name": "stdout",
          "output_type": "stream",
          "text": [
            "Progress: 1590/4182 | EM: 74.65% | F1: 76.58%\n"
          ]
        },
        {
          "name": "stderr",
          "output_type": "stream",
          "text": [
            "Evaluating:  38%|███▊      | 1600/4182 [21:51<15:14,  2.82it/s]"
          ]
        },
        {
          "name": "stdout",
          "output_type": "stream",
          "text": [
            "Progress: 1600/4182 | EM: 74.81% | F1: 76.72%\n"
          ]
        },
        {
          "name": "stderr",
          "output_type": "stream",
          "text": [
            "Evaluating:  38%|███▊      | 1610/4182 [22:04<1:10:46,  1.65s/it]"
          ]
        },
        {
          "name": "stdout",
          "output_type": "stream",
          "text": [
            "Progress: 1610/4182 | EM: 74.72% | F1: 76.67%\n"
          ]
        },
        {
          "name": "stderr",
          "output_type": "stream",
          "text": [
            "Evaluating:  39%|███▊      | 1620/4182 [22:13<37:19,  1.14it/s]"
          ]
        },
        {
          "name": "stdout",
          "output_type": "stream",
          "text": [
            "Progress: 1620/4182 | EM: 74.63% | F1: 76.57%\n"
          ]
        },
        {
          "name": "stderr",
          "output_type": "stream",
          "text": [
            "Evaluating:  39%|███▉      | 1630/4182 [22:20<25:08,  1.69it/s]"
          ]
        },
        {
          "name": "stdout",
          "output_type": "stream",
          "text": [
            "Progress: 1630/4182 | EM: 74.60% | F1: 76.53%\n"
          ]
        },
        {
          "name": "stderr",
          "output_type": "stream",
          "text": [
            "Evaluating:  39%|███▉      | 1640/4182 [22:24<17:31,  2.42it/s]"
          ]
        },
        {
          "name": "stdout",
          "output_type": "stream",
          "text": [
            "Progress: 1640/4182 | EM: 74.70% | F1: 76.62%\n"
          ]
        },
        {
          "name": "stderr",
          "output_type": "stream",
          "text": [
            "Evaluating:  39%|███▉      | 1650/4182 [22:39<47:26,  1.12s/it]"
          ]
        },
        {
          "name": "stdout",
          "output_type": "stream",
          "text": [
            "Progress: 1650/4182 | EM: 74.55% | F1: 76.54%\n"
          ]
        },
        {
          "name": "stderr",
          "output_type": "stream",
          "text": [
            "Evaluating:  40%|███▉      | 1660/4182 [22:49<39:24,  1.07it/s]"
          ]
        },
        {
          "name": "stdout",
          "output_type": "stream",
          "text": [
            "Progress: 1660/4182 | EM: 74.52% | F1: 76.50%\n"
          ]
        },
        {
          "name": "stderr",
          "output_type": "stream",
          "text": [
            "Evaluating:  40%|███▉      | 1670/4182 [22:56<28:19,  1.48it/s]"
          ]
        },
        {
          "name": "stdout",
          "output_type": "stream",
          "text": [
            "Progress: 1670/4182 | EM: 74.55% | F1: 76.53%\n"
          ]
        },
        {
          "name": "stderr",
          "output_type": "stream",
          "text": [
            "Evaluating:  40%|████      | 1680/4182 [23:14<1:13:36,  1.77s/it]"
          ]
        },
        {
          "name": "stdout",
          "output_type": "stream",
          "text": [
            "Progress: 1680/4182 | EM: 74.46% | F1: 76.44%\n"
          ]
        },
        {
          "name": "stderr",
          "output_type": "stream",
          "text": [
            "Evaluating:  40%|████      | 1690/4182 [23:25<57:46,  1.39s/it]  "
          ]
        },
        {
          "name": "stdout",
          "output_type": "stream",
          "text": [
            "Progress: 1690/4182 | EM: 74.44% | F1: 76.41%\n"
          ]
        },
        {
          "name": "stderr",
          "output_type": "stream",
          "text": [
            "Evaluating:  41%|████      | 1700/4182 [23:33<36:52,  1.12it/s]"
          ]
        },
        {
          "name": "stdout",
          "output_type": "stream",
          "text": [
            "Progress: 1700/4182 | EM: 74.29% | F1: 76.28%\n"
          ]
        },
        {
          "name": "stderr",
          "output_type": "stream",
          "text": [
            "Evaluating:  41%|████      | 1710/4182 [23:37<14:46,  2.79it/s]"
          ]
        },
        {
          "name": "stdout",
          "output_type": "stream",
          "text": [
            "Progress: 1710/4182 | EM: 74.39% | F1: 76.36%\n"
          ]
        },
        {
          "name": "stderr",
          "output_type": "stream",
          "text": [
            "Evaluating:  41%|████      | 1720/4182 [23:40<14:01,  2.93it/s]"
          ]
        },
        {
          "name": "stdout",
          "output_type": "stream",
          "text": [
            "Progress: 1720/4182 | EM: 74.53% | F1: 76.50%\n"
          ]
        },
        {
          "name": "stderr",
          "output_type": "stream",
          "text": [
            "Evaluating:  41%|████▏     | 1730/4182 [23:54<1:03:35,  1.56s/it]"
          ]
        },
        {
          "name": "stdout",
          "output_type": "stream",
          "text": [
            "Progress: 1730/4182 | EM: 74.57% | F1: 76.52%\n"
          ]
        },
        {
          "name": "stderr",
          "output_type": "stream",
          "text": [
            "Evaluating:  42%|████▏     | 1740/4182 [24:06<1:08:05,  1.67s/it]"
          ]
        },
        {
          "name": "stdout",
          "output_type": "stream",
          "text": [
            "Progress: 1740/4182 | EM: 74.54% | F1: 76.49%\n"
          ]
        },
        {
          "name": "stderr",
          "output_type": "stream",
          "text": [
            "Evaluating:  42%|████▏     | 1750/4182 [24:28<1:31:14,  2.25s/it]"
          ]
        },
        {
          "name": "stdout",
          "output_type": "stream",
          "text": [
            "Progress: 1750/4182 | EM: 74.51% | F1: 76.45%\n"
          ]
        },
        {
          "name": "stderr",
          "output_type": "stream",
          "text": [
            "Evaluating:  42%|████▏     | 1760/4182 [24:42<1:02:02,  1.54s/it]"
          ]
        },
        {
          "name": "stdout",
          "output_type": "stream",
          "text": [
            "Progress: 1760/4182 | EM: 74.55% | F1: 76.48%\n"
          ]
        },
        {
          "name": "stderr",
          "output_type": "stream",
          "text": [
            "Evaluating:  42%|████▏     | 1770/4182 [24:55<45:51,  1.14s/it]"
          ]
        },
        {
          "name": "stdout",
          "output_type": "stream",
          "text": [
            "Progress: 1770/4182 | EM: 74.35% | F1: 76.32%\n"
          ]
        },
        {
          "name": "stderr",
          "output_type": "stream",
          "text": [
            "Evaluating:  43%|████▎     | 1780/4182 [25:05<43:23,  1.08s/it]"
          ]
        },
        {
          "name": "stdout",
          "output_type": "stream",
          "text": [
            "Progress: 1780/4182 | EM: 74.44% | F1: 76.40%\n"
          ]
        },
        {
          "name": "stderr",
          "output_type": "stream",
          "text": [
            "Evaluating:  43%|████▎     | 1790/4182 [25:16<31:47,  1.25it/s]"
          ]
        },
        {
          "name": "stdout",
          "output_type": "stream",
          "text": [
            "Progress: 1790/4182 | EM: 74.53% | F1: 76.47%\n"
          ]
        },
        {
          "name": "stderr",
          "output_type": "stream",
          "text": [
            "Evaluating:  43%|████▎     | 1800/4182 [25:30<1:11:38,  1.80s/it]"
          ]
        },
        {
          "name": "stdout",
          "output_type": "stream",
          "text": [
            "Progress: 1800/4182 | EM: 74.56% | F1: 76.49%\n"
          ]
        },
        {
          "name": "stderr",
          "output_type": "stream",
          "text": [
            "Evaluating:  43%|████▎     | 1810/4182 [25:37<21:55,  1.80it/s]"
          ]
        },
        {
          "name": "stdout",
          "output_type": "stream",
          "text": [
            "Progress: 1810/4182 | EM: 74.42% | F1: 76.37%\n"
          ]
        },
        {
          "name": "stderr",
          "output_type": "stream",
          "text": [
            "Evaluating:  44%|████▎     | 1820/4182 [25:42<13:38,  2.88it/s]"
          ]
        },
        {
          "name": "stdout",
          "output_type": "stream",
          "text": [
            "Progress: 1820/4182 | EM: 74.51% | F1: 76.44%\n"
          ]
        },
        {
          "name": "stderr",
          "output_type": "stream",
          "text": [
            "Evaluating:  44%|████▍     | 1830/4182 [25:47<14:09,  2.77it/s]"
          ]
        },
        {
          "name": "stdout",
          "output_type": "stream",
          "text": [
            "Progress: 1830/4182 | EM: 74.48% | F1: 76.41%\n"
          ]
        },
        {
          "name": "stderr",
          "output_type": "stream",
          "text": [
            "Evaluating:  44%|████▍     | 1840/4182 [25:50<11:45,  3.32it/s]"
          ]
        },
        {
          "name": "stdout",
          "output_type": "stream",
          "text": [
            "Progress: 1840/4182 | EM: 74.62% | F1: 76.54%\n"
          ]
        },
        {
          "name": "stderr",
          "output_type": "stream",
          "text": [
            "Evaluating:  44%|████▍     | 1850/4182 [25:59<1:07:00,  1.72s/it]"
          ]
        },
        {
          "name": "stdout",
          "output_type": "stream",
          "text": [
            "Progress: 1850/4182 | EM: 74.65% | F1: 76.56%\n"
          ]
        },
        {
          "name": "stderr",
          "output_type": "stream",
          "text": [
            "Evaluating:  44%|████▍     | 1860/4182 [26:08<32:02,  1.21it/s]"
          ]
        },
        {
          "name": "stdout",
          "output_type": "stream",
          "text": [
            "Progress: 1860/4182 | EM: 74.78% | F1: 76.68%\n"
          ]
        },
        {
          "name": "stderr",
          "output_type": "stream",
          "text": [
            "Evaluating:  45%|████▍     | 1870/4182 [26:18<33:17,  1.16it/s]"
          ]
        },
        {
          "name": "stdout",
          "output_type": "stream",
          "text": [
            "Progress: 1870/4182 | EM: 74.76% | F1: 76.65%\n"
          ]
        },
        {
          "name": "stderr",
          "output_type": "stream",
          "text": [
            "Evaluating:  45%|████▍     | 1880/4182 [26:29<57:35,  1.50s/it]  "
          ]
        },
        {
          "name": "stdout",
          "output_type": "stream",
          "text": [
            "Progress: 1880/4182 | EM: 74.89% | F1: 76.77%\n"
          ]
        },
        {
          "name": "stderr",
          "output_type": "stream",
          "text": [
            "Evaluating:  45%|████▌     | 1890/4182 [26:38<39:39,  1.04s/it]"
          ]
        },
        {
          "name": "stdout",
          "output_type": "stream",
          "text": [
            "Progress: 1890/4182 | EM: 74.81% | F1: 76.69%\n"
          ]
        },
        {
          "name": "stderr",
          "output_type": "stream",
          "text": [
            "Evaluating:  45%|████▌     | 1900/4182 [26:52<40:24,  1.06s/it]"
          ]
        },
        {
          "name": "stdout",
          "output_type": "stream",
          "text": [
            "Progress: 1900/4182 | EM: 74.58% | F1: 76.47%\n"
          ]
        },
        {
          "name": "stderr",
          "output_type": "stream",
          "text": [
            "Evaluating:  46%|████▌     | 1910/4182 [27:07<44:40,  1.18s/it]"
          ]
        },
        {
          "name": "stdout",
          "output_type": "stream",
          "text": [
            "Progress: 1910/4182 | EM: 74.50% | F1: 76.39%\n"
          ]
        },
        {
          "name": "stderr",
          "output_type": "stream",
          "text": [
            "Evaluating:  46%|████▌     | 1920/4182 [27:18<33:20,  1.13it/s]"
          ]
        },
        {
          "name": "stdout",
          "output_type": "stream",
          "text": [
            "Progress: 1920/4182 | EM: 74.38% | F1: 76.25%\n"
          ]
        },
        {
          "name": "stderr",
          "output_type": "stream",
          "text": [
            "Evaluating:  46%|████▌     | 1930/4182 [27:26<26:36,  1.41it/s]"
          ]
        },
        {
          "name": "stdout",
          "output_type": "stream",
          "text": [
            "Progress: 1930/4182 | EM: 74.35% | F1: 76.22%\n"
          ]
        },
        {
          "name": "stderr",
          "output_type": "stream",
          "text": [
            "Evaluating:  46%|████▋     | 1940/4182 [27:33<17:19,  2.16it/s]"
          ]
        },
        {
          "name": "stdout",
          "output_type": "stream",
          "text": [
            "Progress: 1940/4182 | EM: 74.38% | F1: 76.24%\n"
          ]
        },
        {
          "name": "stderr",
          "output_type": "stream",
          "text": [
            "Evaluating:  47%|████▋     | 1950/4182 [27:36<13:46,  2.70it/s]"
          ]
        },
        {
          "name": "stdout",
          "output_type": "stream",
          "text": [
            "Progress: 1950/4182 | EM: 74.46% | F1: 76.31%\n"
          ]
        },
        {
          "name": "stderr",
          "output_type": "stream",
          "text": [
            "Evaluating:  47%|████▋     | 1960/4182 [27:40<11:23,  3.25it/s]"
          ]
        },
        {
          "name": "stdout",
          "output_type": "stream",
          "text": [
            "Progress: 1960/4182 | EM: 74.59% | F1: 76.43%\n"
          ]
        },
        {
          "name": "stderr",
          "output_type": "stream",
          "text": [
            "Evaluating:  47%|████▋     | 1970/4182 [27:43<15:36,  2.36it/s]"
          ]
        },
        {
          "name": "stdout",
          "output_type": "stream",
          "text": [
            "Progress: 1970/4182 | EM: 74.67% | F1: 76.50%\n"
          ]
        },
        {
          "name": "stderr",
          "output_type": "stream",
          "text": [
            "Evaluating:  47%|████▋     | 1980/4182 [27:51<15:47,  2.32it/s]"
          ]
        },
        {
          "name": "stdout",
          "output_type": "stream",
          "text": [
            "Progress: 1980/4182 | EM: 74.65% | F1: 76.47%\n"
          ]
        },
        {
          "name": "stderr",
          "output_type": "stream",
          "text": [
            "Evaluating:  48%|████▊     | 1990/4182 [27:54<09:41,  3.77it/s]"
          ]
        },
        {
          "name": "stdout",
          "output_type": "stream",
          "text": [
            "Progress: 1990/4182 | EM: 74.72% | F1: 76.54%\n"
          ]
        },
        {
          "name": "stderr",
          "output_type": "stream",
          "text": [
            "Evaluating:  48%|████▊     | 2000/4182 [27:56<09:27,  3.85it/s]"
          ]
        },
        {
          "name": "stdout",
          "output_type": "stream",
          "text": [
            "Progress: 2000/4182 | EM: 74.85% | F1: 76.66%\n"
          ]
        },
        {
          "name": "stderr",
          "output_type": "stream",
          "text": [
            "Evaluating:  48%|████▊     | 2010/4182 [27:59<13:05,  2.76it/s]"
          ]
        },
        {
          "name": "stdout",
          "output_type": "stream",
          "text": [
            "Progress: 2010/4182 | EM: 74.98% | F1: 76.77%\n"
          ]
        },
        {
          "name": "stderr",
          "output_type": "stream",
          "text": [
            "Evaluating:  48%|████▊     | 2020/4182 [28:07<24:25,  1.48it/s]"
          ]
        },
        {
          "name": "stdout",
          "output_type": "stream",
          "text": [
            "Progress: 2020/4182 | EM: 75.00% | F1: 76.79%\n"
          ]
        },
        {
          "name": "stderr",
          "output_type": "stream",
          "text": [
            "Evaluating:  49%|████▊     | 2030/4182 [28:10<15:51,  2.26it/s]"
          ]
        },
        {
          "name": "stdout",
          "output_type": "stream",
          "text": [
            "Progress: 2030/4182 | EM: 75.07% | F1: 76.87%\n"
          ]
        },
        {
          "name": "stderr",
          "output_type": "stream",
          "text": [
            "Evaluating:  49%|████▉     | 2040/4182 [28:16<15:10,  2.35it/s]"
          ]
        },
        {
          "name": "stdout",
          "output_type": "stream",
          "text": [
            "Progress: 2040/4182 | EM: 75.10% | F1: 76.88%\n"
          ]
        },
        {
          "name": "stderr",
          "output_type": "stream",
          "text": [
            "Evaluating:  49%|████▉     | 2050/4182 [28:24<24:16,  1.46it/s]"
          ]
        },
        {
          "name": "stdout",
          "output_type": "stream",
          "text": [
            "Progress: 2050/4182 | EM: 75.12% | F1: 76.90%\n"
          ]
        },
        {
          "name": "stderr",
          "output_type": "stream",
          "text": [
            "Evaluating:  49%|████▉     | 2060/4182 [28:33<27:40,  1.28it/s]"
          ]
        },
        {
          "name": "stdout",
          "output_type": "stream",
          "text": [
            "Progress: 2060/4182 | EM: 75.10% | F1: 76.88%\n"
          ]
        },
        {
          "name": "stderr",
          "output_type": "stream",
          "text": [
            "Evaluating:  49%|████▉     | 2070/4182 [28:43<47:20,  1.34s/it]"
          ]
        },
        {
          "name": "stdout",
          "output_type": "stream",
          "text": [
            "Progress: 2070/4182 | EM: 75.07% | F1: 76.88%\n"
          ]
        },
        {
          "name": "stderr",
          "output_type": "stream",
          "text": [
            "Evaluating:  50%|████▉     | 2080/4182 [28:53<31:52,  1.10it/s]"
          ]
        },
        {
          "name": "stdout",
          "output_type": "stream",
          "text": [
            "Progress: 2080/4182 | EM: 75.05% | F1: 76.85%\n"
          ]
        },
        {
          "name": "stderr",
          "output_type": "stream",
          "text": [
            "Evaluating:  50%|████▉     | 2090/4182 [29:05<1:02:27,  1.79s/it]"
          ]
        },
        {
          "name": "stdout",
          "output_type": "stream",
          "text": [
            "Progress: 2090/4182 | EM: 74.98% | F1: 76.78%\n"
          ]
        },
        {
          "name": "stderr",
          "output_type": "stream",
          "text": [
            "Evaluating:  50%|█████     | 2100/4182 [29:15<41:11,  1.19s/it]"
          ]
        },
        {
          "name": "stdout",
          "output_type": "stream",
          "text": [
            "Progress: 2100/4182 | EM: 74.86% | F1: 76.65%\n"
          ]
        },
        {
          "name": "stderr",
          "output_type": "stream",
          "text": [
            "Evaluating:  50%|█████     | 2110/4182 [29:23<29:47,  1.16it/s]"
          ]
        },
        {
          "name": "stdout",
          "output_type": "stream",
          "text": [
            "Progress: 2110/4182 | EM: 74.74% | F1: 76.56%\n"
          ]
        },
        {
          "name": "stderr",
          "output_type": "stream",
          "text": [
            "Evaluating:  51%|█████     | 2120/4182 [29:36<35:35,  1.04s/it]"
          ]
        },
        {
          "name": "stdout",
          "output_type": "stream",
          "text": [
            "Progress: 2120/4182 | EM: 74.58% | F1: 76.39%\n"
          ]
        },
        {
          "name": "stderr",
          "output_type": "stream",
          "text": [
            "Evaluating:  51%|█████     | 2130/4182 [29:40<14:06,  2.42it/s]"
          ]
        },
        {
          "name": "stdout",
          "output_type": "stream",
          "text": [
            "Progress: 2130/4182 | EM: 74.60% | F1: 76.40%\n"
          ]
        },
        {
          "name": "stderr",
          "output_type": "stream",
          "text": [
            "Evaluating:  51%|█████     | 2140/4182 [29:49<29:14,  1.16it/s]"
          ]
        },
        {
          "name": "stdout",
          "output_type": "stream",
          "text": [
            "Progress: 2140/4182 | EM: 74.58% | F1: 76.41%\n"
          ]
        },
        {
          "name": "stderr",
          "output_type": "stream",
          "text": [
            "Evaluating:  51%|█████▏    | 2150/4182 [29:52<09:51,  3.43it/s]"
          ]
        },
        {
          "name": "stdout",
          "output_type": "stream",
          "text": [
            "Progress: 2150/4182 | EM: 74.70% | F1: 76.52%\n"
          ]
        },
        {
          "name": "stderr",
          "output_type": "stream",
          "text": [
            "Evaluating:  52%|█████▏    | 2160/4182 [29:54<09:12,  3.66it/s]"
          ]
        },
        {
          "name": "stdout",
          "output_type": "stream",
          "text": [
            "Progress: 2160/4182 | EM: 74.81% | F1: 76.63%\n"
          ]
        },
        {
          "name": "stderr",
          "output_type": "stream",
          "text": [
            "Evaluating:  52%|█████▏    | 2170/4182 [29:57<09:04,  3.70it/s]"
          ]
        },
        {
          "name": "stdout",
          "output_type": "stream",
          "text": [
            "Progress: 2170/4182 | EM: 74.93% | F1: 76.73%\n"
          ]
        },
        {
          "name": "stderr",
          "output_type": "stream",
          "text": [
            "Evaluating:  52%|█████▏    | 2180/4182 [30:01<09:29,  3.51it/s]"
          ]
        },
        {
          "name": "stdout",
          "output_type": "stream",
          "text": [
            "Progress: 2180/4182 | EM: 74.91% | F1: 76.70%\n"
          ]
        },
        {
          "name": "stderr",
          "output_type": "stream",
          "text": [
            "Evaluating:  52%|█████▏    | 2190/4182 [30:03<07:41,  4.31it/s]"
          ]
        },
        {
          "name": "stdout",
          "output_type": "stream",
          "text": [
            "Progress: 2190/4182 | EM: 75.02% | F1: 76.81%\n"
          ]
        },
        {
          "name": "stderr",
          "output_type": "stream",
          "text": [
            "Evaluating:  53%|█████▎    | 2200/4182 [30:05<07:23,  4.47it/s]"
          ]
        },
        {
          "name": "stdout",
          "output_type": "stream",
          "text": [
            "Progress: 2200/4182 | EM: 75.14% | F1: 76.92%\n"
          ]
        },
        {
          "name": "stderr",
          "output_type": "stream",
          "text": [
            "Evaluating:  53%|█████▎    | 2210/4182 [30:08<07:32,  4.36it/s]"
          ]
        },
        {
          "name": "stdout",
          "output_type": "stream",
          "text": [
            "Progress: 2210/4182 | EM: 75.25% | F1: 77.02%\n"
          ]
        },
        {
          "name": "stderr",
          "output_type": "stream",
          "text": [
            "Evaluating:  53%|█████▎    | 2220/4182 [30:15<40:09,  1.23s/it]"
          ]
        },
        {
          "name": "stdout",
          "output_type": "stream",
          "text": [
            "Progress: 2220/4182 | EM: 75.23% | F1: 76.99%\n"
          ]
        },
        {
          "name": "stderr",
          "output_type": "stream",
          "text": [
            "Evaluating:  53%|█████▎    | 2230/4182 [30:19<09:50,  3.31it/s]"
          ]
        },
        {
          "name": "stdout",
          "output_type": "stream",
          "text": [
            "Progress: 2230/4182 | EM: 75.25% | F1: 77.01%\n"
          ]
        },
        {
          "name": "stderr",
          "output_type": "stream",
          "text": [
            "Evaluating:  54%|█████▎    | 2240/4182 [30:24<10:43,  3.02it/s]"
          ]
        },
        {
          "name": "stdout",
          "output_type": "stream",
          "text": [
            "Progress: 2240/4182 | EM: 75.27% | F1: 77.02%\n"
          ]
        },
        {
          "name": "stderr",
          "output_type": "stream",
          "text": [
            "Evaluating:  54%|█████▍    | 2250/4182 [30:27<07:58,  4.04it/s]"
          ]
        },
        {
          "name": "stdout",
          "output_type": "stream",
          "text": [
            "Progress: 2250/4182 | EM: 75.38% | F1: 77.13%\n"
          ]
        },
        {
          "name": "stderr",
          "output_type": "stream",
          "text": [
            "Evaluating:  54%|█████▍    | 2260/4182 [30:34<21:21,  1.50it/s]"
          ]
        },
        {
          "name": "stdout",
          "output_type": "stream",
          "text": [
            "Progress: 2260/4182 | EM: 75.40% | F1: 77.14%\n"
          ]
        },
        {
          "name": "stderr",
          "output_type": "stream",
          "text": [
            "Evaluating:  54%|█████▍    | 2270/4182 [30:36<07:43,  4.13it/s]"
          ]
        },
        {
          "name": "stdout",
          "output_type": "stream",
          "text": [
            "Progress: 2270/4182 | EM: 75.51% | F1: 77.24%\n"
          ]
        },
        {
          "name": "stderr",
          "output_type": "stream",
          "text": [
            "Evaluating:  55%|█████▍    | 2280/4182 [30:39<07:21,  4.31it/s]"
          ]
        },
        {
          "name": "stdout",
          "output_type": "stream",
          "text": [
            "Progress: 2280/4182 | EM: 75.61% | F1: 77.34%\n"
          ]
        },
        {
          "name": "stderr",
          "output_type": "stream",
          "text": [
            "Evaluating:  55%|█████▍    | 2290/4182 [30:41<07:24,  4.26it/s]"
          ]
        },
        {
          "name": "stdout",
          "output_type": "stream",
          "text": [
            "Progress: 2290/4182 | EM: 75.72% | F1: 77.44%\n"
          ]
        },
        {
          "name": "stderr",
          "output_type": "stream",
          "text": [
            "Evaluating:  55%|█████▍    | 2300/4182 [30:49<36:04,  1.15s/it]"
          ]
        },
        {
          "name": "stdout",
          "output_type": "stream",
          "text": [
            "Progress: 2300/4182 | EM: 75.70% | F1: 77.43%\n"
          ]
        },
        {
          "name": "stderr",
          "output_type": "stream",
          "text": [
            "Evaluating:  55%|█████▌    | 2310/4182 [31:01<26:14,  1.19it/s]"
          ]
        },
        {
          "name": "stdout",
          "output_type": "stream",
          "text": [
            "Progress: 2310/4182 | EM: 75.71% | F1: 77.44%\n"
          ]
        },
        {
          "name": "stderr",
          "output_type": "stream",
          "text": [
            "Evaluating:  55%|█████▌    | 2320/4182 [31:18<37:31,  1.21s/it]"
          ]
        },
        {
          "name": "stdout",
          "output_type": "stream",
          "text": [
            "Progress: 2320/4182 | EM: 75.65% | F1: 77.37%\n"
          ]
        },
        {
          "name": "stderr",
          "output_type": "stream",
          "text": [
            "Evaluating:  56%|█████▌    | 2330/4182 [31:29<55:22,  1.79s/it]"
          ]
        },
        {
          "name": "stdout",
          "output_type": "stream",
          "text": [
            "Progress: 2330/4182 | EM: 75.75% | F1: 77.47%\n"
          ]
        },
        {
          "name": "stderr",
          "output_type": "stream",
          "text": [
            "Evaluating:  56%|█████▌    | 2340/4182 [31:37<26:30,  1.16it/s]"
          ]
        },
        {
          "name": "stdout",
          "output_type": "stream",
          "text": [
            "Progress: 2340/4182 | EM: 75.60% | F1: 77.34%\n"
          ]
        },
        {
          "name": "stderr",
          "output_type": "stream",
          "text": [
            "Evaluating:  56%|█████▌    | 2350/4182 [31:51<31:33,  1.03s/it]"
          ]
        },
        {
          "name": "stdout",
          "output_type": "stream",
          "text": [
            "Progress: 2350/4182 | EM: 75.49% | F1: 77.22%\n"
          ]
        },
        {
          "name": "stderr",
          "output_type": "stream",
          "text": [
            "Evaluating:  56%|█████▋    | 2360/4182 [32:09<44:11,  1.46s/it]"
          ]
        },
        {
          "name": "stdout",
          "output_type": "stream",
          "text": [
            "Progress: 2360/4182 | EM: 75.38% | F1: 77.12%\n"
          ]
        },
        {
          "name": "stderr",
          "output_type": "stream",
          "text": [
            "Evaluating:  57%|█████▋    | 2370/4182 [32:32<1:18:17,  2.59s/it]"
          ]
        },
        {
          "name": "stdout",
          "output_type": "stream",
          "text": [
            "Progress: 2370/4182 | EM: 75.23% | F1: 76.97%\n"
          ]
        },
        {
          "name": "stderr",
          "output_type": "stream",
          "text": [
            "Evaluating:  57%|█████▋    | 2380/4182 [32:46<34:05,  1.14s/it]"
          ]
        },
        {
          "name": "stdout",
          "output_type": "stream",
          "text": [
            "Progress: 2380/4182 | EM: 75.08% | F1: 76.84%\n"
          ]
        },
        {
          "name": "stderr",
          "output_type": "stream",
          "text": [
            "Evaluating:  57%|█████▋    | 2390/4182 [32:57<21:45,  1.37it/s]"
          ]
        },
        {
          "name": "stdout",
          "output_type": "stream",
          "text": [
            "Progress: 2390/4182 | EM: 75.06% | F1: 76.81%\n"
          ]
        },
        {
          "name": "stderr",
          "output_type": "stream",
          "text": [
            "Evaluating:  57%|█████▋    | 2400/4182 [33:05<40:59,  1.38s/it]"
          ]
        },
        {
          "name": "stdout",
          "output_type": "stream",
          "text": [
            "Progress: 2400/4182 | EM: 75.00% | F1: 76.76%\n"
          ]
        },
        {
          "name": "stderr",
          "output_type": "stream",
          "text": [
            "Evaluating:  58%|█████▊    | 2410/4182 [33:10<14:29,  2.04it/s]"
          ]
        },
        {
          "name": "stdout",
          "output_type": "stream",
          "text": [
            "Progress: 2410/4182 | EM: 75.10% | F1: 76.85%\n"
          ]
        },
        {
          "name": "stderr",
          "output_type": "stream",
          "text": [
            "Evaluating:  58%|█████▊    | 2420/4182 [33:19<27:36,  1.06it/s]"
          ]
        },
        {
          "name": "stdout",
          "output_type": "stream",
          "text": [
            "Progress: 2420/4182 | EM: 75.04% | F1: 76.78%\n"
          ]
        },
        {
          "name": "stderr",
          "output_type": "stream",
          "text": [
            "Evaluating:  58%|█████▊    | 2430/4182 [33:26<14:54,  1.96it/s]"
          ]
        },
        {
          "name": "stdout",
          "output_type": "stream",
          "text": [
            "Progress: 2430/4182 | EM: 74.94% | F1: 76.70%\n"
          ]
        },
        {
          "name": "stderr",
          "output_type": "stream",
          "text": [
            "Evaluating:  58%|█████▊    | 2440/4182 [33:32<17:12,  1.69it/s]"
          ]
        },
        {
          "name": "stdout",
          "output_type": "stream",
          "text": [
            "Progress: 2440/4182 | EM: 74.96% | F1: 76.72%\n"
          ]
        },
        {
          "name": "stderr",
          "output_type": "stream",
          "text": [
            "Evaluating:  59%|█████▊    | 2450/4182 [33:35<08:08,  3.54it/s]"
          ]
        },
        {
          "name": "stdout",
          "output_type": "stream",
          "text": [
            "Progress: 2450/4182 | EM: 75.02% | F1: 76.77%\n"
          ]
        },
        {
          "name": "stderr",
          "output_type": "stream",
          "text": [
            "Evaluating:  59%|█████▉    | 2460/4182 [33:39<10:15,  2.80it/s]"
          ]
        },
        {
          "name": "stdout",
          "output_type": "stream",
          "text": [
            "Progress: 2460/4182 | EM: 75.04% | F1: 76.78%\n"
          ]
        },
        {
          "name": "stderr",
          "output_type": "stream",
          "text": [
            "Evaluating:  59%|█████▉    | 2470/4182 [33:41<06:49,  4.18it/s]"
          ]
        },
        {
          "name": "stdout",
          "output_type": "stream",
          "text": [
            "Progress: 2470/4182 | EM: 75.10% | F1: 76.84%\n"
          ]
        },
        {
          "name": "stderr",
          "output_type": "stream",
          "text": [
            "Evaluating:  59%|█████▉    | 2480/4182 [33:44<06:31,  4.34it/s]"
          ]
        },
        {
          "name": "stdout",
          "output_type": "stream",
          "text": [
            "Progress: 2480/4182 | EM: 75.20% | F1: 76.93%\n"
          ]
        },
        {
          "name": "stderr",
          "output_type": "stream",
          "text": [
            "Evaluating:  60%|█████▉    | 2490/4182 [33:46<06:33,  4.30it/s]"
          ]
        },
        {
          "name": "stdout",
          "output_type": "stream",
          "text": [
            "Progress: 2490/4182 | EM: 75.30% | F1: 77.02%\n"
          ]
        },
        {
          "name": "stderr",
          "output_type": "stream",
          "text": [
            "Evaluating:  60%|█████▉    | 2500/4182 [33:48<06:28,  4.33it/s]"
          ]
        },
        {
          "name": "stdout",
          "output_type": "stream",
          "text": [
            "Progress: 2500/4182 | EM: 75.40% | F1: 77.11%\n"
          ]
        },
        {
          "name": "stderr",
          "output_type": "stream",
          "text": [
            "Evaluating:  60%|██████    | 2510/4182 [34:09<1:15:53,  2.72s/it]"
          ]
        },
        {
          "name": "stdout",
          "output_type": "stream",
          "text": [
            "Progress: 2510/4182 | EM: 75.34% | F1: 77.05%\n"
          ]
        },
        {
          "name": "stderr",
          "output_type": "stream",
          "text": [
            "Evaluating:  60%|██████    | 2520/4182 [34:28<45:28,  1.64s/it]"
          ]
        },
        {
          "name": "stdout",
          "output_type": "stream",
          "text": [
            "Progress: 2520/4182 | EM: 75.04% | F1: 76.77%\n"
          ]
        },
        {
          "name": "stderr",
          "output_type": "stream",
          "text": [
            "Evaluating:  60%|██████    | 2530/4182 [34:46<38:10,  1.39s/it]"
          ]
        },
        {
          "name": "stdout",
          "output_type": "stream",
          "text": [
            "Progress: 2530/4182 | EM: 74.94% | F1: 76.67%\n"
          ]
        },
        {
          "name": "stderr",
          "output_type": "stream",
          "text": [
            "Evaluating:  61%|██████    | 2540/4182 [35:05<1:09:21,  2.53s/it]"
          ]
        },
        {
          "name": "stdout",
          "output_type": "stream",
          "text": [
            "Progress: 2540/4182 | EM: 74.84% | F1: 76.57%\n"
          ]
        },
        {
          "name": "stderr",
          "output_type": "stream",
          "text": [
            "Evaluating:  61%|██████    | 2550/4182 [35:15<34:12,  1.26s/it]"
          ]
        },
        {
          "name": "stdout",
          "output_type": "stream",
          "text": [
            "Progress: 2550/4182 | EM: 74.75% | F1: 76.47%\n"
          ]
        },
        {
          "name": "stderr",
          "output_type": "stream",
          "text": [
            "Evaluating:  61%|██████    | 2560/4182 [35:20<11:20,  2.38it/s]"
          ]
        },
        {
          "name": "stdout",
          "output_type": "stream",
          "text": [
            "Progress: 2560/4182 | EM: 74.77% | F1: 76.49%\n"
          ]
        },
        {
          "name": "stderr",
          "output_type": "stream",
          "text": [
            "Evaluating:  61%|██████▏   | 2570/4182 [35:33<29:42,  1.11s/it]"
          ]
        },
        {
          "name": "stdout",
          "output_type": "stream",
          "text": [
            "Progress: 2570/4182 | EM: 74.63% | F1: 76.37%\n"
          ]
        },
        {
          "name": "stderr",
          "output_type": "stream",
          "text": [
            "Evaluating:  62%|██████▏   | 2580/4182 [35:37<10:07,  2.64it/s]"
          ]
        },
        {
          "name": "stdout",
          "output_type": "stream",
          "text": [
            "Progress: 2580/4182 | EM: 74.69% | F1: 76.42%\n"
          ]
        },
        {
          "name": "stderr",
          "output_type": "stream",
          "text": [
            "Evaluating:  62%|██████▏   | 2590/4182 [35:42<12:16,  2.16it/s]"
          ]
        },
        {
          "name": "stdout",
          "output_type": "stream",
          "text": [
            "Progress: 2590/4182 | EM: 74.63% | F1: 76.37%\n"
          ]
        },
        {
          "name": "stderr",
          "output_type": "stream",
          "text": [
            "Evaluating:  62%|██████▏   | 2600/4182 [35:44<06:13,  4.24it/s]"
          ]
        },
        {
          "name": "stdout",
          "output_type": "stream",
          "text": [
            "Progress: 2600/4182 | EM: 74.69% | F1: 76.42%\n"
          ]
        },
        {
          "name": "stderr",
          "output_type": "stream",
          "text": [
            "Evaluating:  62%|██████▏   | 2610/4182 [35:46<05:57,  4.39it/s]"
          ]
        },
        {
          "name": "stdout",
          "output_type": "stream",
          "text": [
            "Progress: 2610/4182 | EM: 74.79% | F1: 76.51%\n"
          ]
        },
        {
          "name": "stderr",
          "output_type": "stream",
          "text": [
            "Evaluating:  63%|██████▎   | 2620/4182 [35:49<06:00,  4.34it/s]"
          ]
        },
        {
          "name": "stdout",
          "output_type": "stream",
          "text": [
            "Progress: 2620/4182 | EM: 74.85% | F1: 76.56%\n"
          ]
        },
        {
          "name": "stderr",
          "output_type": "stream",
          "text": [
            "Evaluating:  63%|██████▎   | 2630/4182 [35:56<36:57,  1.43s/it]"
          ]
        },
        {
          "name": "stdout",
          "output_type": "stream",
          "text": [
            "Progress: 2630/4182 | EM: 74.87% | F1: 76.58%\n"
          ]
        },
        {
          "name": "stderr",
          "output_type": "stream",
          "text": [
            "Evaluating:  63%|██████▎   | 2640/4182 [36:04<18:36,  1.38it/s]"
          ]
        },
        {
          "name": "stdout",
          "output_type": "stream",
          "text": [
            "Progress: 2640/4182 | EM: 74.89% | F1: 76.59%\n"
          ]
        },
        {
          "name": "stderr",
          "output_type": "stream",
          "text": [
            "Evaluating:  63%|██████▎   | 2650/4182 [36:11<12:01,  2.12it/s]"
          ]
        },
        {
          "name": "stdout",
          "output_type": "stream",
          "text": [
            "Progress: 2650/4182 | EM: 74.87% | F1: 76.58%\n"
          ]
        },
        {
          "name": "stderr",
          "output_type": "stream",
          "text": [
            "Evaluating:  64%|██████▎   | 2660/4182 [36:18<34:12,  1.35s/it]"
          ]
        },
        {
          "name": "stdout",
          "output_type": "stream",
          "text": [
            "Progress: 2660/4182 | EM: 74.89% | F1: 76.60%\n"
          ]
        },
        {
          "name": "stderr",
          "output_type": "stream",
          "text": [
            "Evaluating:  64%|██████▍   | 2670/4182 [36:25<29:22,  1.17s/it]"
          ]
        },
        {
          "name": "stdout",
          "output_type": "stream",
          "text": [
            "Progress: 2670/4182 | EM: 74.87% | F1: 76.61%\n"
          ]
        },
        {
          "name": "stderr",
          "output_type": "stream",
          "text": [
            "Evaluating:  64%|██████▍   | 2680/4182 [36:36<20:36,  1.21it/s]"
          ]
        },
        {
          "name": "stdout",
          "output_type": "stream",
          "text": [
            "Progress: 2680/4182 | EM: 74.93% | F1: 76.65%\n"
          ]
        },
        {
          "name": "stderr",
          "output_type": "stream",
          "text": [
            "Evaluating:  64%|██████▍   | 2690/4182 [36:45<18:20,  1.36it/s]"
          ]
        },
        {
          "name": "stdout",
          "output_type": "stream",
          "text": [
            "Progress: 2690/4182 | EM: 74.91% | F1: 76.63%\n"
          ]
        },
        {
          "name": "stderr",
          "output_type": "stream",
          "text": [
            "Evaluating:  65%|██████▍   | 2700/4182 [36:53<13:41,  1.80it/s]"
          ]
        },
        {
          "name": "stdout",
          "output_type": "stream",
          "text": [
            "Progress: 2700/4182 | EM: 74.85% | F1: 76.57%\n"
          ]
        },
        {
          "name": "stderr",
          "output_type": "stream",
          "text": [
            "Evaluating:  65%|██████▍   | 2710/4182 [37:04<21:20,  1.15it/s]"
          ]
        },
        {
          "name": "stdout",
          "output_type": "stream",
          "text": [
            "Progress: 2710/4182 | EM: 74.80% | F1: 76.54%\n"
          ]
        },
        {
          "name": "stderr",
          "output_type": "stream",
          "text": [
            "Evaluating:  65%|██████▌   | 2720/4182 [37:19<25:02,  1.03s/it]"
          ]
        },
        {
          "name": "stdout",
          "output_type": "stream",
          "text": [
            "Progress: 2720/4182 | EM: 74.71% | F1: 76.46%\n"
          ]
        },
        {
          "name": "stderr",
          "output_type": "stream",
          "text": [
            "Evaluating:  65%|██████▌   | 2730/4182 [37:40<1:01:36,  2.55s/it]"
          ]
        },
        {
          "name": "stdout",
          "output_type": "stream",
          "text": [
            "Progress: 2730/4182 | EM: 74.54% | F1: 76.29%\n"
          ]
        },
        {
          "name": "stderr",
          "output_type": "stream",
          "text": [
            "Evaluating:  66%|██████▌   | 2740/4182 [37:48<19:48,  1.21it/s]"
          ]
        },
        {
          "name": "stdout",
          "output_type": "stream",
          "text": [
            "Progress: 2740/4182 | EM: 74.53% | F1: 76.27%\n"
          ]
        },
        {
          "name": "stderr",
          "output_type": "stream",
          "text": [
            "Evaluating:  66%|██████▌   | 2750/4182 [37:56<16:21,  1.46it/s]"
          ]
        },
        {
          "name": "stdout",
          "output_type": "stream",
          "text": [
            "Progress: 2750/4182 | EM: 74.47% | F1: 76.22%\n"
          ]
        },
        {
          "name": "stderr",
          "output_type": "stream",
          "text": [
            "Evaluating:  66%|██████▌   | 2760/4182 [38:09<15:36,  1.52it/s]"
          ]
        },
        {
          "name": "stdout",
          "output_type": "stream",
          "text": [
            "Progress: 2760/4182 | EM: 74.42% | F1: 76.16%\n"
          ]
        },
        {
          "name": "stderr",
          "output_type": "stream",
          "text": [
            "Evaluating:  66%|██████▌   | 2770/4182 [38:15<10:00,  2.35it/s]"
          ]
        },
        {
          "name": "stdout",
          "output_type": "stream",
          "text": [
            "Progress: 2770/4182 | EM: 74.48% | F1: 76.21%\n"
          ]
        },
        {
          "name": "stderr",
          "output_type": "stream",
          "text": [
            "Evaluating:  66%|██████▋   | 2780/4182 [38:18<07:02,  3.32it/s]"
          ]
        },
        {
          "name": "stdout",
          "output_type": "stream",
          "text": [
            "Progress: 2780/4182 | EM: 74.50% | F1: 76.22%\n"
          ]
        },
        {
          "name": "stderr",
          "output_type": "stream",
          "text": [
            "Evaluating:  67%|██████▋   | 2790/4182 [38:22<07:20,  3.16it/s]"
          ]
        },
        {
          "name": "stdout",
          "output_type": "stream",
          "text": [
            "Progress: 2790/4182 | EM: 74.48% | F1: 76.20%\n"
          ]
        },
        {
          "name": "stderr",
          "output_type": "stream",
          "text": [
            "Evaluating:  67%|██████▋   | 2800/4182 [38:32<23:13,  1.01s/it]"
          ]
        },
        {
          "name": "stdout",
          "output_type": "stream",
          "text": [
            "Progress: 2800/4182 | EM: 74.50% | F1: 76.22%\n"
          ]
        },
        {
          "name": "stderr",
          "output_type": "stream",
          "text": [
            "Evaluating:  67%|██████▋   | 2810/4182 [38:41<11:19,  2.02it/s]"
          ]
        },
        {
          "name": "stdout",
          "output_type": "stream",
          "text": [
            "Progress: 2810/4182 | EM: 74.52% | F1: 76.24%\n"
          ]
        },
        {
          "name": "stderr",
          "output_type": "stream",
          "text": [
            "Evaluating:  67%|██████▋   | 2820/4182 [38:56<19:14,  1.18it/s]"
          ]
        },
        {
          "name": "stdout",
          "output_type": "stream",
          "text": [
            "Progress: 2820/4182 | EM: 74.50% | F1: 76.21%\n"
          ]
        },
        {
          "name": "stderr",
          "output_type": "stream",
          "text": [
            "Evaluating:  68%|██████▊   | 2830/4182 [39:05<15:30,  1.45it/s]"
          ]
        },
        {
          "name": "stdout",
          "output_type": "stream",
          "text": [
            "Progress: 2830/4182 | EM: 74.45% | F1: 76.16%\n"
          ]
        },
        {
          "name": "stderr",
          "output_type": "stream",
          "text": [
            "Evaluating:  68%|██████▊   | 2840/4182 [39:17<38:15,  1.71s/it]"
          ]
        },
        {
          "name": "stdout",
          "output_type": "stream",
          "text": [
            "Progress: 2840/4182 | EM: 74.44% | F1: 76.14%\n"
          ]
        },
        {
          "name": "stderr",
          "output_type": "stream",
          "text": [
            "Evaluating:  68%|██████▊   | 2850/4182 [39:26<17:40,  1.26it/s]"
          ]
        },
        {
          "name": "stdout",
          "output_type": "stream",
          "text": [
            "Progress: 2850/4182 | EM: 74.39% | F1: 76.10%\n"
          ]
        },
        {
          "name": "stderr",
          "output_type": "stream",
          "text": [
            "Evaluating:  68%|██████▊   | 2860/4182 [39:34<12:46,  1.72it/s]"
          ]
        },
        {
          "name": "stdout",
          "output_type": "stream",
          "text": [
            "Progress: 2860/4182 | EM: 74.44% | F1: 76.15%\n"
          ]
        },
        {
          "name": "stderr",
          "output_type": "stream",
          "text": [
            "Evaluating:  69%|██████▊   | 2870/4182 [39:43<13:43,  1.59it/s]"
          ]
        },
        {
          "name": "stdout",
          "output_type": "stream",
          "text": [
            "Progress: 2870/4182 | EM: 74.43% | F1: 76.13%\n"
          ]
        },
        {
          "name": "stderr",
          "output_type": "stream",
          "text": [
            "Evaluating:  69%|██████▉   | 2880/4182 [39:53<19:16,  1.13it/s]"
          ]
        },
        {
          "name": "stdout",
          "output_type": "stream",
          "text": [
            "Progress: 2880/4182 | EM: 74.34% | F1: 76.08%\n"
          ]
        },
        {
          "name": "stderr",
          "output_type": "stream",
          "text": [
            "Evaluating:  69%|██████▉   | 2890/4182 [40:07<41:56,  1.95s/it]"
          ]
        },
        {
          "name": "stdout",
          "output_type": "stream",
          "text": [
            "Progress: 2890/4182 | EM: 74.36% | F1: 76.10%\n"
          ]
        },
        {
          "name": "stderr",
          "output_type": "stream",
          "text": [
            "Evaluating:  69%|██████▉   | 2900/4182 [40:16<17:12,  1.24it/s]"
          ]
        },
        {
          "name": "stdout",
          "output_type": "stream",
          "text": [
            "Progress: 2900/4182 | EM: 74.38% | F1: 76.13%\n"
          ]
        },
        {
          "name": "stderr",
          "output_type": "stream",
          "text": [
            "Evaluating:  70%|██████▉   | 2910/4182 [40:31<24:04,  1.14s/it]"
          ]
        },
        {
          "name": "stdout",
          "output_type": "stream",
          "text": [
            "Progress: 2910/4182 | EM: 74.43% | F1: 76.17%\n"
          ]
        },
        {
          "name": "stderr",
          "output_type": "stream",
          "text": [
            "Evaluating:  70%|██████▉   | 2920/4182 [40:47<38:07,  1.81s/it]"
          ]
        },
        {
          "name": "stdout",
          "output_type": "stream",
          "text": [
            "Progress: 2920/4182 | EM: 74.32% | F1: 76.05%\n"
          ]
        },
        {
          "name": "stderr",
          "output_type": "stream",
          "text": [
            "Evaluating:  70%|███████   | 2930/4182 [40:57<23:08,  1.11s/it]"
          ]
        },
        {
          "name": "stdout",
          "output_type": "stream",
          "text": [
            "Progress: 2930/4182 | EM: 74.30% | F1: 76.04%\n"
          ]
        },
        {
          "name": "stderr",
          "output_type": "stream",
          "text": [
            "Evaluating:  70%|███████   | 2940/4182 [41:07<12:34,  1.65it/s]"
          ]
        },
        {
          "name": "stdout",
          "output_type": "stream",
          "text": [
            "Progress: 2940/4182 | EM: 74.29% | F1: 76.02%\n"
          ]
        },
        {
          "name": "stderr",
          "output_type": "stream",
          "text": [
            "Evaluating:  71%|███████   | 2950/4182 [41:10<06:44,  3.05it/s]"
          ]
        },
        {
          "name": "stdout",
          "output_type": "stream",
          "text": [
            "Progress: 2950/4182 | EM: 74.34% | F1: 76.07%\n"
          ]
        },
        {
          "name": "stderr",
          "output_type": "stream",
          "text": [
            "Evaluating:  71%|███████   | 2960/4182 [41:19<21:45,  1.07s/it]"
          ]
        },
        {
          "name": "stdout",
          "output_type": "stream",
          "text": [
            "Progress: 2960/4182 | EM: 74.29% | F1: 76.08%\n"
          ]
        },
        {
          "name": "stderr",
          "output_type": "stream",
          "text": [
            "Evaluating:  71%|███████   | 2970/4182 [41:25<14:41,  1.37it/s]"
          ]
        },
        {
          "name": "stdout",
          "output_type": "stream",
          "text": [
            "Progress: 2970/4182 | EM: 74.34% | F1: 76.13%\n"
          ]
        },
        {
          "name": "stderr",
          "output_type": "stream",
          "text": [
            "Evaluating:  71%|███████▏  | 2980/4182 [41:32<13:50,  1.45it/s]"
          ]
        },
        {
          "name": "stdout",
          "output_type": "stream",
          "text": [
            "Progress: 2980/4182 | EM: 74.30% | F1: 76.08%\n"
          ]
        },
        {
          "name": "stderr",
          "output_type": "stream",
          "text": [
            "Evaluating:  71%|███████▏  | 2990/4182 [41:38<12:55,  1.54it/s]"
          ]
        },
        {
          "name": "stdout",
          "output_type": "stream",
          "text": [
            "Progress: 2990/4182 | EM: 74.25% | F1: 76.03%\n"
          ]
        },
        {
          "name": "stderr",
          "output_type": "stream",
          "text": [
            "Evaluating:  72%|███████▏  | 3000/4182 [41:51<23:02,  1.17s/it]"
          ]
        },
        {
          "name": "stdout",
          "output_type": "stream",
          "text": [
            "Progress: 3000/4182 | EM: 74.20% | F1: 75.98%\n"
          ]
        },
        {
          "name": "stderr",
          "output_type": "stream",
          "text": [
            "Evaluating:  72%|███████▏  | 3010/4182 [42:04<27:37,  1.41s/it]"
          ]
        },
        {
          "name": "stdout",
          "output_type": "stream",
          "text": [
            "Progress: 3010/4182 | EM: 74.15% | F1: 75.92%\n"
          ]
        },
        {
          "name": "stderr",
          "output_type": "stream",
          "text": [
            "Evaluating:  72%|███████▏  | 3020/4182 [42:21<24:06,  1.24s/it]"
          ]
        },
        {
          "name": "stdout",
          "output_type": "stream",
          "text": [
            "Progress: 3020/4182 | EM: 74.11% | F1: 75.88%\n"
          ]
        },
        {
          "name": "stderr",
          "output_type": "stream",
          "text": [
            "Evaluating:  72%|███████▏  | 3030/4182 [42:38<36:54,  1.92s/it]"
          ]
        },
        {
          "name": "stdout",
          "output_type": "stream",
          "text": [
            "Progress: 3030/4182 | EM: 74.06% | F1: 75.84%\n"
          ]
        },
        {
          "name": "stderr",
          "output_type": "stream",
          "text": [
            "Evaluating:  73%|███████▎  | 3040/4182 [42:46<08:11,  2.32it/s]"
          ]
        },
        {
          "name": "stdout",
          "output_type": "stream",
          "text": [
            "Progress: 3040/4182 | EM: 73.98% | F1: 75.75%\n"
          ]
        },
        {
          "name": "stderr",
          "output_type": "stream",
          "text": [
            "Evaluating:  73%|███████▎  | 3050/4182 [42:48<04:32,  4.15it/s]"
          ]
        },
        {
          "name": "stdout",
          "output_type": "stream",
          "text": [
            "Progress: 3050/4182 | EM: 74.07% | F1: 75.83%\n"
          ]
        },
        {
          "name": "stderr",
          "output_type": "stream",
          "text": [
            "Evaluating:  73%|███████▎  | 3060/4182 [42:51<04:21,  4.29it/s]"
          ]
        },
        {
          "name": "stdout",
          "output_type": "stream",
          "text": [
            "Progress: 3060/4182 | EM: 74.15% | F1: 75.91%\n"
          ]
        },
        {
          "name": "stderr",
          "output_type": "stream",
          "text": [
            "Evaluating:  73%|███████▎  | 3070/4182 [42:53<04:18,  4.30it/s]"
          ]
        },
        {
          "name": "stdout",
          "output_type": "stream",
          "text": [
            "Progress: 3070/4182 | EM: 74.23% | F1: 75.99%\n"
          ]
        },
        {
          "name": "stderr",
          "output_type": "stream",
          "text": [
            "Evaluating:  74%|███████▎  | 3080/4182 [43:05<44:36,  2.43s/it]"
          ]
        },
        {
          "name": "stdout",
          "output_type": "stream",
          "text": [
            "Progress: 3080/4182 | EM: 74.22% | F1: 75.97%\n"
          ]
        },
        {
          "name": "stderr",
          "output_type": "stream",
          "text": [
            "Evaluating:  74%|███████▍  | 3090/4182 [43:15<16:33,  1.10it/s]"
          ]
        },
        {
          "name": "stdout",
          "output_type": "stream",
          "text": [
            "Progress: 3090/4182 | EM: 74.24% | F1: 75.99%\n"
          ]
        },
        {
          "name": "stderr",
          "output_type": "stream",
          "text": [
            "Evaluating:  74%|███████▍  | 3100/4182 [43:32<28:31,  1.58s/it]"
          ]
        },
        {
          "name": "stdout",
          "output_type": "stream",
          "text": [
            "Progress: 3100/4182 | EM: 74.16% | F1: 75.93%\n"
          ]
        },
        {
          "name": "stderr",
          "output_type": "stream",
          "text": [
            "Evaluating:  74%|███████▍  | 3110/4182 [43:53<43:42,  2.45s/it]"
          ]
        },
        {
          "name": "stdout",
          "output_type": "stream",
          "text": [
            "Progress: 3110/4182 | EM: 74.08% | F1: 75.84%\n"
          ]
        },
        {
          "name": "stderr",
          "output_type": "stream",
          "text": [
            "Evaluating:  75%|███████▍  | 3120/4182 [44:08<21:18,  1.20s/it]"
          ]
        },
        {
          "name": "stdout",
          "output_type": "stream",
          "text": [
            "Progress: 3120/4182 | EM: 74.01% | F1: 75.79%\n"
          ]
        },
        {
          "name": "stderr",
          "output_type": "stream",
          "text": [
            "Evaluating:  75%|███████▍  | 3130/4182 [44:19<14:52,  1.18it/s]"
          ]
        },
        {
          "name": "stdout",
          "output_type": "stream",
          "text": [
            "Progress: 3130/4182 | EM: 73.99% | F1: 75.78%\n"
          ]
        },
        {
          "name": "stderr",
          "output_type": "stream",
          "text": [
            "Evaluating:  75%|███████▌  | 3140/4182 [44:31<17:06,  1.02it/s]"
          ]
        },
        {
          "name": "stdout",
          "output_type": "stream",
          "text": [
            "Progress: 3140/4182 | EM: 73.95% | F1: 75.74%\n"
          ]
        },
        {
          "name": "stderr",
          "output_type": "stream",
          "text": [
            "Evaluating:  75%|███████▌  | 3150/4182 [44:47<30:09,  1.75s/it]"
          ]
        },
        {
          "name": "stdout",
          "output_type": "stream",
          "text": [
            "Progress: 3150/4182 | EM: 73.87% | F1: 75.67%\n"
          ]
        },
        {
          "name": "stderr",
          "output_type": "stream",
          "text": [
            "Evaluating:  76%|███████▌  | 3160/4182 [44:59<17:20,  1.02s/it]"
          ]
        },
        {
          "name": "stdout",
          "output_type": "stream",
          "text": [
            "Progress: 3160/4182 | EM: 73.83% | F1: 75.63%\n"
          ]
        },
        {
          "name": "stderr",
          "output_type": "stream",
          "text": [
            "Evaluating:  76%|███████▌  | 3170/4182 [45:12<14:29,  1.16it/s]"
          ]
        },
        {
          "name": "stdout",
          "output_type": "stream",
          "text": [
            "Progress: 3170/4182 | EM: 73.82% | F1: 75.62%\n"
          ]
        },
        {
          "name": "stderr",
          "output_type": "stream",
          "text": [
            "Evaluating:  76%|███████▌  | 3180/4182 [45:23<14:04,  1.19it/s]"
          ]
        },
        {
          "name": "stdout",
          "output_type": "stream",
          "text": [
            "Progress: 3180/4182 | EM: 73.84% | F1: 75.64%\n"
          ]
        },
        {
          "name": "stderr",
          "output_type": "stream",
          "text": [
            "Evaluating:  76%|███████▋  | 3190/4182 [45:32<27:53,  1.69s/it]"
          ]
        },
        {
          "name": "stdout",
          "output_type": "stream",
          "text": [
            "Progress: 3190/4182 | EM: 73.89% | F1: 75.69%\n"
          ]
        },
        {
          "name": "stderr",
          "output_type": "stream",
          "text": [
            "Evaluating:  77%|███████▋  | 3200/4182 [45:42<21:10,  1.29s/it]"
          ]
        },
        {
          "name": "stdout",
          "output_type": "stream",
          "text": [
            "Progress: 3200/4182 | EM: 73.97% | F1: 75.76%\n"
          ]
        },
        {
          "name": "stderr",
          "output_type": "stream",
          "text": [
            "Evaluating:  77%|███████▋  | 3210/4182 [45:52<13:42,  1.18it/s]"
          ]
        },
        {
          "name": "stdout",
          "output_type": "stream",
          "text": [
            "Progress: 3210/4182 | EM: 73.89% | F1: 75.69%\n"
          ]
        },
        {
          "name": "stderr",
          "output_type": "stream",
          "text": [
            "Evaluating:  77%|███████▋  | 3220/4182 [46:02<17:31,  1.09s/it]"
          ]
        },
        {
          "name": "stdout",
          "output_type": "stream",
          "text": [
            "Progress: 3220/4182 | EM: 73.76% | F1: 75.56%\n"
          ]
        },
        {
          "name": "stderr",
          "output_type": "stream",
          "text": [
            "Evaluating:  77%|███████▋  | 3230/4182 [46:11<12:32,  1.27it/s]"
          ]
        },
        {
          "name": "stdout",
          "output_type": "stream",
          "text": [
            "Progress: 3230/4182 | EM: 73.75% | F1: 75.54%\n"
          ]
        },
        {
          "name": "stderr",
          "output_type": "stream",
          "text": [
            "Evaluating:  77%|███████▋  | 3240/4182 [46:19<13:31,  1.16it/s]"
          ]
        },
        {
          "name": "stdout",
          "output_type": "stream",
          "text": [
            "Progress: 3240/4182 | EM: 73.58% | F1: 75.40%\n"
          ]
        },
        {
          "name": "stderr",
          "output_type": "stream",
          "text": [
            "Evaluating:  78%|███████▊  | 3250/4182 [46:39<41:13,  2.65s/it]"
          ]
        },
        {
          "name": "stdout",
          "output_type": "stream",
          "text": [
            "Progress: 3250/4182 | EM: 73.48% | F1: 75.30%\n"
          ]
        },
        {
          "name": "stderr",
          "output_type": "stream",
          "text": [
            "Evaluating:  78%|███████▊  | 3260/4182 [46:57<26:59,  1.76s/it]"
          ]
        },
        {
          "name": "stdout",
          "output_type": "stream",
          "text": [
            "Progress: 3260/4182 | EM: 73.40% | F1: 75.23%\n"
          ]
        },
        {
          "name": "stderr",
          "output_type": "stream",
          "text": [
            "Evaluating:  78%|███████▊  | 3270/4182 [47:11<15:00,  1.01it/s]"
          ]
        },
        {
          "name": "stdout",
          "output_type": "stream",
          "text": [
            "Progress: 3270/4182 | EM: 73.39% | F1: 75.21%\n"
          ]
        },
        {
          "name": "stderr",
          "output_type": "stream",
          "text": [
            "Evaluating:  78%|███████▊  | 3280/4182 [47:27<20:05,  1.34s/it]"
          ]
        },
        {
          "name": "stdout",
          "output_type": "stream",
          "text": [
            "Progress: 3280/4182 | EM: 73.35% | F1: 75.17%\n"
          ]
        },
        {
          "name": "stderr",
          "output_type": "stream",
          "text": [
            "Evaluating:  79%|███████▊  | 3290/4182 [47:34<09:29,  1.57it/s]"
          ]
        },
        {
          "name": "stdout",
          "output_type": "stream",
          "text": [
            "Progress: 3290/4182 | EM: 73.31% | F1: 75.13%\n"
          ]
        },
        {
          "name": "stderr",
          "output_type": "stream",
          "text": [
            "Evaluating:  79%|███████▉  | 3300/4182 [47:37<06:08,  2.40it/s]"
          ]
        },
        {
          "name": "stdout",
          "output_type": "stream",
          "text": [
            "Progress: 3300/4182 | EM: 73.33% | F1: 75.15%\n"
          ]
        },
        {
          "name": "stderr",
          "output_type": "stream",
          "text": [
            "Evaluating:  79%|███████▉  | 3310/4182 [47:40<03:47,  3.83it/s]"
          ]
        },
        {
          "name": "stdout",
          "output_type": "stream",
          "text": [
            "Progress: 3310/4182 | EM: 73.41% | F1: 75.23%\n"
          ]
        },
        {
          "name": "stderr",
          "output_type": "stream",
          "text": [
            "Evaluating:  79%|███████▉  | 3320/4182 [47:46<05:25,  2.65it/s]"
          ]
        },
        {
          "name": "stdout",
          "output_type": "stream",
          "text": [
            "Progress: 3320/4182 | EM: 73.46% | F1: 75.27%\n"
          ]
        },
        {
          "name": "stderr",
          "output_type": "stream",
          "text": [
            "Evaluating:  80%|███████▉  | 3330/4182 [48:04<26:33,  1.87s/it]"
          ]
        },
        {
          "name": "stdout",
          "output_type": "stream",
          "text": [
            "Progress: 3330/4182 | EM: 73.45% | F1: 75.26%\n"
          ]
        },
        {
          "name": "stderr",
          "output_type": "stream",
          "text": [
            "Evaluating:  80%|███████▉  | 3340/4182 [48:23<21:30,  1.53s/it]"
          ]
        },
        {
          "name": "stdout",
          "output_type": "stream",
          "text": [
            "Progress: 3340/4182 | EM: 73.50% | F1: 75.30%\n"
          ]
        },
        {
          "name": "stderr",
          "output_type": "stream",
          "text": [
            "Evaluating:  80%|████████  | 3350/4182 [48:40<15:12,  1.10s/it]"
          ]
        },
        {
          "name": "stdout",
          "output_type": "stream",
          "text": [
            "Progress: 3350/4182 | EM: 73.37% | F1: 75.17%\n"
          ]
        },
        {
          "name": "stderr",
          "output_type": "stream",
          "text": [
            "Evaluating:  80%|████████  | 3360/4182 [48:58<18:14,  1.33s/it]"
          ]
        },
        {
          "name": "stdout",
          "output_type": "stream",
          "text": [
            "Progress: 3360/4182 | EM: 73.33% | F1: 75.13%\n"
          ]
        },
        {
          "name": "stderr",
          "output_type": "stream",
          "text": [
            "Evaluating:  81%|████████  | 3370/4182 [49:09<20:43,  1.53s/it]"
          ]
        },
        {
          "name": "stdout",
          "output_type": "stream",
          "text": [
            "Progress: 3370/4182 | EM: 73.32% | F1: 75.13%\n"
          ]
        },
        {
          "name": "stderr",
          "output_type": "stream",
          "text": [
            "Evaluating:  81%|████████  | 3380/4182 [49:16<11:24,  1.17it/s]"
          ]
        },
        {
          "name": "stdout",
          "output_type": "stream",
          "text": [
            "Progress: 3380/4182 | EM: 73.34% | F1: 75.15%\n"
          ]
        },
        {
          "name": "stderr",
          "output_type": "stream",
          "text": [
            "Evaluating:  81%|████████  | 3390/4182 [49:31<21:37,  1.64s/it]"
          ]
        },
        {
          "name": "stdout",
          "output_type": "stream",
          "text": [
            "Progress: 3390/4182 | EM: 73.30% | F1: 75.11%\n"
          ]
        },
        {
          "name": "stderr",
          "output_type": "stream",
          "text": [
            "Evaluating:  81%|████████▏ | 3400/4182 [49:41<13:23,  1.03s/it]"
          ]
        },
        {
          "name": "stdout",
          "output_type": "stream",
          "text": [
            "Progress: 3400/4182 | EM: 73.35% | F1: 75.16%\n"
          ]
        },
        {
          "name": "stderr",
          "output_type": "stream",
          "text": [
            "Evaluating:  82%|████████▏ | 3410/4182 [49:52<23:06,  1.80s/it]"
          ]
        },
        {
          "name": "stdout",
          "output_type": "stream",
          "text": [
            "Progress: 3410/4182 | EM: 73.26% | F1: 75.11%\n"
          ]
        },
        {
          "name": "stderr",
          "output_type": "stream",
          "text": [
            "Evaluating:  82%|████████▏ | 3420/4182 [49:58<09:51,  1.29it/s]"
          ]
        },
        {
          "name": "stdout",
          "output_type": "stream",
          "text": [
            "Progress: 3420/4182 | EM: 73.33% | F1: 75.19%\n"
          ]
        },
        {
          "name": "stderr",
          "output_type": "stream",
          "text": [
            "Evaluating:  82%|████████▏ | 3430/4182 [50:08<11:15,  1.11it/s]"
          ]
        },
        {
          "name": "stdout",
          "output_type": "stream",
          "text": [
            "Progress: 3430/4182 | EM: 73.35% | F1: 75.21%\n"
          ]
        },
        {
          "name": "stderr",
          "output_type": "stream",
          "text": [
            "Evaluating:  82%|████████▏ | 3440/4182 [50:15<11:10,  1.11it/s]"
          ]
        },
        {
          "name": "stdout",
          "output_type": "stream",
          "text": [
            "Progress: 3440/4182 | EM: 73.34% | F1: 75.20%\n"
          ]
        },
        {
          "name": "stderr",
          "output_type": "stream",
          "text": [
            "Evaluating:  82%|████████▏ | 3450/4182 [50:26<14:29,  1.19s/it]"
          ]
        },
        {
          "name": "stdout",
          "output_type": "stream",
          "text": [
            "Progress: 3450/4182 | EM: 73.36% | F1: 75.22%\n"
          ]
        },
        {
          "name": "stderr",
          "output_type": "stream",
          "text": [
            "Evaluating:  83%|████████▎ | 3460/4182 [50:32<05:21,  2.25it/s]"
          ]
        },
        {
          "name": "stdout",
          "output_type": "stream",
          "text": [
            "Progress: 3460/4182 | EM: 73.38% | F1: 75.23%\n"
          ]
        },
        {
          "name": "stderr",
          "output_type": "stream",
          "text": [
            "Evaluating:  83%|████████▎ | 3470/4182 [50:52<24:33,  2.07s/it]"
          ]
        },
        {
          "name": "stdout",
          "output_type": "stream",
          "text": [
            "Progress: 3470/4182 | EM: 73.34% | F1: 75.19%\n"
          ]
        },
        {
          "name": "stderr",
          "output_type": "stream",
          "text": [
            "Evaluating:  83%|████████▎ | 3480/4182 [50:59<10:44,  1.09it/s]"
          ]
        },
        {
          "name": "stdout",
          "output_type": "stream",
          "text": [
            "Progress: 3480/4182 | EM: 73.36% | F1: 75.21%\n"
          ]
        },
        {
          "name": "stderr",
          "output_type": "stream",
          "text": [
            "Evaluating:  83%|████████▎ | 3490/4182 [51:04<09:00,  1.28it/s]"
          ]
        },
        {
          "name": "stdout",
          "output_type": "stream",
          "text": [
            "Progress: 3490/4182 | EM: 73.30% | F1: 75.15%\n"
          ]
        },
        {
          "name": "stderr",
          "output_type": "stream",
          "text": [
            "Evaluating:  84%|████████▎ | 3500/4182 [51:10<03:57,  2.87it/s]"
          ]
        },
        {
          "name": "stdout",
          "output_type": "stream",
          "text": [
            "Progress: 3500/4182 | EM: 73.34% | F1: 75.20%\n"
          ]
        },
        {
          "name": "stderr",
          "output_type": "stream",
          "text": [
            "Evaluating:  84%|████████▍ | 3510/4182 [51:12<02:46,  4.03it/s]"
          ]
        },
        {
          "name": "stdout",
          "output_type": "stream",
          "text": [
            "Progress: 3510/4182 | EM: 73.42% | F1: 75.27%\n"
          ]
        },
        {
          "name": "stderr",
          "output_type": "stream",
          "text": [
            "Evaluating:  84%|████████▍ | 3520/4182 [51:15<02:44,  4.03it/s]"
          ]
        },
        {
          "name": "stdout",
          "output_type": "stream",
          "text": [
            "Progress: 3520/4182 | EM: 73.49% | F1: 75.34%\n"
          ]
        },
        {
          "name": "stderr",
          "output_type": "stream",
          "text": [
            "Evaluating:  84%|████████▍ | 3530/4182 [51:18<04:07,  2.64it/s]"
          ]
        },
        {
          "name": "stdout",
          "output_type": "stream",
          "text": [
            "Progress: 3530/4182 | EM: 73.51% | F1: 75.35%\n"
          ]
        },
        {
          "name": "stderr",
          "output_type": "stream",
          "text": [
            "Evaluating:  85%|████████▍ | 3540/4182 [51:24<04:41,  2.28it/s]"
          ]
        },
        {
          "name": "stdout",
          "output_type": "stream",
          "text": [
            "Progress: 3540/4182 | EM: 73.53% | F1: 75.39%\n"
          ]
        },
        {
          "name": "stderr",
          "output_type": "stream",
          "text": [
            "Evaluating:  85%|████████▍ | 3550/4182 [51:30<04:47,  2.20it/s]"
          ]
        },
        {
          "name": "stdout",
          "output_type": "stream",
          "text": [
            "Progress: 3550/4182 | EM: 73.55% | F1: 75.41%\n"
          ]
        },
        {
          "name": "stderr",
          "output_type": "stream",
          "text": [
            "Evaluating:  85%|████████▌ | 3560/4182 [51:34<03:48,  2.72it/s]"
          ]
        },
        {
          "name": "stdout",
          "output_type": "stream",
          "text": [
            "Progress: 3560/4182 | EM: 73.62% | F1: 75.48%\n"
          ]
        },
        {
          "name": "stderr",
          "output_type": "stream",
          "text": [
            "Evaluating:  85%|████████▌ | 3570/4182 [51:38<04:23,  2.32it/s]"
          ]
        },
        {
          "name": "stdout",
          "output_type": "stream",
          "text": [
            "Progress: 3570/4182 | EM: 73.64% | F1: 75.50%\n"
          ]
        },
        {
          "name": "stderr",
          "output_type": "stream",
          "text": [
            "Evaluating:  86%|████████▌ | 3580/4182 [51:40<02:23,  4.19it/s]"
          ]
        },
        {
          "name": "stdout",
          "output_type": "stream",
          "text": [
            "Progress: 3580/4182 | EM: 73.69% | F1: 75.54%\n"
          ]
        },
        {
          "name": "stderr",
          "output_type": "stream",
          "text": [
            "Evaluating:  86%|████████▌ | 3590/4182 [51:42<02:16,  4.35it/s]"
          ]
        },
        {
          "name": "stdout",
          "output_type": "stream",
          "text": [
            "Progress: 3590/4182 | EM: 73.76% | F1: 75.61%\n"
          ]
        },
        {
          "name": "stderr",
          "output_type": "stream",
          "text": [
            "Evaluating:  86%|████████▌ | 3600/4182 [51:45<02:13,  4.35it/s]"
          ]
        },
        {
          "name": "stdout",
          "output_type": "stream",
          "text": [
            "Progress: 3600/4182 | EM: 73.83% | F1: 75.68%\n"
          ]
        },
        {
          "name": "stderr",
          "output_type": "stream",
          "text": [
            "Evaluating:  86%|████████▋ | 3610/4182 [51:49<06:06,  1.56it/s]"
          ]
        },
        {
          "name": "stdout",
          "output_type": "stream",
          "text": [
            "Progress: 3610/4182 | EM: 73.88% | F1: 75.72%\n"
          ]
        },
        {
          "name": "stderr",
          "output_type": "stream",
          "text": [
            "Evaluating:  87%|████████▋ | 3620/4182 [52:01<09:04,  1.03it/s]"
          ]
        },
        {
          "name": "stdout",
          "output_type": "stream",
          "text": [
            "Progress: 3620/4182 | EM: 73.81% | F1: 75.67%\n"
          ]
        },
        {
          "name": "stderr",
          "output_type": "stream",
          "text": [
            "Evaluating:  87%|████████▋ | 3630/4182 [52:16<13:50,  1.51s/it]"
          ]
        },
        {
          "name": "stdout",
          "output_type": "stream",
          "text": [
            "Progress: 3630/4182 | EM: 73.80% | F1: 75.66%\n"
          ]
        },
        {
          "name": "stderr",
          "output_type": "stream",
          "text": [
            "Evaluating:  87%|████████▋ | 3640/4182 [52:27<08:16,  1.09it/s]"
          ]
        },
        {
          "name": "stdout",
          "output_type": "stream",
          "text": [
            "Progress: 3640/4182 | EM: 73.87% | F1: 75.73%\n"
          ]
        },
        {
          "name": "stderr",
          "output_type": "stream",
          "text": [
            "Evaluating:  87%|████████▋ | 3650/4182 [52:41<07:40,  1.16it/s]"
          ]
        },
        {
          "name": "stdout",
          "output_type": "stream",
          "text": [
            "Progress: 3650/4182 | EM: 73.89% | F1: 75.74%\n"
          ]
        },
        {
          "name": "stderr",
          "output_type": "stream",
          "text": [
            "Evaluating:  88%|████████▊ | 3660/4182 [52:56<16:50,  1.94s/it]"
          ]
        },
        {
          "name": "stdout",
          "output_type": "stream",
          "text": [
            "Progress: 3660/4182 | EM: 73.85% | F1: 75.71%\n"
          ]
        },
        {
          "name": "stderr",
          "output_type": "stream",
          "text": [
            "Evaluating:  88%|████████▊ | 3670/4182 [53:08<12:41,  1.49s/it]"
          ]
        },
        {
          "name": "stdout",
          "output_type": "stream",
          "text": [
            "Progress: 3670/4182 | EM: 73.81% | F1: 75.67%\n"
          ]
        },
        {
          "name": "stderr",
          "output_type": "stream",
          "text": [
            "Evaluating:  88%|████████▊ | 3680/4182 [53:24<08:23,  1.00s/it]"
          ]
        },
        {
          "name": "stdout",
          "output_type": "stream",
          "text": [
            "Progress: 3680/4182 | EM: 73.75% | F1: 75.61%\n"
          ]
        },
        {
          "name": "stderr",
          "output_type": "stream",
          "text": [
            "Evaluating:  88%|████████▊ | 3690/4182 [53:44<15:15,  1.86s/it]"
          ]
        },
        {
          "name": "stdout",
          "output_type": "stream",
          "text": [
            "Progress: 3690/4182 | EM: 73.74% | F1: 75.60%\n"
          ]
        },
        {
          "name": "stderr",
          "output_type": "stream",
          "text": [
            "Evaluating:  88%|████████▊ | 3700/4182 [53:51<05:20,  1.50it/s]"
          ]
        },
        {
          "name": "stdout",
          "output_type": "stream",
          "text": [
            "Progress: 3700/4182 | EM: 73.76% | F1: 75.64%\n"
          ]
        },
        {
          "name": "stderr",
          "output_type": "stream",
          "text": [
            "Evaluating:  89%|████████▊ | 3710/4182 [53:55<04:39,  1.69it/s]"
          ]
        },
        {
          "name": "stdout",
          "output_type": "stream",
          "text": [
            "Progress: 3710/4182 | EM: 73.83% | F1: 75.70%\n"
          ]
        },
        {
          "name": "stderr",
          "output_type": "stream",
          "text": [
            "Evaluating:  89%|████████▉ | 3720/4182 [53:58<01:53,  4.06it/s]"
          ]
        },
        {
          "name": "stdout",
          "output_type": "stream",
          "text": [
            "Progress: 3720/4182 | EM: 73.90% | F1: 75.77%\n"
          ]
        },
        {
          "name": "stderr",
          "output_type": "stream",
          "text": [
            "Evaluating:  89%|████████▉ | 3730/4182 [54:03<07:49,  1.04s/it]"
          ]
        },
        {
          "name": "stdout",
          "output_type": "stream",
          "text": [
            "Progress: 3730/4182 | EM: 73.94% | F1: 75.82%\n"
          ]
        },
        {
          "name": "stderr",
          "output_type": "stream",
          "text": [
            "Evaluating:  89%|████████▉ | 3740/4182 [54:24<17:33,  2.38s/it]"
          ]
        },
        {
          "name": "stdout",
          "output_type": "stream",
          "text": [
            "Progress: 3740/4182 | EM: 73.85% | F1: 75.73%\n"
          ]
        },
        {
          "name": "stderr",
          "output_type": "stream",
          "text": [
            "Evaluating:  90%|████████▉ | 3750/4182 [54:38<16:58,  2.36s/it]"
          ]
        },
        {
          "name": "stdout",
          "output_type": "stream",
          "text": [
            "Progress: 3750/4182 | EM: 73.73% | F1: 75.61%\n"
          ]
        },
        {
          "name": "stderr",
          "output_type": "stream",
          "text": [
            "Evaluating:  90%|████████▉ | 3760/4182 [54:50<08:15,  1.17s/it]"
          ]
        },
        {
          "name": "stdout",
          "output_type": "stream",
          "text": [
            "Progress: 3760/4182 | EM: 73.64% | F1: 75.52%\n"
          ]
        },
        {
          "name": "stderr",
          "output_type": "stream",
          "text": [
            "Evaluating:  90%|█████████ | 3770/4182 [55:04<11:32,  1.68s/it]"
          ]
        },
        {
          "name": "stdout",
          "output_type": "stream",
          "text": [
            "Progress: 3770/4182 | EM: 73.55% | F1: 75.44%\n"
          ]
        },
        {
          "name": "stderr",
          "output_type": "stream",
          "text": [
            "Evaluating:  90%|█████████ | 3780/4182 [55:14<08:23,  1.25s/it]"
          ]
        },
        {
          "name": "stdout",
          "output_type": "stream",
          "text": [
            "Progress: 3780/4182 | EM: 73.47% | F1: 75.38%\n"
          ]
        },
        {
          "name": "stderr",
          "output_type": "stream",
          "text": [
            "Evaluating:  91%|█████████ | 3790/4182 [55:23<09:01,  1.38s/it]"
          ]
        },
        {
          "name": "stdout",
          "output_type": "stream",
          "text": [
            "Progress: 3790/4182 | EM: 73.51% | F1: 75.41%\n"
          ]
        },
        {
          "name": "stderr",
          "output_type": "stream",
          "text": [
            "Evaluating:  91%|█████████ | 3800/4182 [55:41<11:22,  1.79s/it]"
          ]
        },
        {
          "name": "stdout",
          "output_type": "stream",
          "text": [
            "Progress: 3800/4182 | EM: 73.47% | F1: 75.38%\n"
          ]
        },
        {
          "name": "stderr",
          "output_type": "stream",
          "text": [
            "Evaluating:  91%|█████████ | 3810/4182 [55:51<07:03,  1.14s/it]"
          ]
        },
        {
          "name": "stdout",
          "output_type": "stream",
          "text": [
            "Progress: 3810/4182 | EM: 73.46% | F1: 75.37%\n"
          ]
        },
        {
          "name": "stderr",
          "output_type": "stream",
          "text": [
            "Evaluating:  91%|█████████▏| 3820/4182 [55:54<01:54,  3.15it/s]"
          ]
        },
        {
          "name": "stdout",
          "output_type": "stream",
          "text": [
            "Progress: 3820/4182 | EM: 73.48% | F1: 75.38%\n"
          ]
        },
        {
          "name": "stderr",
          "output_type": "stream",
          "text": [
            "Evaluating:  92%|█████████▏| 3830/4182 [55:57<01:22,  4.27it/s]"
          ]
        },
        {
          "name": "stdout",
          "output_type": "stream",
          "text": [
            "Progress: 3830/4182 | EM: 73.55% | F1: 75.44%\n"
          ]
        },
        {
          "name": "stderr",
          "output_type": "stream",
          "text": [
            "Evaluating:  92%|█████████▏| 3840/4182 [55:59<01:18,  4.35it/s]"
          ]
        },
        {
          "name": "stdout",
          "output_type": "stream",
          "text": [
            "Progress: 3840/4182 | EM: 73.62% | F1: 75.51%\n"
          ]
        },
        {
          "name": "stderr",
          "output_type": "stream",
          "text": [
            "Evaluating:  92%|█████████▏| 3850/4182 [56:01<01:16,  4.33it/s]"
          ]
        },
        {
          "name": "stdout",
          "output_type": "stream",
          "text": [
            "Progress: 3850/4182 | EM: 73.69% | F1: 75.57%\n"
          ]
        },
        {
          "name": "stderr",
          "output_type": "stream",
          "text": [
            "Evaluating:  92%|█████████▏| 3860/4182 [56:10<05:58,  1.11s/it]"
          ]
        },
        {
          "name": "stdout",
          "output_type": "stream",
          "text": [
            "Progress: 3860/4182 | EM: 73.68% | F1: 75.56%\n"
          ]
        },
        {
          "name": "stderr",
          "output_type": "stream",
          "text": [
            "Evaluating:  93%|█████████▎| 3870/4182 [56:17<05:10,  1.00it/s]"
          ]
        },
        {
          "name": "stdout",
          "output_type": "stream",
          "text": [
            "Progress: 3870/4182 | EM: 73.70% | F1: 75.57%\n"
          ]
        },
        {
          "name": "stderr",
          "output_type": "stream",
          "text": [
            "Evaluating:  93%|█████████▎| 3880/4182 [56:21<01:58,  2.54it/s]"
          ]
        },
        {
          "name": "stdout",
          "output_type": "stream",
          "text": [
            "Progress: 3880/4182 | EM: 73.76% | F1: 75.63%\n"
          ]
        },
        {
          "name": "stderr",
          "output_type": "stream",
          "text": [
            "Evaluating:  93%|█████████▎| 3890/4182 [56:28<06:45,  1.39s/it]"
          ]
        },
        {
          "name": "stdout",
          "output_type": "stream",
          "text": [
            "Progress: 3890/4182 | EM: 73.78% | F1: 75.64%\n"
          ]
        },
        {
          "name": "stderr",
          "output_type": "stream",
          "text": [
            "Evaluating:  93%|█████████▎| 3900/4182 [56:38<06:13,  1.32s/it]"
          ]
        },
        {
          "name": "stdout",
          "output_type": "stream",
          "text": [
            "Progress: 3900/4182 | EM: 73.74% | F1: 75.62%\n"
          ]
        },
        {
          "name": "stderr",
          "output_type": "stream",
          "text": [
            "Evaluating:  93%|█████████▎| 3910/4182 [56:44<01:55,  2.36it/s]"
          ]
        },
        {
          "name": "stdout",
          "output_type": "stream",
          "text": [
            "Progress: 3910/4182 | EM: 73.79% | F1: 75.66%\n"
          ]
        },
        {
          "name": "stderr",
          "output_type": "stream",
          "text": [
            "Evaluating:  94%|█████████▎| 3920/4182 [56:50<01:48,  2.41it/s]"
          ]
        },
        {
          "name": "stdout",
          "output_type": "stream",
          "text": [
            "Progress: 3920/4182 | EM: 73.80% | F1: 75.68%\n"
          ]
        },
        {
          "name": "stderr",
          "output_type": "stream",
          "text": [
            "Evaluating:  94%|█████████▍| 3930/4182 [56:53<01:20,  3.12it/s]"
          ]
        },
        {
          "name": "stdout",
          "output_type": "stream",
          "text": [
            "Progress: 3930/4182 | EM: 73.87% | F1: 75.74%\n"
          ]
        },
        {
          "name": "stderr",
          "output_type": "stream",
          "text": [
            "Evaluating:  94%|█████████▍| 3940/4182 [56:57<01:47,  2.25it/s]"
          ]
        },
        {
          "name": "stdout",
          "output_type": "stream",
          "text": [
            "Progress: 3940/4182 | EM: 73.86% | F1: 75.76%\n"
          ]
        },
        {
          "name": "stderr",
          "output_type": "stream",
          "text": [
            "Evaluating:  94%|█████████▍| 3950/4182 [57:03<01:33,  2.49it/s]"
          ]
        },
        {
          "name": "stdout",
          "output_type": "stream",
          "text": [
            "Progress: 3950/4182 | EM: 73.90% | F1: 75.80%\n"
          ]
        },
        {
          "name": "stderr",
          "output_type": "stream",
          "text": [
            "Evaluating:  95%|█████████▍| 3960/4182 [57:09<01:30,  2.46it/s]"
          ]
        },
        {
          "name": "stdout",
          "output_type": "stream",
          "text": [
            "Progress: 3960/4182 | EM: 73.94% | F1: 75.83%\n"
          ]
        },
        {
          "name": "stderr",
          "output_type": "stream",
          "text": [
            "Evaluating:  95%|█████████▍| 3970/4182 [57:12<01:07,  3.13it/s]"
          ]
        },
        {
          "name": "stdout",
          "output_type": "stream",
          "text": [
            "Progress: 3970/4182 | EM: 73.98% | F1: 75.87%\n"
          ]
        },
        {
          "name": "stderr",
          "output_type": "stream",
          "text": [
            "Evaluating:  95%|█████████▌| 3980/4182 [57:23<01:49,  1.84it/s]"
          ]
        },
        {
          "name": "stdout",
          "output_type": "stream",
          "text": [
            "Progress: 3980/4182 | EM: 73.97% | F1: 75.86%\n"
          ]
        },
        {
          "name": "stderr",
          "output_type": "stream",
          "text": [
            "Evaluating:  95%|█████████▌| 3990/4182 [57:25<00:49,  3.87it/s]"
          ]
        },
        {
          "name": "stdout",
          "output_type": "stream",
          "text": [
            "Progress: 3990/4182 | EM: 74.01% | F1: 75.90%\n"
          ]
        },
        {
          "name": "stderr",
          "output_type": "stream",
          "text": [
            "Evaluating:  96%|█████████▌| 4000/4182 [57:31<01:00,  3.02it/s]"
          ]
        },
        {
          "name": "stdout",
          "output_type": "stream",
          "text": [
            "Progress: 4000/4182 | EM: 74.05% | F1: 75.94%\n"
          ]
        },
        {
          "name": "stderr",
          "output_type": "stream",
          "text": [
            "Evaluating:  96%|█████████▌| 4010/4182 [57:34<00:42,  4.01it/s]"
          ]
        },
        {
          "name": "stdout",
          "output_type": "stream",
          "text": [
            "Progress: 4010/4182 | EM: 74.06% | F1: 75.95%\n"
          ]
        },
        {
          "name": "stderr",
          "output_type": "stream",
          "text": [
            "Evaluating:  96%|█████████▌| 4020/4182 [57:41<02:56,  1.09s/it]"
          ]
        },
        {
          "name": "stdout",
          "output_type": "stream",
          "text": [
            "Progress: 4020/4182 | EM: 74.08% | F1: 75.96%\n"
          ]
        },
        {
          "name": "stderr",
          "output_type": "stream",
          "text": [
            "Evaluating:  96%|█████████▋| 4030/4182 [57:56<03:36,  1.43s/it]"
          ]
        },
        {
          "name": "stdout",
          "output_type": "stream",
          "text": [
            "Progress: 4030/4182 | EM: 74.12% | F1: 76.00%\n"
          ]
        },
        {
          "name": "stderr",
          "output_type": "stream",
          "text": [
            "Evaluating:  97%|█████████▋| 4040/4182 [58:07<02:29,  1.05s/it]"
          ]
        },
        {
          "name": "stdout",
          "output_type": "stream",
          "text": [
            "Progress: 4040/4182 | EM: 74.11% | F1: 75.98%\n"
          ]
        },
        {
          "name": "stderr",
          "output_type": "stream",
          "text": [
            "Evaluating:  97%|█████████▋| 4050/4182 [58:24<03:38,  1.66s/it]"
          ]
        },
        {
          "name": "stdout",
          "output_type": "stream",
          "text": [
            "Progress: 4050/4182 | EM: 74.02% | F1: 75.89%\n"
          ]
        },
        {
          "name": "stderr",
          "output_type": "stream",
          "text": [
            "Evaluating:  97%|█████████▋| 4060/4182 [58:40<02:13,  1.09s/it]"
          ]
        },
        {
          "name": "stdout",
          "output_type": "stream",
          "text": [
            "Progress: 4060/4182 | EM: 74.01% | F1: 75.88%\n"
          ]
        },
        {
          "name": "stderr",
          "output_type": "stream",
          "text": [
            "Evaluating:  97%|█████████▋| 4070/4182 [58:48<01:10,  1.58it/s]"
          ]
        },
        {
          "name": "stdout",
          "output_type": "stream",
          "text": [
            "Progress: 4070/4182 | EM: 74.03% | F1: 75.90%\n"
          ]
        },
        {
          "name": "stderr",
          "output_type": "stream",
          "text": [
            "Evaluating:  98%|█████████▊| 4080/4182 [58:55<01:22,  1.24it/s]"
          ]
        },
        {
          "name": "stdout",
          "output_type": "stream",
          "text": [
            "Progress: 4080/4182 | EM: 74.04% | F1: 75.93%\n"
          ]
        },
        {
          "name": "stderr",
          "output_type": "stream",
          "text": [
            "Evaluating:  98%|█████████▊| 4090/4182 [58:59<00:33,  2.76it/s]"
          ]
        },
        {
          "name": "stdout",
          "output_type": "stream",
          "text": [
            "Progress: 4090/4182 | EM: 74.08% | F1: 75.96%\n"
          ]
        },
        {
          "name": "stderr",
          "output_type": "stream",
          "text": [
            "Evaluating:  98%|█████████▊| 4100/4182 [59:03<00:30,  2.69it/s]"
          ]
        },
        {
          "name": "stdout",
          "output_type": "stream",
          "text": [
            "Progress: 4100/4182 | EM: 74.12% | F1: 76.00%\n"
          ]
        },
        {
          "name": "stderr",
          "output_type": "stream",
          "text": [
            "Evaluating:  98%|█████████▊| 4110/4182 [59:15<01:02,  1.15it/s]"
          ]
        },
        {
          "name": "stdout",
          "output_type": "stream",
          "text": [
            "Progress: 4110/4182 | EM: 74.06% | F1: 75.96%\n"
          ]
        },
        {
          "name": "stderr",
          "output_type": "stream",
          "text": [
            "Evaluating:  99%|█████████▊| 4120/4182 [59:25<01:06,  1.07s/it]"
          ]
        },
        {
          "name": "stdout",
          "output_type": "stream",
          "text": [
            "Progress: 4120/4182 | EM: 74.05% | F1: 75.96%\n"
          ]
        },
        {
          "name": "stderr",
          "output_type": "stream",
          "text": [
            "Evaluating:  99%|█████████▉| 4130/4182 [59:29<00:22,  2.26it/s]"
          ]
        },
        {
          "name": "stdout",
          "output_type": "stream",
          "text": [
            "Progress: 4130/4182 | EM: 74.04% | F1: 75.95%\n"
          ]
        },
        {
          "name": "stderr",
          "output_type": "stream",
          "text": [
            "Evaluating:  99%|█████████▉| 4140/4182 [59:33<00:13,  3.20it/s]"
          ]
        },
        {
          "name": "stdout",
          "output_type": "stream",
          "text": [
            "Progress: 4140/4182 | EM: 74.11% | F1: 76.00%\n"
          ]
        },
        {
          "name": "stderr",
          "output_type": "stream",
          "text": [
            "Evaluating:  99%|█████████▉| 4150/4182 [59:39<00:23,  1.34it/s]"
          ]
        },
        {
          "name": "stdout",
          "output_type": "stream",
          "text": [
            "Progress: 4150/4182 | EM: 74.07% | F1: 75.97%\n"
          ]
        },
        {
          "name": "stderr",
          "output_type": "stream",
          "text": [
            "Evaluating:  99%|█████████▉| 4160/4182 [59:48<00:24,  1.13s/it]"
          ]
        },
        {
          "name": "stdout",
          "output_type": "stream",
          "text": [
            "Progress: 4160/4182 | EM: 74.06% | F1: 75.96%\n"
          ]
        },
        {
          "name": "stderr",
          "output_type": "stream",
          "text": [
            "Evaluating: 100%|█████████▉| 4170/4182 [1:00:00<00:10,  1.19it/s]"
          ]
        },
        {
          "name": "stdout",
          "output_type": "stream",
          "text": [
            "Progress: 4170/4182 | EM: 74.08% | F1: 75.97%\n"
          ]
        },
        {
          "name": "stderr",
          "output_type": "stream",
          "text": [
            "Evaluating: 100%|█████████▉| 4180/4182 [1:00:08<00:02,  1.49s/it]"
          ]
        },
        {
          "name": "stdout",
          "output_type": "stream",
          "text": [
            "Progress: 4180/4182 | EM: 74.04% | F1: 75.94%\n"
          ]
        },
        {
          "name": "stderr",
          "output_type": "stream",
          "text": [
            "Evaluating: 100%|██████████| 4182/4182 [1:00:09<00:00,  1.16it/s]"
          ]
        },
        {
          "name": "stdout",
          "output_type": "stream",
          "text": [
            "\n",
            "================================================================================\n",
            "EVALUATION RESULTS\n",
            "================================================================================\n",
            "Model: ./cuad_finetuned_llama3_2_3b\n",
            "Samples Evaluated: 4182\n",
            "Exact Match: 74.06%\n",
            "F1 Score: 75.95%\n",
            "Evaluation Time: 60.15 minutes\n",
            "Speed: 1.16 samples/second\n",
            "================================================================================\n",
            "📁 Predictions saved to: ./evaluation_results/predictions_cuad_finetuned_llama3_2_3b_20250608_053951.json\n",
            "📁 Detailed results saved to: ./evaluation_results/results_cuad_finetuned_llama3_2_3b_20250608_053951.json\n",
            "\n",
            "📊 COMPARISON SUMMARY\n",
            "================================================================================\n",
            "Model           Exact Match     F1 Score        Samples    Time (min)  \n",
            "--------------------------------------------------------------------------------\n",
            "Original        27.14           32.24           4182       167.00      \n",
            "Fine-tuned      74.06           75.95           4182       60.15       \n",
            "\n",
            "🎯 IMPROVEMENT:\n",
            "Exact Match: +46.92 percentage points\n",
            "F1 Score: +43.71 percentage points\n",
            "================================================================================\n",
            "\n",
            "✅ Evaluation completed! Results saved in: ./evaluation_results\n"
          ]
        },
        {
          "name": "stderr",
          "output_type": "stream",
          "text": [
            "\n"
          ]
        }
      ],
      "source": [
        "\"\"\"\n",
        "CUAD-QA Evaluation Script for Llama 3.2 3B - ALIGNED WITH FINE-TUNING\n",
        "Supports both original and fine-tuned models\n",
        "Uses SQuAD-style evaluation metrics\n",
        "Matches the exact prompt format and parameters used during fine-tuning\n",
        "\"\"\"\n",
        "\n",
        "import os\n",
        "import re\n",
        "import string\n",
        "import json\n",
        "import argparse\n",
        "import torch\n",
        "import time\n",
        "from collections import Counter\n",
        "from datasets import load_dataset\n",
        "from tqdm import tqdm\n",
        "from unsloth import FastLanguageModel\n",
        "from unsloth.chat_templates import get_chat_template\n",
        "from datetime import datetime\n",
        "import warnings\n",
        "warnings.filterwarnings('ignore')\n",
        "\n",
        "# ================== EVALUATION METRICS ==================\n",
        "\n",
        "def normalize_answer(s):\n",
        "    \"\"\"Normalize answer for comparison (SQuAD-style)\"\"\"\n",
        "    def remove_articles(text):\n",
        "        return re.sub(r'\\b(a|an|the)\\b', ' ', text)\n",
        "\n",
        "    def white_space_fix(text):\n",
        "        return ' '.join(text.split())\n",
        "\n",
        "    def remove_punc(text):\n",
        "        exclude = set(string.punctuation)\n",
        "        return ''.join(ch for ch in text if ch not in exclude)\n",
        "\n",
        "    def lower(text):\n",
        "        return text.lower()\n",
        "\n",
        "    return white_space_fix(remove_articles(remove_punc(lower(s))))\n",
        "\n",
        "def get_tokens(s):\n",
        "    \"\"\"Get normalized tokens from string\"\"\"\n",
        "    if not s:\n",
        "        return []\n",
        "    return normalize_answer(s).split()\n",
        "\n",
        "def exact_match_score(prediction, ground_truth):\n",
        "    \"\"\"Calculate exact match score\"\"\"\n",
        "    return int(normalize_answer(prediction) == normalize_answer(ground_truth))\n",
        "\n",
        "def f1_score(prediction, ground_truth):\n",
        "    \"\"\"Calculate F1 score between prediction and ground truth\"\"\"\n",
        "    pred_tokens = get_tokens(prediction)\n",
        "    truth_tokens = get_tokens(ground_truth)\n",
        "\n",
        "    if len(pred_tokens) == 0 and len(truth_tokens) == 0:\n",
        "        return 1.0\n",
        "    if len(pred_tokens) == 0 or len(truth_tokens) == 0:\n",
        "        return 0.0\n",
        "\n",
        "    common_tokens = Counter(pred_tokens) & Counter(truth_tokens)\n",
        "    num_same = sum(common_tokens.values())\n",
        "\n",
        "    if num_same == 0:\n",
        "        return 0.0\n",
        "\n",
        "    precision = 1.0 * num_same / len(pred_tokens)\n",
        "    recall = 1.0 * num_same / len(truth_tokens)\n",
        "    f1 = (2 * precision * recall) / (precision + recall)\n",
        "\n",
        "    return f1\n",
        "\n",
        "def metric_max_over_ground_truths(metric_fn, prediction, ground_truths):\n",
        "    \"\"\"Calculate max metric over all ground truths\"\"\"\n",
        "    if not ground_truths:\n",
        "        return 0.0\n",
        "    scores = []\n",
        "    for ground_truth in ground_truths:\n",
        "        score = metric_fn(prediction, ground_truth)\n",
        "        scores.append(score)\n",
        "    return max(scores)\n",
        "\n",
        "# ================== MODEL WRAPPER - ALIGNED WITH FINE-TUNING ==================\n",
        "\n",
        "class CUADEvaluator:\n",
        "    def __init__(self, model_path, max_seq_length=65536):\n",
        "        self.model_path = model_path\n",
        "        self.max_seq_length = max_seq_length\n",
        "        self.model = None\n",
        "        self.tokenizer = None\n",
        "        self.device = torch.device(\"cuda\" if torch.cuda.is_available() else \"cpu\")\n",
        "\n",
        "    def load_model(self):\n",
        "        \"\"\"Load model and tokenizer - ALIGNED WITH FINE-TUNING SCRIPT\"\"\"\n",
        "        print(f\"Loading model from: {self.model_path}\")\n",
        "        print(f\"Max sequence length: {self.max_seq_length}\")\n",
        "\n",
        "        try:\n",
        "            # Use same configuration as fine-tuning script\n",
        "            self.model, self.tokenizer = FastLanguageModel.from_pretrained(\n",
        "                model_name=self.model_path,\n",
        "                max_seq_length=self.max_seq_length,\n",
        "                dtype=None,  # Auto detection like in fine-tuning\n",
        "                load_in_4bit=True,\n",
        "                device_map=\"auto\",\n",
        "            )\n",
        "\n",
        "            # Set pad_token_id like in fine-tuning script\n",
        "            self.tokenizer.pad_token_id = self.tokenizer.eos_token_id\n",
        "\n",
        "            # Enable inference mode - FOLLOWING UNSLOTH TUTORIAL\n",
        "            FastLanguageModel.for_inference(self.model)\n",
        "            self.model.eval()\n",
        "\n",
        "            print(\"✅ Model loaded successfully!\")\n",
        "            return True\n",
        "\n",
        "        except Exception as e:\n",
        "            print(f\"❌ Error loading model: {e}\")\n",
        "            return False\n",
        "\n",
        "    def clean_response(self, response):\n",
        "        \"\"\"Clean and extract answer from model response - IMPROVED\"\"\"\n",
        "        if not response:\n",
        "            return \"Not found\"\n",
        "\n",
        "        # Remove common prefixes that models add\n",
        "        prefixes_to_remove = [\n",
        "            \"Based on the provided contract\",\n",
        "            \"Upon reviewing the contract\",\n",
        "            \"The part of this contract\",\n",
        "            \"The parts of this contract\",\n",
        "            \"After analyzing the contract\",\n",
        "            \"Upon analyzing the contract\",\n",
        "            \"In this contract\",\n",
        "            \"The contract\",\n",
        "            \"Looking at\",\n",
        "            \"According to\",\n",
        "            \"From the contract\",\n",
        "            \"The relevant\",\n",
        "            \"Here is\",\n",
        "            \"Here are\",\n",
        "            \"The answer is\",\n",
        "            \"Answer:\",\n",
        "            \"Response:\",\n",
        "            \"The exact phrase\",\n",
        "            \"Extract exact phrase\",\n",
        "        ]\n",
        "\n",
        "        cleaned = response.strip()\n",
        "\n",
        "        # Remove common prefixes (case insensitive)\n",
        "        for prefix in prefixes_to_remove:\n",
        "            if cleaned.lower().startswith(prefix.lower()):\n",
        "                cleaned = cleaned[len(prefix):].strip()\n",
        "                # Remove common continuation patterns\n",
        "                if cleaned.startswith(\":\"):\n",
        "                    cleaned = cleaned[1:].strip()\n",
        "                if cleaned.startswith(\",\"):\n",
        "                    cleaned = cleaned[1:].strip()\n",
        "                break\n",
        "\n",
        "        # Split by common separators and take the first substantive part\n",
        "        separators = ['\\n', '. ', ':', ' that should be reviewed', ' are:', ' is:']\n",
        "        for sep in separators:\n",
        "            if sep in cleaned:\n",
        "                parts = cleaned.split(sep)\n",
        "                if len(parts) > 1:\n",
        "                    # Take the first non-empty meaningful part\n",
        "                    for part in parts:\n",
        "                        part = part.strip()\n",
        "                        if part and len(part) > 3 and not part.lower().startswith(('the following', 'as follows')):\n",
        "                            cleaned = part\n",
        "                            break\n",
        "                break\n",
        "\n",
        "        # Final cleanup\n",
        "        cleaned = cleaned.strip()\n",
        "\n",
        "        # Remove quotes if they wrap the entire answer\n",
        "        if cleaned.startswith('\"') and cleaned.endswith('\"'):\n",
        "            cleaned = cleaned[1:-1].strip()\n",
        "        if cleaned.startswith(\"'\") and cleaned.endswith(\"'\"):\n",
        "            cleaned = cleaned[1:-1].strip()\n",
        "\n",
        "        # If still too verbose or empty, return \"Not found\"\n",
        "        if not cleaned or len(cleaned) > 200 or cleaned.lower().startswith(('there is no', 'no specific', 'i did not find', 'not found')):\n",
        "            return \"Not found\"\n",
        "\n",
        "        return cleaned\n",
        "\n",
        "    def generate_answer(self, question, context, max_new_tokens=64):\n",
        "        \"\"\"Generate answer - EXACTLY MATCHING FINE-TUNING PROMPT FORMAT\"\"\"\n",
        "\n",
        "        # Context truncation - same logic as fine-tuning\n",
        "        max_context_length = self.max_seq_length - 1000\n",
        "        if len(context) > max_context_length:\n",
        "            # Keep beginning and end of context\n",
        "            half_length = max_context_length // 2\n",
        "            context = context[:half_length] + \"\\n[...TRUNCATED...]\\n\" + context[-half_length:]\n",
        "\n",
        "        # EXACT SAME PROMPT FORMAT AS FINE-TUNING SCRIPT\n",
        "        prompt = f\"You are a legal document analyzer. Extract exact phrases from legal documents to answer questions. Only provide the exact text/phrases from the document that answer the question. Do not add explanations or commentary. If the information is not found, respond with 'Not found'.\\n\\nDocument: {context}\\n\\nQuestion: {question}\\n\\nAnswer (extract exact phrase from document):\"\n",
        "\n",
        "        try:\n",
        "            # Tokenize with same approach as fine-tuning script\n",
        "            tokenized = self.tokenizer(\n",
        "                prompt,\n",
        "                return_tensors=\"pt\",\n",
        "                padding=True,\n",
        "                truncation=True,\n",
        "                max_length=self.max_seq_length - max_new_tokens\n",
        "            ).to(self.device)\n",
        "\n",
        "            with torch.no_grad():\n",
        "                outputs = self.model.generate(\n",
        "                    **tokenized,\n",
        "                    max_new_tokens=max_new_tokens,\n",
        "                    use_cache=True,\n",
        "                    temperature=1.5,  # Same as fine-tuning script inference test\n",
        "                    min_p=0.1,       # Same as fine-tuning script inference test\n",
        "                    do_sample=True,  # Same as fine-tuning script\n",
        "                    pad_token_id=self.tokenizer.pad_token_id,\n",
        "                    eos_token_id=self.tokenizer.eos_token_id,\n",
        "                )\n",
        "\n",
        "            # Decode only the generated part (skip the input prompt)\n",
        "            generated_text = self.tokenizer.decode(\n",
        "                outputs[0][tokenized['input_ids'].shape[1]:],\n",
        "                skip_special_tokens=True\n",
        "            ).strip()\n",
        "\n",
        "            # Apply post-processing\n",
        "            cleaned_response = self.clean_response(generated_text)\n",
        "\n",
        "            return cleaned_response\n",
        "\n",
        "        except Exception as e:\n",
        "            print(f\"Error during generation: {e}\")\n",
        "            return \"Error generating response\"\n",
        "\n",
        "# ================== EVALUATION FUNCTIONS ==================\n",
        "\n",
        "def evaluate_dataset(evaluator, dataset, max_samples=None, save_predictions=True, output_dir=\"./\"):\n",
        "    \"\"\"Evaluate model on dataset\"\"\"\n",
        "\n",
        "    if max_samples is not None:\n",
        "        dataset = dataset.select(range(min(max_samples, len(dataset))))\n",
        "\n",
        "    print(f\"Evaluating on {len(dataset)} samples...\")\n",
        "\n",
        "    predictions = {}\n",
        "    detailed_results = []\n",
        "    total_em = 0\n",
        "    total_f1 = 0\n",
        "\n",
        "    start_time = time.time()\n",
        "\n",
        "    for i, example in enumerate(tqdm(dataset, desc=\"Evaluating\")):\n",
        "        try:\n",
        "            question_id = example.get('id', f\"question_{i}\")\n",
        "            question = example['question']\n",
        "            context = example['context']\n",
        "\n",
        "            # Handle answers in CUAD format - same as fine-tuning preprocessing\n",
        "            if example['answers']['text'] and len(example['answers']['text']) > 0:\n",
        "                # Take the first non-empty answer, strip whitespace\n",
        "                ground_truths = [next((a.strip() for a in example['answers']['text'] if a.strip()), \"Not found\")]\n",
        "                # If still empty after stripping, use \"Not found\"\n",
        "                if not ground_truths[0]:\n",
        "                    ground_truths = [\"Not found\"]\n",
        "            else:\n",
        "                ground_truths = [\"Not found\"]  # Consistent with fine-tuning preprocessing\n",
        "\n",
        "            # Generate prediction\n",
        "            prediction = evaluator.generate_answer(question, context)\n",
        "            predictions[question_id] = prediction\n",
        "\n",
        "            # Calculate metrics\n",
        "            em = metric_max_over_ground_truths(exact_match_score, prediction, ground_truths)\n",
        "            f1 = metric_max_over_ground_truths(f1_score, prediction, ground_truths)\n",
        "\n",
        "            total_em += em\n",
        "            total_f1 += f1\n",
        "\n",
        "            # Store detailed result\n",
        "            detailed_results.append({\n",
        "                'id': question_id,\n",
        "                'question': question[:200] + \"...\" if len(question) > 200 else question,\n",
        "                'context_length': len(context),\n",
        "                'ground_truths': ground_truths,\n",
        "                'prediction': prediction,\n",
        "                'exact_match': em,\n",
        "                'f1_score': f1\n",
        "            })\n",
        "\n",
        "            if (i + 1) % 10 == 0:\n",
        "                current_em = (total_em / (i + 1)) * 100\n",
        "                current_f1 = (total_f1 / (i + 1)) * 100\n",
        "                print(f\"Progress: {i+1}/{len(dataset)} | EM: {current_em:.2f}% | F1: {current_f1:.2f}%\")\n",
        "\n",
        "        except Exception as e:\n",
        "            print(f\"Error processing example {i}: {e}\")\n",
        "            continue\n",
        "\n",
        "    end_time = time.time()\n",
        "    evaluation_time = end_time - start_time\n",
        "\n",
        "    # Calculate final metrics\n",
        "    num_evaluated = len(detailed_results)\n",
        "    if num_evaluated == 0:\n",
        "        print(\"❌ No examples were successfully evaluated!\")\n",
        "        return None\n",
        "\n",
        "    final_em = (total_em / num_evaluated) * 100\n",
        "    final_f1 = (total_f1 / num_evaluated) * 100\n",
        "\n",
        "    # Prepare results\n",
        "    results = {\n",
        "        'model_path': evaluator.model_path,\n",
        "        'dataset_size': num_evaluated,\n",
        "        'exact_match': final_em,\n",
        "        'f1_score': final_f1,\n",
        "        'evaluation_time_seconds': evaluation_time,\n",
        "        'samples_per_second': num_evaluated / evaluation_time,\n",
        "        'timestamp': datetime.now().isoformat(),\n",
        "        'detailed_results': detailed_results,\n",
        "    }\n",
        "\n",
        "    # Print summary\n",
        "    print(\"\\n\" + \"=\"*80)\n",
        "    print(\"EVALUATION RESULTS\")\n",
        "    print(\"=\"*80)\n",
        "    print(f\"Model: {evaluator.model_path}\")\n",
        "    print(f\"Samples Evaluated: {num_evaluated}\")\n",
        "    print(f\"Exact Match: {final_em:.2f}%\")\n",
        "    print(f\"F1 Score: {final_f1:.2f}%\")\n",
        "    print(f\"Evaluation Time: {evaluation_time/60:.2f} minutes\")\n",
        "    print(f\"Speed: {num_evaluated/evaluation_time:.2f} samples/second\")\n",
        "    print(\"=\"*80)\n",
        "\n",
        "    # Save results\n",
        "    if save_predictions:\n",
        "        timestamp = datetime.now().strftime(\"%Y%m%d_%H%M%S\")\n",
        "        model_name = os.path.basename(evaluator.model_path).replace(\"/\", \"_\")\n",
        "\n",
        "        # Save predictions\n",
        "        pred_file = os.path.join(output_dir, f\"predictions_{model_name}_{timestamp}.json\")\n",
        "        with open(pred_file, 'w') as f:\n",
        "            json.dump(predictions, f, indent=2)\n",
        "\n",
        "        # Save detailed results\n",
        "        results_file = os.path.join(output_dir, f\"results_{model_name}_{timestamp}.json\")\n",
        "        with open(results_file, 'w') as f:\n",
        "            json.dump(results, f, indent=2)\n",
        "\n",
        "        print(f\"📁 Predictions saved to: {pred_file}\")\n",
        "        print(f\"📁 Detailed results saved to: {results_file}\")\n",
        "\n",
        "    return results\n",
        "\n",
        "# ================== MAIN FUNCTION ==================\n",
        "\n",
        "def main():\n",
        "    parser = argparse.ArgumentParser(description=\"Evaluate Llama 3.2 3B on CUAD dataset\")\n",
        "    parser.add_argument(\"--model_path\",\n",
        "                       default=\"unsloth/Llama-3.2-3B-Instruct-bnb-4bit\",\n",
        "                       help=\"HuggingFace model repo or local path to fine-tuned model\")\n",
        "    parser.add_argument(\"--finetuned_model_path\",\n",
        "                       default=\"./cuad_finetuned_llama3_2_3b\",\n",
        "                       help=\"Path to fine-tuned model for comparison\")\n",
        "    parser.add_argument(\"--split\",\n",
        "                       default=\"test\",\n",
        "                       choices=[\"train\", \"test\"],\n",
        "                       help=\"Dataset split to evaluate on\")\n",
        "    parser.add_argument(\"--max_samples\",\n",
        "                       type=int,\n",
        "                       default=4182,\n",
        "                       help=\"Maximum number of samples to evaluate\")\n",
        "    parser.add_argument(\"--evaluate_original\",\n",
        "                       action=\"store_true\",\n",
        "                       default=True,\n",
        "                       help=\"Evaluate original model\")\n",
        "    parser.add_argument(\"--evaluate_finetuned\",\n",
        "                       action=\"store_true\",\n",
        "                       default=True,\n",
        "                       help=\"Evaluate fine-tuned model\")\n",
        "    parser.add_argument(\"--output_dir\",\n",
        "                       default=\"./evaluation_results\",\n",
        "                       help=\"Directory to save results\")\n",
        "    parser.add_argument(\"--max_seq_length\",\n",
        "                       type=int,\n",
        "                       default=65536,\n",
        "                       help=\"Maximum sequence length - should match fine-tuning\")\n",
        "\n",
        "    args, _ = parser.parse_known_args()\n",
        "\n",
        "    # Create output directory\n",
        "    os.makedirs(args.output_dir, exist_ok=True)\n",
        "\n",
        "    print(\"🚀 CUAD EVALUATION SCRIPT - ALIGNED WITH FINE-TUNING\")\n",
        "    print(\"=\"*60)\n",
        "    print(f\"Split: {args.split}\")\n",
        "    print(f\"Max samples: {args.max_samples}\")\n",
        "    print(f\"Max sequence length: {args.max_seq_length}\")\n",
        "    print(f\"Output directory: {args.output_dir}\")\n",
        "\n",
        "    # Load dataset\n",
        "    print(f\"\\n📂 Loading CUAD {args.split} dataset...\")\n",
        "    try:\n",
        "        dataset = load_dataset(\"theatticusproject/cuad-qa\", split=args.split, trust_remote_code=True)\n",
        "        print(f\"✅ Loaded {len(dataset)} examples\")\n",
        "    except Exception as e:\n",
        "        print(f\"❌ Error loading dataset: {e}\")\n",
        "        return\n",
        "\n",
        "    results_summary = []\n",
        "\n",
        "    # Evaluate original model\n",
        "    if args.evaluate_original:\n",
        "        print(f\"\\n🔄 EVALUATING ORIGINAL MODEL\")\n",
        "        print(\"=\"*50)\n",
        "\n",
        "        evaluator_original = CUADEvaluator(\n",
        "            model_path=args.model_path,\n",
        "            max_seq_length=args.max_seq_length,\n",
        "        )\n",
        "\n",
        "        if evaluator_original.load_model():\n",
        "            original_results = evaluate_dataset(\n",
        "                evaluator_original,\n",
        "                dataset,\n",
        "                max_samples=args.max_samples,\n",
        "                output_dir=args.output_dir\n",
        "            )\n",
        "            if original_results:\n",
        "                results_summary.append(('Original', original_results))\n",
        "\n",
        "        # Clear memory\n",
        "        del evaluator_original\n",
        "        torch.cuda.empty_cache()\n",
        "\n",
        "    # Evaluate fine-tuned model\n",
        "    if args.evaluate_finetuned:\n",
        "        print(f\"\\n🔄 EVALUATING FINE-TUNED MODEL\")\n",
        "        print(\"=\"*50)\n",
        "\n",
        "        if not os.path.exists(args.finetuned_model_path):\n",
        "            print(f\"⚠️  Fine-tuned model not found at: {args.finetuned_model_path}\")\n",
        "            print(\"Skipping fine-tuned evaluation...\")\n",
        "        else:\n",
        "            evaluator_finetuned = CUADEvaluator(\n",
        "                model_path=args.finetuned_model_path,\n",
        "                max_seq_length=args.max_seq_length,\n",
        "            )\n",
        "\n",
        "            if evaluator_finetuned.load_model():\n",
        "                finetuned_results = evaluate_dataset(\n",
        "                    evaluator_finetuned,\n",
        "                    dataset,\n",
        "                    max_samples=args.max_samples,\n",
        "                    output_dir=args.output_dir\n",
        "                )\n",
        "                if finetuned_results:\n",
        "                    results_summary.append(('Fine-tuned', finetuned_results))\n",
        "\n",
        "            # Clear memory\n",
        "            del evaluator_finetuned\n",
        "            torch.cuda.empty_cache()\n",
        "\n",
        "    # Compare results\n",
        "    if len(results_summary) >= 2:\n",
        "        print(f\"\\n📊 COMPARISON SUMMARY\")\n",
        "        print(\"=\"*80)\n",
        "        print(f\"{'Model':<15} {'Exact Match':<15} {'F1 Score':<15} {'Samples':<10} {'Time (min)':<12}\")\n",
        "        print(\"-\" * 80)\n",
        "\n",
        "        for model_name, results in results_summary:\n",
        "            print(f\"{model_name:<15} {results['exact_match']:<15.2f} \"\n",
        "                  f\"{results['f1_score']:<15.2f} {results['dataset_size']:<10} \"\n",
        "                  f\"{results['evaluation_time_seconds']/60:<12.2f}\")\n",
        "\n",
        "        # Calculate improvement\n",
        "        if len(results_summary) == 2:\n",
        "            original_em = results_summary[0][1]['exact_match']\n",
        "            original_f1 = results_summary[0][1]['f1_score']\n",
        "            finetuned_em = results_summary[1][1]['exact_match']\n",
        "            finetuned_f1 = results_summary[1][1]['f1_score']\n",
        "\n",
        "            em_improvement = finetuned_em - original_em\n",
        "            f1_improvement = finetuned_f1 - original_f1\n",
        "\n",
        "            print(f\"\\n🎯 IMPROVEMENT:\")\n",
        "            print(f\"Exact Match: {em_improvement:+.2f} percentage points\")\n",
        "            print(f\"F1 Score: {f1_improvement:+.2f} percentage points\")\n",
        "\n",
        "        print(\"=\"*80)\n",
        "\n",
        "    print(f\"\\n✅ Evaluation completed! Results saved in: {args.output_dir}\")\n",
        "\n",
        "if __name__ == \"__main__\":\n",
        "    main()"
      ]
    },
    {
      "cell_type": "code",
      "execution_count": null,
      "metadata": {
        "colab": {
          "base_uri": "https://localhost:8080/"
        },
        "id": "8LLny_51I_Mv",
        "outputId": "32c8e411-e2e9-43c4-f15c-60ef5a07ea70"
      },
      "outputs": [
        {
          "name": "stdout",
          "output_type": "stream",
          "text": [
            "updating: content/evaluation_results/ (stored 0%)\n",
            "  adding: content/evaluation_results/results_cuad_finetuned_llama3_2_3b_20250608_053951.json (deflated 93%)\n",
            "  adding: content/evaluation_results/predictions_Llama-3.2-3B-Instruct-bnb-4bit_20250608_043934.json (deflated 85%)\n",
            "  adding: content/evaluation_results/results_Llama-3.2-3B-Instruct-bnb-4bit_20250608_043934.json (deflated 92%)\n",
            "  adding: content/evaluation_results/predictions_cuad_finetuned_llama3_2_3b_20250608_053951.json (deflated 91%)\n"
          ]
        }
      ],
      "source": [
        "!zip -r evaluation_results.zip /content/evaluation_results"
      ]
    },
    {
      "cell_type": "code",
      "execution_count": null,
      "metadata": {
        "colab": {
          "base_uri": "https://localhost:8080/",
          "height": 17
        },
        "id": "sVY7u6mCNip1",
        "outputId": "d5521c1a-0d8e-474a-da78-a01ae4168960"
      },
      "outputs": [
        {
          "data": {
            "application/javascript": "\n    async function download(id, filename, size) {\n      if (!google.colab.kernel.accessAllowed) {\n        return;\n      }\n      const div = document.createElement('div');\n      const label = document.createElement('label');\n      label.textContent = `Downloading \"${filename}\": `;\n      div.appendChild(label);\n      const progress = document.createElement('progress');\n      progress.max = size;\n      div.appendChild(progress);\n      document.body.appendChild(div);\n\n      const buffers = [];\n      let downloaded = 0;\n\n      const channel = await google.colab.kernel.comms.open(id);\n      // Send a message to notify the kernel that we're ready.\n      channel.send({})\n\n      for await (const message of channel.messages) {\n        // Send a message to notify the kernel that we're ready.\n        channel.send({})\n        if (message.buffers) {\n          for (const buffer of message.buffers) {\n            buffers.push(buffer);\n            downloaded += buffer.byteLength;\n            progress.value = downloaded;\n          }\n        }\n      }\n      const blob = new Blob(buffers, {type: 'application/binary'});\n      const a = document.createElement('a');\n      a.href = window.URL.createObjectURL(blob);\n      a.download = filename;\n      div.appendChild(a);\n      a.click();\n      div.remove();\n    }\n  ",
            "text/plain": [
              "<IPython.core.display.Javascript object>"
            ]
          },
          "metadata": {},
          "output_type": "display_data"
        },
        {
          "data": {
            "application/javascript": "download(\"download_5d61d688-7c85-4594-911f-001964656759\", \"evaluation_results.zip\", 515486)",
            "text/plain": [
              "<IPython.core.display.Javascript object>"
            ]
          },
          "metadata": {},
          "output_type": "display_data"
        }
      ],
      "source": [
        "from google.colab import files\n",
        "files.download('evaluation_results.zip')"
      ]
    },
    {
      "cell_type": "code",
      "execution_count": null,
      "metadata": {
        "id": "c9rAprdbLjXX"
      },
      "outputs": [],
      "source": []
    }
  ],
  "metadata": {
    "accelerator": "GPU",
    "colab": {
      "gpuType": "A100",
      "machine_shape": "hm",
      "provenance": []
    },
    "kernelspec": {
      "display_name": "Python 3",
      "name": "python3"
    },
    "language_info": {
      "name": "python"
    }
  },
  "nbformat": 4,
  "nbformat_minor": 0
}
